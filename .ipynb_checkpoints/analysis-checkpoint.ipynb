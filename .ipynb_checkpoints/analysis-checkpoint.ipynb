{
 "cells": [
  {
   "cell_type": "code",
   "execution_count": 1,
   "id": "c9b42be9",
   "metadata": {},
   "outputs": [],
   "source": [
    "using PorousMaterials\n",
    "using JLD2\n",
    "using PyPlot\n",
    "using PyCall\n",
    "using CSV\n",
    "using DataFrames\n",
    "\n",
    "PyPlot.matplotlib.style.use(\"ggplot\")\n",
    "rcParams = PyPlot.PyDict(PyPlot.matplotlib.\"rcParams\")\n",
    "rcParams[\"font.size\"] = 16;"
   ]
  },
  {
   "cell_type": "code",
   "execution_count": 2,
   "id": "35cd9275",
   "metadata": {},
   "outputs": [],
   "source": [
    "###\n",
    "#  read in lines to get COF filenames\n",
    "###\n",
    "filename = joinpath(pwd(), \"./descriptors/cof_names.txt\")\n",
    "cof_name_file = open(filename)\n",
    "cof_names = readlines(cof_name_file)\n",
    "close(cof_name_file)"
   ]
  },
  {
   "cell_type": "code",
   "execution_count": 20,
   "id": "51a9c022",
   "metadata": {},
   "outputs": [],
   "source": [
    "# load \n",
    "chem_props_filename = joinpath(pwd(), \"descriptors/chemical_properties.csv\")\n",
    "geo_props_filename  = joinpath(pwd(), \"descriptors/geometric_properties.csv\")\n",
    "\n",
    "chemical_properties  = CSV.read(chem_props_filename, DataFrame)\n",
    "geometric_properties = CSV.read(geo_props_filename, DataFrame)\n",
    "\n",
    "descriptors = outerjoin(geometric_properties, chemical_properties, on=[\"crystal_name\"])\n",
    "# CSV.write(joinpath(pwd(), \"descriptors/cof_descriptors.csv\"), descriptors)"
   ]
  },
  {
   "cell_type": "code",
   "execution_count": 5,
   "id": "6f1fd207",
   "metadata": {},
   "outputs": [
    {
     "data": {
      "text/plain": [
       "1-element Vector{String}:\n",
       " \"07012N3_ddec.cif\""
      ]
     },
     "execution_count": 5,
     "metadata": {},
     "output_type": "execute_result"
    }
   ],
   "source": [
    "adsorbates = Molecule.([\"Kr\", \"Xe\"])\n",
    "temperature = 298.0 # K\n",
    "ljff = LJForceField(\"UFF\")\n",
    "nb_ins_per_vol = 500\n",
    "\n",
    "# for some reason these ones aren't working.. look into it\n",
    "skip_for_now = [\"07012N3_ddec.cif\"]"
   ]
  },
  {
   "cell_type": "code",
   "execution_count": 6,
   "id": "bd7872a9",
   "metadata": {},
   "outputs": [],
   "source": [
    "henry_calculations = Dict{Tuple{String, Symbol}, Dict{String, Any}}()\n",
    "\n",
    "for cof_name in cof_names\n",
    "    xtal = Crystal(cof_name; check_neutrality=false)\n",
    "    if xtal.name in skip_for_now\n",
    "        continue\n",
    "    end\n",
    "    \n",
    "    for molecule in adsorbates\n",
    "\n",
    "        henry_filename = henry_result_savename(xtal, molecule, temperature, ljff, nb_ins_per_vol)\n",
    "        \n",
    "        @load joinpath(PorousMaterials.rc[:paths][:simulations], henry_filename) results\n",
    "        \n",
    "        henry_calculations[(xtal.name, molecule.species)] = results\n",
    "    end\n",
    "end"
   ]
  },
  {
   "cell_type": "code",
   "execution_count": 27,
   "id": "469143bc",
   "metadata": {},
   "outputs": [],
   "source": [
    "for (index, row) in enumerate(eachrow(descriptors))\n",
    "    for name in names(descriptors)\n",
    "        if name in names(geometric_properties)\n",
    "            @assert row[name] == geometric_properties[index, name]\n",
    "        elseif name in names(chemical_properties)\n",
    "            @assert row[name] == chemical_properties[index, name]\n",
    "        end\n",
    "    end\n",
    "end"
   ]
  },
  {
   "cell_type": "markdown",
   "id": "fa49cc5b",
   "metadata": {},
   "source": [
    "## Plotting Functions"
   ]
  },
  {
   "cell_type": "code",
   "execution_count": 8,
   "id": "4189bcb8",
   "metadata": {},
   "outputs": [
    {
     "data": {
      "text/plain": [
       "plot_vfxn_vs_henry (generic function with 1 method)"
      ]
     },
     "execution_count": 8,
     "metadata": {},
     "output_type": "execute_result"
    }
   ],
   "source": [
    "function plot_vfxn_vs_henry(results_dict::Dict{Tuple{String, Symbol}, Dict{String, Any}}, \n",
    "                            geo_props::DataFrame, gas::Molecule)\n",
    "    # do things\n",
    "    figure()\n",
    "    plt_vals = Dict{String, Array{Float64, 1}}()\n",
    "    for key in keys(results_dict)\n",
    "        xtal_name = key[1]\n",
    "        \n",
    "        if key[2] != gas.species\n",
    "            continue\n",
    "        end\n",
    "        h = results_dict[key][\"henry coefficient [mol/(m³-bar)]\"]\n",
    "        v = geo_props[findfirst(geo_props.\"crystal_name\" .== xtal_name),\n",
    "                    \"void_fraction\"] # df[df.A .> 500, :]\n",
    "        plt_vals[key[1]] = [h, v]\n",
    "    end\n",
    "    \n",
    "    x = [plt_vals[key][1] for key in keys(plt_vals)]\n",
    "    y = [plt_vals[key][2] for key in keys(plt_vals)]\n",
    "    scatter(x, y)\n",
    "    xlabel(\"Henry coefficient\")\n",
    "    ylabel(\"void fraction\")\n",
    "    tight_layout()\n",
    "end"
   ]
  },
  {
   "cell_type": "code",
   "execution_count": 9,
   "id": "0aa68899",
   "metadata": {},
   "outputs": [
    {
     "ename": "LoadError",
     "evalue": "MethodError: \u001b[0mCannot `convert` an object of type \u001b[92mVector{Float64}\u001b[39m\u001b[0m to an object of type \u001b[91mFloat64\u001b[39m\n\u001b[0mClosest candidates are:\n\u001b[0m  convert(::Type{T}, \u001b[91m::ColorTypes.Gray24\u001b[39m) where T<:Real at /home/ng/.julia/packages/ColorTypes/7OlxI/src/conversions.jl:114\n\u001b[0m  convert(::Type{T}, \u001b[91m::ColorTypes.Gray\u001b[39m) where T<:Real at /home/ng/.julia/packages/ColorTypes/7OlxI/src/conversions.jl:113\n\u001b[0m  convert(::Type{S}, \u001b[91m::CategoricalArrays.CategoricalValue\u001b[39m) where S<:Union{AbstractChar, AbstractString, Number} at /home/ng/.julia/packages/CategoricalArrays/Fr04b/src/value.jl:79\n\u001b[0m  ...",
     "output_type": "error",
     "traceback": [
      "MethodError: \u001b[0mCannot `convert` an object of type \u001b[92mVector{Float64}\u001b[39m\u001b[0m to an object of type \u001b[91mFloat64\u001b[39m\n\u001b[0mClosest candidates are:\n\u001b[0m  convert(::Type{T}, \u001b[91m::ColorTypes.Gray24\u001b[39m) where T<:Real at /home/ng/.julia/packages/ColorTypes/7OlxI/src/conversions.jl:114\n\u001b[0m  convert(::Type{T}, \u001b[91m::ColorTypes.Gray\u001b[39m) where T<:Real at /home/ng/.julia/packages/ColorTypes/7OlxI/src/conversions.jl:113\n\u001b[0m  convert(::Type{S}, \u001b[91m::CategoricalArrays.CategoricalValue\u001b[39m) where S<:Union{AbstractChar, AbstractString, Number} at /home/ng/.julia/packages/CategoricalArrays/Fr04b/src/value.jl:79\n\u001b[0m  ...",
      "",
      "Stacktrace:",
      "  [1] setindex!(A::Vector{Float64}, x::Vector{Float64}, i1::Int64)",
      "    @ Base ./array.jl:839",
      "  [2] _unsafe_copyto!(dest::Vector{Float64}, doffs::Int64, src::Vector{Any}, soffs::Int64, n::Int64)",
      "    @ Base ./array.jl:235",
      "  [3] unsafe_copyto!",
      "    @ ./array.jl:289 [inlined]",
      "  [4] _copyto_impl!",
      "    @ ./array.jl:313 [inlined]",
      "  [5] copyto!",
      "    @ ./array.jl:299 [inlined]",
      "  [6] copyto!",
      "    @ ./array.jl:325 [inlined]",
      "  [7] copyto_axcheck!",
      "    @ ./abstractarray.jl:1056 [inlined]",
      "  [8] Vector{Float64}(x::Vector{Any})",
      "    @ Base ./array.jl:540",
      "  [9] convert",
      "    @ ./array.jl:532 [inlined]",
      " [10] setindex!(h::Dict{String, Vector{Float64}}, v0::Vector{Any}, key::String)",
      "    @ Base ./dict.jl:382",
      " [11] plot_vfxn_vs_henry(results_dict::Dict{Tuple{String, Symbol}, Dict{String, Any}}, geo_props::DataFrame, gas::Molecule{Cart})",
      "    @ Main ./In[8]:14",
      " [12] top-level scope",
      "    @ In[9]:1",
      " [13] eval",
      "    @ ./boot.jl:360 [inlined]",
      " [14] include_string(mapexpr::typeof(REPL.softscope), mod::Module, code::String, filename::String)",
      "    @ Base ./loading.jl:1094"
     ]
    }
   ],
   "source": [
    "plot_vfxn_vs_henry(henry_calculations, geometric_properties, adsorbates[2])"
   ]
  },
  {
   "cell_type": "code",
   "execution_count": null,
   "id": "22c2117d",
   "metadata": {},
   "outputs": [],
   "source": []
  }
 ],
 "metadata": {
  "kernelspec": {
   "display_name": "Julia 1.6.0",
   "language": "julia",
   "name": "julia-1.6"
  },
  "language_info": {
   "file_extension": ".jl",
   "mimetype": "application/julia",
   "name": "julia",
   "version": "1.6.0"
  }
 },
 "nbformat": 4,
 "nbformat_minor": 5
}
