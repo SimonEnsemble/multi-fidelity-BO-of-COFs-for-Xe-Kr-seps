{
 "cells": [
  {
   "cell_type": "code",
   "execution_count": 1,
   "id": "c9b42be9",
   "metadata": {},
   "outputs": [],
   "source": [
    "using PorousMaterials\n",
    "using JLD2\n",
    "using PyPlot\n",
    "using PyCall\n",
    "using CSV\n",
    "using DataFrames\n",
    "\n",
    "# config plot settings\n",
    "PyPlot.matplotlib.style.use(\"ggplot\")\n",
    "rcParams = PyPlot.PyDict(PyPlot.matplotlib.\"rcParams\")\n",
    "rcParams[\"font.size\"] = 16;"
   ]
  },
  {
   "cell_type": "code",
   "execution_count": 2,
   "id": "062fe6f5",
   "metadata": {},
   "outputs": [
    {
     "data": {
      "text/plain": [
       "15-element Vector{String}:\n",
       " \"crystal_name\"\n",
       " \"pore_diameter_Å\"\n",
       " \"void_fraction\"\n",
       " \"surface_area_m²g⁻¹\"\n",
       " \"crystal_density\"\n",
       " \"density_of_Carbon\"\n",
       " \"density_of_Hydrogen\"\n",
       " \"density_of_Oxygen\"\n",
       " \"density_of_Nitrogen\"\n",
       " \"density_of_Silicon\"\n",
       " \"density_of_Sulfur\"\n",
       " \"density_of_Boron\"\n",
       " \"density_of_Phosphorus\"\n",
       " \"density_of_Halogens\"\n",
       " \"density_of_Metals\""
      ]
     },
     "execution_count": 2,
     "metadata": {},
     "output_type": "execute_result"
    }
   ],
   "source": [
    "###\n",
    "#  read in lines to get COF filenames\n",
    "###\n",
    "filename = joinpath(pwd(), \"./descriptors/cof_names.txt\")\n",
    "cof_name_file = open(filename)\n",
    "cof_names = readlines(cof_name_file)\n",
    "close(cof_name_file)\n",
    "\n",
    "###\n",
    "#  load properties\n",
    "###\n",
    "chem_props_filename = joinpath(pwd(), \"descriptors/chemical_properties.csv\")\n",
    "geo_props_filename  = joinpath(pwd(), \"descriptors/geometric_properties.csv\")\n",
    "\n",
    "chemical_properties  = CSV.read(chem_props_filename, DataFrame)\n",
    "geometric_properties = CSV.read(geo_props_filename, DataFrame)\n",
    "\n",
    "descriptors = outerjoin(geometric_properties, chemical_properties, on=[\"crystal_name\"]);\n",
    "names(descriptors)"
   ]
  },
  {
   "cell_type": "code",
   "execution_count": 3,
   "id": "0cfc86e2",
   "metadata": {},
   "outputs": [],
   "source": [
    "# for some reason these ones aren't working... LOOk INTO IT\n",
    "skip_for_now = [\"07012N3_ddec.cif\"]\n",
    "delete!(descriptors, findfirst(descriptors[:, \"crystal_name\"] .== skip_for_now[1]));"
   ]
  },
  {
   "cell_type": "code",
   "execution_count": 4,
   "id": "6f1fd207",
   "metadata": {},
   "outputs": [
    {
     "data": {
      "text/plain": [
       "2-element Vector{String}:\n",
       " \"05000N2_ddec.cif\"\n",
       " \"17156N2_ddec.cif\""
      ]
     },
     "execution_count": 4,
     "metadata": {},
     "output_type": "execute_result"
    }
   ],
   "source": [
    "###\n",
    "#  simulation parameters\n",
    "###\n",
    "adsorbates = Molecule.([\"Kr\", \"Xe\"])\n",
    "mole_fxn   = [0.8, 0.2] # [Kr, Xe]\n",
    "total_pressure = 1.0    # bar\n",
    "partial_pressures = total_pressure * mole_fxn\n",
    "\n",
    "temperature = 298.0 # K\n",
    "ljff = LJForceField(\"UFF\")\n",
    "nb_ins_per_vol = 500\n",
    "nb_cyc_per_vol = 150\n",
    "\n",
    "benchmarked_cofs = [\"05000N2_ddec.cif\", \"17156N2_ddec.cif\"]"
   ]
  },
  {
   "cell_type": "markdown",
   "id": "eb3806cd",
   "metadata": {},
   "source": [
    "## Calculate Error in Selectivity from Henry Coefficient:\n",
    "We have the Henry coefficients $ H_{Xe} = h_{Xe} \\pm \\delta h_{Xe} $, $ H_{Kr} = h_{Kr} \\pm \\delta h_{Kr}$,  where $h_j$ is the \"measured\" value and $\\delta h_j$ is the associated uncertainty. The Selectivity is calculated as $ S_{Xe/Kr} = s_i \\pm \\delta s_i$ where $s_i = \\frac{h_{Xe}}{h_{Kr}}$. \n",
    "\n",
    "To determine the uncertainty of the selectivity $\\delta s_i$, we use the fact that the relative errors add in quaderature:\n",
    "$$ \\left(\\frac{\\delta s_i}{s_i}\\right)^2 = \\left( \\frac{\\delta h_{Xe}}{h_{Xe}} \\right)^2 + \\left( \\frac{\\delta h_{Kr}}{h_{Kr}} \\right)^2  $$\n",
    "\n",
    "So, \n",
    "$$ \\delta s_i = s_i\\sqrt{ {\\left( \\frac{\\delta h_{Xe}}{h_{Xe}} \\right)}^2 + {\\left(\\frac{\\delta h_{Kr}}{h_{Kr}}\\right)}^2 } $$\n",
    "\n",
    "Substituting in the expression for $s_i$, we get:\n",
    "$$ S_{Xe/Kr} = \\frac{h_{Xe}}{h_{Kr}} \\pm \\frac{h_{Xe}}{h_{Kr}}\\sqrt{ {\\left( \\frac{\\delta h_{Xe}}{h_{Xe}} \\right)}^2 + {\\left(\\frac{ \\delta h_{Kr}}{h_{Kr}}\\right)}^2 }$$\n",
    "\n",
    "\n",
    "Note: For GCMC, replace the henry coefficient (H) with the amount adsorbed by each species (N_i) and multiply by the mole fraction. "
   ]
  },
  {
   "cell_type": "code",
   "execution_count": 5,
   "id": "3ae30a2a",
   "metadata": {},
   "outputs": [
    {
     "data": {
      "text/plain": [
       "get_henry_data (generic function with 1 method)"
      ]
     },
     "execution_count": 5,
     "metadata": {},
     "output_type": "execute_result"
    }
   ],
   "source": [
    "function get_henry_data(cof_names::Array{String, 1}, \n",
    "                        adsorbates::Array{Molecule{Cart}, 1};\n",
    "                        calculate_selectivity::Bool=true,\n",
    "                        selectivity_species::Union{Nothing, Array{Symbol, 1}}=nothing)\n",
    "    # initialize data structure to store results\n",
    "    henry_df = DataFrame()\n",
    "    \n",
    "    # loop over every material\n",
    "    for cof_name in cof_names\n",
    "        xtal = Crystal(cof_name; check_neutrality=false)\n",
    "        if xtal.name in skip_for_now\n",
    "            continue\n",
    "        end\n",
    "        # get results dictionary for each material, adsorbate pair\n",
    "        for molecule in adsorbates\n",
    "            # get filename \n",
    "            henry_filename = henry_result_savename(xtal, molecule, temperature, ljff, nb_ins_per_vol)\n",
    "            # load results dictionary from file\n",
    "            @load joinpath(PorousMaterials.rc[:paths][:simulations], henry_filename) results\n",
    "            # include adsorbate (probe) species in results dict\n",
    "            res = deepcopy(results) # don't want to modify original dict\n",
    "            res[\"adsorbate\"] = String(molecule.species)\n",
    "            # add to dataframe\n",
    "            henry_df = vcat(henry_df, DataFrame(res))\n",
    "        end\n",
    "    end\n",
    "    return henry_df\n",
    "end"
   ]
  },
  {
   "cell_type": "code",
   "execution_count": 6,
   "id": "853d8af0",
   "metadata": {},
   "outputs": [
    {
     "data": {
      "text/plain": [
       "calculate_num_burn_and_sample_cycles (generic function with 1 method)"
      ]
     },
     "execution_count": 6,
     "metadata": {},
     "output_type": "execute_result"
    }
   ],
   "source": [
    "function calculate_num_burn_and_sample_cycles(xtal::Crystal, cycles_per_volume::Int64; \n",
    "                                              fraction_burn_cycles::Float64=0.5)\n",
    "    nb_cycles = max(5, ceil(Int, cycles_per_volume * xtal.box.Ω))\n",
    "    @assert (0.0 < fraction_burn_cycles) && (fraction_burn_cycles < 1.0) \n",
    "    n_burn_cycles   = ceil(Int, nb_cycles * fraction_burn_cycles)\n",
    "    n_sample_cycles = ceil(Int, nb_cycles * (1 - fraction_burn_cycles))\n",
    "    return n_burn_cycles, n_sample_cycles\n",
    "end"
   ]
  },
  {
   "cell_type": "code",
   "execution_count": 7,
   "id": "a75d509c",
   "metadata": {},
   "outputs": [
    {
     "data": {
      "text/plain": [
       "get_gcmc_data (generic function with 1 method)"
      ]
     },
     "execution_count": 7,
     "metadata": {},
     "output_type": "execute_result"
    }
   ],
   "source": [
    "function get_gcmc_data(cof_names::Array{String, 1}, \n",
    "                        adsorbates::Array{Molecule{Cart}, 1};\n",
    "                        calculate_selectivity::Bool=true)\n",
    "    # initialize data structure to store results\n",
    "    gcmc_df = DataFrame()\n",
    "    \n",
    "    # loop over every material\n",
    "    for cof_name in cof_names\n",
    "        xtal = Crystal(cof_name; check_neutrality=false)\n",
    "        if xtal.name in skip_for_now\n",
    "            continue\n",
    "        elseif xtal.name in [\"16290N3_ddec.cif\", \"21111N3_ddec.cif\"]\n",
    "            continue\n",
    "        end\n",
    "        n_burn, n_sample = calculate_num_burn_and_sample_cycles(xtal, nb_cyc_per_vol)\n",
    "        gcmc_filename = μVT_output_filename(xtal, adsorbates, temperature, \n",
    "                                            partial_pressures, ljff, n_burn, n_sample)\n",
    "        @load joinpath(PorousMaterials.rc[:paths][:simulations], gcmc_filename) results\n",
    "        \n",
    "        gcmc_df = vcat(gcmc_df, DataFrame(results))\n",
    "    end\n",
    "    return gcmc_df\n",
    "end"
   ]
  },
  {
   "cell_type": "code",
   "execution_count": 8,
   "id": "46132dfb",
   "metadata": {
    "scrolled": true
   },
   "outputs": [
    {
     "data": {
      "text/html": [
       "<table class=\"data-frame\"><thead><tr><th></th><th>Qst (kJ/mol)</th><th>adsorbate</th><th>elapsed time (min)</th><th>err Qst (kJ/mol)</th><th>err henry coefficient [mmol/(g-bar)]</th></tr><tr><th></th><th>Float64</th><th>String</th><th>Float64</th><th>Float64</th><th>Float64</th></tr></thead><tbody><p>1,222 rows × 17 columns (omitted printing of 12 columns)</p><tr><th>1</th><td>21.329</td><td>Kr</td><td>1.80109</td><td>0.131795</td><td>0.0214178</td></tr><tr><th>2</th><td>24.8751</td><td>Xe</td><td>1.65142</td><td>0.213472</td><td>0.0579636</td></tr><tr><th>3</th><td>10.6927</td><td>Kr</td><td>5.61557</td><td>0.0150828</td><td>0.00165314</td></tr><tr><th>4</th><td>14.8449</td><td>Xe</td><td>5.29136</td><td>0.00924769</td><td>0.00422026</td></tr><tr><th>5</th><td>9.9699</td><td>Kr</td><td>4.40649</td><td>0.0122787</td><td>0.00161386</td></tr><tr><th>6</th><td>14.1487</td><td>Xe</td><td>4.24425</td><td>0.00979169</td><td>0.00303046</td></tr><tr><th>7</th><td>17.0255</td><td>Kr</td><td>1.84388</td><td>0.0188006</td><td>0.012399</td></tr><tr><th>8</th><td>23.4406</td><td>Xe</td><td>1.73891</td><td>0.0341487</td><td>0.112161</td></tr><tr><th>9</th><td>11.5299</td><td>Kr</td><td>3.25362</td><td>0.0191455</td><td>0.00248071</td></tr><tr><th>10</th><td>15.5974</td><td>Xe</td><td>3.27022</td><td>0.0109519</td><td>0.00542812</td></tr><tr><th>11</th><td>9.85127</td><td>Kr</td><td>27.8586</td><td>0.00223396</td><td>0.000429852</td></tr><tr><th>12</th><td>12.9004</td><td>Xe</td><td>19.8144</td><td>0.00278366</td><td>0.00131506</td></tr><tr><th>13</th><td>9.21427</td><td>Kr</td><td>7.60895</td><td>0.00164926</td><td>0.000391604</td></tr><tr><th>14</th><td>11.9984</td><td>Xe</td><td>7.29415</td><td>0.00249181</td><td>0.000628929</td></tr><tr><th>15</th><td>6.79193</td><td>Kr</td><td>3.87627</td><td>0.00566888</td><td>0.000524744</td></tr><tr><th>16</th><td>9.54383</td><td>Xe</td><td>3.80396</td><td>0.0125772</td><td>0.0023866</td></tr><tr><th>17</th><td>12.8257</td><td>Kr</td><td>14.3257</td><td>0.00264895</td><td>0.000883062</td></tr><tr><th>18</th><td>17.4887</td><td>Xe</td><td>14.2342</td><td>0.00500042</td><td>0.0101353</td></tr><tr><th>19</th><td>16.7085</td><td>Kr</td><td>4.33543</td><td>0.0295978</td><td>0.00188324</td></tr><tr><th>20</th><td>22.4025</td><td>Xe</td><td>4.36196</td><td>0.0259763</td><td>0.0160005</td></tr><tr><th>21</th><td>14.5398</td><td>Kr</td><td>4.13123</td><td>0.0336813</td><td>0.00164039</td></tr><tr><th>22</th><td>19.9756</td><td>Xe</td><td>3.75985</td><td>0.0820882</td><td>0.0259837</td></tr><tr><th>23</th><td>13.9726</td><td>Kr</td><td>3.44725</td><td>0.0348138</td><td>0.00216123</td></tr><tr><th>24</th><td>18.6568</td><td>Xe</td><td>3.19308</td><td>0.0574734</td><td>0.00817358</td></tr><tr><th>25</th><td>12.8309</td><td>Kr</td><td>2.60393</td><td>0.0183326</td><td>0.00185998</td></tr><tr><th>26</th><td>17.7711</td><td>Xe</td><td>2.56685</td><td>0.0163539</td><td>0.0151902</td></tr><tr><th>27</th><td>15.1531</td><td>Kr</td><td>2.03699</td><td>0.017469</td><td>0.0114307</td></tr><tr><th>28</th><td>20.3942</td><td>Xe</td><td>1.71484</td><td>0.0131601</td><td>0.0172536</td></tr><tr><th>29</th><td>10.8474</td><td>Kr</td><td>4.8217</td><td>0.00655282</td><td>0.000939091</td></tr><tr><th>30</th><td>15.5063</td><td>Xe</td><td>4.65746</td><td>0.00903979</td><td>0.00470292</td></tr><tr><th>&vellip;</th><td>&vellip;</td><td>&vellip;</td><td>&vellip;</td><td>&vellip;</td><td>&vellip;</td></tr></tbody></table>"
      ],
      "text/latex": [
       "\\begin{tabular}{r|cccccc}\n",
       "\t& Qst (kJ/mol) & adsorbate & elapsed time (min) & err Qst (kJ/mol) & err henry coefficient [mmol/(g-bar)] & \\\\\n",
       "\t\\hline\n",
       "\t& Float64 & String & Float64 & Float64 & Float64 & \\\\\n",
       "\t\\hline\n",
       "\t1 & 21.329 & Kr & 1.80109 & 0.131795 & 0.0214178 & $\\dots$ \\\\\n",
       "\t2 & 24.8751 & Xe & 1.65142 & 0.213472 & 0.0579636 & $\\dots$ \\\\\n",
       "\t3 & 10.6927 & Kr & 5.61557 & 0.0150828 & 0.00165314 & $\\dots$ \\\\\n",
       "\t4 & 14.8449 & Xe & 5.29136 & 0.00924769 & 0.00422026 & $\\dots$ \\\\\n",
       "\t5 & 9.9699 & Kr & 4.40649 & 0.0122787 & 0.00161386 & $\\dots$ \\\\\n",
       "\t6 & 14.1487 & Xe & 4.24425 & 0.00979169 & 0.00303046 & $\\dots$ \\\\\n",
       "\t7 & 17.0255 & Kr & 1.84388 & 0.0188006 & 0.012399 & $\\dots$ \\\\\n",
       "\t8 & 23.4406 & Xe & 1.73891 & 0.0341487 & 0.112161 & $\\dots$ \\\\\n",
       "\t9 & 11.5299 & Kr & 3.25362 & 0.0191455 & 0.00248071 & $\\dots$ \\\\\n",
       "\t10 & 15.5974 & Xe & 3.27022 & 0.0109519 & 0.00542812 & $\\dots$ \\\\\n",
       "\t11 & 9.85127 & Kr & 27.8586 & 0.00223396 & 0.000429852 & $\\dots$ \\\\\n",
       "\t12 & 12.9004 & Xe & 19.8144 & 0.00278366 & 0.00131506 & $\\dots$ \\\\\n",
       "\t13 & 9.21427 & Kr & 7.60895 & 0.00164926 & 0.000391604 & $\\dots$ \\\\\n",
       "\t14 & 11.9984 & Xe & 7.29415 & 0.00249181 & 0.000628929 & $\\dots$ \\\\\n",
       "\t15 & 6.79193 & Kr & 3.87627 & 0.00566888 & 0.000524744 & $\\dots$ \\\\\n",
       "\t16 & 9.54383 & Xe & 3.80396 & 0.0125772 & 0.0023866 & $\\dots$ \\\\\n",
       "\t17 & 12.8257 & Kr & 14.3257 & 0.00264895 & 0.000883062 & $\\dots$ \\\\\n",
       "\t18 & 17.4887 & Xe & 14.2342 & 0.00500042 & 0.0101353 & $\\dots$ \\\\\n",
       "\t19 & 16.7085 & Kr & 4.33543 & 0.0295978 & 0.00188324 & $\\dots$ \\\\\n",
       "\t20 & 22.4025 & Xe & 4.36196 & 0.0259763 & 0.0160005 & $\\dots$ \\\\\n",
       "\t21 & 14.5398 & Kr & 4.13123 & 0.0336813 & 0.00164039 & $\\dots$ \\\\\n",
       "\t22 & 19.9756 & Xe & 3.75985 & 0.0820882 & 0.0259837 & $\\dots$ \\\\\n",
       "\t23 & 13.9726 & Kr & 3.44725 & 0.0348138 & 0.00216123 & $\\dots$ \\\\\n",
       "\t24 & 18.6568 & Xe & 3.19308 & 0.0574734 & 0.00817358 & $\\dots$ \\\\\n",
       "\t25 & 12.8309 & Kr & 2.60393 & 0.0183326 & 0.00185998 & $\\dots$ \\\\\n",
       "\t26 & 17.7711 & Xe & 2.56685 & 0.0163539 & 0.0151902 & $\\dots$ \\\\\n",
       "\t27 & 15.1531 & Kr & 2.03699 & 0.017469 & 0.0114307 & $\\dots$ \\\\\n",
       "\t28 & 20.3942 & Xe & 1.71484 & 0.0131601 & 0.0172536 & $\\dots$ \\\\\n",
       "\t29 & 10.8474 & Kr & 4.8217 & 0.00655282 & 0.000939091 & $\\dots$ \\\\\n",
       "\t30 & 15.5063 & Xe & 4.65746 & 0.00903979 & 0.00470292 & $\\dots$ \\\\\n",
       "\t$\\dots$ & $\\dots$ & $\\dots$ & $\\dots$ & $\\dots$ & $\\dots$ &  \\\\\n",
       "\\end{tabular}\n"
      ],
      "text/plain": [
       "\u001b[1m1222×17 DataFrame\u001b[0m\n",
       "\u001b[1m  Row \u001b[0m│\u001b[1m Qst (kJ/mol) \u001b[0m\u001b[1m adsorbate \u001b[0m\u001b[1m elapsed time (min) \u001b[0m\u001b[1m err Qst (kJ/mol) \u001b[0m\u001b[1m err hen\u001b[0m ⋯\n",
       "\u001b[1m      \u001b[0m│\u001b[90m Float64      \u001b[0m\u001b[90m String    \u001b[0m\u001b[90m Float64            \u001b[0m\u001b[90m Float64          \u001b[0m\u001b[90m Float64\u001b[0m ⋯\n",
       "──────┼─────────────────────────────────────────────────────────────────────────\n",
       "    1 │     21.329    Kr                    1.80109        0.131795            ⋯\n",
       "    2 │     24.8751   Xe                    1.65142        0.213472\n",
       "    3 │     10.6927   Kr                    5.61557        0.0150828\n",
       "    4 │     14.8449   Xe                    5.29136        0.00924769\n",
       "    5 │      9.9699   Kr                    4.40649        0.0122787           ⋯\n",
       "    6 │     14.1487   Xe                    4.24425        0.00979169\n",
       "    7 │     17.0255   Kr                    1.84388        0.0188006\n",
       "    8 │     23.4406   Xe                    1.73891        0.0341487\n",
       "    9 │     11.5299   Kr                    3.25362        0.0191455           ⋯\n",
       "   10 │     15.5974   Xe                    3.27022        0.0109519\n",
       "   11 │      9.85127  Kr                   27.8586         0.00223396\n",
       "  ⋮   │      ⋮            ⋮              ⋮                  ⋮                  ⋱\n",
       " 1213 │      8.18398  Kr                    8.20299        0.0144314\n",
       " 1214 │     12.3784   Xe                    6.33007        0.0134232           ⋯\n",
       " 1215 │      8.63228  Kr                   10.8356         0.00717058\n",
       " 1216 │     12.9102   Xe                   11.4752         0.0153024\n",
       " 1217 │      9.494    Kr                    4.32473        0.0169992\n",
       " 1218 │     13.9779   Xe                    3.8724         0.0211385           ⋯\n",
       " 1219 │     10.0017   Kr                    4.40525        0.00504457\n",
       " 1220 │     14.4514   Xe                    3.99599        0.013011\n",
       " 1221 │     12.381    Kr                    7.91823        0.021085\n",
       " 1222 │     18.4327   Xe                    5.82982        0.0255541           ⋯\n",
       "\u001b[36m                                                13 columns and 1201 rows omitted\u001b[0m"
      ]
     },
     "execution_count": 8,
     "metadata": {},
     "output_type": "execute_result"
    }
   ],
   "source": [
    "henry_data = get_henry_data(cof_names, adsorbates)\n",
    "# CSV.write(joinpath(pwd(), \"henry_calculations.csv\"), henry_df)"
   ]
  },
  {
   "cell_type": "code",
   "execution_count": 9,
   "id": "10a04e33",
   "metadata": {
    "scrolled": true
   },
   "outputs": [
    {
     "data": {
      "text/html": [
       "<table class=\"data-frame\"><thead><tr><th></th><th># burn cycles</th><th># sample cycles</th><th># samples</th><th>Fraction of deletion proposals accepted</th></tr><tr><th></th><th>Int64</th><th>Int64</th><th>Int64</th><th>Float64</th></tr></thead><tbody><p>1,218 rows × 43 columns (omitted printing of 39 columns)</p><tr><th>1</th><td>92370</td><td>92370</td><td>1229672</td><td>0.00980134</td></tr><tr><th>2</th><td>92370</td><td>92370</td><td>1229672</td><td>0.00980134</td></tr><tr><th>3</th><td>395494</td><td>395494</td><td>7222672</td><td>0.238335</td></tr><tr><th>4</th><td>395494</td><td>395494</td><td>7222672</td><td>0.238335</td></tr><tr><th>5</th><td>629651</td><td>629651</td><td>3617599</td><td>0.244453</td></tr><tr><th>6</th><td>629651</td><td>629651</td><td>3617599</td><td>0.244453</td></tr><tr><th>7</th><td>96389</td><td>96389</td><td>8095343</td><td>0.0575339</td></tr><tr><th>8</th><td>96389</td><td>96389</td><td>8095343</td><td>0.0575339</td></tr><tr><th>9</th><td>231699</td><td>231699</td><td>3438017</td><td>0.216157</td></tr><tr><th>10</th><td>231699</td><td>231699</td><td>3438017</td><td>0.216157</td></tr><tr><th>11</th><td>1501419</td><td>1501419</td><td>54083402</td><td>0.364366</td></tr><tr><th>12</th><td>1501419</td><td>1501419</td><td>54083402</td><td>0.364366</td></tr><tr><th>13</th><td>1715251</td><td>1715251</td><td>7148777</td><td>0.353726</td></tr><tr><th>14</th><td>1715251</td><td>1715251</td><td>7148777</td><td>0.353726</td></tr><tr><th>15</th><td>1712130</td><td>1712130</td><td>3488241</td><td>0.307606</td></tr><tr><th>16</th><td>1712130</td><td>1712130</td><td>3488241</td><td>0.307606</td></tr><tr><th>17</th><td>2054523</td><td>2054523</td><td>27352238</td><td>0.220746</td></tr><tr><th>18</th><td>2054523</td><td>2054523</td><td>27352238</td><td>0.220746</td></tr><tr><th>19</th><td>192126</td><td>192126</td><td>1585349</td><td>0.0128986</td></tr><tr><th>20</th><td>192126</td><td>192126</td><td>1585349</td><td>0.0128986</td></tr><tr><th>21</th><td>201012</td><td>201012</td><td>2306957</td><td>0.0874021</td></tr><tr><th>22</th><td>201012</td><td>201012</td><td>2306957</td><td>0.0874021</td></tr><tr><th>23</th><td>203159</td><td>203159</td><td>2597197</td><td>0.146964</td></tr><tr><th>24</th><td>203159</td><td>203159</td><td>2597197</td><td>0.146964</td></tr><tr><th>25</th><td>207329</td><td>207329</td><td>3685346</td><td>0.188662</td></tr><tr><th>26</th><td>207329</td><td>207329</td><td>3685346</td><td>0.188662</td></tr><tr><th>27</th><td>95520</td><td>95520</td><td>4055863</td><td>0.0786822</td></tr><tr><th>28</th><td>95520</td><td>95520</td><td>4055863</td><td>0.0786822</td></tr><tr><th>29</th><td>625683</td><td>625683</td><td>4290570</td><td>0.219808</td></tr><tr><th>30</th><td>625683</td><td>625683</td><td>4290570</td><td>0.219808</td></tr><tr><th>&vellip;</th><td>&vellip;</td><td>&vellip;</td><td>&vellip;</td><td>&vellip;</td></tr></tbody></table>"
      ],
      "text/latex": [
       "\\begin{tabular}{r|ccccc}\n",
       "\t& \\# burn cycles & \\# sample cycles & \\# samples & Fraction of deletion proposals accepted & \\\\\n",
       "\t\\hline\n",
       "\t& Int64 & Int64 & Int64 & Float64 & \\\\\n",
       "\t\\hline\n",
       "\t1 & 92370 & 92370 & 1229672 & 0.00980134 & $\\dots$ \\\\\n",
       "\t2 & 92370 & 92370 & 1229672 & 0.00980134 & $\\dots$ \\\\\n",
       "\t3 & 395494 & 395494 & 7222672 & 0.238335 & $\\dots$ \\\\\n",
       "\t4 & 395494 & 395494 & 7222672 & 0.238335 & $\\dots$ \\\\\n",
       "\t5 & 629651 & 629651 & 3617599 & 0.244453 & $\\dots$ \\\\\n",
       "\t6 & 629651 & 629651 & 3617599 & 0.244453 & $\\dots$ \\\\\n",
       "\t7 & 96389 & 96389 & 8095343 & 0.0575339 & $\\dots$ \\\\\n",
       "\t8 & 96389 & 96389 & 8095343 & 0.0575339 & $\\dots$ \\\\\n",
       "\t9 & 231699 & 231699 & 3438017 & 0.216157 & $\\dots$ \\\\\n",
       "\t10 & 231699 & 231699 & 3438017 & 0.216157 & $\\dots$ \\\\\n",
       "\t11 & 1501419 & 1501419 & 54083402 & 0.364366 & $\\dots$ \\\\\n",
       "\t12 & 1501419 & 1501419 & 54083402 & 0.364366 & $\\dots$ \\\\\n",
       "\t13 & 1715251 & 1715251 & 7148777 & 0.353726 & $\\dots$ \\\\\n",
       "\t14 & 1715251 & 1715251 & 7148777 & 0.353726 & $\\dots$ \\\\\n",
       "\t15 & 1712130 & 1712130 & 3488241 & 0.307606 & $\\dots$ \\\\\n",
       "\t16 & 1712130 & 1712130 & 3488241 & 0.307606 & $\\dots$ \\\\\n",
       "\t17 & 2054523 & 2054523 & 27352238 & 0.220746 & $\\dots$ \\\\\n",
       "\t18 & 2054523 & 2054523 & 27352238 & 0.220746 & $\\dots$ \\\\\n",
       "\t19 & 192126 & 192126 & 1585349 & 0.0128986 & $\\dots$ \\\\\n",
       "\t20 & 192126 & 192126 & 1585349 & 0.0128986 & $\\dots$ \\\\\n",
       "\t21 & 201012 & 201012 & 2306957 & 0.0874021 & $\\dots$ \\\\\n",
       "\t22 & 201012 & 201012 & 2306957 & 0.0874021 & $\\dots$ \\\\\n",
       "\t23 & 203159 & 203159 & 2597197 & 0.146964 & $\\dots$ \\\\\n",
       "\t24 & 203159 & 203159 & 2597197 & 0.146964 & $\\dots$ \\\\\n",
       "\t25 & 207329 & 207329 & 3685346 & 0.188662 & $\\dots$ \\\\\n",
       "\t26 & 207329 & 207329 & 3685346 & 0.188662 & $\\dots$ \\\\\n",
       "\t27 & 95520 & 95520 & 4055863 & 0.0786822 & $\\dots$ \\\\\n",
       "\t28 & 95520 & 95520 & 4055863 & 0.0786822 & $\\dots$ \\\\\n",
       "\t29 & 625683 & 625683 & 4290570 & 0.219808 & $\\dots$ \\\\\n",
       "\t30 & 625683 & 625683 & 4290570 & 0.219808 & $\\dots$ \\\\\n",
       "\t$\\dots$ & $\\dots$ & $\\dots$ & $\\dots$ & $\\dots$ &  \\\\\n",
       "\\end{tabular}\n"
      ],
      "text/plain": [
       "\u001b[1m1218×43 DataFrame\u001b[0m\n",
       "\u001b[1m  Row \u001b[0m│\u001b[1m # burn cycles \u001b[0m\u001b[1m # sample cycles \u001b[0m\u001b[1m # samples \u001b[0m\u001b[1m Fraction of deletion propos\u001b[0m ⋯\n",
       "\u001b[1m      \u001b[0m│\u001b[90m Int64         \u001b[0m\u001b[90m Int64           \u001b[0m\u001b[90m Int64     \u001b[0m\u001b[90m Float64                    \u001b[0m ⋯\n",
       "──────┼─────────────────────────────────────────────────────────────────────────\n",
       "    1 │         92370            92370    1229672                              ⋯\n",
       "    2 │         92370            92370    1229672\n",
       "    3 │        395494           395494    7222672\n",
       "    4 │        395494           395494    7222672\n",
       "    5 │        629651           629651    3617599                              ⋯\n",
       "    6 │        629651           629651    3617599\n",
       "    7 │         96389            96389    8095343\n",
       "    8 │         96389            96389    8095343\n",
       "    9 │        231699           231699    3438017                              ⋯\n",
       "   10 │        231699           231699    3438017\n",
       "   11 │       1501419          1501419   54083402\n",
       "  ⋮   │       ⋮               ⋮             ⋮                         ⋮        ⋱\n",
       " 1209 │       1408036          1408036    8397717\n",
       " 1210 │       1408036          1408036    8397717                              ⋯\n",
       " 1211 │       1364245          1364245    8873936\n",
       " 1212 │       1364245          1364245    8873936\n",
       " 1213 │        752862           752862    3370879\n",
       " 1214 │        752862           752862    3370879                              ⋯\n",
       " 1215 │        699214           699214    3475721\n",
       " 1216 │        699214           699214    3475721\n",
       " 1217 │        913755           913755    9419297\n",
       " 1218 │        913755           913755    9419297                              ⋯\n",
       "\u001b[36m                                                40 columns and 1197 rows omitted\u001b[0m"
      ]
     },
     "execution_count": 9,
     "metadata": {},
     "output_type": "execute_result"
    }
   ],
   "source": [
    "gcmc_data = get_gcmc_data(cof_names, adsorbates)"
   ]
  },
  {
   "cell_type": "markdown",
   "id": "fa49cc5b",
   "metadata": {},
   "source": [
    "## Plotting Functions"
   ]
  },
  {
   "cell_type": "code",
   "execution_count": 10,
   "id": "421bdac9",
   "metadata": {},
   "outputs": [],
   "source": [
    "###\n",
    "#  Plot:\n",
    "#  1. Pore size dist\n",
    "#  2. Cost H vs. Cost GCMC \n",
    "#  4. GCMC S vs H S\n",
    "#  3. descriptor vs Selectivity\n",
    "###"
   ]
  },
  {
   "cell_type": "code",
   "execution_count": 11,
   "id": "3bb1b9cd",
   "metadata": {},
   "outputs": [],
   "source": [
    "# mksz = [8 for i in 1:length(cof_names)];"
   ]
  },
  {
   "cell_type": "code",
   "execution_count": 12,
   "id": "761087a5",
   "metadata": {},
   "outputs": [],
   "source": [
    "# figure()\n",
    "\n",
    "# for (i, name) in enumerate(descriptors[:, \"crystal_name\"])\n",
    "#     color = \"C1\"\n",
    "#     if name in skip_for_now\n",
    "#         continue\n",
    "#     elseif name in benchmarked_cofs\n",
    "#         color=\"C0\"\n",
    "#     end\n",
    "#     time = henry_data[(name, \"Xe\")][1, \"elapsed time (min)\"] + \n",
    "#            henry_data[(name, \"Kr\")][1, \"elapsed time (min)\"]\n",
    "    \n",
    "#     scatter(descriptors[i, \"pore_diameter_Å\"], time, s=8, c=color)\n",
    "# end\n",
    "\n",
    "# xlabel(\"pore_diameter_Å\")\n",
    "# ylabel(\"total sim time (min)\")\n",
    "\n",
    "# tight_layout()"
   ]
  },
  {
   "cell_type": "code",
   "execution_count": null,
   "id": "d5ac5144",
   "metadata": {},
   "outputs": [],
   "source": []
  },
  {
   "cell_type": "code",
   "execution_count": null,
   "id": "8ddb79b8",
   "metadata": {},
   "outputs": [],
   "source": []
  },
  {
   "cell_type": "code",
   "execution_count": null,
   "id": "9b0996d8",
   "metadata": {},
   "outputs": [],
   "source": []
  },
  {
   "cell_type": "code",
   "execution_count": 13,
   "id": "22c2117d",
   "metadata": {
    "scrolled": false
   },
   "outputs": [],
   "source": [
    "# for name in names(descriptors)\n",
    "#     if name == \"crystal_name\"\n",
    "#         continue\n",
    "#     end\n",
    "    \n",
    "#     figure()\n",
    "#     scatter(descriptors[:, name], henry_df[:, \"selectivity\"];\n",
    "#             s=mksz)\n",
    "    \n",
    "#     xlabel(name)\n",
    "#     ylabel(\"Xe/Kr selectivity\")\n",
    "#     tight_layout()\n",
    "# end"
   ]
  },
  {
   "cell_type": "code",
   "execution_count": null,
   "id": "fdb635c1",
   "metadata": {},
   "outputs": [],
   "source": []
  },
  {
   "cell_type": "code",
   "execution_count": null,
   "id": "47613ed9",
   "metadata": {},
   "outputs": [],
   "source": []
  }
 ],
 "metadata": {
  "kernelspec": {
   "display_name": "Julia 1.6.0",
   "language": "julia",
   "name": "julia-1.6"
  },
  "language_info": {
   "file_extension": ".jl",
   "mimetype": "application/julia",
   "name": "julia",
   "version": "1.6.0"
  }
 },
 "nbformat": 4,
 "nbformat_minor": 5
}
