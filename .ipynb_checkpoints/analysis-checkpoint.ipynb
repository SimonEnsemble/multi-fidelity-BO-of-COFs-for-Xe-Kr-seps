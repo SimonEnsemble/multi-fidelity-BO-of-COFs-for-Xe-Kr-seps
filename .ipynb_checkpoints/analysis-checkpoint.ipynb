{
 "cells": [
  {
   "cell_type": "code",
   "execution_count": 1,
   "id": "c9e186f3",
   "metadata": {},
   "outputs": [],
   "source": [
    "using PorousMaterials\n",
    "using JLD2\n",
    "using PyPlot\n",
    "using PyCall\n",
    "using CSV\n",
    "using DataFrames\n",
    "\n",
    "PyPlot.matplotlib.style.use(\"ggplot\")\n",
    "rcParams = PyPlot.PyDict(PyPlot.matplotlib.\"rcParams\")\n",
    "rcParams[\"font.size\"] = 16;"
   ]
  },
  {
   "cell_type": "code",
   "execution_count": 2,
   "id": "fe84def7",
   "metadata": {},
   "outputs": [],
   "source": [
    "# read in lines to get COF filenames\n",
    "filename = joinpath(pwd(), \"./descriptors/cof_names.txt\")\n",
    "cof_name_file = open(filename)\n",
    "cof_names = readlines(cof_name_file)\n",
    "close(cof_name_file)"
   ]
  },
  {
   "cell_type": "code",
   "execution_count": 3,
   "id": "f3faa600",
   "metadata": {},
   "outputs": [
    {
     "data": {
      "text/html": [
       "<table class=\"data-frame\"><thead><tr><th></th><th>crystal_name</th><th>pore_diameter_Å</th><th>void_fraction</th><th>surface_area_m²g⁻¹</th></tr><tr><th></th><th>String</th><th>Float64</th><th>Float64</th><th>Float64</th></tr></thead><tbody><p>612 rows × 4 columns</p><tr><th>1</th><td>05000N2_ddec.cif</td><td>3.84928</td><td>0.2</td><td>4175.64</td></tr><tr><th>2</th><td>05001N2_ddec.cif</td><td>19.7302</td><td>0.6</td><td>3156.96</td></tr><tr><th>3</th><td>07000N2_ddec.cif</td><td>26.1625</td><td>0.8</td><td>3407.23</td></tr><tr><th>4</th><td>07001N2_ddec.cif</td><td>7.82083</td><td>0.4</td><td>2565.59</td></tr><tr><th>5</th><td>07002N2_ddec.cif</td><td>14.8469</td><td>0.4</td><td>3345.75</td></tr><tr><th>6</th><td>07010N3_ddec.cif</td><td>9.33026</td><td>0.7</td><td>5261.66</td></tr><tr><th>7</th><td>07011N3_ddec.cif</td><td>9.94867</td><td>0.7</td><td>5452.36</td></tr><tr><th>8</th><td>07012N3_ddec.cif</td><td>18.946</td><td>0.9</td><td>5335.37</td></tr><tr><th>9</th><td>07013N3_ddec.cif</td><td>27.193</td><td>0.9</td><td>5190.06</td></tr><tr><th>10</th><td>08000N3_ddec.cif</td><td>10.0414</td><td>0.6</td><td>5593.85</td></tr><tr><th>11</th><td>08010N2_ddec.cif</td><td>4.7838</td><td>0.2</td><td>3845.42</td></tr><tr><th>12</th><td>08011N2_ddec.cif</td><td>7.51918</td><td>0.4</td><td>3597.55</td></tr><tr><th>13</th><td>08012N2_ddec.cif</td><td>9.8332</td><td>0.5</td><td>3440.67</td></tr><tr><th>14</th><td>08013N2_ddec.cif</td><td>13.0805</td><td>0.5</td><td>3172.89</td></tr><tr><th>15</th><td>08020N2_ddec.cif</td><td>7.90088</td><td>0.4</td><td>3426.45</td></tr><tr><th>16</th><td>08030N2_ddec.cif</td><td>24.736</td><td>0.9</td><td>3155.66</td></tr><tr><th>17</th><td>09000N3_ddec.cif</td><td>9.64438</td><td>0.5</td><td>6170.58</td></tr><tr><th>18</th><td>09010N2_ddec.cif</td><td>13.6375</td><td>0.7</td><td>4854.78</td></tr><tr><th>19</th><td>10000N2_ddec.cif</td><td>8.64115</td><td>0.4</td><td>3109.4</td></tr><tr><th>20</th><td>10010N2_ddec.cif</td><td>14.388</td><td>0.7</td><td>3069.22</td></tr><tr><th>21</th><td>10020N2_ddec.cif</td><td>14.1264</td><td>0.5</td><td>3979.62</td></tr><tr><th>22</th><td>11000N2_ddec.cif</td><td>13.3618</td><td>0.8</td><td>5031.74</td></tr><tr><th>23</th><td>11001N2_ddec.cif</td><td>6.3075</td><td>0.4</td><td>5519.54</td></tr><tr><th>24</th><td>11002N2_ddec.cif</td><td>27.2536</td><td>0.8</td><td>4084.94</td></tr><tr><th>25</th><td>11003N2_ddec.cif</td><td>13.1153</td><td>0.9</td><td>5982.33</td></tr><tr><th>26</th><td>11010N2_ddec.cif</td><td>11.4401</td><td>0.6</td><td>2471.66</td></tr><tr><th>27</th><td>11020N2_ddec.cif</td><td>12.7973</td><td>0.4</td><td>4523.6</td></tr><tr><th>28</th><td>11030N2_ddec.cif</td><td>15.4168</td><td>1.0</td><td>4725.53</td></tr><tr><th>29</th><td>11031N2_ddec.cif</td><td>26.6391</td><td>0.6</td><td>5465.75</td></tr><tr><th>30</th><td>11040N2_ddec.cif</td><td>32.9306</td><td>0.9</td><td>3866.0</td></tr><tr><th>&vellip;</th><td>&vellip;</td><td>&vellip;</td><td>&vellip;</td><td>&vellip;</td></tr></tbody></table>"
      ],
      "text/latex": [
       "\\begin{tabular}{r|cccc}\n",
       "\t& crystal\\_name & pore\\_diameter\\_Å & void\\_fraction & surface\\_area\\_m²g⁻¹\\\\\n",
       "\t\\hline\n",
       "\t& String & Float64 & Float64 & Float64\\\\\n",
       "\t\\hline\n",
       "\t1 & 05000N2\\_ddec.cif & 3.84928 & 0.2 & 4175.64 \\\\\n",
       "\t2 & 05001N2\\_ddec.cif & 19.7302 & 0.6 & 3156.96 \\\\\n",
       "\t3 & 07000N2\\_ddec.cif & 26.1625 & 0.8 & 3407.23 \\\\\n",
       "\t4 & 07001N2\\_ddec.cif & 7.82083 & 0.4 & 2565.59 \\\\\n",
       "\t5 & 07002N2\\_ddec.cif & 14.8469 & 0.4 & 3345.75 \\\\\n",
       "\t6 & 07010N3\\_ddec.cif & 9.33026 & 0.7 & 5261.66 \\\\\n",
       "\t7 & 07011N3\\_ddec.cif & 9.94867 & 0.7 & 5452.36 \\\\\n",
       "\t8 & 07012N3\\_ddec.cif & 18.946 & 0.9 & 5335.37 \\\\\n",
       "\t9 & 07013N3\\_ddec.cif & 27.193 & 0.9 & 5190.06 \\\\\n",
       "\t10 & 08000N3\\_ddec.cif & 10.0414 & 0.6 & 5593.85 \\\\\n",
       "\t11 & 08010N2\\_ddec.cif & 4.7838 & 0.2 & 3845.42 \\\\\n",
       "\t12 & 08011N2\\_ddec.cif & 7.51918 & 0.4 & 3597.55 \\\\\n",
       "\t13 & 08012N2\\_ddec.cif & 9.8332 & 0.5 & 3440.67 \\\\\n",
       "\t14 & 08013N2\\_ddec.cif & 13.0805 & 0.5 & 3172.89 \\\\\n",
       "\t15 & 08020N2\\_ddec.cif & 7.90088 & 0.4 & 3426.45 \\\\\n",
       "\t16 & 08030N2\\_ddec.cif & 24.736 & 0.9 & 3155.66 \\\\\n",
       "\t17 & 09000N3\\_ddec.cif & 9.64438 & 0.5 & 6170.58 \\\\\n",
       "\t18 & 09010N2\\_ddec.cif & 13.6375 & 0.7 & 4854.78 \\\\\n",
       "\t19 & 10000N2\\_ddec.cif & 8.64115 & 0.4 & 3109.4 \\\\\n",
       "\t20 & 10010N2\\_ddec.cif & 14.388 & 0.7 & 3069.22 \\\\\n",
       "\t21 & 10020N2\\_ddec.cif & 14.1264 & 0.5 & 3979.62 \\\\\n",
       "\t22 & 11000N2\\_ddec.cif & 13.3618 & 0.8 & 5031.74 \\\\\n",
       "\t23 & 11001N2\\_ddec.cif & 6.3075 & 0.4 & 5519.54 \\\\\n",
       "\t24 & 11002N2\\_ddec.cif & 27.2536 & 0.8 & 4084.94 \\\\\n",
       "\t25 & 11003N2\\_ddec.cif & 13.1153 & 0.9 & 5982.33 \\\\\n",
       "\t26 & 11010N2\\_ddec.cif & 11.4401 & 0.6 & 2471.66 \\\\\n",
       "\t27 & 11020N2\\_ddec.cif & 12.7973 & 0.4 & 4523.6 \\\\\n",
       "\t28 & 11030N2\\_ddec.cif & 15.4168 & 1.0 & 4725.53 \\\\\n",
       "\t29 & 11031N2\\_ddec.cif & 26.6391 & 0.6 & 5465.75 \\\\\n",
       "\t30 & 11040N2\\_ddec.cif & 32.9306 & 0.9 & 3866.0 \\\\\n",
       "\t$\\dots$ & $\\dots$ & $\\dots$ & $\\dots$ & $\\dots$ \\\\\n",
       "\\end{tabular}\n"
      ],
      "text/plain": [
       "\u001b[1m612×4 DataFrame\u001b[0m\n",
       "\u001b[1m Row \u001b[0m│\u001b[1m crystal_name     \u001b[0m\u001b[1m pore_diameter_Å \u001b[0m\u001b[1m void_fraction \u001b[0m\u001b[1m surface_area_m²g⁻¹ \u001b[0m\n",
       "\u001b[1m     \u001b[0m│\u001b[90m String           \u001b[0m\u001b[90m Float64         \u001b[0m\u001b[90m Float64       \u001b[0m\u001b[90m Float64            \u001b[0m\n",
       "─────┼──────────────────────────────────────────────────────────────────────\n",
       "   1 │ 05000N2_ddec.cif          3.84928            0.2             4175.64\n",
       "   2 │ 05001N2_ddec.cif         19.7302             0.6             3156.96\n",
       "   3 │ 07000N2_ddec.cif         26.1625             0.8             3407.23\n",
       "   4 │ 07001N2_ddec.cif          7.82083            0.4             2565.59\n",
       "   5 │ 07002N2_ddec.cif         14.8469             0.4             3345.75\n",
       "   6 │ 07010N3_ddec.cif          9.33026            0.7             5261.66\n",
       "   7 │ 07011N3_ddec.cif          9.94867            0.7             5452.36\n",
       "   8 │ 07012N3_ddec.cif         18.946              0.9             5335.37\n",
       "   9 │ 07013N3_ddec.cif         27.193              0.9             5190.06\n",
       "  10 │ 08000N3_ddec.cif         10.0414             0.6             5593.85\n",
       "  11 │ 08010N2_ddec.cif          4.7838             0.2             3845.42\n",
       "  ⋮  │        ⋮                 ⋮               ⋮                ⋮\n",
       " 603 │ 21280N3_ddec.cif         33.8692             0.9             3512.34\n",
       " 604 │ 21290N2_ddec.cif         24.4929             0.6             4424.18\n",
       " 605 │ 21291N3_ddec.cif         23.3063             0.6             5319.46\n",
       " 606 │ 21310N2_ddec.cif         22.3437             0.4             4252.1\n",
       " 607 │ 21311N3_ddec.cif         25.838              0.5             3967.32\n",
       " 608 │ 21312N2_ddec.cif         44.2216             0.9             5030.4\n",
       " 609 │ 21313N3_ddec.cif         44.8273             0.9             4807.29\n",
       " 610 │ 21314N2_ddec.cif         29.8214             0.8             4961.92\n",
       " 611 │ 21315N3_ddec.cif         28.1907             0.8             4393.93\n",
       " 612 │ 21320N2_ddec.cif         18.4584             0.6             3908.28\n",
       "\u001b[36m                                                            591 rows omitted\u001b[0m"
      ]
     },
     "execution_count": 3,
     "metadata": {},
     "output_type": "execute_result"
    }
   ],
   "source": [
    "# load \n",
    "chem_props_filename = joinpath(pwd(), \"descriptors/chemical_properties.csv\")\n",
    "geo_props_filename  = joinpath(pwd(), \"descriptors/geometric_properties.csv\")\n",
    "\n",
    "chemical_properties  = CSV.read(chem_props_filename, DataFrame)\n",
    "geometric_properties = CSV.read(geo_props_filename, DataFrame)"
   ]
  },
  {
   "cell_type": "code",
   "execution_count": 4,
   "id": "22b6be3c",
   "metadata": {},
   "outputs": [
    {
     "data": {
      "text/latex": [
       "\\begin{verbatim}\n",
       "@load filename var1 [var2 ...]\n",
       "\\end{verbatim}\n",
       "Load one or more variables \\texttt{var1,...} from JLD2 file \\texttt{filename} into the current scope and return a vector of the loaded variable names.\n",
       "\n",
       "For interactive use, the form \\texttt{@load \"somefile.jld2\"} will load all variables from \\texttt{\"somefile.jld2\"} into the current scope. This form only supports literal file names and should be avoided in more permanent code so that it's clear where the variables come from.\n",
       "\n",
       "\\section{Example}\n",
       "To load the variables \\texttt{hello} and \\texttt{foo} from the file example.jld2, use\n",
       "\n",
       "\\begin{verbatim}\n",
       "@load \"example.jld2\" hello foo\n",
       "\\end{verbatim}\n"
      ],
      "text/markdown": [
       "```\n",
       "@load filename var1 [var2 ...]\n",
       "```\n",
       "\n",
       "Load one or more variables `var1,...` from JLD2 file `filename` into the current scope and return a vector of the loaded variable names.\n",
       "\n",
       "For interactive use, the form `@load \"somefile.jld2\"` will load all variables from `\"somefile.jld2\"` into the current scope. This form only supports literal file names and should be avoided in more permanent code so that it's clear where the variables come from.\n",
       "\n",
       "# Example\n",
       "\n",
       "To load the variables `hello` and `foo` from the file example.jld2, use\n",
       "\n",
       "```\n",
       "@load \"example.jld2\" hello foo\n",
       "```\n"
      ],
      "text/plain": [
       "\u001b[36m  @load filename var1 [var2 ...]\u001b[39m\n",
       "\n",
       "  Load one or more variables \u001b[36mvar1,...\u001b[39m from JLD2 file \u001b[36mfilename\u001b[39m into the current\n",
       "  scope and return a vector of the loaded variable names.\n",
       "\n",
       "  For interactive use, the form \u001b[36m@load \"somefile.jld2\"\u001b[39m will load all variables\n",
       "  from \u001b[36m\"somefile.jld2\"\u001b[39m into the current scope. This form only supports literal\n",
       "  file names and should be avoided in more permanent code so that it's clear\n",
       "  where the variables come from.\n",
       "\n",
       "\u001b[1m  Example\u001b[22m\n",
       "\u001b[1m  ≡≡≡≡≡≡≡≡≡\u001b[22m\n",
       "\n",
       "  To load the variables \u001b[36mhello\u001b[39m and \u001b[36mfoo\u001b[39m from the file example.jld2, use\n",
       "\n",
       "\u001b[36m  @load \"example.jld2\" hello foo\u001b[39m"
      ]
     },
     "execution_count": 4,
     "metadata": {},
     "output_type": "execute_result"
    }
   ],
   "source": [
    "? @load"
   ]
  },
  {
   "cell_type": "code",
   "execution_count": 5,
   "id": "b129744a",
   "metadata": {},
   "outputs": [
    {
     "data": {
      "text/plain": [
       "1-element Vector{String}:\n",
       " \"07012N3_ddec.cif\""
      ]
     },
     "execution_count": 5,
     "metadata": {},
     "output_type": "execute_result"
    }
   ],
   "source": [
    "adsorbates = Molecule.([\"Kr\", \"Xe\"])\n",
    "temperature = 298.0 # K\n",
    "ljff = LJForceField(\"UFF\")\n",
    "nb_ins_per_vol = 500\n",
    "\n",
    "# for some reason these ones aren't working.. look into it\n",
    "skip_for_now = [\"07012N3_ddec.cif\"]"
   ]
  },
  {
   "cell_type": "code",
   "execution_count": 6,
   "id": "4385fc8b",
   "metadata": {},
   "outputs": [],
   "source": [
    "henry_calculations = Dict{Tuple{String, Symbol}, Dict{String, Any}}()\n",
    "\n",
    "for cof_name in cof_names\n",
    "    xtal = Crystal(cof_name; check_neutrality=false)\n",
    "    if xtal.name in skip_for_now\n",
    "        continue\n",
    "    end\n",
    "    \n",
    "    for molecule in adsorbates\n",
    "\n",
    "        henry_filename = henry_result_savename(xtal, molecule, temperature, ljff, nb_ins_per_vol)\n",
    "        \n",
    "        @load joinpath(PorousMaterials.rc[:paths][:simulations], henry_filename) results\n",
    "        \n",
    "        henry_calculations[(xtal.name, molecule.species)] = results\n",
    "    end\n",
    "end"
   ]
  },
  {
   "cell_type": "code",
   "execution_count": 7,
   "id": "2332e8a5",
   "metadata": {},
   "outputs": [
    {
     "data": {
      "text/plain": [
       "4-element Vector{String}:\n",
       " \"crystal_name\"\n",
       " \"pore_diameter_Å\"\n",
       " \"void_fraction\"\n",
       " \"surface_area_m²g⁻¹\""
      ]
     },
     "execution_count": 7,
     "metadata": {},
     "output_type": "execute_result"
    }
   ],
   "source": [
    "names(geometric_properties)"
   ]
  },
  {
   "cell_type": "markdown",
   "id": "05a61dd4",
   "metadata": {},
   "source": [
    "## Plotting Functions"
   ]
  },
  {
   "cell_type": "code",
   "execution_count": 14,
   "id": "aa5a6bfa",
   "metadata": {},
   "outputs": [
    {
     "data": {
      "text/plain": [
       "plot_vfxn_vs_henry (generic function with 1 method)"
      ]
     },
     "execution_count": 14,
     "metadata": {},
     "output_type": "execute_result"
    }
   ],
   "source": [
    "function plot_vfxn_vs_henry(results_dict::Dict{Tuple{String, Symbol}, Dict{String, Any}}, \n",
    "                            geo_props::DataFrame, gas::Molecule)\n",
    "    # do things\n",
    "    figure()\n",
    "    plt_vals = Dict{String, Array{Float64, 1}}()\n",
    "    for key in keys(results_dict)\n",
    "        xtal_name = key[1]\n",
    "        \n",
    "        if key[2] != gas.species\n",
    "            continue\n",
    "        end\n",
    "        h = results_dict[key][\"henry coefficient [mol/(m³-bar)]\"]\n",
    "        v = geo_props[geo_props.\"crystal_name\" .== xtal_name, \"void_fraction\"] # df[df.A .> 500, :]\n",
    "        plt_vals[key[1]] = [h, v]\n",
    "    end\n",
    "    \n",
    "    x = [plt_vals[key][1] for key in keys(plt_vals)]\n",
    "    y = [plt_vals[key][2] for key in keys(plt_vals)]\n",
    "    scatter(x, y)\n",
    "    xlabel(\"Henry coefficient\")\n",
    "    ylabel(\"void fraction\")\n",
    "    tight_layout()\n",
    "end"
   ]
  },
  {
   "cell_type": "code",
   "execution_count": 15,
   "id": "3cdfcd6c",
   "metadata": {},
   "outputs": [
    {
     "ename": "LoadError",
     "evalue": "MethodError: \u001b[0mCannot `convert` an object of type \u001b[92mVector{Float64}\u001b[39m\u001b[0m to an object of type \u001b[91mFloat64\u001b[39m\n\u001b[0mClosest candidates are:\n\u001b[0m  convert(::Type{T}, \u001b[91m::ColorTypes.Gray24\u001b[39m) where T<:Real at /home/ng/.julia/packages/ColorTypes/7OlxI/src/conversions.jl:114\n\u001b[0m  convert(::Type{T}, \u001b[91m::ColorTypes.Gray\u001b[39m) where T<:Real at /home/ng/.julia/packages/ColorTypes/7OlxI/src/conversions.jl:113\n\u001b[0m  convert(::Type{S}, \u001b[91m::CategoricalArrays.CategoricalValue\u001b[39m) where S<:Union{AbstractChar, AbstractString, Number} at /home/ng/.julia/packages/CategoricalArrays/Fr04b/src/value.jl:79\n\u001b[0m  ...",
     "output_type": "error",
     "traceback": [
      "MethodError: \u001b[0mCannot `convert` an object of type \u001b[92mVector{Float64}\u001b[39m\u001b[0m to an object of type \u001b[91mFloat64\u001b[39m\n\u001b[0mClosest candidates are:\n\u001b[0m  convert(::Type{T}, \u001b[91m::ColorTypes.Gray24\u001b[39m) where T<:Real at /home/ng/.julia/packages/ColorTypes/7OlxI/src/conversions.jl:114\n\u001b[0m  convert(::Type{T}, \u001b[91m::ColorTypes.Gray\u001b[39m) where T<:Real at /home/ng/.julia/packages/ColorTypes/7OlxI/src/conversions.jl:113\n\u001b[0m  convert(::Type{S}, \u001b[91m::CategoricalArrays.CategoricalValue\u001b[39m) where S<:Union{AbstractChar, AbstractString, Number} at /home/ng/.julia/packages/CategoricalArrays/Fr04b/src/value.jl:79\n\u001b[0m  ...",
      "",
      "Stacktrace:",
      "  [1] setindex!(A::Vector{Float64}, x::Vector{Float64}, i1::Int64)",
      "    @ Base ./array.jl:839",
      "  [2] _unsafe_copyto!(dest::Vector{Float64}, doffs::Int64, src::Vector{Any}, soffs::Int64, n::Int64)",
      "    @ Base ./array.jl:235",
      "  [3] unsafe_copyto!",
      "    @ ./array.jl:289 [inlined]",
      "  [4] _copyto_impl!",
      "    @ ./array.jl:313 [inlined]",
      "  [5] copyto!",
      "    @ ./array.jl:299 [inlined]",
      "  [6] copyto!",
      "    @ ./array.jl:325 [inlined]",
      "  [7] copyto_axcheck!",
      "    @ ./abstractarray.jl:1056 [inlined]",
      "  [8] Vector{Float64}(x::Vector{Any})",
      "    @ Base ./array.jl:540",
      "  [9] convert",
      "    @ ./array.jl:532 [inlined]",
      " [10] setindex!(h::Dict{String, Vector{Float64}}, v0::Vector{Any}, key::String)",
      "    @ Base ./dict.jl:382",
      " [11] plot_vfxn_vs_henry(results_dict::Dict{Tuple{String, Symbol}, Dict{String, Any}}, geo_props::DataFrame, gas::Molecule{Cart})",
      "    @ Main ./In[14]:14",
      " [12] top-level scope",
      "    @ In[15]:1",
      " [13] eval",
      "    @ ./boot.jl:360 [inlined]",
      " [14] include_string(mapexpr::typeof(REPL.softscope), mod::Module, code::String, filename::String)",
      "    @ Base ./loading.jl:1094"
     ]
    }
   ],
   "source": [
    "plot_vfxn_vs_henry(henry_calculations, geometric_properties, adsorbates[2])"
   ]
  },
  {
   "cell_type": "code",
   "execution_count": null,
   "id": "c6544956",
   "metadata": {},
   "outputs": [],
   "source": []
  }
 ],
 "metadata": {
  "kernelspec": {
   "display_name": "Julia 1.6.0",
   "language": "julia",
   "name": "julia-1.6"
  },
  "language_info": {
   "file_extension": ".jl",
   "mimetype": "application/julia",
   "name": "julia",
   "version": "1.6.0"
  }
 },
 "nbformat": 4,
 "nbformat_minor": 5
}
