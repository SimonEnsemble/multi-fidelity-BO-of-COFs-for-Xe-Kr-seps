{
 "cells": [
  {
   "cell_type": "code",
   "execution_count": 1,
   "id": "c9b42be9",
   "metadata": {},
   "outputs": [],
   "source": [
    "using PorousMaterials\n",
    "using JLD2\n",
    "using PyPlot\n",
    "using PyCall\n",
    "using CSV\n",
    "using DataFrames\n",
    "using StatsBase\n",
    "using Formatting\n",
    "\n",
    "# config plot settings\n",
    "PyPlot.matplotlib.style.use(\"ggplot\")\n",
    "rcParams = PyPlot.PyDict(PyPlot.matplotlib.\"rcParams\")\n",
    "rcParams[\"font.size\"] = 16;"
   ]
  },
  {
   "cell_type": "markdown",
   "id": "3a693e7a",
   "metadata": {},
   "source": [
    "## Load Descriptor Data"
   ]
  },
  {
   "cell_type": "code",
   "execution_count": 2,
   "id": "062fe6f5",
   "metadata": {},
   "outputs": [],
   "source": [
    "###\n",
    "#  read in lines to get COF filenames\n",
    "###\n",
    "filename = joinpath(pwd(), \"./descriptors/cof_names.txt\")\n",
    "cof_name_file = open(filename)\n",
    "cof_names = readlines(cof_name_file)\n",
    "close(cof_name_file)\n",
    "\n",
    "###\n",
    "#  load properties\n",
    "###\n",
    "chem_props_filename = joinpath(pwd(), \"descriptors/chemical_properties.csv\")\n",
    "geo_props_filename  = joinpath(pwd(), \"descriptors/geometric_properties.csv\")\n",
    "\n",
    "chemical_properties  = CSV.read(chem_props_filename, DataFrame)\n",
    "geometric_properties = CSV.read(geo_props_filename, DataFrame)\n",
    "\n",
    "descriptors = outerjoin(geometric_properties, chemical_properties, on=[\"crystal_name\"]);"
   ]
  },
  {
   "cell_type": "code",
   "execution_count": 3,
   "id": "0cfc86e2",
   "metadata": {
    "scrolled": true
   },
   "outputs": [],
   "source": [
    "# for some reason these ones aren't working... LOOk INTO IT\n",
    "# NOTE: second row has \"⟨N⟩ (mmol/g)\" = [0.0, 0.0] producing sel = NaN... need to run gcmc on these?\n",
    "skip_for_now = [\"07012N3_ddec.cif\", \"14040N2_ddec.cif\", \"16290N3_ddec.cif\", \"21111N3_ddec.cif\",\n",
    "                \"13030N2_ddec.cif\", \"16371N2_ddec.cif\", \"20565N3_ddec.cif\", \"21090N3_ddec.cif\"] \n",
    "\n",
    "filter!(row -> ! (row[\"crystal_name\"] in skip_for_now), descriptors);"
   ]
  },
  {
   "cell_type": "code",
   "execution_count": 4,
   "id": "6f1fd207",
   "metadata": {},
   "outputs": [
    {
     "data": {
      "text/plain": [
       "2-element Vector{String}:\n",
       " \"05000N2_ddec.cif\"\n",
       " \"17156N2_ddec.cif\""
      ]
     },
     "execution_count": 4,
     "metadata": {},
     "output_type": "execute_result"
    }
   ],
   "source": [
    "###\n",
    "#  simulation parameters\n",
    "###\n",
    "adsorbates = Molecule.([\"Kr\", \"Xe\"])\n",
    "mole_fxn   = [0.8, 0.2] # [Kr, Xe]\n",
    "total_pressure = 1.0    # bar\n",
    "partial_pressures = total_pressure * mole_fxn\n",
    "\n",
    "temperature = 298.0 # K\n",
    "ljff = LJForceField(\"UFF\")\n",
    "nb_ins_per_vol = 500\n",
    "nb_cyc_per_vol = 500 # 150\n",
    "\n",
    "benchmarked_cofs = [\"05000N2_ddec.cif\", \"17156N2_ddec.cif\"]"
   ]
  },
  {
   "cell_type": "markdown",
   "id": "eb3806cd",
   "metadata": {},
   "source": [
    "### Calculate Error in Selectivity from Henry Coefficient:\n",
    "We have the Henry coefficients $ H_{Xe} = h_{Xe} \\pm \\delta h_{Xe} $, $ H_{Kr} = h_{Kr} \\pm \\delta h_{Kr}$,  where $h_j$ is the \"measured\" value and $\\delta h_j$ is the associated uncertainty. The Selectivity is calculated as $ S_{Xe/Kr} = s_i \\pm \\delta s_i$ where $s_i = \\frac{h_{Xe}}{h_{Kr}}$. \n",
    "\n",
    "To determine the uncertainty of the selectivity $\\delta s_i$, we use the fact that the relative errors add in quaderature:\n",
    "$$ \\left(\\frac{\\delta s_i}{s_i}\\right)^2 = \\left( \\frac{\\delta h_{Xe}}{h_{Xe}} \\right)^2 + \\left( \\frac{\\delta h_{Kr}}{h_{Kr}} \\right)^2  $$\n",
    "\n",
    "So, \n",
    "$$ \\delta s_i = s_i\\sqrt{ {\\left( \\frac{\\delta h_{Xe}}{h_{Xe}} \\right)}^2 + {\\left(\\frac{\\delta h_{Kr}}{h_{Kr}}\\right)}^2 } $$\n",
    "\n",
    "Substituting in the expression for $s_i$, we get:\n",
    "$$ S_{Xe/Kr} = \\frac{h_{Xe}}{h_{Kr}} \\pm \\frac{h_{Xe}}{h_{Kr}}\\sqrt{ {\\left( \\frac{\\delta h_{Xe}}{h_{Xe}} \\right)}^2 + {\\left(\\frac{ \\delta h_{Kr}}{h_{Kr}}\\right)}^2 }$$\n"
   ]
  },
  {
   "cell_type": "code",
   "execution_count": 5,
   "id": "0e464822",
   "metadata": {},
   "outputs": [
    {
     "data": {
      "text/plain": [
       "calculate_selectivity (generic function with 1 method)"
      ]
     },
     "execution_count": 5,
     "metadata": {},
     "output_type": "execute_result"
    }
   ],
   "source": [
    "function calculate_selectivity(n1::Float64, n2::Float64, \n",
    "                               dn1::Float64, dn2::Float64;\n",
    "                               fxn1::Float64=1.0, fxn2::Float64=1.0)\n",
    "    \n",
    "    selectivity = (n1 / fxn1) / (n2 / fxn2)\n",
    "    err_selectivity = selectivity * sqrt((dn1 / n1) ^ 2 + (dn2 / n2) ^ 2) # mole fraction in error?\n",
    "    return selectivity, err_selectivity\n",
    "end"
   ]
  },
  {
   "cell_type": "code",
   "execution_count": 6,
   "id": "b27a0621",
   "metadata": {},
   "outputs": [
    {
     "data": {
      "text/plain": [
       "calculate_num_burn_and_sample_cycles (generic function with 1 method)"
      ]
     },
     "execution_count": 6,
     "metadata": {},
     "output_type": "execute_result"
    }
   ],
   "source": [
    "function calculate_num_burn_and_sample_cycles(xtal::Crystal, cycles_per_volume::Int64; \n",
    "                                              fraction_burn_cycles::Float64=0.5)\n",
    "    nb_cycles = max(5, ceil(Int, cycles_per_volume * xtal.box.Ω))\n",
    "    @assert (0.0 < fraction_burn_cycles) && (fraction_burn_cycles < 1.0) \n",
    "    n_burn_cycles   = ceil(Int, nb_cycles * fraction_burn_cycles)\n",
    "    n_sample_cycles = ceil(Int, nb_cycles * (1 - fraction_burn_cycles))\n",
    "    return n_burn_cycles, n_sample_cycles\n",
    "end"
   ]
  },
  {
   "cell_type": "markdown",
   "id": "c9b3675b",
   "metadata": {},
   "source": [
    "## Load Simulation Data"
   ]
  },
  {
   "cell_type": "code",
   "execution_count": 7,
   "id": "90bebe80",
   "metadata": {},
   "outputs": [
    {
     "data": {
      "text/plain": [
       "\"/home/ng/multi-fidelity-BO-of-COFs-for-Xe-Kr-seps/target_and_cost_data.csv\""
      ]
     },
     "execution_count": 7,
     "metadata": {},
     "output_type": "execute_result"
    }
   ],
   "source": [
    "###\n",
    "#  create DataFrame to populate with data we need \n",
    "###\n",
    "df = DataFrame(xtal = descriptors[:, \"crystal_name\"],\n",
    "               henry_coeff = [zeros(Float64, length(adsorbates)) for i in 1:length(descriptors[:, \"crystal_name\"])], \n",
    "               err_henry_coeff = [zeros(Float64, length(adsorbates)) for i in 1:length(descriptors[:, \"crystal_name\"])],\n",
    "               henry_elapsed_time = [zeros(Float64, length(adsorbates)) for i in 1:length(descriptors[:, \"crystal_name\"])],\n",
    "               henry_total_elapsed_time = zeros(Float64, length(descriptors[:, \"crystal_name\"])),\n",
    "               henry_selectivity = zeros(Float64, length(descriptors[:, \"crystal_name\"])),\n",
    "               err_henry_selectivity = zeros(Float64, length(descriptors[:, \"crystal_name\"])),\n",
    "               gcmc_uptake = [zeros(Float64, length(adsorbates)) for i in 1:length(descriptors[:, \"crystal_name\"])],\n",
    "               err_gcmc_uptake = [zeros(Float64, length(adsorbates)) for i in 1:length(descriptors[:, \"crystal_name\"])],\n",
    "               gcmc_pressure = [zeros(Float64, length(adsorbates)) for i in 1:length(descriptors[:, \"crystal_name\"])],\n",
    "               gcmc_elapsed_time = zeros(Float64, length(descriptors[:, \"crystal_name\"])),\n",
    "               gcmc_selectivity = zeros(Float64, length(descriptors[:, \"crystal_name\"])),\n",
    "               err_gcmc_selectivity = zeros(Float64, length(descriptors[:, \"crystal_name\"]))\n",
    "               )\n",
    "\n",
    "###\n",
    "#  loop over xtals \n",
    "###\n",
    "for (i, row) in enumerate(eachrow(df)) \n",
    "    # make sure we are on the correct row\n",
    "    @assert row[:xtal] == descriptors[i, \"crystal_name\"]\n",
    "    \n",
    "    # load crystal\n",
    "    xtal = Crystal(row[:xtal]; check_neutrality=false)\n",
    "\n",
    "    for (j, molecule) in enumerate(adsorbates) # [Kr, Xe]\n",
    "        ###\n",
    "        # load and assign Henry data\n",
    "        ###\n",
    "        henry_filename = henry_result_savename(xtal, molecule, temperature, ljff, nb_ins_per_vol)\n",
    "        @load joinpath(PorousMaterials.rc[:paths][:simulations], henry_filename) results\n",
    "        \n",
    "        row[:henry_coeff][j] = results[\"henry coefficient [mmol/(g-bar)]\"]\n",
    "        row[:err_henry_coeff][j] = results[\"err henry coefficient [mmol/(g-bar)]\"]\n",
    "        row[:henry_elapsed_time][j] = results[\"elapsed time (min)\"]\n",
    "    end\n",
    "    # calculate total time to run set of Henry calculations\n",
    "    row[:henry_total_elapsed_time] = sum(row[:henry_elapsed_time])\n",
    "    \n",
    "    ###\n",
    "    #  load and assign GCMC data\n",
    "    ###\n",
    "    n_burn, n_sample = calculate_num_burn_and_sample_cycles(xtal, nb_cyc_per_vol)\n",
    "    gcmc_filename = μVT_output_filename(xtal, adsorbates, temperature, \n",
    "                                        partial_pressures, ljff, n_burn, n_sample)\n",
    "    @load joinpath(PorousMaterials.rc[:paths][:simulations], gcmc_filename) results\n",
    "\n",
    "    row[:gcmc_uptake] = results[\"⟨N⟩ (mmol/g)\"]\n",
    "    row[:err_gcmc_uptake] = results[\"err ⟨N⟩ (mmol/g)\"]\n",
    "    row[:gcmc_pressure] = results[\"pressure (bar)\"]\n",
    "    row[:gcmc_elapsed_time] = results[\"elapsed time (min)\"]\n",
    "    # assert that adsorbates in correct order\n",
    "    \n",
    "    ###\n",
    "    # calculate and assign selectivities with associated error\n",
    "    ###\n",
    "    selectivity, err_selectivity = calculate_selectivity(row[:henry_coeff][2],\n",
    "                                                         row[:henry_coeff][1],\n",
    "                                                         row[:err_henry_coeff][2],\n",
    "                                                         row[:err_henry_coeff][1])\n",
    "    row[:henry_selectivity] = selectivity\n",
    "    row[:err_henry_selectivity] = err_selectivity\n",
    "    \n",
    "    # recall: adsorbates = [\"Kr\", \"Xe\"] and we want S_xe/kr\n",
    "    selectivity, err_selectivity = calculate_selectivity(row[:gcmc_uptake][2],\n",
    "                                                         row[:gcmc_uptake][1],\n",
    "                                                         row[:err_gcmc_uptake][2],\n",
    "                                                         row[:err_gcmc_uptake][1];\n",
    "                                                         fxn1=0.2, fxn2=0.8) #[Xe, Kr]\n",
    "    row[:gcmc_selectivity] = selectivity \n",
    "    row[:err_gcmc_selectivity] = err_selectivity\n",
    "end\n",
    "# write to file (only include xtal name and targets for GP)\n",
    "CSV.write(joinpath(pwd(), \"target_and_cost_data.csv\"), df[:, [:xtal, :henry_selectivity, :gcmc_selectivity]])"
   ]
  },
  {
   "cell_type": "code",
   "execution_count": 8,
   "id": "a3c93e25",
   "metadata": {
    "scrolled": true
   },
   "outputs": [
    {
     "data": {
      "text/html": [
       "<table class=\"data-frame\"><thead><tr><th></th><th>xtal</th><th>henry_selectivity</th><th>gcmc_selectivity</th></tr><tr><th></th><th>String?</th><th>Float64</th><th>Float64</th></tr></thead><tbody><p>5 rows × 3 columns</p><tr><th>1</th><td>05000N2_ddec.cif</td><td>1.58051</td><td>1.69624</td></tr><tr><th>2</th><td>05001N2_ddec.cif</td><td>3.27135</td><td>3.2725</td></tr><tr><th>3</th><td>07000N2_ddec.cif</td><td>2.9979</td><td>2.99372</td></tr><tr><th>4</th><td>07001N2_ddec.cif</td><td>9.01379</td><td>9.65039</td></tr><tr><th>5</th><td>07002N2_ddec.cif</td><td>3.60253</td><td>3.64401</td></tr></tbody></table>"
      ],
      "text/latex": [
       "\\begin{tabular}{r|ccc}\n",
       "\t& xtal & henry\\_selectivity & gcmc\\_selectivity\\\\\n",
       "\t\\hline\n",
       "\t& String? & Float64 & Float64\\\\\n",
       "\t\\hline\n",
       "\t1 & 05000N2\\_ddec.cif & 1.58051 & 1.69624 \\\\\n",
       "\t2 & 05001N2\\_ddec.cif & 3.27135 & 3.2725 \\\\\n",
       "\t3 & 07000N2\\_ddec.cif & 2.9979 & 2.99372 \\\\\n",
       "\t4 & 07001N2\\_ddec.cif & 9.01379 & 9.65039 \\\\\n",
       "\t5 & 07002N2\\_ddec.cif & 3.60253 & 3.64401 \\\\\n",
       "\\end{tabular}\n"
      ],
      "text/plain": [
       "\u001b[1m5×3 DataFrame\u001b[0m\n",
       "\u001b[1m Row \u001b[0m│\u001b[1m xtal             \u001b[0m\u001b[1m henry_selectivity \u001b[0m\u001b[1m gcmc_selectivity \u001b[0m\n",
       "\u001b[1m     \u001b[0m│\u001b[90m String?          \u001b[0m\u001b[90m Float64           \u001b[0m\u001b[90m Float64          \u001b[0m\n",
       "─────┼───────────────────────────────────────────────────────\n",
       "   1 │ 05000N2_ddec.cif            1.58051           1.69624\n",
       "   2 │ 05001N2_ddec.cif            3.27135           3.2725\n",
       "   3 │ 07000N2_ddec.cif            2.9979            2.99372\n",
       "   4 │ 07001N2_ddec.cif            9.01379           9.65039\n",
       "   5 │ 07002N2_ddec.cif            3.60253           3.64401"
      ]
     },
     "execution_count": 8,
     "metadata": {},
     "output_type": "execute_result"
    }
   ],
   "source": [
    "df[1:5, [:xtal, :henry_selectivity, :gcmc_selectivity]]"
   ]
  },
  {
   "cell_type": "code",
   "execution_count": 9,
   "id": "2ef97acf",
   "metadata": {},
   "outputs": [
    {
     "data": {
      "text/plain": [
       "0.9984326629127909"
      ]
     },
     "execution_count": 9,
     "metadata": {},
     "output_type": "execute_result"
    }
   ],
   "source": [
    "###\n",
    "#  Compute statistics about the fit\n",
    "#  RMSE, R2 and Spearmann correlation\n",
    "##\n",
    "rmse = sqrt(mean((df[:, :gcmc_selectivity] - df[:, :henry_selectivity]).^2))\n",
    "\n",
    "R2 = 1.0 - (sum((df[:, :gcmc_selectivity] - df[:, :henry_selectivity]).^2) / \n",
    "            sum((df[:, :gcmc_selectivity] .- mean(df[:, :gcmc_selectivity])).^2))\n",
    "\n",
    "rho_spearman = corspearman(df[:, :gcmc_selectivity], df[:, :henry_selectivity])"
   ]
  },
  {
   "cell_type": "markdown",
   "id": "fa49cc5b",
   "metadata": {},
   "source": [
    "## Plotting:\n",
    "\n",
    "1. Pore size dist\n",
    "2. Cost H vs. Cost GCMC \n",
    "3. GCMC S_{Xe/Kr} vs H S_{Xe/Kr}\n",
    "4. Relative errors\n",
    "5. highest performing COFs"
   ]
  },
  {
   "cell_type": "code",
   "execution_count": 10,
   "id": "6be5e578",
   "metadata": {},
   "outputs": [],
   "source": [
    "# # useful for plot formating \n",
    "# mkr_sz = [8 for i in 1:length(descriptors[:, \"crystal_name\"])];\n",
    "# mkr_c = [\"C1\" for i in 1:length(descriptors[:, \"crystal_name\"])]\n",
    "\n",
    "# # color benchmark cofs red\n",
    "# mkr_c[findfirst(descriptors[:, \"crystal_name\"] .== benchmarked_cofs[1])] = \"C0\"\n",
    "# mkr_c[findfirst(descriptors[:, \"crystal_name\"] .== benchmarked_cofs[2])] = \"C0\""
   ]
  },
  {
   "cell_type": "code",
   "execution_count": 11,
   "id": "047145f9",
   "metadata": {},
   "outputs": [],
   "source": [
    "# fig = figure()\n",
    "\n",
    "# scatter(descriptors[:, \"pore_diameter_Å\"], df[:, :henry_total_elapsed_time], color=mkr_c, s=mkr_sz)\n",
    "\n",
    "# title(\"cost vs pore diameter distribution\")\n",
    "# xlabel(\"pore size [Å]\")\n",
    "# ylabel(\"low fidelity cost [min]\")\n",
    "\n",
    "# tight_layout()"
   ]
  },
  {
   "cell_type": "code",
   "execution_count": 12,
   "id": "47613ed9",
   "metadata": {
    "scrolled": true
   },
   "outputs": [],
   "source": [
    "# figure()\n",
    "\n",
    "# scatter(df[:, :gcmc_elapsed_time], df[:, :henry_total_elapsed_time], color=mkr_c, s=mkr_sz)\n",
    "\n",
    "# # track fraction above or on the equal cost line\n",
    "# unfavorable = sum(sum.(df[:, :henry_elapsed_time]) .>= df[:, :gcmc_elapsed_time])\n",
    "# favorable = length(df[:, :gcmc_elapsed_time]) - unfavorable\n",
    "\n",
    "# cost_ratio = unfavorable / length(df[:, :gcmc_elapsed_time])\n",
    "# println(\"cost ratio: $(cost_ratio) unfavorable, $(1 - cost_ratio) favorable\")\n",
    "\n",
    "# # plot the line: y=x\n",
    "# x = range(0.0, stop=400, length=100)\n",
    "# y = x\n",
    "# plot(x, y; label=\"equal cost\", color=\"k\", linestyle=\"--\", linewidth=1.2)\n",
    "\n",
    "# # xlim(xmax=500.0)\n",
    "# # ylim([0.0, 500.0])\n",
    "# # note: make axis equal\n",
    "# gca().set_aspect(\"equal\", adjustable=\"box\")\n",
    "\n",
    "# title(\"simulation cost comparison\")\n",
    "# legend()\n",
    "# xlabel(\"high fidelity cost [min]\")\n",
    "# ylabel(\"low fidelity cost [min]\")\n",
    "\n",
    "# tight_layout()"
   ]
  },
  {
   "cell_type": "code",
   "execution_count": 13,
   "id": "913c630d",
   "metadata": {
    "scrolled": false
   },
   "outputs": [],
   "source": [
    "# figure(figsize=(8, 8))\n",
    "\n",
    "# xmax = maximum(max.(df[:, :gcmc_selectivity], df[:, :henry_selectivity]))\n",
    "# x = range(0.0, stop=xmax, length=length(df[:, :henry_selectivity]))\n",
    "# y = x\n",
    "# plot(x, y, color=\"k\", linestyle=\"--\", zorder=0)\n",
    "\n",
    "# errorbar(df[:, :gcmc_selectivity], df[:, :henry_selectivity],\n",
    "#          xerr=df[:, :err_gcmc_selectivity], yerr=df[:, :err_henry_selectivity],\n",
    "#          ecolor=\"C0\", marker=\".\", ls=\"none\",\n",
    "#          mfc=\"none\", mec=\"C1\", ms=6, linewidth=0.75)\n",
    "\n",
    "# # put a line and calc Spearmann Correlation\n",
    "# str = format(\"R² = {:0.3f}\\nRMSE = {:0.2f}\\nρₛ = {:0.3f}\", R2, rmse, rho_spearman)\n",
    "# box_styl = Dict(:facecolor => \"lightgrey\", :alpha => 0.75)\n",
    "# text(1, 17, str, color=\"k\", size=10, bbox=box_styl)\n",
    "\n",
    "# gca().set_aspect(\"equal\", adjustable=\"box\")\n",
    "\n",
    "# title(\"Fidelity Corelation\", fontsize=14)\n",
    "# xlabel(\"GCMC S\" * L\"_{Xe/Kr}\")\n",
    "# ylabel(\"Henry S\" * L\"_{Xe/Kr}\")\n",
    "# tight_layout()\n",
    "# savefig(joinpath(pwd(), \"low_vs_high_fidelity_correlation_plot.png\"), dpi=600, format=\"png\")"
   ]
  },
  {
   "cell_type": "markdown",
   "id": "c8c0c6e1",
   "metadata": {},
   "source": [
    "### Look at relative errors in adsorption or each COF\n",
    "\n",
    "**Note that the Kinetic diameter of Kr = 3.6 Å and Xe = 3.96 Å; \n",
    "therefore, COFs with a smaller pore diameter will not be able to accomidate the gas**"
   ]
  },
  {
   "cell_type": "code",
   "execution_count": 14,
   "id": "2cc9139d",
   "metadata": {
    "scrolled": true
   },
   "outputs": [],
   "source": [
    "# cof_large_error = String[]\n",
    "# for (i, row) in enumerate(eachrow(df))\n",
    "#     if any((row[:err_henry_coeff] ./ row[:henry_coeff]) .> 0.05)\n",
    "#         if ! (row[:xtal] in cof_large_error)\n",
    "#             push!(cof_large_error, row[:xtal])\n",
    "#         end\n",
    "#     elseif any((row[:err_gcmc_uptake] ./ row[:gcmc_uptake]) .> 0.05)\n",
    "#         if ! (row[:xtal] in cof_large_error)\n",
    "#             push!(cof_large_error, row[:xtal])\n",
    "#         end\n",
    "#     end\n",
    "# end\n",
    "# cof_large_error # look at their xtal structure... 8 and 30Å should be big enough...?"
   ]
  },
  {
   "cell_type": "code",
   "execution_count": 15,
   "id": "92dc5590",
   "metadata": {},
   "outputs": [],
   "source": [
    "# xtal_indexes = [findfirst(descriptors[:, \"crystal_name\"] .== name) for name in cof_large_error]\n",
    "# pore_diameters = descriptors[xtal_indexes, \"pore_diameter_Å\"]"
   ]
  },
  {
   "cell_type": "code",
   "execution_count": 16,
   "id": "1455b62e",
   "metadata": {},
   "outputs": [],
   "source": [
    "# fig, axs = plt.subplots(2, 2, figsize=(10, 10))\n",
    "\n",
    "# x = [ind for ind in 1:length(df[:, :xtal])];\n",
    "# for i in 1:2\n",
    "#     h_rel_err = [df[ind, :err_henry_coeff][2] for ind in 1:length(df[:, :xtal])] ./ \n",
    "#                 [df[ind, :henry_coeff][2] for ind in 1:length(df[:, :xtal])]\n",
    "#     g_rel_err = [df[ind, :err_gcmc_uptake][1] for ind in 1:length(df[:, :xtal])] ./ \n",
    "#                 [df[ind, :gcmc_uptake][1] for ind in 1:length(df[:, :xtal])] \n",
    "#     axs[1, i].bar(x, h_rel_err, color=\"C$(i-1)\")\n",
    "#     axs[2, i].bar(x, g_rel_err, color=\"C$(i-1)\")\n",
    "# end\n",
    "\n",
    "# axs[1, 1].set_title(\"Kr\")\n",
    "# axs[1, 2].set_title(\"Xe\")\n",
    "# axs[1, 1].set_ylabel(\"Henry Coeff. relative error\")\n",
    "# axs[2, 1].set_ylabel(\"GCMC ⟨N⟩ relative error\")\n",
    "# axs[2, 1].set_xlabel(\"crystal index\")\n",
    "# axs[2, 2].set_xlabel(\"crystal index\")\n",
    "\n",
    "# axs[1, 1].set_ylim([0.00, 0.30])\n",
    "# axs[1, 2].set_ylim([0.00, 0.30])\n",
    "\n",
    "\n",
    "# tight_layout()\n",
    "# # savefig(joinpath(pwd(), \"relative_eror_plot.png\"), dpi=600, format=\"png\")"
   ]
  },
  {
   "cell_type": "markdown",
   "id": "2d915cbd",
   "metadata": {},
   "source": [
    "### Look at the top 10% performing materials"
   ]
  },
  {
   "cell_type": "code",
   "execution_count": 17,
   "id": "50938e75",
   "metadata": {},
   "outputs": [],
   "source": [
    "# top10_inds = ceil(Int, length(df[:, :xtal]) * 0.1)\n",
    "# top10 = sort(df, :gcmc_selectivity, rev=true)[1:top10_inds, :]\n",
    "# length(top10[:, :xtal])"
   ]
  },
  {
   "cell_type": "code",
   "execution_count": 18,
   "id": "7d4cc693",
   "metadata": {},
   "outputs": [],
   "source": [
    "# ###\n",
    "# #  Compute statistics about the fit\n",
    "# #  RMSE, R2 and Spearmann correlation\n",
    "# ##\n",
    "# t10_rmse = sqrt(mean((top10[:, :gcmc_selectivity] - top10[:, :henry_selectivity]).^2))\n",
    "\n",
    "# t10_R2 = 1.0 - (sum((top10[:, :gcmc_selectivity] - top10[:, :henry_selectivity]).^2) / \n",
    "#             sum((top10[:, :gcmc_selectivity] .- mean(top10[:, :gcmc_selectivity])).^2))\n",
    "\n",
    "# t10_rho_spearman = corspearman(top10[:, :gcmc_selectivity], top10[:, :henry_selectivity])"
   ]
  },
  {
   "cell_type": "code",
   "execution_count": 19,
   "id": "bf711494",
   "metadata": {},
   "outputs": [],
   "source": [
    "# figure(figsize=(8, 8))\n",
    "\n",
    "# xmax = maximum(max.(top10[:, :gcmc_selectivity], top10[:, :henry_selectivity]))\n",
    "# x = range(0.0, stop=xmax, length=length(top10[:, :henry_selectivity]))\n",
    "# y = x\n",
    "# plot(x, y, color=\"k\", linestyle=\"--\", zorder=0)\n",
    "\n",
    "# errorbar(top10[:, :gcmc_selectivity], top10[:, :henry_selectivity],\n",
    "#          xerr=top10[:, :err_gcmc_selectivity], yerr=top10[:, :err_henry_selectivity],\n",
    "#          ecolor=\"C0\", marker=\".\", ls=\"none\",\n",
    "#          mfc=\"none\", mec=\"C1\", ms=6, linewidth=1.1)\n",
    "\n",
    "# # put a line and calc Spearmann Correlation\n",
    "# str = format(\"R² = {:0.3f}\\nRMSE = {:0.2f}\\nρₛ = {:0.3f}\", t10_R2, t10_rmse, t10_rho_spearman)\n",
    "# box_styl = Dict(:facecolor => \"lightgrey\", :alpha => 0.75)\n",
    "# text(1, 17, str, color=\"k\", size=10, bbox=box_styl)\n",
    "\n",
    "# gca().set_aspect(\"equal\", adjustable=\"box\")\n",
    "\n",
    "# title(\"Highest Performing COFs: Fidelity Corelation\", fontsize=14)\n",
    "# xlabel(\"GCMC S\" * L\"_{Xe/Kr}\")\n",
    "# ylabel(\"Henry S\" * L\"_{Xe/Kr}\")\n",
    "# tight_layout()\n",
    "# savefig(joinpath(pwd(), \"top10pct_low_vs_high_fidelity_correlation_plot.png\"), dpi=600, format=\"png\")"
   ]
  },
  {
   "cell_type": "code",
   "execution_count": null,
   "id": "6c39eee4",
   "metadata": {},
   "outputs": [],
   "source": []
  }
 ],
 "metadata": {
  "kernelspec": {
   "display_name": "Julia 1.6.0",
   "language": "julia",
   "name": "julia-1.6"
  },
  "language_info": {
   "file_extension": ".jl",
   "mimetype": "application/julia",
   "name": "julia",
   "version": "1.6.0"
  }
 },
 "nbformat": 4,
 "nbformat_minor": 5
}
