{
 "cells": [
  {
   "cell_type": "markdown",
   "id": "5f9bd9f0",
   "metadata": {},
   "source": [
    "We want to use (train) a Gaussian Process for regression analysis so that we can determin (by fitting) "
   ]
  },
  {
   "cell_type": "code",
   "execution_count": 1,
   "id": "03faf5cf",
   "metadata": {},
   "outputs": [],
   "source": [
    "using CSV\n",
    "using DataFrames\n",
    "using PyPlot\n",
    "using Statistics\n",
    "using Printf"
   ]
  },
  {
   "cell_type": "code",
   "execution_count": 2,
   "id": "4deafbfa",
   "metadata": {},
   "outputs": [
    {
     "data": {
      "text/plain": [
       "PyObject <function permutation_importance at 0x7f19b7e35790>"
      ]
     },
     "execution_count": 2,
     "metadata": {},
     "output_type": "execute_result"
    }
   ],
   "source": [
    "using ScikitLearn # machine learning package\n",
    "using ScikitLearn.CrossValidation: train_test_split\n",
    "@sk_import gaussian_process : GaussianProcessRegressor\n",
    "@sk_import gaussian_process.kernels : Matern\n",
    "\n",
    "@sk_import inspection : permutation_importance\n",
    "# @sk_import metrics : confusion_matrix"
   ]
  },
  {
   "cell_type": "code",
   "execution_count": 3,
   "id": "db0eea69",
   "metadata": {
    "scrolled": false
   },
   "outputs": [
    {
     "data": {
      "text/html": [
       "<table class=\"data-frame\"><thead><tr><th></th><th>xtal</th><th>henry_coeff</th><th>err_henry_coeff</th></tr><tr><th></th><th>String</th><th>String</th><th>String</th></tr></thead><tbody><p>5 rows × 13 columns (omitted printing of 10 columns)</p><tr><th>1</th><td>05000N2_ddec.cif</td><td>[0.34162109151308895, 0.539933860111868]</td><td>[0.021417794658052214, 0.05796355640692683]</td></tr><tr><th>2</th><td>05001N2_ddec.cif</td><td>[0.3440191988249698, 1.125408279568165]</td><td>[0.0016531431509292501, 0.004220255379895689]</td></tr><tr><th>3</th><td>07000N2_ddec.cif</td><td>[0.35710082057988457, 1.070551206154267]</td><td>[0.0016138602483218797, 0.0030304572697169687]</td></tr><tr><th>4</th><td>07001N2_ddec.cif</td><td>[1.1873051238977446, 10.702122606318651]</td><td>[0.012398975178825733, 0.11216101899121549]</td></tr><tr><th>5</th><td>07002N2_ddec.cif</td><td>[0.37740438826649086, 1.3596101853607194]</td><td>[0.002480709340993655, 0.005428116575187417]</td></tr></tbody></table>"
      ],
      "text/latex": [
       "\\begin{tabular}{r|cccc}\n",
       "\t& xtal & henry\\_coeff & err\\_henry\\_coeff & \\\\\n",
       "\t\\hline\n",
       "\t& String & String & String & \\\\\n",
       "\t\\hline\n",
       "\t1 & 05000N2\\_ddec.cif & [0.34162109151308895, 0.539933860111868] & [0.021417794658052214, 0.05796355640692683] & $\\dots$ \\\\\n",
       "\t2 & 05001N2\\_ddec.cif & [0.3440191988249698, 1.125408279568165] & [0.0016531431509292501, 0.004220255379895689] & $\\dots$ \\\\\n",
       "\t3 & 07000N2\\_ddec.cif & [0.35710082057988457, 1.070551206154267] & [0.0016138602483218797, 0.0030304572697169687] & $\\dots$ \\\\\n",
       "\t4 & 07001N2\\_ddec.cif & [1.1873051238977446, 10.702122606318651] & [0.012398975178825733, 0.11216101899121549] & $\\dots$ \\\\\n",
       "\t5 & 07002N2\\_ddec.cif & [0.37740438826649086, 1.3596101853607194] & [0.002480709340993655, 0.005428116575187417] & $\\dots$ \\\\\n",
       "\\end{tabular}\n"
      ],
      "text/plain": [
       "\u001b[1m5×13 DataFrame\u001b[0m\n",
       "\u001b[1m Row \u001b[0m│\u001b[1m xtal             \u001b[0m\u001b[1m henry_coeff                       \u001b[0m\u001b[1m err_henry_coeff   \u001b[0m ⋯\n",
       "\u001b[1m     \u001b[0m│\u001b[90m String           \u001b[0m\u001b[90m String                            \u001b[0m\u001b[90m String            \u001b[0m ⋯\n",
       "─────┼──────────────────────────────────────────────────────────────────────────\n",
       "   1 │ 05000N2_ddec.cif  [0.34162109151308895, 0.53993386…  [0.021417794658052 ⋯\n",
       "   2 │ 05001N2_ddec.cif  [0.3440191988249698, 1.125408279…  [0.001653143150929\n",
       "   3 │ 07000N2_ddec.cif  [0.35710082057988457, 1.07055120…  [0.001613860248321\n",
       "   4 │ 07001N2_ddec.cif  [1.1873051238977446, 10.70212260…  [0.012398975178825\n",
       "   5 │ 07002N2_ddec.cif  [0.37740438826649086, 1.35961018…  [0.002480709340993 ⋯\n",
       "\u001b[36m                                                              11 columns omitted\u001b[0m"
      ]
     },
     "execution_count": 3,
     "metadata": {},
     "output_type": "execute_result"
    }
   ],
   "source": [
    "filename = joinpath(pwd(), \"descriptors/cof_descriptors.csv\")\n",
    "descriptors = CSV.read(filename, DataFrame)\n",
    "rename!(descriptors, \"crystal_name\" => \"xtal\")\n",
    "\n",
    "# for some reason these ones aren't working... LOOk INTO IT\n",
    "skip_for_now = [\"07012N3_ddec.cif\", \"14040N2_ddec.cif\", \"16290N3_ddec.cif\", \"21111N3_ddec.cif\"]\n",
    "\n",
    "\n",
    "[delete!(descriptors, findfirst(descriptors[:, \"xtal\"] .== skip_for_now[i])) for i in 1:length(skip_for_now)]\n",
    "\n",
    "target_and_cost_data = CSV.read(joinpath(pwd(), \"target_and_cost_data.csv\"), DataFrame)\n",
    "\n",
    "target_and_cost_data[1:5, :]"
   ]
  },
  {
   "cell_type": "code",
   "execution_count": 4,
   "id": "d0b52321",
   "metadata": {},
   "outputs": [
    {
     "data": {
      "text/plain": [
       "13-element Vector{String}:\n",
       " \"xtal\"\n",
       " \"henry_coeff\"\n",
       " \"err_henry_coeff\"\n",
       " \"henry_elapsed_time\"\n",
       " \"henry_total_elapsed_time\"\n",
       " \"henry_selectivity\"\n",
       " \"err_henry_selectivity\"\n",
       " \"gcmc_uptake\"\n",
       " \"err_gcmc_uptake\"\n",
       " \"gcmc_pressure\"\n",
       " \"gcmc_elapsed_time\"\n",
       " \"gcmc_selectivity\"\n",
       " \"err_gcmc_selectivity\""
      ]
     },
     "execution_count": 4,
     "metadata": {},
     "output_type": "execute_result"
    }
   ],
   "source": [
    "names(target_and_cost_data)"
   ]
  },
  {
   "cell_type": "markdown",
   "id": "2681319b",
   "metadata": {},
   "source": [
    "Scikitlearn takes as input:\n",
    "\n",
    "- a feature matrix X, which must be n_samples by n_features\n",
    "- a target vector y, which must be n_samples long (of course)"
   ]
  },
  {
   "cell_type": "code",
   "execution_count": 5,
   "id": "ac75d69e",
   "metadata": {
    "scrolled": true
   },
   "outputs": [
    {
     "data": {
      "text/plain": [
       "608×14 Matrix{Float64}:\n",
       " 0.00034169   0.000548847  0.00159703   …  0.0519729   0.0  0.0  0.0\n",
       " 0.0017514    0.00164654   0.00120742      0.0121386   0.0  0.0  0.0\n",
       " 0.00232237   0.00219539   0.00130314      0.00762443  0.0  0.0  0.0\n",
       " 0.000694234  0.00109769   0.000981243     0.0249031   0.0  0.0  0.0\n",
       " 0.00131792   0.00109769   0.00127962      0.0103599   0.0  0.0  0.0\n",
       " 0.000828222  0.00192097   0.00201239   …  0.0127898   0.0  0.0  0.0\n",
       " 0.000883117  0.00192097   0.00208532      0.0111954   0.0  0.0  0.0\n",
       " 0.00241385   0.00246981   0.001985        0.00280395  0.0  0.0  0.0\n",
       " 0.000891347  0.00164654   0.00213944      0.00934666  0.0  0.0  0.0\n",
       " 0.000424645  0.000548847  0.00147073      0.0249875   0.0  0.0  0.0\n",
       " 0.000667457  0.00109769   0.00137593   …  0.0238828   0.0  0.0  0.0\n",
       " 0.000872867  0.00137212   0.00131593      0.0236304   0.0  0.0  0.0\n",
       " 0.00116112   0.00137212   0.00121351      0.0231552   0.0  0.0  0.0\n",
       " ⋮                                      ⋱  ⋮                     \n",
       " 0.000399756  0.00109769   0.00167589      0.0         0.0  0.0  0.0\n",
       " 0.00072732   0.00164654   0.00190095      0.0         0.0  0.0  0.0\n",
       " 0.00300648   0.00246981   0.00134334      0.0         0.0  0.0  0.0\n",
       " 0.00217417   0.00164654   0.00169208      0.0         0.0  0.0  0.0\n",
       " 0.00206884   0.00164654   0.0020345    …  0.0         0.0  0.0  0.0\n",
       " 0.00198339   0.00109769   0.00162627      0.0         0.0  0.0  0.0\n",
       " 0.00229357   0.00137212   0.00151735      0.0         0.0  0.0  0.0\n",
       " 0.00392543   0.00246981   0.00192394      0.0         0.0  0.0  0.0\n",
       " 0.0039792    0.00246981   0.00183861      0.0         0.0  0.0  0.0\n",
       " 0.00264717   0.00219539   0.00189775   …  0.0         0.0  0.0  0.0\n",
       " 0.00250241   0.00219539   0.00168051      0.0         0.0  0.0  0.0\n",
       " 0.0016385    0.00164654   0.00149477      0.0         0.0  0.0  0.0"
      ]
     },
     "execution_count": 5,
     "metadata": {},
     "output_type": "execute_result"
    }
   ],
   "source": [
    "x_cols = [name for name in names(descriptors) if name != \"xtal\"]\n",
    "n_xtals = nrow(descriptors)\n",
    "\n",
    "X = zeros(n_xtals, length(x_cols))\n",
    "henry_y = zeros(n_xtals)\n",
    "gcmc_y  = zeros(n_xtals)\n",
    "\n",
    "for (i, row) in enumerate(eachrow(descriptors))   \n",
    "    for (j, col_name) in enumerate(x_cols)\n",
    "        X[i, j] = row[col_name] / sum(descriptors[:, col_name])\n",
    "    end\n",
    "    # Xe/Kr Selectivity\n",
    "    henry_y[i] = target_and_cost_data[i, :henry_selectivity] \n",
    "    gcmc_y[i]  = target_and_cost_data[i, :gcmc_selectivity]\n",
    "end\n",
    "X # look at y too!"
   ]
  },
  {
   "cell_type": "code",
   "execution_count": 6,
   "id": "a160a1c4",
   "metadata": {},
   "outputs": [
    {
     "data": {
      "text/plain": [
       "PyObject GaussianProcessRegressor(kernel=Matern(length_scale=0.25, nu=2.5),\n",
       "                         n_restarts_optimizer=5, normalize_y=True)"
      ]
     },
     "execution_count": 6,
     "metadata": {},
     "output_type": "execute_result"
    }
   ],
   "source": [
    "###\n",
    "#  Spit data into training and testing sets\n",
    "###\n",
    "henry_X_train, henry_X_test, henry_y_train, henry_y_test = train_test_split(X, henry_y, test_size=0.25)\n",
    "gcmc_X_train, gcmc_X_test, gcmc_y_train, gcmc_y_test = train_test_split(X, gcmc_y, test_size=0.25)\n",
    "\n",
    "###\n",
    "#  Construct GP \n",
    "###\n",
    "kernel = Matern(nu=2.5, length_scale=0.25) \n",
    "henry_gpr = GaussianProcessRegressor(kernel=kernel, normalize_y=true, n_restarts_optimizer=5)\n",
    "gcmc_gpr  = GaussianProcessRegressor(kernel=kernel, normalize_y=true, n_restarts_optimizer=5)\n",
    "\n",
    "###\n",
    "#  Train GP on data \n",
    "###\n",
    "henry_gpr.fit(henry_X_train, henry_y_train)"
   ]
  },
  {
   "cell_type": "code",
   "execution_count": 7,
   "id": "1c4dc91b",
   "metadata": {},
   "outputs": [
    {
     "data": {
      "text/plain": [
       "PyObject Matern(length_scale=0.000672, nu=2.5)"
      ]
     },
     "execution_count": 7,
     "metadata": {},
     "output_type": "execute_result"
    }
   ],
   "source": [
    "# look at kernel after fitting\n",
    "henry_gpr.kernel_"
   ]
  },
  {
   "cell_type": "code",
   "execution_count": 8,
   "id": "ddc70f1e",
   "metadata": {},
   "outputs": [
    {
     "ename": "LoadError",
     "evalue": "PyError ($(Expr(:escape, :(ccall(#= /home/ng/.julia/packages/PyCall/BD546/src/pyfncall.jl:43 =# @pysym(:PyObject_Call), PyPtr, (PyPtr, PyPtr, PyPtr), o, pyargsptr, kw))))) <class 'ValueError'>\nValueError(\"Input contains NaN, infinity or a value too large for dtype('float64').\")\n  File \"/home/ng/.julia/conda/3/lib/python3.9/site-packages/sklearn/gaussian_process/_gpr.py\", line 193, in fit\n    X, y = self._validate_data(X, y, multi_output=True, y_numeric=True,\n  File \"/home/ng/.julia/conda/3/lib/python3.9/site-packages/sklearn/base.py\", line 433, in _validate_data\n    X, y = check_X_y(X, y, **check_params)\n  File \"/home/ng/.julia/conda/3/lib/python3.9/site-packages/sklearn/utils/validation.py\", line 63, in inner_f\n    return f(*args, **kwargs)\n  File \"/home/ng/.julia/conda/3/lib/python3.9/site-packages/sklearn/utils/validation.py\", line 880, in check_X_y\n    y = check_array(y, accept_sparse='csr', force_all_finite=True,\n  File \"/home/ng/.julia/conda/3/lib/python3.9/site-packages/sklearn/utils/validation.py\", line 63, in inner_f\n    return f(*args, **kwargs)\n  File \"/home/ng/.julia/conda/3/lib/python3.9/site-packages/sklearn/utils/validation.py\", line 720, in check_array\n    _assert_all_finite(array,\n  File \"/home/ng/.julia/conda/3/lib/python3.9/site-packages/sklearn/utils/validation.py\", line 103, in _assert_all_finite\n    raise ValueError(\n",
     "output_type": "error",
     "traceback": [
      "PyError ($(Expr(:escape, :(ccall(#= /home/ng/.julia/packages/PyCall/BD546/src/pyfncall.jl:43 =# @pysym(:PyObject_Call), PyPtr, (PyPtr, PyPtr, PyPtr), o, pyargsptr, kw))))) <class 'ValueError'>\nValueError(\"Input contains NaN, infinity or a value too large for dtype('float64').\")\n  File \"/home/ng/.julia/conda/3/lib/python3.9/site-packages/sklearn/gaussian_process/_gpr.py\", line 193, in fit\n    X, y = self._validate_data(X, y, multi_output=True, y_numeric=True,\n  File \"/home/ng/.julia/conda/3/lib/python3.9/site-packages/sklearn/base.py\", line 433, in _validate_data\n    X, y = check_X_y(X, y, **check_params)\n  File \"/home/ng/.julia/conda/3/lib/python3.9/site-packages/sklearn/utils/validation.py\", line 63, in inner_f\n    return f(*args, **kwargs)\n  File \"/home/ng/.julia/conda/3/lib/python3.9/site-packages/sklearn/utils/validation.py\", line 880, in check_X_y\n    y = check_array(y, accept_sparse='csr', force_all_finite=True,\n  File \"/home/ng/.julia/conda/3/lib/python3.9/site-packages/sklearn/utils/validation.py\", line 63, in inner_f\n    return f(*args, **kwargs)\n  File \"/home/ng/.julia/conda/3/lib/python3.9/site-packages/sklearn/utils/validation.py\", line 720, in check_array\n    _assert_all_finite(array,\n  File \"/home/ng/.julia/conda/3/lib/python3.9/site-packages/sklearn/utils/validation.py\", line 103, in _assert_all_finite\n    raise ValueError(\n",
      "",
      "Stacktrace:",
      "  [1] pyerr_check",
      "    @ ~/.julia/packages/PyCall/BD546/src/exception.jl:62 [inlined]",
      "  [2] pyerr_check",
      "    @ ~/.julia/packages/PyCall/BD546/src/exception.jl:66 [inlined]",
      "  [3] _handle_error(msg::String)",
      "    @ PyCall ~/.julia/packages/PyCall/BD546/src/exception.jl:83",
      "  [4] macro expansion",
      "    @ ~/.julia/packages/PyCall/BD546/src/exception.jl:97 [inlined]",
      "  [5] #107",
      "    @ ~/.julia/packages/PyCall/BD546/src/pyfncall.jl:43 [inlined]",
      "  [6] disable_sigint",
      "    @ ./c.jl:458 [inlined]",
      "  [7] __pycall!",
      "    @ ~/.julia/packages/PyCall/BD546/src/pyfncall.jl:42 [inlined]",
      "  [8] _pycall!(ret::PyCall.PyObject, o::PyCall.PyObject, args::Tuple{Matrix{Float64}, Vector{Float64}}, nargs::Int64, kw::Ptr{Nothing})",
      "    @ PyCall ~/.julia/packages/PyCall/BD546/src/pyfncall.jl:29",
      "  [9] _pycall!(ret::PyCall.PyObject, o::PyCall.PyObject, args::Tuple{Matrix{Float64}, Vector{Float64}}, kwargs::Base.Iterators.Pairs{Union{}, Union{}, Tuple{}, NamedTuple{(), Tuple{}}})",
      "    @ PyCall ~/.julia/packages/PyCall/BD546/src/pyfncall.jl:11",
      " [10] (::PyCall.PyObject)(::Matrix{Float64}, ::Vararg{Any, N} where N; kwargs::Base.Iterators.Pairs{Union{}, Union{}, Tuple{}, NamedTuple{(), Tuple{}}})",
      "    @ PyCall ~/.julia/packages/PyCall/BD546/src/pyfncall.jl:86",
      " [11] (::PyCall.PyObject)(::Matrix{Float64}, ::Vararg{Any, N} where N)",
      "    @ PyCall ~/.julia/packages/PyCall/BD546/src/pyfncall.jl:86",
      " [12] top-level scope",
      "    @ In[8]:1",
      " [13] eval",
      "    @ ./boot.jl:360 [inlined]",
      " [14] include_string(mapexpr::typeof(REPL.softscope), mod::Module, code::String, filename::String)",
      "    @ Base ./loading.jl:1116"
     ]
    }
   ],
   "source": [
    "gcmc_gpr.fit(gcmc_X_train, gcmc_y_train)"
   ]
  },
  {
   "cell_type": "code",
   "execution_count": 9,
   "id": "f32120cc",
   "metadata": {},
   "outputs": [
    {
     "data": {
      "text/plain": [
       "PyObject Matern(length_scale=0.25, nu=2.5)"
      ]
     },
     "execution_count": 9,
     "metadata": {},
     "output_type": "execute_result"
    }
   ],
   "source": [
    "# look at kernel after fitting\n",
    "gcmc_gpr.kernel_"
   ]
  },
  {
   "cell_type": "code",
   "execution_count": 10,
   "id": "773d698c",
   "metadata": {},
   "outputs": [],
   "source": [
    "###\n",
    "#  predictions on test data using trained GP\n",
    "###\n",
    "henry_y_pred = henry_gpr.predict(henry_X_test);\n",
    "gcmc_y_pred = gcmc_gpr.predict(gcmc_X_test);"
   ]
  },
  {
   "cell_type": "code",
   "execution_count": 11,
   "id": "951f8e74",
   "metadata": {},
   "outputs": [
    {
     "ename": "LoadError",
     "evalue": "UndefVarError: gpr not defined",
     "output_type": "error",
     "traceback": [
      "UndefVarError: gpr not defined",
      "",
      "Stacktrace:",
      " [1] top-level scope",
      "   @ In[11]:6",
      " [2] eval",
      "   @ ./boot.jl:360 [inlined]",
      " [3] include_string(mapexpr::typeof(REPL.softscope), mod::Module, code::String, filename::String)",
      "   @ Base ./loading.jl:1116"
     ]
    }
   ],
   "source": [
    "###\n",
    "#  Compute statistics about the fit\n",
    "###\n",
    "# compute RMSE, R2 on test data\n",
    "henry_rmse = sqrt(mean((henry_y_test - henry_y_pred).^2))\n",
    "henry_r2 = gpr.score(henry_X_test, henry_y_test)\n",
    "gcmc_rmse = sqrt(mean((gcmc_y_test - gcmc_y_pred).^2))\n",
    "gcmc_r2 = gpr.score(gcmc_X_test, gcmc_y_test)\n",
    "\n",
    "# permutation importance (of input features)\n",
    "henry_feature_importances = permutation_importance(henry_gpr, henry_X_test, henry_y_test)\n",
    "gcmc_feature_importances = permutation_importance(gcmc_gpr, gcmc_X_test, gcmc_y_test)"
   ]
  },
  {
   "cell_type": "markdown",
   "id": "02c324c4",
   "metadata": {},
   "source": [
    "## Parity Plot"
   ]
  },
  {
   "cell_type": "code",
   "execution_count": 12,
   "id": "f855b6a0",
   "metadata": {},
   "outputs": [
    {
     "data": {
      "image/png": "[encoded data removed]",
      "text/plain": [
       "Figure(PyObject <Figure size 640x480 with 1 Axes>)"
      ]
     },
     "metadata": {},
     "output_type": "display_data"
    }
   ],
   "source": [
    "figure()\n",
    "\n",
    "xmax = maximum(max.(henry_y_test, henry_y_pred))\n",
    "x = range(0.0, stop=xmax, length=length(henry_y_test))\n",
    "y = x\n",
    "plot(x, y, color=\"k\", linestyle=\"--\", zorder=0)\n",
    "\n",
    "scatter(henry_y_test, henry_y_pred, s=7)\n",
    "\n",
    "# plot_txt = @printf(\"R² = %0.1f\\nRMSE = %0.1f\\n%d test COFs\", r2, rmse, length(y_test))\n",
    "text(3, 15, \"R² = \\nRMSE = %0.1f\\n%d test COFs\", color=\"blue\")\n",
    "\n",
    "grid(\"on\")\n",
    "gca().set_aspect(\"equal\", adjustable=\"box\")\n",
    "\n",
    "# xlim([xmin, xmax])\n",
    "# ylim([xmin, xmax])\n",
    "\n",
    "title(\"henry selectivity parity plot\")\n",
    "xlabel(\"test values\")\n",
    "ylabel(\"predicted values\")\n",
    "\n",
    "tight_layout()\n",
    "savefig(joinpath(pwd(), \"henry_selectivity_parity_plot.png\"), dpi=600, format=\"png\")"
   ]
  },
  {
   "cell_type": "code",
   "execution_count": 13,
   "id": "0148a5e4",
   "metadata": {},
   "outputs": [
    {
     "data": {
      "image/png": "[encoded data removed]",
      "text/plain": [
       "Figure(PyObject <Figure size 640x480 with 1 Axes>)"
      ]
     },
     "metadata": {},
     "output_type": "display_data"
    }
   ],
   "source": [
    "fig = figure()\n",
    "\n",
    "xmin = minimum(min.(gcmc_y_test, gcmc_y_pred))\n",
    "# xmax = maximum(max.(gcmc_y_test, gcmc_y_pred))\n",
    "x = range(0.0, stop=xmax, length=length(gcmc_y_test))\n",
    "y = x\n",
    "plot(x, y, color=\"k\", linestyle=\"--\", zorder=0)\n",
    "\n",
    "scatter(gcmc_y_test, gcmc_y_pred, color=\"C2\", s=8)\n",
    "\n",
    "# plot_txt = @printf(\"R² = %0.1f\\nRMSE = %0.1f\\n%d test COFs\", r2, rmse, length(y_test))\n",
    "# text(3, 15, plot_txt, color=\"blue\")\n",
    "\n",
    "grid(\"on\")\n",
    "gca().set_aspect(\"equal\", adjustable=\"box\")\n",
    "# xlim([xmin, xmax])\n",
    "# ylim([xmin, xmax])\n",
    "\n",
    "title(\"gcmc selectivity parity plot\")\n",
    "xlabel(\"test values\")\n",
    "ylabel(\"predicted values\")\n",
    "\n",
    "tight_layout()\n",
    "savefig(joinpath(pwd(), \"gcmc_selectivity_parity_plot.png\"), dpi=600, format=\"png\")"
   ]
  },
  {
   "cell_type": "code",
   "execution_count": null,
   "id": "ded7dd19",
   "metadata": {},
   "outputs": [],
   "source": []
  }
 ],
 "metadata": {
  "kernelspec": {
   "display_name": "Julia 1.6.2",
   "language": "julia",
   "name": "julia-1.6"
  },
  "language_info": {
   "file_extension": ".jl",
   "mimetype": "application/julia",
   "name": "julia",
   "version": "1.6.2"
  }
 },
 "nbformat": 4,
 "nbformat_minor": 5
}
