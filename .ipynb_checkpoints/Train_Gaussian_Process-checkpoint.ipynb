{
 "cells": [
  {
   "cell_type": "markdown",
   "id": "5f9bd9f0",
   "metadata": {},
   "source": [
    "We want to use (train) a Gaussian Process for regression analysis so that we can determin (by fitting) "
   ]
  },
  {
   "cell_type": "code",
   "execution_count": 1,
   "id": "4deafbfa",
   "metadata": {},
   "outputs": [
    {
     "data": {
      "text/plain": [
       "PyObject <function permutation_importance at 0x7f80f37448c8>"
      ]
     },
     "execution_count": 1,
     "metadata": {},
     "output_type": "execute_result"
    }
   ],
   "source": [
    "using CSV\n",
    "using DataFrames\n",
    "using PyPlot\n",
    "# using StatsBase\n",
    "using Statistics\n",
    "\n",
    "\n",
    "using ScikitLearn # machine learning package\n",
    "using ScikitLearn.CrossValidation: train_test_split\n",
    "@sk_import gaussian_process : GaussianProcessRegressor\n",
    "@sk_import gaussian_process.kernels : Matern\n",
    "\n",
    "@sk_import inspection : permutation_importance\n",
    "# @sk_import metrics : confusion_matrix"
   ]
  },
  {
   "cell_type": "code",
   "execution_count": 2,
   "id": "db0eea69",
   "metadata": {
    "scrolled": false
   },
   "outputs": [
    {
     "data": {
      "text/html": [
       "<table class=\"data-frame\"><thead><tr><th></th><th>xtal</th><th>henry_coeff</th><th>err_henry_coeff</th></tr><tr><th></th><th>String</th><th>String</th><th>String</th></tr></thead><tbody><p>5 rows × 13 columns (omitted printing of 10 columns)</p><tr><th>1</th><td>05000N2_ddec.cif</td><td>[1.80109037955602, 1.651416583855947]</td><td>[1.80109037955602, 1.651416583855947]</td></tr><tr><th>2</th><td>05001N2_ddec.cif</td><td>[5.615571200847626, 5.291361399491628]</td><td>[5.615571200847626, 5.291361399491628]</td></tr><tr><th>3</th><td>07000N2_ddec.cif</td><td>[4.406490850448608, 4.244245433807373]</td><td>[4.406490850448608, 4.244245433807373]</td></tr><tr><th>4</th><td>07001N2_ddec.cif</td><td>[1.8438791513442994, 1.7389115810394287]</td><td>[1.8438791513442994, 1.7389115810394287]</td></tr><tr><th>5</th><td>07002N2_ddec.cif</td><td>[3.2536184151967364, 3.2702232837677]</td><td>[3.2536184151967364, 3.2702232837677]</td></tr></tbody></table>"
      ],
      "text/latex": [
       "\\begin{tabular}{r|cccc}\n",
       "\t& xtal & henry\\_coeff & err\\_henry\\_coeff & \\\\\n",
       "\t\\hline\n",
       "\t& String & String & String & \\\\\n",
       "\t\\hline\n",
       "\t1 & 05000N2\\_ddec.cif & [1.80109037955602, 1.651416583855947] & [1.80109037955602, 1.651416583855947] & $\\dots$ \\\\\n",
       "\t2 & 05001N2\\_ddec.cif & [5.615571200847626, 5.291361399491628] & [5.615571200847626, 5.291361399491628] & $\\dots$ \\\\\n",
       "\t3 & 07000N2\\_ddec.cif & [4.406490850448608, 4.244245433807373] & [4.406490850448608, 4.244245433807373] & $\\dots$ \\\\\n",
       "\t4 & 07001N2\\_ddec.cif & [1.8438791513442994, 1.7389115810394287] & [1.8438791513442994, 1.7389115810394287] & $\\dots$ \\\\\n",
       "\t5 & 07002N2\\_ddec.cif & [3.2536184151967364, 3.2702232837677] & [3.2536184151967364, 3.2702232837677] & $\\dots$ \\\\\n",
       "\\end{tabular}\n"
      ],
      "text/plain": [
       "\u001b[1m5×13 DataFrame\u001b[0m\n",
       "\u001b[1m Row \u001b[0m│\u001b[1m xtal             \u001b[0m\u001b[1m henry_coeff                       \u001b[0m\u001b[1m err_henry_coeff   \u001b[0m ⋯\n",
       "\u001b[1m     \u001b[0m│\u001b[90m String           \u001b[0m\u001b[90m String                            \u001b[0m\u001b[90m String            \u001b[0m ⋯\n",
       "─────┼──────────────────────────────────────────────────────────────────────────\n",
       "   1 │ 05000N2_ddec.cif  [1.80109037955602, 1.65141658385…  [1.80109037955602, ⋯\n",
       "   2 │ 05001N2_ddec.cif  [5.615571200847626, 5.2913613994…  [5.615571200847626\n",
       "   3 │ 07000N2_ddec.cif  [4.406490850448608, 4.2442454338…  [4.406490850448608\n",
       "   4 │ 07001N2_ddec.cif  [1.8438791513442994, 1.738911581…  [1.843879151344299\n",
       "   5 │ 07002N2_ddec.cif  [3.2536184151967364, 3.270223283…  [3.253618415196736 ⋯\n",
       "\u001b[36m                                                              11 columns omitted\u001b[0m"
      ]
     },
     "execution_count": 2,
     "metadata": {},
     "output_type": "execute_result"
    }
   ],
   "source": [
    "filename = joinpath(pwd(), \"descriptors/cof_descriptors.csv\")\n",
    "descriptors = CSV.read(filename, DataFrame)\n",
    "rename!(descriptors, \"crystal_name\" => \"xtal\")\n",
    "\n",
    "# for some reason these ones aren't working... LOOk INTO IT\n",
    "skip_for_now = [\"07012N3_ddec.cif\", \"16290N3_ddec.cif\", \"21111N3_ddec.cif\"]\n",
    "[delete!(descriptors, findfirst(descriptors[:, \"xtal\"] .== skip_for_now[i])) for i in 1:length(skip_for_now)]\n",
    "\n",
    "target_and_cost_data = CSV.read(joinpath(pwd(), \"target_and_cost_data.csv\"), DataFrame)\n",
    "\n",
    "target_and_cost_data[1:5, :]"
   ]
  },
  {
   "cell_type": "code",
   "execution_count": 3,
   "id": "d0b52321",
   "metadata": {},
   "outputs": [
    {
     "data": {
      "text/plain": [
       "13-element Vector{String}:\n",
       " \"xtal\"\n",
       " \"henry_coeff\"\n",
       " \"err_henry_coeff\"\n",
       " \"henry_elapsed_time\"\n",
       " \"henry_total_elapsed_time\"\n",
       " \"henry_selectivity\"\n",
       " \"err_henry_selectivity\"\n",
       " \"gcmc_uptake\"\n",
       " \"err_gcmc_uptake\"\n",
       " \"gcmc_pressure\"\n",
       " \"gcmc_elapsed_time\"\n",
       " \"gcmc_selectivity\"\n",
       " \"err_gcmc_selectivity\""
      ]
     },
     "execution_count": 3,
     "metadata": {},
     "output_type": "execute_result"
    }
   ],
   "source": [
    "names(target_and_cost_data)"
   ]
  },
  {
   "cell_type": "markdown",
   "id": "2681319b",
   "metadata": {},
   "source": [
    "Scikitlearn takes as input:\n",
    "\n",
    "- a feature matrix X, which must be n_samples by n_features\n",
    "- a target vector y, which must be n_samples long (of course)"
   ]
  },
  {
   "cell_type": "code",
   "execution_count": 4,
   "id": "ac75d69e",
   "metadata": {
    "scrolled": true
   },
   "outputs": [
    {
     "data": {
      "text/plain": [
       "609×14 Matrix{Float64}:\n",
       "  3.84928  0.2  4175.64  1049.37   0.0292303   …  0.00974344   0.0  0.0  0.0\n",
       " 19.7302   0.6  3156.96   585.477  0.0204808      0.00227564   0.0  0.0  0.0\n",
       " 26.1625   0.8  3407.23   458.054  0.0171524      0.00142936   0.0  0.0  0.0\n",
       "  7.82083  0.4  2565.59  1100.22   0.037349       0.00466863   0.0  0.0  0.0\n",
       " 14.8469   0.4  3345.75   703.114  0.0271906      0.00194218   0.0  0.0  0.0\n",
       "  9.33026  0.7  5261.66   421.68   0.0149858   …  0.00239773   0.0  0.0  0.0\n",
       "  9.94867  0.7  5452.36   383.117  0.0125929      0.00209882   0.0  0.0  0.0\n",
       " 27.193    0.9  5190.06   171.075  0.00643935     0.000525661  0.0  0.0  0.0\n",
       " 10.0414   0.6  5593.85   519.979  0.0156241      0.00175223   0.0  0.0  0.0\n",
       "  4.7838   0.2  3845.42  1143.15   0.0374755      0.00468444   0.0  0.0  0.0\n",
       "  7.51918  0.4  3597.55   988.327  0.0313415   …  0.00447735   0.0  0.0  0.0\n",
       "  9.8332   0.5  3440.67   874.7    0.0265802      0.00443003   0.0  0.0  0.0\n",
       " 13.0805   0.5  3172.89   756.001  0.0217047      0.00434094   0.0  0.0  0.0\n",
       "  ⋮                                            ⋱  ⋮                      \n",
       "  4.50341  0.4  4381.85  1052.22   0.0447887      0.0          0.0  0.0  0.0\n",
       "  8.19356  0.6  4970.28   724.344  0.0324251      0.0          0.0  0.0  0.0\n",
       " 33.8692   0.9  3512.34   334.814  0.0119202      0.0          0.0  0.0  0.0\n",
       " 24.4929   0.6  4424.18   432.859  0.0170632   …  0.0          0.0  0.0  0.0\n",
       " 23.3063   0.6  5319.46   377.387  0.0140848      0.0          0.0  0.0  0.0\n",
       " 22.3437   0.4  4252.1    436.65   0.0197639      0.0          0.0  0.0  0.0\n",
       " 25.838    0.5  3967.32   418.259  0.0189314      0.0          0.0  0.0  0.0\n",
       " 44.2216   0.9  5030.4    242.283  0.0108662      0.0          0.0  0.0  0.0\n",
       " 44.8273   0.9  4807.29   250.06   0.011215    …  0.0          0.0  0.0  0.0\n",
       " 29.8214   0.8  4961.92   370.307  0.0159392      0.0          0.0  0.0  0.0\n",
       " 28.1907   0.8  4393.93   398.719  0.0171621      0.0          0.0  0.0  0.0\n",
       " 18.4584   0.6  3908.28   553.427  0.0236387      0.0          0.0  0.0  0.0"
      ]
     },
     "execution_count": 4,
     "metadata": {},
     "output_type": "execute_result"
    }
   ],
   "source": [
    "x_cols = [name for name in names(descriptors) if name != \"xtal\"]\n",
    "n_xtals = nrow(descriptors)\n",
    "\n",
    "X = zeros(n_xtals, length(x_cols))\n",
    "y = zeros(n_xtals)\n",
    "\n",
    "for (i, row) in enumerate(eachrow(descriptors))\n",
    "#     @assert descriptors[i, \"xtal\"] == target_and_cost_data[i, :xtal] \n",
    "    \n",
    "    for (j, col_name) in enumerate(x_cols)\n",
    "        X[i, j] = row[col_name] \n",
    "    end\n",
    "    # need to normalize X\n",
    "    \n",
    "    y[i] = target_and_cost_data[i, :henry_selectivity] # Xe/Kr Selectivity\n",
    "end\n",
    "X # look at y too!"
   ]
  },
  {
   "cell_type": "code",
   "execution_count": 5,
   "id": "ced542b4",
   "metadata": {},
   "outputs": [],
   "source": [
    "X_train, X_test, y_train, y_test = train_test_split(X, y, test_size=0.25);"
   ]
  },
  {
   "cell_type": "code",
   "execution_count": 6,
   "id": "e0c77c4a",
   "metadata": {},
   "outputs": [
    {
     "data": {
      "text/plain": [
       "PyObject GaussianProcessRegressor(kernel=Matern(length_scale=0.25, nu=2.5),\n",
       "                         normalize_y=True)"
      ]
     },
     "execution_count": 6,
     "metadata": {},
     "output_type": "execute_result"
    }
   ],
   "source": [
    "# train on training data\n",
    "kernel = Matern(nu=2.5, length_scale=0.25)\n",
    "gpr = GaussianProcessRegressor(kernel=kernel, normalize_y=true)\n",
    "gpr.fit(X_train, y_train)"
   ]
  },
  {
   "cell_type": "code",
   "execution_count": 7,
   "id": "bcbe21b7",
   "metadata": {},
   "outputs": [
    {
     "data": {
      "text/plain": [
       "Dict{Any, Any} with 10 entries:\n",
       "  \"normalize_y\"                 => true\n",
       "  \"optimizer\"                   => \"fmin_l_bfgs_b\"\n",
       "  \"alpha\"                       => 1.0e-10\n",
       "  \"kernel__length_scale_bounds\" => (1.0e-5, 100000.0)\n",
       "  \"kernel\"                      => PyObject Matern(length_scale=0.25, nu=2.5)\n",
       "  \"kernel__nu\"                  => 2.5\n",
       "  \"random_state\"                => nothing\n",
       "  \"kernel__length_scale\"        => 0.25\n",
       "  \"n_restarts_optimizer\"        => 0\n",
       "  \"copy_X_train\"                => true"
      ]
     },
     "execution_count": 7,
     "metadata": {},
     "output_type": "execute_result"
    }
   ],
   "source": [
    "gpr.get_params() # why isn't length scale being optimized?"
   ]
  },
  {
   "cell_type": "code",
   "execution_count": 8,
   "id": "773d698c",
   "metadata": {},
   "outputs": [
    {
     "data": {
      "text/plain": [
       "153-element Vector{Float64}:\n",
       " 0.945288865549937\n",
       " 0.945288865549937\n",
       " 0.945288865549937\n",
       " 0.945288865549937\n",
       " 0.945288865549937\n",
       " 0.945288865549937\n",
       " 0.945288865549937\n",
       " 0.945288865549937\n",
       " 0.945288865549937\n",
       " 0.945288865549937\n",
       " 0.945288865549937\n",
       " 0.945288865549937\n",
       " 0.945288865549937\n",
       " ⋮\n",
       " 0.945288865549937\n",
       " 0.945288865549937\n",
       " 0.945288865549937\n",
       " 0.945288865549937\n",
       " 0.945288865549937\n",
       " 0.945288865549937\n",
       " 0.945288865549937\n",
       " 0.945288865549937\n",
       " 0.945288865549937\n",
       " 0.945288865549937\n",
       " 0.945288865549937\n",
       " 0.945288865549937"
      ]
     },
     "execution_count": 8,
     "metadata": {},
     "output_type": "execute_result"
    }
   ],
   "source": [
    "# get predictions on test data\n",
    "y_pred = gpr.predict(X_test)"
   ]
  },
  {
   "cell_type": "code",
   "execution_count": 9,
   "id": "951f8e74",
   "metadata": {},
   "outputs": [
    {
     "data": {
      "text/plain": [
       "-3.3089906474437214e-5"
      ]
     },
     "execution_count": 9,
     "metadata": {},
     "output_type": "execute_result"
    }
   ],
   "source": [
    "# compute RMSE, R2 on test data\n",
    "rmse = sqrt(mean((y_test - y_pred).^2))\n",
    "r2 = gpr.score(X_test, y_test)"
   ]
  },
  {
   "cell_type": "code",
   "execution_count": 10,
   "id": "d2c004b6",
   "metadata": {},
   "outputs": [
    {
     "data": {
      "text/plain": [
       "Dict{Any, Any} with 3 entries:\n",
       "  \"importances_std\"  => [3.14309e-11, 1.28509e-9, 1.4569e-7, 1.77636e-16, 5.351…\n",
       "  \"importances_mean\" => [9.0497e-9, 1.17675e-9, 3.79318e-8, 9.06541e-9, 6.77103…\n",
       "  \"importances\"      => [9.06541e-9 9.06541e-9 … 9.06541e-9 9.06541e-9; 3.40812…"
      ]
     },
     "execution_count": 10,
     "metadata": {},
     "output_type": "execute_result"
    }
   ],
   "source": [
    "# permutation importance\n",
    "feature_importances = permutation_importance(gpr, X_test, y_test)"
   ]
  },
  {
   "cell_type": "markdown",
   "id": "02c324c4",
   "metadata": {},
   "source": [
    "## Parity Plot"
   ]
  },
  {
   "cell_type": "code",
   "execution_count": 11,
   "id": "f855b6a0",
   "metadata": {},
   "outputs": [
    {
     "data": {
      "image/png": "[encoded data removed]",
      "text/plain": [
       "Figure(PyObject <Figure size 640x480 with 1 Axes>)"
      ]
     },
     "metadata": {},
     "output_type": "display_data"
    }
   ],
   "source": [
    "figure()\n",
    "\n",
    "xmax = maximum(max.(y_test, y_pred))\n",
    "x = range(0.0, stop=xmax, length=length(y_test))\n",
    "y = x\n",
    "plot(x, y, color=\"k\")\n",
    "\n",
    "scatter(y_test, y_pred)\n",
    "\n",
    "xlim([0.0, xmax])\n",
    "ylim([0.0, xmax])\n",
    "\n",
    "title(\"selectivity parity plot\")\n",
    "xlabel(\"test values\")\n",
    "ylabel(\"predicted values\")\n",
    "\n",
    "tight_layout()"
   ]
  },
  {
   "cell_type": "code",
   "execution_count": null,
   "id": "0ef3cb63",
   "metadata": {},
   "outputs": [],
   "source": []
  }
 ],
 "metadata": {
  "kernelspec": {
   "display_name": "Julia 1.6.0",
   "language": "julia",
   "name": "julia-1.6"
  },
  "language_info": {
   "file_extension": ".jl",
   "mimetype": "application/julia",
   "name": "julia",
   "version": "1.6.0"
  }
 },
 "nbformat": 4,
 "nbformat_minor": 5
}
