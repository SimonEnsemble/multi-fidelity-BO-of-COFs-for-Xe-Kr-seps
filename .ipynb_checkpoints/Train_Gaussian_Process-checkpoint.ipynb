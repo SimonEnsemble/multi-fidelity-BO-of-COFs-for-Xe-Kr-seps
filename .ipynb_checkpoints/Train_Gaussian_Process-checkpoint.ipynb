{
 "cells": [
  {
   "cell_type": "markdown",
   "id": "21e055a0",
   "metadata": {},
   "source": [
    "We want to use (train) a Gaussian Process for regression analysis so that we can determin (by fitting) "
   ]
  },
  {
   "cell_type": "code",
   "execution_count": 1,
   "id": "feabffa8",
   "metadata": {},
   "outputs": [
    {
     "data": {
      "text/plain": [
       "PyObject <function permutation_importance at 0x7effe635e8c8>"
      ]
     },
     "execution_count": 1,
     "metadata": {},
     "output_type": "execute_result"
    }
   ],
   "source": [
    "using CSV\n",
    "using DataFrames\n",
    "using PyPlot\n",
    "using StatsBase\n",
    "# using Random\n",
    "# using LaTeXStrings # for L\"$x$\" to work instead of needing to do \"\\$x\\$\"\n",
    "# using Printf\n",
    "\n",
    "using ScikitLearn # machine learning package\n",
    "using ScikitLearn.CrossValidation: train_test_split\n",
    "@sk_import gaussian_process : GaussianProcessRegressor\n",
    "@sk_import gaussian_process.kernels : Matern\n",
    "\n",
    "@sk_import inspection : permutation_importance\n",
    "# @sk_import metrics : confusion_matrix"
   ]
  },
  {
   "cell_type": "code",
   "execution_count": 2,
   "id": "a7eb1205",
   "metadata": {
    "scrolled": true
   },
   "outputs": [
    {
     "data": {
      "text/html": [
       "<table class=\"data-frame\"><thead><tr><th></th><th>crystal_name</th><th>H_Xe</th><th>err_H_Xe</th><th>time_Xe</th><th>H_Kr</th><th>err_H_Kr</th><th>time_Kr</th></tr><tr><th></th><th>String?</th><th>Float64?</th><th>Float64?</th><th>Float64?</th><th>Float64?</th><th>Float64?</th><th>Float64?</th></tr></thead><tbody><p>5 rows × 23 columns (omitted printing of 16 columns)</p><tr><th>1</th><td>05000N2_ddec.cif</td><td>0.539934</td><td>0.0579636</td><td>1.65142</td><td>0.341621</td><td>0.0214178</td><td>1.80109</td></tr><tr><th>2</th><td>05001N2_ddec.cif</td><td>1.12541</td><td>0.00422026</td><td>5.29136</td><td>0.344019</td><td>0.00165314</td><td>5.61557</td></tr><tr><th>3</th><td>07000N2_ddec.cif</td><td>1.07055</td><td>0.00303046</td><td>4.24425</td><td>0.357101</td><td>0.00161386</td><td>4.40649</td></tr><tr><th>4</th><td>07001N2_ddec.cif</td><td>10.7021</td><td>0.112161</td><td>1.73891</td><td>1.18731</td><td>0.012399</td><td>1.84388</td></tr><tr><th>5</th><td>07002N2_ddec.cif</td><td>1.35961</td><td>0.00542812</td><td>3.27022</td><td>0.377404</td><td>0.00248071</td><td>3.25362</td></tr></tbody></table>"
      ],
      "text/latex": [
       "\\begin{tabular}{r|cccccccc}\n",
       "\t& crystal\\_name & H\\_Xe & err\\_H\\_Xe & time\\_Xe & H\\_Kr & err\\_H\\_Kr & time\\_Kr & \\\\\n",
       "\t\\hline\n",
       "\t& String? & Float64? & Float64? & Float64? & Float64? & Float64? & Float64? & \\\\\n",
       "\t\\hline\n",
       "\t1 & 05000N2\\_ddec.cif & 0.539934 & 0.0579636 & 1.65142 & 0.341621 & 0.0214178 & 1.80109 & $\\dots$ \\\\\n",
       "\t2 & 05001N2\\_ddec.cif & 1.12541 & 0.00422026 & 5.29136 & 0.344019 & 0.00165314 & 5.61557 & $\\dots$ \\\\\n",
       "\t3 & 07000N2\\_ddec.cif & 1.07055 & 0.00303046 & 4.24425 & 0.357101 & 0.00161386 & 4.40649 & $\\dots$ \\\\\n",
       "\t4 & 07001N2\\_ddec.cif & 10.7021 & 0.112161 & 1.73891 & 1.18731 & 0.012399 & 1.84388 & $\\dots$ \\\\\n",
       "\t5 & 07002N2\\_ddec.cif & 1.35961 & 0.00542812 & 3.27022 & 0.377404 & 0.00248071 & 3.25362 & $\\dots$ \\\\\n",
       "\\end{tabular}\n"
      ],
      "text/plain": [
       "\u001b[1m5×23 DataFrame\u001b[0m\n",
       "\u001b[1m Row \u001b[0m│\u001b[1m crystal_name     \u001b[0m\u001b[1m H_Xe      \u001b[0m\u001b[1m err_H_Xe   \u001b[0m\u001b[1m time_Xe  \u001b[0m\u001b[1m H_Kr     \u001b[0m\u001b[1m err_H_Kr  \u001b[0m ⋯\n",
       "\u001b[1m     \u001b[0m│\u001b[90m String?          \u001b[0m\u001b[90m Float64?  \u001b[0m\u001b[90m Float64?   \u001b[0m\u001b[90m Float64? \u001b[0m\u001b[90m Float64? \u001b[0m\u001b[90m Float64?  \u001b[0m ⋯\n",
       "─────┼──────────────────────────────────────────────────────────────────────────\n",
       "   1 │ 05000N2_ddec.cif   0.539934  0.0579636    1.65142  0.341621  0.0214178  ⋯\n",
       "   2 │ 05001N2_ddec.cif   1.12541   0.00422026   5.29136  0.344019  0.00165314\n",
       "   3 │ 07000N2_ddec.cif   1.07055   0.00303046   4.24425  0.357101  0.00161386\n",
       "   4 │ 07001N2_ddec.cif  10.7021    0.112161     1.73891  1.18731   0.012399\n",
       "   5 │ 07002N2_ddec.cif   1.35961   0.00542812   3.27022  0.377404  0.00248071 ⋯\n",
       "\u001b[36m                                                              17 columns omitted\u001b[0m"
      ]
     },
     "execution_count": 2,
     "metadata": {},
     "output_type": "execute_result"
    }
   ],
   "source": [
    "filename = joinpath(pwd(), \"descriptors/cof_descriptors.csv\")\n",
    "descriptors = CSV.read(filename, DataFrame)\n",
    "\n",
    "filename = joinpath(pwd(), \"henry_calculations.csv\")\n",
    "henry_data = CSV.read(filename, DataFrame)\n",
    "\n",
    "# for some reason these ones aren't working... LOOk INTO IT\n",
    "skip_for_now = [\"07012N3_ddec.cif\", \"16290N3_ddec.cif\", \"21111N3_ddec.cif\"]\n",
    "delete!(descriptors, findfirst(descriptors[:, \"crystal_name\"] .== skip_for_now[1]))\n",
    "\n",
    "dataset = outerjoin(henry_data, descriptors, on=[\"crystal_name\"])\n",
    "first(dataset, 5)"
   ]
  },
  {
   "cell_type": "markdown",
   "id": "01d500a9",
   "metadata": {},
   "source": [
    "Scikitlearn takes as input:\n",
    "\n",
    "- a feature matrix X, which must be n_samples by n_features\n",
    "- a target vector y, which must be n_samples long (of course)"
   ]
  },
  {
   "cell_type": "code",
   "execution_count": 3,
   "id": "f7114bde",
   "metadata": {
    "scrolled": true
   },
   "outputs": [
    {
     "data": {
      "text/plain": [
       "611×14 Matrix{Float64}:\n",
       "  3.84928  0.2  4175.64  1049.37   0.0292303   …  0.00974344   0.0  0.0  0.0\n",
       " 19.7302   0.6  3156.96   585.477  0.0204808      0.00227564   0.0  0.0  0.0\n",
       " 26.1625   0.8  3407.23   458.054  0.0171524      0.00142936   0.0  0.0  0.0\n",
       "  7.82083  0.4  2565.59  1100.22   0.037349       0.00466863   0.0  0.0  0.0\n",
       " 14.8469   0.4  3345.75   703.114  0.0271906      0.00194218   0.0  0.0  0.0\n",
       "  9.33026  0.7  5261.66   421.68   0.0149858   …  0.00239773   0.0  0.0  0.0\n",
       "  9.94867  0.7  5452.36   383.117  0.0125929      0.00209882   0.0  0.0  0.0\n",
       " 27.193    0.9  5190.06   171.075  0.00643935     0.000525661  0.0  0.0  0.0\n",
       " 10.0414   0.6  5593.85   519.979  0.0156241      0.00175223   0.0  0.0  0.0\n",
       "  4.7838   0.2  3845.42  1143.15   0.0374755      0.00468444   0.0  0.0  0.0\n",
       "  7.51918  0.4  3597.55   988.327  0.0313415   …  0.00447735   0.0  0.0  0.0\n",
       "  9.8332   0.5  3440.67   874.7    0.0265802      0.00443003   0.0  0.0  0.0\n",
       " 13.0805   0.5  3172.89   756.001  0.0217047      0.00434094   0.0  0.0  0.0\n",
       "  ⋮                                            ⋱  ⋮                      \n",
       "  4.50341  0.4  4381.85  1052.22   0.0447887      0.0          0.0  0.0  0.0\n",
       "  8.19356  0.6  4970.28   724.344  0.0324251   …  0.0          0.0  0.0  0.0\n",
       " 33.8692   0.9  3512.34   334.814  0.0119202      0.0          0.0  0.0  0.0\n",
       " 24.4929   0.6  4424.18   432.859  0.0170632      0.0          0.0  0.0  0.0\n",
       " 23.3063   0.6  5319.46   377.387  0.0140848      0.0          0.0  0.0  0.0\n",
       " 22.3437   0.4  4252.1    436.65   0.0197639      0.0          0.0  0.0  0.0\n",
       " 25.838    0.5  3967.32   418.259  0.0189314   …  0.0          0.0  0.0  0.0\n",
       " 44.2216   0.9  5030.4    242.283  0.0108662      0.0          0.0  0.0  0.0\n",
       " 44.8273   0.9  4807.29   250.06   0.011215       0.0          0.0  0.0  0.0\n",
       " 29.8214   0.8  4961.92   370.307  0.0159392      0.0          0.0  0.0  0.0\n",
       " 28.1907   0.8  4393.93   398.719  0.0171621      0.0          0.0  0.0  0.0\n",
       " 18.4584   0.6  3908.28   553.427  0.0236387   …  0.0          0.0  0.0  0.0"
      ]
     },
     "execution_count": 3,
     "metadata": {},
     "output_type": "execute_result"
    }
   ],
   "source": [
    "x_cols = [name for name in names(descriptors) if name != \"crystal_name\"]\n",
    "n_xtals = nrow(dataset)\n",
    "\n",
    "X = zeros(n_xtals, length(x_cols))\n",
    "y = zeros(n_xtals)\n",
    "\n",
    "for (i, row) in enumerate(eachrow(dataset))\n",
    "    [X[i, j] = row[col] for (j, col) in enumerate(x_cols)]\n",
    "    y[i] = row[\"selectivity\"]\n",
    "end\n",
    "X # look at y too!"
   ]
  },
  {
   "cell_type": "code",
   "execution_count": 4,
   "id": "aa98beac",
   "metadata": {},
   "outputs": [],
   "source": [
    "X_train, X_test, y_train, y_test = train_test_split(X, y, test_size=0.40);"
   ]
  },
  {
   "cell_type": "code",
   "execution_count": 5,
   "id": "54104d94",
   "metadata": {},
   "outputs": [
    {
     "data": {
      "text/plain": [
       "245-element Vector{Float64}:\n",
       " 4.262743499763686\n",
       " 4.262743499763686\n",
       " 4.262743499763686\n",
       " 4.262743499763686\n",
       " 4.262743499763686\n",
       " 4.262743499763686\n",
       " 4.262743499763686\n",
       " 4.262743499763686\n",
       " 4.262743499763686\n",
       " 4.262743499763686\n",
       " 4.262743499763686\n",
       " 4.262743499763686\n",
       " 4.262743499763686\n",
       " ⋮\n",
       " 4.262743499763686\n",
       " 4.262743499763686\n",
       " 4.262743499763686\n",
       " 4.262743499763686\n",
       " 4.262743499763686\n",
       " 4.262743499763686\n",
       " 4.262743499763686\n",
       " 4.262743499763686\n",
       " 4.262743499763686\n",
       " 4.262743499763686\n",
       " 4.262743499763686\n",
       " 4.262743499763686"
      ]
     },
     "execution_count": 5,
     "metadata": {},
     "output_type": "execute_result"
    }
   ],
   "source": [
    "# train on training data\n",
    "# kernel = Matern(nu=2.5, length_scale=0.25)\n",
    "gpr = GaussianProcessRegressor(kernel=kernel, normalize_y=True)\n",
    "# gpr = GaussianProcessRegressor(normalize_y=true)\n",
    "gpr.fit(X_train, y_train)\n",
    "\n",
    "# get predictions on test data\n",
    "y_pred = gpr.predict(X_test)"
   ]
  },
  {
   "cell_type": "code",
   "execution_count": 6,
   "id": "59f96595",
   "metadata": {},
   "outputs": [
    {
     "data": {
      "text/plain": [
       "-0.00199844510568159"
      ]
     },
     "execution_count": 6,
     "metadata": {},
     "output_type": "execute_result"
    }
   ],
   "source": [
    "# compute RMSE, R2 on test data\n",
    "rmse = sqrt(mean((y_test - y_pred).^2))\n",
    "r2 = gpr.score(X_test, y_test)"
   ]
  },
  {
   "cell_type": "code",
   "execution_count": 7,
   "id": "b6b27c9a",
   "metadata": {},
   "outputs": [
    {
     "data": {
      "text/plain": [
       "Dict{Any, Any} with 3 entries:\n",
       "  \"importances_std\"  => [0.000480754, 4.94409e-6, 1.9084e-6, 3.05331e-5, 5.5508…\n",
       "  \"importances_mean\" => [0.000105564, 3.49138e-6, 0.000351289, 0.000329806, 5.2…\n",
       "  \"importances\"      => [0.000351715 0.00035573 … 0.000324072 0.00035198; 1.941…"
      ]
     },
     "execution_count": 7,
     "metadata": {},
     "output_type": "execute_result"
    }
   ],
   "source": [
    "# permutation importance\n",
    "feature_importances = permutation_importance(gpr, X_test, y_test)"
   ]
  },
  {
   "cell_type": "markdown",
   "id": "98aec868",
   "metadata": {},
   "source": [
    "## Parity Plot"
   ]
  },
  {
   "cell_type": "code",
   "execution_count": 8,
   "id": "e36293db",
   "metadata": {},
   "outputs": [
    {
     "data": {
      "image/png": "[encoded data removed]",
      "text/plain": [
       "Figure(PyObject <Figure size 640x480 with 1 Axes>)"
      ]
     },
     "metadata": {},
     "output_type": "display_data"
    }
   ],
   "source": [
    "figure()\n",
    "scatter(y_test, y_pred)\n",
    "\n",
    "xmax = maximum(max.(y_test, y_pred))\n",
    "xlim([0.0, xmax])\n",
    "ylim([0.0, xmax])\n",
    "\n",
    "title(\"selectivity parity plot\")\n",
    "xlabel(\"test values\")\n",
    "ylabel(\"predicted values\")\n",
    "\n",
    "tight_layout()"
   ]
  },
  {
   "cell_type": "code",
   "execution_count": null,
   "id": "725f070f",
   "metadata": {},
   "outputs": [],
   "source": []
  }
 ],
 "metadata": {
  "kernelspec": {
   "display_name": "Julia 1.6.0",
   "language": "julia",
   "name": "julia-1.6"
  },
  "language_info": {
   "file_extension": ".jl",
   "mimetype": "application/julia",
   "name": "julia",
   "version": "1.6.0"
  }
 },
 "nbformat": 4,
 "nbformat_minor": 5
}
