{
 "cells": [
  {
   "cell_type": "markdown",
   "id": "5f9bd9f0",
   "metadata": {},
   "source": [
    "We want to use (train) a Gaussian Process for regression analysis so that we can determin (by fitting) "
   ]
  },
  {
   "cell_type": "code",
   "execution_count": 14,
   "id": "4deafbfa",
   "metadata": {},
   "outputs": [
    {
     "name": "stderr",
     "output_type": "stream",
     "text": [
      "WARNING: redefinition of constant GaussianProcessRegressor. This may fail, cause incorrect answers, or produce other errors.\n",
      "WARNING: redefinition of constant Matern. This may fail, cause incorrect answers, or produce other errors.\n"
     ]
    },
    {
     "data": {
      "text/plain": [
       "PyObject <function permutation_importance at 0x7f19981a7c80>"
      ]
     },
     "execution_count": 14,
     "metadata": {},
     "output_type": "execute_result"
    }
   ],
   "source": [
    "using CSV\n",
    "using DataFrames\n",
    "using PyPlot\n",
    "# using StatsBase\n",
    "using Statistics\n",
    "\n",
    "\n",
    "using ScikitLearn # machine learning package\n",
    "using ScikitLearn.CrossValidation: train_test_split\n",
    "@sk_import gaussian_process : GaussianProcessRegressor\n",
    "@sk_import gaussian_process.kernels : Matern\n",
    "\n",
    "@sk_import inspection : permutation_importance\n",
    "# @sk_import metrics : confusion_matrix"
   ]
  },
  {
   "cell_type": "code",
   "execution_count": 2,
   "id": "db0eea69",
   "metadata": {
    "scrolled": false
   },
   "outputs": [
    {
     "data": {
      "text/html": [
       "<table class=\"data-frame\"><thead><tr><th></th><th>Qst (kJ/mol)</th><th>adsorbate</th><th>elapsed time (min)</th><th>err Qst (kJ/mol)</th><th>err henry coefficient [mmol/(g-bar)]</th></tr><tr><th></th><th>Float64?</th><th>String?</th><th>Float64?</th><th>Float64?</th><th>Float64?</th></tr></thead><tbody><p>5 rows × 33 columns (omitted printing of 28 columns)</p><tr><th>1</th><td>21.329</td><td>Kr</td><td>1.80109</td><td>0.131795</td><td>0.0214178</td></tr><tr><th>2</th><td>24.8751</td><td>Xe</td><td>1.65142</td><td>0.213472</td><td>0.0579636</td></tr><tr><th>3</th><td>10.6927</td><td>Kr</td><td>5.61557</td><td>0.0150828</td><td>0.00165314</td></tr><tr><th>4</th><td>14.8449</td><td>Xe</td><td>5.29136</td><td>0.00924769</td><td>0.00422026</td></tr><tr><th>5</th><td>9.9699</td><td>Kr</td><td>4.40649</td><td>0.0122787</td><td>0.00161386</td></tr></tbody></table>"
      ],
      "text/latex": [
       "\\begin{tabular}{r|cccccc}\n",
       "\t& Qst (kJ/mol) & adsorbate & elapsed time (min) & err Qst (kJ/mol) & err henry coefficient [mmol/(g-bar)] & \\\\\n",
       "\t\\hline\n",
       "\t& Float64? & String? & Float64? & Float64? & Float64? & \\\\\n",
       "\t\\hline\n",
       "\t1 & 21.329 & Kr & 1.80109 & 0.131795 & 0.0214178 & $\\dots$ \\\\\n",
       "\t2 & 24.8751 & Xe & 1.65142 & 0.213472 & 0.0579636 & $\\dots$ \\\\\n",
       "\t3 & 10.6927 & Kr & 5.61557 & 0.0150828 & 0.00165314 & $\\dots$ \\\\\n",
       "\t4 & 14.8449 & Xe & 5.29136 & 0.00924769 & 0.00422026 & $\\dots$ \\\\\n",
       "\t5 & 9.9699 & Kr & 4.40649 & 0.0122787 & 0.00161386 & $\\dots$ \\\\\n",
       "\\end{tabular}\n"
      ],
      "text/plain": [
       "\u001b[1m5×33 DataFrame\u001b[0m\n",
       "\u001b[1m Row \u001b[0m│\u001b[1m Qst (kJ/mol) \u001b[0m\u001b[1m adsorbate \u001b[0m\u001b[1m elapsed time (min) \u001b[0m\u001b[1m err Qst (kJ/mol) \u001b[0m\u001b[1m err henr\u001b[0m ⋯\n",
       "\u001b[1m     \u001b[0m│\u001b[90m Float64?     \u001b[0m\u001b[90m String?   \u001b[0m\u001b[90m Float64?           \u001b[0m\u001b[90m Float64?         \u001b[0m\u001b[90m Union{Mi\u001b[0m ⋯\n",
       "─────┼──────────────────────────────────────────────────────────────────────────\n",
       "   1 │      21.329   Kr                    1.80109        0.131795             ⋯\n",
       "   2 │      24.8751  Xe                    1.65142        0.213472\n",
       "   3 │      10.6927  Kr                    5.61557        0.0150828\n",
       "   4 │      14.8449  Xe                    5.29136        0.00924769\n",
       "   5 │       9.9699  Kr                    4.40649        0.0122787            ⋯\n",
       "\u001b[36m                                                              29 columns omitted\u001b[0m"
      ]
     },
     "execution_count": 2,
     "metadata": {},
     "output_type": "execute_result"
    }
   ],
   "source": [
    "filename = joinpath(pwd(), \"descriptors/cof_descriptors.csv\")\n",
    "descriptors = CSV.read(filename, DataFrame)\n",
    "rename!(descriptors, \"crystal_name\" => \"xtal\")\n",
    "\n",
    "filename = joinpath(pwd(), \"henry_calculations.csv\")\n",
    "henry_df = CSV.read(filename, DataFrame)\n",
    "\n",
    "filename = joinpath(pwd(), \"gcmc_calculations.csv\")\n",
    "gcmc_df = CSV.read(filename, DataFrame)\n",
    "\n",
    "# for some reason these ones aren't working... LOOk INTO IT\n",
    "skip_for_now = [\"07012N3_ddec.cif\", \"16290N3_ddec.cif\", \"21111N3_ddec.cif\"]\n",
    "[delete!(descriptors, findfirst(descriptors[:, \"xtal\"] .== skip_for_now[i])) for i in 1:length(skip_for_now)]\n",
    "\n",
    "henry_data = outerjoin(henry_df, descriptors, on=[\"xtal\"])\n",
    "gcmc_data = outerjoin(gcmc_df, descriptors, on=[\"xtal\"])\n",
    "\n",
    "first(henry_data, 5)"
   ]
  },
  {
   "cell_type": "code",
   "execution_count": 3,
   "id": "623d0adb",
   "metadata": {},
   "outputs": [
    {
     "data": {
      "text/plain": [
       "33-element Vector{String}:\n",
       " \"Qst (kJ/mol)\"\n",
       " \"adsorbate\"\n",
       " \"elapsed time (min)\"\n",
       " \"err Qst (kJ/mol)\"\n",
       " \"err henry coefficient [mmol/(g-bar)]\"\n",
       " \"err ⟨U, es⟩ (kJ/mol)\"\n",
       " \"err ⟨U, vdw⟩ (kJ/mol)\"\n",
       " \"henry coefficient [mmol/(g-bar)]\"\n",
       " \"henry coefficient [mol/(kg-Pa)]\"\n",
       " \"henry coefficient [mol/(m³-bar)]\"\n",
       " \"xtal\"\n",
       " \"⟨U, es⟩ (K)\"\n",
       " \"⟨U, es⟩ (kJ/mol)\"\n",
       " ⋮\n",
       " \"surface_area_m²g⁻¹\"\n",
       " \"crystal_density\"\n",
       " \"density_of_Carbon\"\n",
       " \"density_of_Hydrogen\"\n",
       " \"density_of_Oxygen\"\n",
       " \"density_of_Nitrogen\"\n",
       " \"density_of_Silicon\"\n",
       " \"density_of_Sulfur\"\n",
       " \"density_of_Boron\"\n",
       " \"density_of_Phosphorus\"\n",
       " \"density_of_Halogens\"\n",
       " \"density_of_Metals\""
      ]
     },
     "execution_count": 3,
     "metadata": {},
     "output_type": "execute_result"
    }
   ],
   "source": [
    "names(henry_data)"
   ]
  },
  {
   "cell_type": "markdown",
   "id": "2681319b",
   "metadata": {},
   "source": [
    "Scikitlearn takes as input:\n",
    "\n",
    "- a feature matrix X, which must be n_samples by n_features\n",
    "- a target vector y, which must be n_samples long (of course)"
   ]
  },
  {
   "cell_type": "code",
   "execution_count": 4,
   "id": "ac75d69e",
   "metadata": {
    "scrolled": true
   },
   "outputs": [
    {
     "data": {
      "text/plain": [
       "1218×14 Matrix{Float64}:\n",
       "  3.84928  0.2  4175.64  1049.37   …  0.0  0.00974344  0.0  0.0  0.0\n",
       "  3.84928  0.2  4175.64  1049.37      0.0  0.00974344  0.0  0.0  0.0\n",
       " 19.7302   0.6  3156.96   585.477     0.0  0.00227564  0.0  0.0  0.0\n",
       " 19.7302   0.6  3156.96   585.477     0.0  0.00227564  0.0  0.0  0.0\n",
       " 26.1625   0.8  3407.23   458.054     0.0  0.00142936  0.0  0.0  0.0\n",
       " 26.1625   0.8  3407.23   458.054  …  0.0  0.00142936  0.0  0.0  0.0\n",
       "  7.82083  0.4  2565.59  1100.22      0.0  0.00466863  0.0  0.0  0.0\n",
       "  7.82083  0.4  2565.59  1100.22      0.0  0.00466863  0.0  0.0  0.0\n",
       " 14.8469   0.4  3345.75   703.114     0.0  0.00194218  0.0  0.0  0.0\n",
       " 14.8469   0.4  3345.75   703.114     0.0  0.00194218  0.0  0.0  0.0\n",
       "  9.33026  0.7  5261.66   421.68   …  0.0  0.00239773  0.0  0.0  0.0\n",
       "  9.33026  0.7  5261.66   421.68      0.0  0.00239773  0.0  0.0  0.0\n",
       "  9.94867  0.7  5452.36   383.117     0.0  0.00209882  0.0  0.0  0.0\n",
       "  ⋮                                ⋱       ⋮                     \n",
       " 25.838    0.5  3967.32   418.259     0.0  0.0         0.0  0.0  0.0\n",
       " 25.838    0.5  3967.32   418.259     0.0  0.0         0.0  0.0  0.0\n",
       " 44.2216   0.9  5030.4    242.283     0.0  0.0         0.0  0.0  0.0\n",
       " 44.2216   0.9  5030.4    242.283     0.0  0.0         0.0  0.0  0.0\n",
       " 44.8273   0.9  4807.29   250.06   …  0.0  0.0         0.0  0.0  0.0\n",
       " 44.8273   0.9  4807.29   250.06      0.0  0.0         0.0  0.0  0.0\n",
       " 29.8214   0.8  4961.92   370.307     0.0  0.0         0.0  0.0  0.0\n",
       " 29.8214   0.8  4961.92   370.307     0.0  0.0         0.0  0.0  0.0\n",
       " 28.1907   0.8  4393.93   398.719     0.0  0.0         0.0  0.0  0.0\n",
       " 28.1907   0.8  4393.93   398.719  …  0.0  0.0         0.0  0.0  0.0\n",
       " 18.4584   0.6  3908.28   553.427     0.0  0.0         0.0  0.0  0.0\n",
       " 18.4584   0.6  3908.28   553.427     0.0  0.0         0.0  0.0  0.0"
      ]
     },
     "execution_count": 4,
     "metadata": {},
     "output_type": "execute_result"
    }
   ],
   "source": [
    "x_cols = [name for name in names(descriptors) if name != \"xtal\"]\n",
    "n_xtals = nrow(henry_data)\n",
    "\n",
    "X = zeros(n_xtals, length(x_cols))\n",
    "y = zeros(n_xtals)\n",
    "\n",
    "for (i, row) in enumerate(eachrow(henry_data))\n",
    "    [X[i, j] = row[col] for (j, col) in enumerate(x_cols)] # make for loop, and normalize X\n",
    "    y[i] = row[\"selectivity Xe/Kr\"] # \"selectivity \" * gas1 * \"/\" * gas2\n",
    "end\n",
    "X # look at y too!"
   ]
  },
  {
   "cell_type": "code",
   "execution_count": 5,
   "id": "ced542b4",
   "metadata": {},
   "outputs": [],
   "source": [
    "X_train, X_test, y_train, y_test = train_test_split(X, y, test_size=0.25);"
   ]
  },
  {
   "cell_type": "code",
   "execution_count": null,
   "id": "e0c77c4a",
   "metadata": {},
   "outputs": [],
   "source": [
    "# train on training data\n",
    "kernel = Matern(nu=2.5, length_scale=0.25)\n",
    "gpr = GaussianProcessRegressor(kernel=kernel, normalize_y=true)\n",
    "gpr.fit(X_train, y_train)"
   ]
  },
  {
   "cell_type": "code",
   "execution_count": 17,
   "id": "bcbe21b7",
   "metadata": {},
   "outputs": [
    {
     "data": {
      "text/plain": [
       "Dict{Any, Any} with 10 entries:\n",
       "  \"normalize_y\"                 => true\n",
       "  \"optimizer\"                   => \"fmin_l_bfgs_b\"\n",
       "  \"alpha\"                       => 1.0e-10\n",
       "  \"kernel__length_scale_bounds\" => (1.0e-5, 100000.0)\n",
       "  \"kernel\"                      => PyObject Matern(length_scale=0.25, nu=2.5)\n",
       "  \"kernel__nu\"                  => 2.5\n",
       "  \"random_state\"                => nothing\n",
       "  \"kernel__length_scale\"        => 0.25\n",
       "  \"n_restarts_optimizer\"        => 0\n",
       "  \"copy_X_train\"                => true"
      ]
     },
     "execution_count": 17,
     "metadata": {},
     "output_type": "execute_result"
    }
   ],
   "source": [
    "gpr.get_params() # why isn't length scale being optimized?"
   ]
  },
  {
   "cell_type": "code",
   "execution_count": 6,
   "id": "773d698c",
   "metadata": {},
   "outputs": [
    {
     "data": {
      "text/plain": [
       "305-element Vector{Float64}:\n",
       "  5.20695853746734\n",
       "  4.03234943202343\n",
       "  4.193811609466098\n",
       "  5.186223692561514\n",
       "  3.769305476971882\n",
       "  3.271353120534662\n",
       "  4.193811609466098\n",
       "  2.843593405587539\n",
       "  2.928468881295318\n",
       "  3.821725669423337\n",
       "  2.6078779408843697\n",
       "  4.737806165182201\n",
       "  3.50709751299966\n",
       "  ⋮\n",
       " 16.94330754652097\n",
       "  4.167939468088406\n",
       "  3.905961423015491\n",
       "  4.193811609466098\n",
       "  4.333441871534045\n",
       "  3.700025165743707\n",
       "  4.697275513309159\n",
       "  4.552426123398665\n",
       " 20.368232944677782\n",
       "  2.739949909530204\n",
       "  3.0102871976554746\n",
       "  3.2577283576312905"
      ]
     },
     "execution_count": 6,
     "metadata": {},
     "output_type": "execute_result"
    }
   ],
   "source": [
    "# get predictions on test data\n",
    "y_pred = gpr.predict(X_test)"
   ]
  },
  {
   "cell_type": "code",
   "execution_count": 12,
   "id": "951f8e74",
   "metadata": {},
   "outputs": [
    {
     "data": {
      "text/plain": [
       "0.9480667056321254"
      ]
     },
     "execution_count": 12,
     "metadata": {},
     "output_type": "execute_result"
    }
   ],
   "source": [
    "# compute RMSE, R2 on test data\n",
    "rmse = sqrt(mean((y_test - y_pred).^2))\n",
    "r2 = gpr.score(X_test, y_test)"
   ]
  },
  {
   "cell_type": "code",
   "execution_count": 15,
   "id": "d2c004b6",
   "metadata": {},
   "outputs": [
    {
     "data": {
      "text/plain": [
       "Dict{Any, Any} with 3 entries:\n",
       "  \"importances_std\"  => [0.00214818, 0.0739119, 0.000498252, 0.000489471, 4.982…\n",
       "  \"importances_mean\" => [0.942511, 0.34353, 0.947628, 0.94744, 2.4416e-5, 8.754…\n",
       "  \"importances\"      => [0.943843 0.944272 … 0.944328 0.941247; 0.475295 0.3323…"
      ]
     },
     "execution_count": 15,
     "metadata": {},
     "output_type": "execute_result"
    }
   ],
   "source": [
    "# permutation importance\n",
    "feature_importances = permutation_importance(gpr, X_test, y_test)"
   ]
  },
  {
   "cell_type": "markdown",
   "id": "02c324c4",
   "metadata": {},
   "source": [
    "## Parity Plot"
   ]
  },
  {
   "cell_type": "code",
   "execution_count": 16,
   "id": "f855b6a0",
   "metadata": {},
   "outputs": [
    {
     "data": {
      "image/png": "[encoded data removed]",
      "text/plain": [
       "Figure(PyObject <Figure size 640x480 with 1 Axes>)"
      ]
     },
     "metadata": {},
     "output_type": "display_data"
    }
   ],
   "source": [
    "figure()\n",
    "\n",
    "xmax = maximum(max.(y_test, y_pred))\n",
    "x = range(0.0, stop=xmax, length=length(y_test))\n",
    "y = x\n",
    "plot(x, y, color=\"k\")\n",
    "\n",
    "scatter(y_test, y_pred)\n",
    "\n",
    "xlim([0.0, xmax])\n",
    "ylim([0.0, xmax])\n",
    "\n",
    "title(\"selectivity parity plot\")\n",
    "xlabel(\"test values\")\n",
    "ylabel(\"predicted values\")\n",
    "\n",
    "tight_layout()"
   ]
  },
  {
   "cell_type": "code",
   "execution_count": null,
   "id": "0ef3cb63",
   "metadata": {},
   "outputs": [],
   "source": []
  }
 ],
 "metadata": {
  "kernelspec": {
   "display_name": "Julia 1.6.0",
   "language": "julia",
   "name": "julia-1.6"
  },
  "language_info": {
   "file_extension": ".jl",
   "mimetype": "application/julia",
   "name": "julia",
   "version": "1.6.0"
  }
 },
 "nbformat": 4,
 "nbformat_minor": 5
}
