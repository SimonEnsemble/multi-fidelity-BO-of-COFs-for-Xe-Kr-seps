{
 "cells": [
  {
   "cell_type": "code",
   "execution_count": 1,
   "id": "e40f0ba3",
   "metadata": {},
   "outputs": [
    {
     "data": {
      "text/plain": [
       "<Figure size 432x288 with 0 Axes>"
      ]
     },
     "metadata": {},
     "output_type": "display_data"
    }
   ],
   "source": [
    "import numpy as np \n",
    "import matplotlib.pyplot as plt\n",
    "import matplotlib.cm as cm\n",
    "import pickle # for .pkl files\n",
    "import h5py   # for .jld2 files\n",
    "import os\n",
    "import torch\n",
    "from sklearn.decomposition import PCA\n",
    "import seaborn as sns\n",
    "from mpl_toolkits.axes_grid1 import ImageGrid\n",
    "\n",
    "\n",
    "sns.set(style='ticks', palette='Set2', font_scale=1.5, rc={\"lines.linewidth\": 3})\n",
    "sns.despine()\n",
    "# plt.rcParams.update({'font.size': 16})"
   ]
  },
  {
   "cell_type": "code",
   "execution_count": 2,
   "id": "f017ef57",
   "metadata": {},
   "outputs": [],
   "source": [
    "save_plots = False"
   ]
  },
  {
   "cell_type": "markdown",
   "id": "dabf8f4b",
   "metadata": {},
   "source": [
    "## Load Data"
   ]
  },
  {
   "cell_type": "code",
   "execution_count": 3,
   "id": "4ae04bfa",
   "metadata": {},
   "outputs": [],
   "source": [
    "###\n",
    "#  features and molecular simulation data\n",
    "###\n",
    "file = h5py.File(\"targets_and_normalized_features.jld2\", \"r\")\n",
    "# feature matrix\n",
    "X = torch.from_numpy(np.transpose(file[\"X\"][:])) # ... Needs to be tensor?\n",
    "# simulation data\n",
    "y = [np.transpose(file[\"henry_y\"][:]), \n",
    "     np.transpose(file[\"gcmc_y\"][:])]\n",
    "\n",
    "# total number of COFs in data set\n",
    "nb_COFs = X.shape[0]"
   ]
  },
  {
   "cell_type": "code",
   "execution_count": 4,
   "id": "7b6094f3",
   "metadata": {},
   "outputs": [],
   "source": [
    "###\n",
    "#  bayesian optimization data\n",
    "###\n",
    "\n",
    "# COF IDs used for initialization\n",
    "init_cof_ids_file = pickle.load(open('search_results/initializing_cof_ids.pkl', 'rb'))\n",
    "init_cof_ids = init_cof_ids_file['init_cof_ids']\n",
    "\n",
    "nb_COFs_initialization = len(init_cof_ids[0])\n",
    "nb_runs = len(init_cof_ids)\n",
    "\n",
    "# dict_keys(['ids_acquired', 'y_rs_max_mu', 'y_rs_max_sig_bot', 'y_rs_max_sig_top', 'cost_acquired'])\n",
    "random_search_res = pickle.load(open('search_results/random_search_results.pkl', 'rb'))"
   ]
  },
  {
   "cell_type": "code",
   "execution_count": 5,
   "id": "babefad3",
   "metadata": {},
   "outputs": [],
   "source": [
    "def get_bo_res(which_results: str, nb_run: int):\n",
    "    assert \"results\" in which_results\n",
    "    # initialize dict to store results from all runs\n",
    "#     bo_res = dict() #[dict() for i in range(nb_run)]\n",
    "    bo_res = pickle.load(open('search_results/{}/{}_run_{}.pkl'.format(which_results, which_results, 0), 'rb'))\n",
    "    for key in bo_res.keys():\n",
    "        bo_res[key] = []\n",
    "    \n",
    "    print(bo_res)\n",
    "    \n",
    "    # iterate though the runs\n",
    "    for n in range(nb_run):\n",
    "        # get results dict for specified run\n",
    "        bo_res_file = pickle.load(\n",
    "                        open('search_results/{}/{}_run_{}.pkl'.format(which_results, which_results, n), 'rb'))\n",
    "        \n",
    "\n",
    "        for key in bo_res_file.keys():\n",
    "            if len(bo_res) == 0:\n",
    "                bo_res[key] = [bo_res_file[key]]\n",
    "            else:\n",
    "                key_res = bo_res_file[key]\n",
    "                bo_res[key].append(key_res)\n",
    "            \n",
    "    return bo_res"
   ]
  },
  {
   "cell_type": "code",
   "execution_count": null,
   "id": "6fa3076d",
   "metadata": {},
   "outputs": [],
   "source": [
    "# dict_keys(['acquired_set', 'cost_acquired', \n",
    "#            'nb_COFs_initialization', 'BO_iter_top_cof_acquired'])\n",
    "mfbo_res = get_bo_res('mfbo_results', nb_runs)"
   ]
  },
  {
   "cell_type": "code",
   "execution_count": null,
   "id": "e492d4b9",
   "metadata": {},
   "outputs": [],
   "source": [
    "# dict_keys(['ids_acquired', 'y_acquired', 'cost_acquired', \n",
    "#            'nb_COFs_initialization', 'BO_iter_top_cof_acquired'])\n",
    "sfbo_res = get_bo_res('sfbo_results', nb_runs)"
   ]
  },
  {
   "cell_type": "code",
   "execution_count": 6,
   "id": "06633787",
   "metadata": {},
   "outputs": [
    {
     "name": "stdout",
     "output_type": "stream",
     "text": [
      "{'acquired_set': [], 'cost_acquired': [], 'nb_COFs_initialization': [], 'BO_iter_top_cof_acquired': []}\n",
      "{'ids_acquired': [], 'y_acquired': [], 'cost_acquired': [], 'nb_COFs_initialization': [], 'BO_iter_top_cof_acquired': []}\n"
     ]
    },
    {
     "ename": "KeyError",
     "evalue": "0",
     "output_type": "error",
     "traceback": [
      "\u001b[0;31m---------------------------------------------------------------------------\u001b[0m",
      "\u001b[0;31mKeyError\u001b[0m                                  Traceback (most recent call last)",
      "\u001b[0;32m/tmp/ipykernel_913314/2507836643.py\u001b[0m in \u001b[0;36m<module>\u001b[0;34m\u001b[0m\n\u001b[1;32m      8\u001b[0m \u001b[0;34m\u001b[0m\u001b[0m\n\u001b[1;32m      9\u001b[0m \u001b[0;34m\u001b[0m\u001b[0m\n\u001b[0;32m---> 10\u001b[0;31m \u001b[0mnb_iters\u001b[0m \u001b[0;34m=\u001b[0m \u001b[0mlen\u001b[0m\u001b[0;34m(\u001b[0m\u001b[0mmfbo_res\u001b[0m\u001b[0;34m[\u001b[0m\u001b[0;36m0\u001b[0m\u001b[0;34m]\u001b[0m\u001b[0;34m[\u001b[0m\u001b[0;34m'acquired_set'\u001b[0m\u001b[0;34m]\u001b[0m\u001b[0;34m)\u001b[0m\u001b[0;34m\u001b[0m\u001b[0;34m\u001b[0m\u001b[0m\n\u001b[0m\u001b[1;32m     11\u001b[0m \u001b[0;34m\u001b[0m\u001b[0m\n\u001b[1;32m     12\u001b[0m \u001b[0;34m\u001b[0m\u001b[0m\n",
      "\u001b[0;31mKeyError\u001b[0m: 0"
     ]
    }
   ],
   "source": [
    "nb_iters = len(mfbo_res[0]['acquired_set'])\n",
    "\n",
    "\n",
    "assert len(sfbo_res[0]['ids_acquired']) == nb_iters\n",
    "assert len(random_search_res['ids_acquired'][0]) == nb_iters\n",
    "assert sfbo_res[0]['nb_COFs_initialization'] == nb_COFs_initialization"
   ]
  },
  {
   "cell_type": "markdown",
   "id": "bba26341",
   "metadata": {},
   "source": [
    "## Search Efficientcy Curves"
   ]
  },
  {
   "cell_type": "code",
   "execution_count": null,
   "id": "c034e493",
   "metadata": {},
   "outputs": [],
   "source": [
    "# accumulated cost lags the index of the cost_acquired (iteration COF is identified) by 1\n",
    "def accumulated_cost(cost_acquired):\n",
    "    accumulated_cost = np.zeros(len(cost_acquired))\n",
    "    accumulated_cost[0] = cost_acquired[0]\n",
    "    for i in range(1, len(cost_acquired)):\n",
    "        accumulated_cost[i] = accumulated_cost[i-1] + cost_acquired[i]\n",
    "    return accumulated_cost"
   ]
  },
  {
   "cell_type": "code",
   "execution_count": null,
   "id": "caf51068-6720-4da2-a215-5cdf01775b76",
   "metadata": {},
   "outputs": [],
   "source": [
    "def y_max_acquired(res, search_type):\n",
    "    if search_type == \"SFBO\":\n",
    "        y_acquired = res['y_acquired']\n",
    "        nb_iters = len(y_acquired) # =50\n",
    "        return [max(y_acquired[:i+1]) for i in range(nb_iters)]      \n",
    "    \n",
    "    if search_type == \"MFBO\":\n",
    "        nb_iters = len(res['acquired_set'])\n",
    "        y_maxes = np.zeros(nb_iters)\n",
    "        # we want the maximum y value (only high-fidelity) up to a given iteration\n",
    "        y_max = 0.0 # update this each iteration.\n",
    "        for i, (f_id, cof_id) in enumerate(res['acquired_set']):\n",
    "            y_acq_this_iter = y[f_id][cof_id]\n",
    "            # i is iteration index\n",
    "            if f_id == 1 and y_acq_this_iter > y_max:\n",
    "                y_max = y_acq_this_iter # over-write max\n",
    "            y_maxes[i] = y_max \n",
    "        return y_maxes"
   ]
  },
  {
   "cell_type": "code",
   "execution_count": null,
   "id": "22a7349e",
   "metadata": {},
   "outputs": [],
   "source": [
    "def calc_fidelity_fraction(res):\n",
    "    nb_iters = len(res['acquired_set'])\n",
    "    fid_frac = np.zeros(nb_iters)\n",
    "    for i in range(1, nb_iters):\n",
    "        fid_frac[i] = sum(res['acquired_set'][:, 0][:i+1]) / (i+1)\n",
    "    return fid_frac"
   ]
  },
  {
   "cell_type": "code",
   "execution_count": null,
   "id": "69a6b260",
   "metadata": {},
   "outputs": [],
   "source": [
    "###\n",
    "#  maybe just turn this into a plotting function that we can call in a loop\n",
    "###"
   ]
  },
  {
   "cell_type": "code",
   "execution_count": null,
   "id": "f1aab2cf",
   "metadata": {
    "scrolled": false
   },
   "outputs": [],
   "source": [
    "fig, ax = plt.subplots(3, 1, sharex=True, figsize=(8, 8))  \n",
    "markers = dict({0 : '+', 1: 'x'})\n",
    "\n",
    "for i, res, search_type in zip([0, 1], [sfbo_res, mfbo_res], [\"SFBO\", \"MFBO\"]):\n",
    "    # color\n",
    "    color = \"C{}\".format(i)\n",
    "    \n",
    "    # important indexes\n",
    "    print(search_type)\n",
    "    iter_start = nb_COFs_initialization * (i + 1) -1 # i + 1 is convenient hack :)\n",
    "    print(iter_start)\n",
    "    iter_top_cof_acquired = res['BO_iter_top_cof_acquired'] # SFBO: 21, MFBO: 46\n",
    "    print(iter_top_cof_acquired)\n",
    "    \n",
    "    iter_range = np.array(range(nb_iters)) # range(iter_start, nb_iters)\n",
    "    \n",
    "    ###\n",
    "    #  accumulated cost\n",
    "    #     - index lags by 1\n",
    "    ###\n",
    "    acc_cost = accumulated_cost(res['cost_acquired']) / 60 # convert to hours\n",
    "    ax[1].plot(iter_range[iter_start:iter_top_cof_acquired+1], \n",
    "               acc_cost[iter_start:iter_top_cof_acquired+1], \n",
    "               label=search_type, \n",
    "               color=color)\n",
    "    \n",
    "    ax[1].scatter([iter_start], [acc_cost[iter_start]], color=color, marker=\"o\")\n",
    "    ax[1].scatter([iter_top_cof_acquired], [acc_cost[iter_top_cof_acquired]], \n",
    "                  color=color, marker=\"o\")\n",
    "    \n",
    "    ###\n",
    "    #  search efficiency curves\n",
    "    ###\n",
    "    y_max_at_iter = y_max_acquired(res, search_type)\n",
    "    ax[0].plot(iter_range[iter_start:iter_top_cof_acquired+1], \n",
    "               y_max_at_iter[iter_start:iter_top_cof_acquired+1], \n",
    "#                label=search_type, \n",
    "               color=color)\n",
    "    if search_type == \"SFBO\":\n",
    "        ax[0].scatter([iter_top_cof_acquired], y_max_at_iter[iter_top_cof_acquired+1], \n",
    "                      color=color, marker=\"o\", zorder=100)\n",
    "    if search_type == \"MFBO\":\n",
    "        fidelities = mfbo_res['acquired_set'][:, 0][iter_start:iter_top_cof_acquired+1] == 1\n",
    "        for f_id in [1]:\n",
    "            ax[0].scatter(iter_range[iter_start:iter_top_cof_acquired+1][fidelities], \n",
    "                          y_max_at_iter[iter_start:iter_top_cof_acquired+1][fidelities], \n",
    "                          color=color, marker=markers[f_id], zorder=100)\n",
    "            ax[1].scatter(iter_range[iter_start:iter_top_cof_acquired+1][fidelities], \n",
    "                          acc_cost[iter_start:iter_top_cof_acquired+1][fidelities], \n",
    "                          color=color, marker=markers[f_id], zorder=100)\n",
    "    ax[0].scatter([iter_start], [y_max_at_iter[iter_start]], color=color, marker=\"o\")\n",
    "    \n",
    "    ###\n",
    "    #  fidelity fraction\n",
    "    ###\n",
    "    if search_type == \"MFBO\":\n",
    "        fid_frac = calc_fidelity_fraction(res)\n",
    "        ax[2].plot(iter_range[iter_start:iter_top_cof_acquired+1],\n",
    "                   fid_frac[iter_start:iter_top_cof_acquired+1], \n",
    "                   color=color)\n",
    "\n",
    "\n",
    "###\n",
    "#  random search (SFBO, l=1)\n",
    "###\n",
    "ax[0].plot(range(len(random_search_res['y_rs_max_mu'])), random_search_res['y_rs_max_mu'], \n",
    "           label=\"random search\", lw=2, color=\"C2\")\n",
    "\n",
    "ax[0].fill_between(range(len(random_search_res['y_rs_max_mu'])), \n",
    "                   random_search_res['y_rs_max_mu'] - random_search_res['y_rs_max_sig_bot'], \n",
    "                   random_search_res['y_rs_max_mu'] + random_search_res['y_rs_max_sig_top'], \n",
    "                   alpha=0.15, color=\"C2\")\n",
    "\n",
    "###  \n",
    "#  global maximum\n",
    "###\n",
    "ax[0].axhline(y=max(y[1]), \n",
    "#               label=r\"$\\max_{\\mathbf{x} \\in \\mathcal{X}}\\, S^{(\\ell=1)}(\\mathbf{x})$\", \n",
    "              color=\"gray\", ls=\"--\", lw=1.5)\n",
    "ax[0].text(1.0, max(y[1]) + 2.5, \n",
    "           r\"$\\max_{\\mathbf{x} \\in \\mathcal{X}}\\, S^{(\\ell=1)}(\\mathbf{x})$\", \n",
    "           color=\"gray\")\n",
    "\n",
    "###\n",
    "#  axis settings\n",
    "###\n",
    "ax[0].set_xlim(xmin=0, xmax=nb_iters)\n",
    "ax[0].set_ylim(ymin=0)\n",
    "ax[0].set_ylabel(r'$\\max_{\\mathbf{x} \\in \\mathcal{A}}\\, S^{(\\ell=1)}(\\mathbf{x})$')\n",
    "ax[0].legend(loc='lower right')\n",
    "\n",
    "ax[1].set_ylim(ymin=0)\n",
    "ax[1].set_ylabel(\"accumulated cost [hr]\")\n",
    "ax[1].legend(loc=(1.0, 0.75))\n",
    "\n",
    "ax[2].set_xlabel(\"# acquired COFs\")\n",
    "ax[2].set_ylabel(\"fidelity frac.\")\n",
    "\n",
    "plt.tight_layout()\n",
    "sns.despine()\n",
    "if save_plots:\n",
    "    plt.savefig(\"./figs/Cost_and_Search_Efficiency.pdf\", format=\"pdf\")\n",
    "plt.show()"
   ]
  },
  {
   "cell_type": "code",
   "execution_count": null,
   "id": "df0afd0c",
   "metadata": {},
   "outputs": [],
   "source": []
  },
  {
   "cell_type": "code",
   "execution_count": null,
   "id": "86181d38",
   "metadata": {},
   "outputs": [],
   "source": [
    "###\n",
    "#  distribution of stopping iterations\n",
    "#  -> I want to plot a hustogram of the iteration on which the top COF was acquired\n",
    "###"
   ]
  },
  {
   "cell_type": "code",
   "execution_count": null,
   "id": "37860893",
   "metadata": {},
   "outputs": [],
   "source": []
  },
  {
   "cell_type": "markdown",
   "id": "04c7a88e",
   "metadata": {},
   "source": [
    "## Pirinciple Component Analysis"
   ]
  },
  {
   "cell_type": "code",
   "execution_count": null,
   "id": "e0d271a3",
   "metadata": {},
   "outputs": [],
   "source": [
    "pca = PCA(n_components=2)\n",
    "pca.fit(X)\n",
    "X_2D = pca.transform(X)"
   ]
  },
  {
   "cell_type": "code",
   "execution_count": null,
   "id": "c9525a4f",
   "metadata": {},
   "outputs": [],
   "source": [
    "###\n",
    "#  test point\n",
    "###\n",
    "a = torch.from_numpy(np.array([X[:, i].mean() for i in range(X.size()[1])]))\n",
    "X_center = pca.transform(a.reshape(1, -1))\n",
    "X_center"
   ]
  },
  {
   "cell_type": "code",
   "execution_count": null,
   "id": "9dad16c6",
   "metadata": {},
   "outputs": [],
   "source": [
    "cmap_name = cm.summer_r # sequential colormaps: spring, summer, autumn, viridis, Wistia, hot, copper\n",
    "\n",
    "fig = plt.figure()\n",
    "#low dimensional (PCA) visualization of the entire dataset\n",
    "plt.scatter(X_2D[:, 0], X_2D[:, 1], c=y[1], cmap=cmap_name, s=10, alpha=0.6)\n",
    "\n",
    "plt.xlabel('PC 1')\n",
    "plt.ylabel('PC 2')\n",
    "cb = plt.colorbar(fraction=0.03, pad=0.04)\n",
    "cb.set_label(label=\"$S^{(\\ell=1)}_{Xe/Kr}$\")\n",
    "plt.xticks()\n",
    "plt.yticks()\n",
    "\n",
    "plt.gca().set_aspect('equal', 'box')\n",
    "plt.tight_layout()\n",
    "if save_plots:\n",
    "    plt.savefig(\"./figs/PCA_feature_space_colored_by_GCMC_Selectivity.pdf\", dpi=600, format=\"pdf\")\n",
    "plt.show()"
   ]
  },
  {
   "cell_type": "code",
   "execution_count": null,
   "id": "dd8a228c",
   "metadata": {},
   "outputs": [],
   "source": [
    "nb_acquired = [2*nb_COFs_initialization, 30, 60]\n",
    "\n",
    "# set up figure and image grid\n",
    "fig = plt.figure(figsize=[3*6.4 + 0.5, 4.8])\n",
    "\n",
    "grid = ImageGrid(fig, 111,          # as in plt.subplot(111)\n",
    "                 nrows_ncols=(1, 3),\n",
    "                 axes_pad=0.3,\n",
    "                 share_all=True,\n",
    "                 cbar_location=\"right\",\n",
    "                 cbar_mode=\"single\",\n",
    "                 cbar_size=\"7%\",\n",
    "                 cbar_pad=0.15,\n",
    "                 )\n",
    "\n",
    "# add data to image grid\n",
    "for (i, nb), ax in zip(enumerate(nb_acquired), grid):\n",
    "    acq = mfbo_res['acquired_set'][:nb]\n",
    "    lf_acq = acq[acq[:, 0] == 0, :] # low-fidelity\n",
    "    hf_acq = acq[acq[:, 0] == 1, :] # high-fidelity\n",
    "    assert len(lf_acq) + len(hf_acq) == len(acq)\n",
    "    ###\n",
    "    #  plot PCA for all COFs\n",
    "    ###\n",
    "    pca_base = ax.scatter(X_2D[:, 0], X_2D[:, 1], c=y[1], cmap=cmap_name,\n",
    "                             facecolor='none', s=15, alpha=0.8) \n",
    "    \n",
    "    ### \n",
    "    # plot center of feature space and transformed point\n",
    "    ###\n",
    "    if i == 0:\n",
    "        ax.scatter(X_center[:, 0], X_center[:, 1], color=\"b\", marker=\"*\", s=30)\n",
    "        \n",
    "    ###\n",
    "    #  indicate acquired points at the given iteration\n",
    "    ###\n",
    "    # low-fidelity\n",
    "    ax.scatter(X_2D[lf_acq[:nb, 1], 0], X_2D[lf_acq[:nb, 1], 1], \n",
    "                  label=\"$\\ell=0$\",\n",
    "                  color='k', marker='x', s=35, lw=0.5) \n",
    "    # high-fidelity\n",
    "    ax.scatter(X_2D[hf_acq[:nb, 1], 0], X_2D[hf_acq[:nb, 1], 1], \n",
    "               label=\"$\\ell=1$\",\n",
    "               color='r', marker='+', s=35, lw=0.5, zorder=1)\n",
    "    \n",
    "\n",
    "    \n",
    "    # subplot titles\n",
    "    if i == 0:\n",
    "        ax.set_title('(initialization)\\n{} acquired COFs'.format(nb_acquired[i]))\n",
    "    else:\n",
    "        ax.set_title('{} acquired COFs'.format(nb_acquired[i]))\n",
    "        \n",
    "    ax.tick_params(axis='x')\n",
    "    ax.set_aspect('equal', 'box')\n",
    "\n",
    "###\n",
    "#  colorbar\n",
    "###\n",
    "cb = ax.cax.colorbar(pca_base)\n",
    "cb.set_label(label=\"$S^{(\\ell=1)}_{Xe/Kr}$\")\n",
    "\n",
    "###\n",
    "#  axis commands\n",
    "###\n",
    "grid[0].legend()\n",
    "grid[0].set_ylabel('PC 2')\n",
    "fig.text(0.52, -0.02, 'PC 1', ha='center')\n",
    "\n",
    "if save_plots:\n",
    "    plt.savefig(\"./figs/MFBO_PCA_multiple_iterations.pdf\", bbox_inches=\"tight\", dpi=600, format=\"pdf\")\n",
    "plt.show()"
   ]
  },
  {
   "cell_type": "code",
   "execution_count": null,
   "id": "974fdd48",
   "metadata": {},
   "outputs": [],
   "source": []
  }
 ],
 "metadata": {
  "kernelspec": {
   "display_name": "Python 3 (ipykernel)",
   "language": "python",
   "name": "python3"
  },
  "language_info": {
   "codemirror_mode": {
    "name": "ipython",
    "version": 3
   },
   "file_extension": ".py",
   "mimetype": "text/x-python",
   "name": "python",
   "nbconvert_exporter": "python",
   "pygments_lexer": "ipython3",
   "version": "3.8.10"
  }
 },
 "nbformat": 4,
 "nbformat_minor": 5
}
