{
 "cells": [
  {
   "cell_type": "markdown",
   "id": "62b77f24",
   "metadata": {},
   "source": [
    "Plots that need to be made:\n",
    "1. search efficiency and cost as a function of itterations\n",
    "    - put SFBO, MFBO, and random search on the same plot\n",
    "2. MFBO PCA\n",
    "\n",
    "\n",
    "For these plots I will need the feature data, selectivities, costs, and search results. \n",
    "In the search results, I will need the acquired COF ID and fidelity."
   ]
  },
  {
   "cell_type": "code",
   "execution_count": 1,
   "id": "b22dd1b6",
   "metadata": {},
   "outputs": [],
   "source": [
    "import numpy as np \n",
    "import matplotlib.pyplot as plt\n",
    "import matplotlib.cm as cm\n",
    "import pickle # for .pkl files\n",
    "import h5py   # for .jld2 files\n",
    "import os\n",
    "# import pandas as pd\n",
    "import torch\n",
    "from sklearn.decomposition import PCA\n",
    "from sklearn.utils import shuffle\n",
    "\n",
    "plt.rcParams.update({'font.size': 16})"
   ]
  },
  {
   "cell_type": "markdown",
   "id": "dabf8f4b",
   "metadata": {},
   "source": [
    "## Load Data"
   ]
  },
  {
   "cell_type": "code",
   "execution_count": 2,
   "id": "98eee024",
   "metadata": {},
   "outputs": [],
   "source": [
    "###\n",
    "#  Features and Molecular Simulation Data\n",
    "###\n",
    "file = h5py.File(\"targets_and_normalized_features.jld2\", \"r\")\n",
    "# feature matrix\n",
    "X = torch.from_numpy(np.transpose(file[\"X\"][:])) # ... Needs to be tensor?\n",
    "# simulation data\n",
    "y = [np.transpose(file[\"henry_y\"][:]), \n",
    "     np.transpose(file[\"gcmc_y\"][:])]\n",
    "\n",
    "####### do I even need to import the costs since they are included in the dictionaries?\n",
    "# I gues it is helpful to have all of the costs and not jus the once for the acquired COFs\n",
    "# ... maybe.\n",
    "# associated simulation costs\n",
    "cost = [np.transpose(file[\"henry_total_elapsed_time\"][:]), \n",
    "        np.transpose(file[\"gcmc_elapsed_time\"][:])]\n",
    "\n",
    "\n",
    "\n",
    "# total number of COFs in data set\n",
    "nb_COFs = X.shape[0]"
   ]
  },
  {
   "cell_type": "code",
   "execution_count": 3,
   "id": "261063f4",
   "metadata": {},
   "outputs": [],
   "source": [
    "###\n",
    "#  Bayesian Optimization Data\n",
    "###\n",
    "# dict_keys(['acquired_set', 'cost_acquired'])\n",
    "mfbo_res = pickle.load(open('search_results/mfbo_results_with_EI.pkl', 'rb'))\n",
    "\n",
    "# dict_keys(['ids_acquired', 'y_acquired', 'cost_acquired'])\n",
    "sfbo_res = pickle.load(open('search_results/sfbo_results_with_EI.pkl', 'rb'))\n",
    "\n",
    "# dict_keys(['ids_acquired', 'y_rs_max_mu', 'y_rs_max_sig_bot', 'y_rs_max_sig_top'])\n",
    "random_search_res = pickle.load(open('search_results/random_search_results.pkl', 'rb'))"
   ]
  },
  {
   "cell_type": "code",
   "execution_count": 4,
   "id": "dcf3821d",
   "metadata": {},
   "outputs": [],
   "source": [
    "# check that BO runs are the same length\n",
    "assert mfbo_res['acquired_set'].size()[0] == len(sfbo_res['ids_acquired'])"
   ]
  },
  {
   "cell_type": "markdown",
   "id": "bba26341",
   "metadata": {},
   "source": [
    "## Search Efficientcy Curves"
   ]
  },
  {
   "cell_type": "code",
   "execution_count": 5,
   "id": "eccf9fe9",
   "metadata": {},
   "outputs": [
    {
     "data": {
      "text/plain": [
       "range(0, 100)"
      ]
     },
     "execution_count": 5,
     "metadata": {},
     "output_type": "execute_result"
    }
   ],
   "source": [
    "nb_COFs_initialization = 3\n",
    "iterations = range(len(sfbo_res['ids_acquired'])) \n",
    "iterations"
   ]
  },
  {
   "cell_type": "code",
   "execution_count": 6,
   "id": "c034e493",
   "metadata": {},
   "outputs": [],
   "source": [
    "def accumulated_cost(cost_acquired):\n",
    "    accumulated_cost = np.zeros(len(cost_acquired))\n",
    "    c = 0\n",
    "    for i in range(len(cost_acquired)):\n",
    "        c += cost_acquired[i]\n",
    "        # accumulated cost\n",
    "        accumulated_cost[i] = c\n",
    "        \n",
    "    return accumulated_cost"
   ]
  },
  {
   "cell_type": "code",
   "execution_count": 7,
   "id": "49cd8bce",
   "metadata": {},
   "outputs": [
    {
     "data": {
      "text/plain": [
       "tensor([[  0,  25],\n",
       "        [  1,  25],\n",
       "        [  0, 494],\n",
       "        [  1, 494],\n",
       "        [  0, 523],\n",
       "        [  1, 523]])"
      ]
     },
     "execution_count": 7,
     "metadata": {},
     "output_type": "execute_result"
    }
   ],
   "source": [
    "mfbo_res['acquired_set'][:6]"
   ]
  },
  {
   "cell_type": "code",
   "execution_count": 21,
   "id": "ab314c89",
   "metadata": {},
   "outputs": [
    {
     "data": {
      "text/plain": [
       "tensor([ 3.8313,  1.8507, 14.0175, 15.7661, 12.3506,  6.8957,  2.9035,  4.3554,\n",
       "         1.6962,  1.0581,  0.0940,  4.5762,  4.2687,  4.2931,  6.9930,  2.9021,\n",
       "        11.7285,  0.7202, 10.6691,  5.2524,  6.2627, 18.5345, 18.3960,  9.1384,\n",
       "        18.1710, 14.9923, 12.4940,  6.2482,  3.7308,  6.9058, 16.8510,  5.6353,\n",
       "         1.0959,  3.1851,  7.0477,  6.7175,  9.2798,  6.2371,  3.7551,  5.2722,\n",
       "         3.2030,  3.2699,  6.2316,  6.8810,  2.6149,  5.5845,  3.6542,  6.4738,\n",
       "         3.7307,  3.4705,  0.0228,  6.6776,  9.6504,  1.8097,  2.8001,  3.9639,\n",
       "         4.8875,  4.1649,  3.7609,  3.8803,  5.5103,  3.8098,  4.2125,  3.2009,\n",
       "         3.4956, 10.6860,  2.9121,  4.8710,  2.3682,  3.8905,  4.8020,  2.6089,\n",
       "         4.0275,  3.8790,  3.5010,  3.0984,  4.3849, 10.9051,  5.6304,  2.7921,\n",
       "         3.7405,  3.9372,  3.8364,  3.1229,  6.9544,  4.2503,  9.9071,  2.6217,\n",
       "         3.3494,  3.7222,  2.8086,  7.7283,  3.5780,  3.7966,  2.7352,  2.3023,\n",
       "         4.6242,  2.2508, 15.2473,  5.5030], dtype=torch.float64)"
      ]
     },
     "execution_count": 21,
     "metadata": {},
     "output_type": "execute_result"
    }
   ],
   "source": [
    "sfbo_res['y_acquired']"
   ]
  },
  {
   "cell_type": "code",
   "execution_count": 20,
   "id": "103313a1",
   "metadata": {},
   "outputs": [
    {
     "data": {
      "text/plain": [
       "3.8312762487603047"
      ]
     },
     "execution_count": 20,
     "metadata": {},
     "output_type": "execute_result"
    }
   ],
   "source": [
    "max(sfbo_res['y_acquired'][:1].detach().numpy())"
   ]
  },
  {
   "cell_type": "code",
   "execution_count": 24,
   "id": "f1aab2cf",
   "metadata": {},
   "outputs": [
    {
     "data": {
      "image/png": "[encoded data removed]",
      "text/plain": [
       "<Figure size 576x576 with 2 Axes>"
      ]
     },
     "metadata": {
      "needs_background": "light"
     },
     "output_type": "display_data"
    }
   ],
   "source": [
    "fig, ax = plt.subplots(2, 1, sharex=True, figsize=(8, 8))  \n",
    "\n",
    "for i, res in enumerate([sfbo_res, mfbo_res]):   \n",
    "    ###\n",
    "    #  Cost\n",
    "    #  - include random search with bounds\n",
    "    ###\n",
    "    acc_cost = accumulated_cost(res['cost_acquired'].detach().numpy()) \n",
    "    ax[0].plot(iterations, acc_cost, label=\"$\\ell$ = \" + str(i))\n",
    "    \n",
    "    ###\n",
    "    #  Search Efficiency Curves\n",
    "    #  - SFBO and MFBO\n",
    "    ###\n",
    "    y_max = 0\n",
    "    y_max_at_iter = []\n",
    "    if i == 0: # sfbo => high-fidelity\n",
    "        y_max_at_iter = [max(res['y_acquired'][:i+1].detach().numpy()) for i in range(len(res['y_acquired']-1))]        \n",
    "    else:\n",
    "        # we want the maximum y value (only high-fidelity) up to a given iteration\n",
    "        for f_id, cof_id in mfbo_res['acquired_set']:\n",
    "            if f_id == 1 and y[f_id][cof_id] > y_max:\n",
    "                y_max = y[f_id][cof_id]\n",
    "                \n",
    "            y_max_at_iter.append(y_max)\n",
    "\n",
    "    ax[1].plot(iterations, y_max_at_iter, label=\"$\\ell$ = \" + str(i))\n",
    "\n",
    "    \n",
    "# Random Search (at low-fidelity)\n",
    "ax[1].plot(iterations, random_search_res['y_rs_max_mu'], label=\"random search\", color=\"tab:orange\", lw=2)\n",
    "ax[1].fill_between(iterations, random_search_res['y_rs_max_mu'] - random_search_res['y_rs_max_sig_bot'], \n",
    "                 random_search_res['y_rs_max_mu'] + random_search_res['y_rs_max_sig_top'], \n",
    "                 color=\"tab:orange\", alpha=0.15)\n",
    "\n",
    "\n",
    "# max y and initializations\n",
    "ax[1].axhline(y=max(y[1]), label=\"global maximm ($\\ell$=1)\", color=\"tab:green\", ls=\"--\", lw=1.5)\n",
    "ax[1].axvline(x=nb_COFs_initialization, label=\"initialization\", color=\"k\", alpha=0.25, linestyle=\"--\", lw=2)\n",
    "\n",
    "\n",
    "\n",
    "ax[0].set_ylabel(\"accumulated cost [min]\")\n",
    "ax[0].legend()\n",
    "\n",
    "ax[1].set_ylabel(\"max. $S^{(\\ell)}_{Xe/Kr}$ acquired\")\n",
    "ax[1].set_ylim(ymin=0, ymax=20)\n",
    "ax[1].set_xlabel(\"# evaluated COFs\")\n",
    "ax[1].legend()\n",
    "\n",
    "plt.tight_layout()\n",
    "# plt.savefig(\"./figs/cost_and_search_efficiency.pdf\", format=\"pdf\")\n",
    "plt.show()"
   ]
  },
  {
   "cell_type": "code",
   "execution_count": null,
   "id": "aeb07227",
   "metadata": {},
   "outputs": [],
   "source": [
    "\n",
    "\n",
    "\n",
    "# ax1 = plt.subplot(2, 1, 1)\n",
    "# plt.axvline(x=nb_COFs_initialization, \n",
    "#             label=\"initialization\", color=\"k\", alpha=0.25, linestyle=\"--\", lw=2)\n",
    "# plt.plot(iterations, accumulated_cost, label=\"cost\", color=\"tab:blue\")\n",
    "# plt.legend(fontsize=12)\n",
    "# plt.ylabel(\"accumulated cost [min]\")\n",
    "# plt.xlim(xmin=0, xmax=nb_iterations)\n",
    "# plt.setp(ax1.get_xticklabels(), visible=False)\n",
    "# plt.ylim(ymin=0, ymax=35000)\n",
    "\n",
    "# plt.subplot(2, 1, 2, sharex=ax1)\n",
    "# plt.axhline(y=max(y), label=\"global maximm\", color=\"tab:green\", ls=\"--\", lw=1.5)\n",
    "# plt.axvline(x=nb_COFs_initialization, label=\"initialization\", color=\"k\", alpha=0.25, linestyle=\"--\", lw=2)\n",
    "# plt.plot(iterations, y_max, label=\"BO\", color=\"tab:red\", zorder=3)"
   ]
  },
  {
   "cell_type": "markdown",
   "id": "04c7a88e",
   "metadata": {},
   "source": [
    "## Pirinciple Component Analysis\n",
    "\n",
    "**TODO:**\n",
    "- shuffle points before plotting to remove any bias... try sklearn.utils shuffle(array)"
   ]
  },
  {
   "cell_type": "code",
   "execution_count": null,
   "id": "e0d271a3",
   "metadata": {},
   "outputs": [],
   "source": [
    "pca = PCA(n_components=2)\n",
    "pca.fit(X)\n",
    "X_2D = pca.transform(X)"
   ]
  },
  {
   "cell_type": "code",
   "execution_count": null,
   "id": "0b6db1fd",
   "metadata": {},
   "outputs": [],
   "source": [
    "cmap_name = cm.summer # sequential colormaps: spring, summer, autumn, viridis, Wistia, hot, copper\n",
    "# color_map = cm.cmap_name\n",
    "# plt.scatter(x, y, c=t, cmap=cm.cmap_name)"
   ]
  },
  {
   "cell_type": "code",
   "execution_count": null,
   "id": "9dad16c6",
   "metadata": {
    "scrolled": false
   },
   "outputs": [],
   "source": [
    "fig = plt.figure()\n",
    "#low dimensional (PCA) visualization of the entire dataset\n",
    "plt.scatter(X_2D[:, 0], X_2D[:, 1], c=y[1], cmap=cmap_name, s=10, alpha=0.6)\n",
    "\n",
    "plt.xlabel('PC 1')\n",
    "plt.ylabel('PC 2')\n",
    "cb = plt.colorbar(fraction=0.03, pad=0.04)\n",
    "cb.set_label(label=\"$S^{(\\ell=1)}_{Xe/Kr}$\")\n",
    "plt.xticks()\n",
    "plt.yticks()\n",
    "\n",
    "plt.gca().set_aspect('equal', 'box')\n",
    "plt.tight_layout()\n",
    "# plt.savefig(\"./figs/PCA_feature_space_colored_by_GCMC_Selectivity.pdf\", dpi=600, format=\"pdf\")\n",
    "plt.show()"
   ]
  },
  {
   "cell_type": "code",
   "execution_count": null,
   "id": "9b09d22f",
   "metadata": {},
   "outputs": [],
   "source": [
    "nb_acquired = [2*nb_COFs_initialization, 30, 60]\n",
    "\n",
    "fig, ax = plt.subplots(1, len(nb_acquired), sharey=True, sharex=True, figsize=[3*6.4, 4.8] )\n",
    "\n",
    "for i, nb in enumerate(nb_acquired):\n",
    "    acq = mfbo_res['acquired_set'][:nb]\n",
    "    lf_acq = acq[acq[:, 0] == 0, :] # low-fidelity\n",
    "    hf_acq = acq[acq[:, 0] == 1, :] # high-fidelity\n",
    "    assert len(lf_acq) + len(hf_acq) == len(acq)\n",
    "    ###\n",
    "    #  plot PCA for all COFs\n",
    "    ###\n",
    "    pca_base = ax[i].scatter(X_2D[:, 0], X_2D[:, 1], c=y[1], cmap=cmap_name,\n",
    "                             facecolor='none', s=10, alpha=0.6) \n",
    "    if i == 2: # include colorbar\n",
    "        cb = plt.colorbar(pca_base, fraction=0.03, pad=0.04, ax=ax[2])\n",
    "        cb.set_label(label=\"$S^{(\\ell=1)}_{Xe/Kr}$\")\n",
    "    ###\n",
    "    #  indicate acquired points at the given iteration\n",
    "    ###\n",
    "    # low-fidelity\n",
    "    ax[i].scatter(X_2D[lf_acq[:nb, 1], 0], X_2D[lf_acq[:nb, 1], 1], \n",
    "                  label=\"$\\ell=0$\",\n",
    "                  color='k', marker='x', s=20, lw=0.5) \n",
    "    # high-fidelity\n",
    "    ax[i].scatter(X_2D[hf_acq[:nb, 1], 0], X_2D[hf_acq[:nb, 1], 1], \n",
    "                  label=\"$\\ell=1$\",\n",
    "                  color='r', marker='+', s=20, lw=0.5, zorder=1)\n",
    "    # subplot titles\n",
    "    if i == 0:\n",
    "        ax[i].set_title('(initialization)\\n{} acquired COFs'.format(nb_acquired[i]))\n",
    "    else:\n",
    "        ax[i].set_title('{} acquired COFs'.format(nb_acquired[i]))\n",
    "        \n",
    "    ax[i].tick_params(axis='x')\n",
    "    ax[i].set_aspect('equal', 'box')\n",
    "    \n",
    "\n",
    "ax[0].legend()\n",
    "ax[0].set_ylabel('PC 2')\n",
    "ax[2].tick_params(axis='y', labelsize=0)\n",
    "    \n",
    "fig.text(0.52, -0.02, 'PC 1', ha='center')\n",
    "plt.tight_layout()\n",
    "# plt.savefig(\"./figs/MFBO_PCA_multiple_iterations.pdf\", bbox_inches=\"tight\", dpi=600, format=\"pdf\")\n",
    "plt.show()"
   ]
  },
  {
   "cell_type": "code",
   "execution_count": null,
   "id": "6af5b15e",
   "metadata": {},
   "outputs": [],
   "source": []
  }
 ],
 "metadata": {
  "kernelspec": {
   "display_name": "Python 3 (ipykernel)",
   "language": "python",
   "name": "python3"
  },
  "language_info": {
   "codemirror_mode": {
    "name": "ipython",
    "version": 3
   },
   "file_extension": ".py",
   "mimetype": "text/x-python",
   "name": "python",
   "nbconvert_exporter": "python",
   "pygments_lexer": "ipython3",
   "version": "3.8.10"
  }
 },
 "nbformat": 4,
 "nbformat_minor": 5
}
