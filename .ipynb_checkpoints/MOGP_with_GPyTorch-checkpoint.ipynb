{
 "cells": [
  {
   "cell_type": "code",
   "execution_count": 1,
   "id": "5f7fef86",
   "metadata": {},
   "outputs": [],
   "source": [
    "using JLD2\n",
    "using PyPlot\n",
    "using StatsBase # Statistics\n",
    "using Distributions\n",
    "\n",
    "# using ScikitLearn # machine learning package\n",
    "# @sk_import gaussian_process : GaussianProcessRegressor\n",
    "# @sk_import gaussian_process.kernels : Matern\n",
    "\n",
    "using PyCall\n",
    "@pyimport gpytorch\n",
    "\n",
    "# config plot settings\n",
    "PyPlot.matplotlib.style.use(\"ggplot\")\n",
    "rcParams = PyPlot.PyDict(PyPlot.matplotlib.\"rcParams\")\n",
    "rcParams[\"font.size\"] = 16;"
   ]
  },
  {
   "cell_type": "code",
   "execution_count": 2,
   "id": "803e9004",
   "metadata": {},
   "outputs": [
    {
     "data": {
      "text/plain": [
       "3-element Vector{Symbol}:\n",
       " :X\n",
       " :henry_y\n",
       " :gcmc_y"
      ]
     },
     "execution_count": 2,
     "metadata": {},
     "output_type": "execute_result"
    }
   ],
   "source": [
    "@load joinpath(pwd(), \"targets_and_normalized_features.jld2\") X henry_y gcmc_y"
   ]
  },
  {
   "cell_type": "code",
   "execution_count": 5,
   "id": "a666ec09",
   "metadata": {},
   "outputs": [
    {
     "data": {
      "text/plain": [
       "3-element Vector{Any}:\n",
       " (26, 1)\n",
       " (582, 2)\n",
       " (299, 1)"
      ]
     },
     "execution_count": 5,
     "metadata": {},
     "output_type": "execute_result"
    }
   ],
   "source": [
    "###\n",
    "#  randomly select points and fidelities to initialize with\n",
    "###\n",
    "nb_COFs_initialization = 2\n",
    "ids_acquired = []\n",
    "for i in 1:nb_COFs_initialization\n",
    "    # index of test sample \n",
    "    ind = StatsBase.sample(1:length(henry_y), 1, replace=false)\n",
    "    # fidelity of test\n",
    "    fid =  StatsBase.sample(1:2, 1, replace=false)\n",
    "    push!(ids_acquired, (ind[1], fid[1]))\n",
    "end\n",
    "    \n",
    "if ! (in((26, 1), ids_acquired))\n",
    "    pushfirst!(ids_acquired, (26, 1))\n",
    "end\n",
    "ids_acquired"
   ]
  },
  {
   "cell_type": "code",
   "execution_count": 4,
   "id": "af01db32",
   "metadata": {},
   "outputs": [],
   "source": [
    "###\n",
    "#  Construct initial trianing data\n",
    "###\n",
    "y_train = []\n",
    "for sample in ids_acquired\n",
    "    push!()\n",
    "end\n",
    "    \n",
    "\n",
    "# standardize outputs\n",
    "train_y = [henry_y, gcmc_y];\n",
    "train_y"
   ]
  },
  {
   "cell_type": "code",
   "execution_count": null,
   "id": "fdb07138",
   "metadata": {},
   "outputs": [],
   "source": [
    "likelihood = gpytorch.likelihoods.MultitaskGaussianLikelihood(num_tasks=2)\n",
    "model = MultitaskGPModel(X, train_y, likelihood)"
   ]
  },
  {
   "cell_type": "code",
   "execution_count": null,
   "id": "0ba8d712",
   "metadata": {},
   "outputs": [],
   "source": []
  }
 ],
 "metadata": {
  "kernelspec": {
   "display_name": "Julia 1.6.2",
   "language": "julia",
   "name": "julia-1.6"
  },
  "language_info": {
   "file_extension": ".jl",
   "mimetype": "application/julia",
   "name": "julia",
   "version": "1.6.2"
  }
 },
 "nbformat": 4,
 "nbformat_minor": 5
}
