{
 "cells": [
  {
   "cell_type": "markdown",
   "id": "8613aa76",
   "metadata": {},
   "source": [
    "## System Description\n",
    "1. We have a set of COFs from a database. Each COF is characterized by a feature vector $$x_{COF} \\in X \\subset R^d$$ were d=14.\n",
    "\n",
    "\n",
    "2. We have **two different types** of simulations to calculate **the same material property $S_{Xe/Kr}$**. Therefore, we have a Single-Task/Objective (find the material with the optimal selevtivity), Multi-Fidelity problem. \n",
    "    1. low-fidelity  = Henry coefficient calculation - MC integration - cost=1\n",
    "    2. high-fidelity = GCMC mixture simulation - 80:20 (Kr:Xe) at 298 K and 1.0 bar - cost=30\n",
    "\n",
    "\n",
    "3. We will initialize the system with *two* COFs at both fidelities in order to initialize the Covariance Matrix.\n",
    "    - The fist COF will be the one closest to the center of the normalized feature space\n",
    "    - The second COF will be chosen at random\n",
    "\n",
    "\n",
    "4. Each surrogate model will **only train on data acquired at its level of fidelity** (Heterotopic data). $$X_{lf} \\neq X_{hf} \\subset X$$\n",
    "    1. We are using the augmented EI acquisition function from [here](https://link.springer.com/content/pdf/10.1007/s00158-005-0587-0.pdf)\n",
    "\n",
    "\n",
    "5. **kernel model**: \n",
    "    1.  We need a Gaussian Process (GP) that will give a *correlated output for each fidelity* i.e. we need a vector-valued kernel\n",
    "    2. Given the *cost aware* acquisition function, we anticipate the number of training points at each fidelity *will not* be equal (asymmetric scenario) $$n_{lf} > n_{hf}$$\n",
    "        - perhaps we can force the symmetric case, $n_{lf} = n_{hf} = n$, if we can include `missing` or `empty` entries in the training sets."
   ]
  },
  {
   "cell_type": "code",
   "execution_count": 1,
   "id": "7679eb14",
   "metadata": {},
   "outputs": [],
   "source": [
    "import torch\n",
    "import gpytorch\n",
    "from botorch.models import SingleTaskMultiFidelityGP\n",
    "from botorch.models.transforms.outcome import Standardize\n",
    "from gpytorch.mlls import ExactMarginalLogLikelihood\n",
    "from botorch import fit_gpytorch_model\n",
    "from scipy.stats import norm\n",
    "import math \n",
    "import numpy as np\n",
    "import matplotlib.pyplot as plt\n",
    "import h5py\n",
    "import os"
   ]
  },
  {
   "cell_type": "code",
   "execution_count": 2,
   "id": "2aa45b6a",
   "metadata": {},
   "outputs": [
    {
     "name": "stdout",
     "output_type": "stream",
     "text": [
      "raw data - \n",
      "X: torch.Size([608, 14])\n",
      "henry_y: torch.Size([608])\n",
      "gcmc_y:  torch.Size([608])\n"
     ]
    }
   ],
   "source": [
    "###\n",
    "#  Load Data\n",
    "###\n",
    "f = h5py.File(\"targets_and_normalized_features.jld2\", \"r\")\n",
    "# feature matrix\n",
    "X = torch.from_numpy(np.transpose(f[\"X\"][:]))\n",
    "# simulation data\n",
    "henry_y = torch.from_numpy(np.transpose(f[\"henry_y\"][:]))\n",
    "gcmc_y  = torch.from_numpy(np.transpose(f[\"gcmc_y\"][:]))\n",
    "# associated simulation costs\n",
    "henry_cost = torch.from_numpy(np.transpose(f[\"henry_total_elapsed_time\"][:]))\n",
    "gcmc_cost  = torch.from_numpy(np.transpose(f[\"gcmc_elapsed_time\"][:]))\n",
    "\n",
    "print(\"raw data - \\nX:\", X.shape)\n",
    "print(\"henry_y:\", henry_y.shape)\n",
    "print(\"gcmc_y: \", gcmc_y.shape)"
   ]
  },
  {
   "cell_type": "markdown",
   "id": "70f84bd4",
   "metadata": {},
   "source": [
    "## Helper Functions\n",
    "\n",
    "#### Construct Initial Inputs"
   ]
  },
  {
   "cell_type": "code",
   "execution_count": 3,
   "id": "47051ad2",
   "metadata": {},
   "outputs": [],
   "source": [
    "# find COF closest to the center of feature space\n",
    "def get_initializing_COF(X):\n",
    "    # center of feature space\n",
    "    feature_center = np.ones(X.shape[1]) * 0.5\n",
    "    # max possible distance between normalized features\n",
    "    min_dist = X.shape[1] * np.sqrt(2)\n",
    "    min_id = 0 # dummy id \n",
    "    for i in range(0, nb_COFs - 1):\n",
    "        dist = np.sqrt(sum((X[i] - feature_center) * (X[i] - feature_center)).item())\n",
    "        if dist < min_dist:\n",
    "            min_dist = dist\n",
    "            min_id = i\n",
    "    return min_id\n",
    "\n",
    "# construct feature matrix of acquired points\n",
    "def build_X_train(ids_acquired, fidelity_acquired):\n",
    "    return torch.cat((X[ids_acquired, :], fidelity_acquired), dim=1)\n",
    "\n",
    "# construct output vector for acquired points\n",
    "def build_y_train(ids_acquired, fidelity_acquired):\n",
    "    train_y = torch.tensor((), dtype=torch.float64).new_zeros((ids_acquired.shape[0], 1))\n",
    "    for i, fid in enumerate(fidelity_acquired):\n",
    "        if fid == 0:\n",
    "            train_y[i][0] = henry_y[ids_acquired[i]]\n",
    "        else:\n",
    "            train_y[i][0] = gcmc_y[ids_acquired[i]]\n",
    "    return train_y\n",
    "\n",
    "# construct vector to track accumulated cost of acquired points\n",
    "def build_cost(ids_acquired, fidelity_acquired):\n",
    "    costs_acquired = torch.tensor((), dtype=torch.float64).new_zeros((ids_acquired.shape[0], 1))\n",
    "    for i, fid in enumerate(fidelity_acquired):\n",
    "        if fid == 0:\n",
    "            costs_acquired[i][0] = henry_cost[ids_acquired[i]]\n",
    "        else:\n",
    "            costs_acquired[i][0] = gcmc_cost[ids_acquired[i]]\n",
    "    return costs_acquired"
   ]
  },
  {
   "cell_type": "markdown",
   "id": "9d57717a",
   "metadata": {},
   "source": [
    "#### Surrogate Model"
   ]
  },
  {
   "cell_type": "code",
   "execution_count": 4,
   "id": "73c5e7fd",
   "metadata": {},
   "outputs": [],
   "source": [
    "def train_surrogate_model(X_train, y_train):\n",
    "    model = SingleTaskMultiFidelityGP(\n",
    "        X_train, \n",
    "        y_train, \n",
    "        outcome_transform=Standardize(m=1), # m is the output dimension\n",
    "        data_fidelity=X_train.shape[1] - 1\n",
    "    )   \n",
    "    mll = ExactMarginalLogLikelihood(model.likelihood, model)\n",
    "    fit_gpytorch_model(mll)\n",
    "    return mll, model"
   ]
  },
  {
   "cell_type": "markdown",
   "id": "cce88b3c",
   "metadata": {},
   "source": [
    "#### Acquisition Function"
   ]
  },
  {
   "cell_type": "code",
   "execution_count": 5,
   "id": "477bd12b",
   "metadata": {},
   "outputs": [],
   "source": [
    "# calculate posterior mean and variance\n",
    "def mu_sigma(model, X, fidelity):\n",
    "    f = torch.tensor((), dtype=torch.float64).new_ones((nb_COFs, 1)) * fidelity\n",
    "    X_f = torch.cat((X, f), dim=1) # last col is associated fidelity\n",
    "    f_posterior = model.posterior(X_f)\n",
    "    return f_posterior.mean.squeeze().detach().numpy(), f_posterior.variance.squeeze().detach().numpy()\n",
    "\n",
    "# get the current \"effective best solution\" \n",
    "def get_y_max(ids_acquired, fidelity_acquired, desired_fidelity):\n",
    "    y_max = torch.tensor((), dtype=torch.float64).new_zeros(1)\n",
    "    for i, fid in enumerate(fidelity_acquired):\n",
    "        if (fid == 1 & desired_fidelity == 1):\n",
    "            if gcmc_y[ids_acquired[i]] > y_max:\n",
    "                y_max = gcmc_y[ids_acquired[i]]\n",
    "        elif (fid == 0 & desired_fidelity == 0):\n",
    "            if henry_y[ids_acquired[i]] > y_max:\n",
    "                y_max = henry_y[ids_acquired[i]]\n",
    "    return y_max.item()\n",
    "\n",
    "# Expected Imrovement function, only use hf\n",
    "def EI_hf(model, X, ids_acquired, fidelity_acquired):\n",
    "    hf_mu, hf_sigma = mu_sigma(model, X, 1)\n",
    "    y_max = get_y_max(ids_acquired, fidelity_acquired, 1)\n",
    "    \n",
    "    z = (hf_mu - y_max) / hf_sigma\n",
    "    explore_term = hf_sigma * norm.pdf(z)\n",
    "    exploit_term = (hf_mu - y_max) * norm.cdf(z)\n",
    "    ei = explore_term + exploit_term\n",
    "    return np.maximum(ei, np.zeros(nb_COFs))\n",
    "\n",
    "def augment_1(model, X, fidelity, ids_acquired, fidelity_acquired):\n",
    "    # get posterior at each fidelity\n",
    "    f_mu, f_sigma = mu_sigma(model, X, fidelity) \n",
    "    hf_mu, hf_sigma = mu_sigma(model, X, 1)\n",
    "    # get \"best linear predictor\" at each fidelity\n",
    "    f_y_max = get_y_max(ids_acquired, fidelity_acquired, fidelity)\n",
    "    hf_y_max = get_y_max(ids_acquired, fidelity_acquired, 1)\n",
    "    # calculate correlation\n",
    "    a1 = ((f_mu - f_y_max) * (hf_mu - hf_y_max)) / (f_sigma * hf_sigma)\n",
    "    return a1\n",
    "\n",
    "def augment_2(model, X, fidelity, ids_acquired, fidelity_acquired):\n",
    "    # variance of random error associated with system at given fidelity\n",
    "    noise_var = model.likelihood.noise.detach().numpy() # not 100% on this\n",
    "    \n",
    "    f_mu, f_sigma = mu_sigma(model, X, fidelity)\n",
    "    f_y_max = get_y_max(ids_acquired, fidelity_acquired, fidelity)\n",
    "    \n",
    "    cov = ((f_mu - f_y_max)*(f_mu - f_y_max))/(f_sigma * f_sigma)\n",
    "    \n",
    "    a2 = 1 - (np.sqrt(noise_var) / np.sqrt(cov + noise_var))\n",
    "    return a2\n",
    "\n",
    "# calculate the cost ratio\n",
    "def cost_ratio(fidelity, fidelity_acquired, costs_acquired):\n",
    "    avg_cost_lf = torch.mean(costs_acquired[fidelity_acquired == fidelity]).item()\n",
    "    avg_cost_hf = torch.mean(costs_acquired[fidelity_acquired == 1]).item()\n",
    "    return avg_cost_hf / avg_cost_lf"
   ]
  },
  {
   "cell_type": "code",
   "execution_count": 6,
   "id": "e1624a25",
   "metadata": {},
   "outputs": [],
   "source": [
    "# 1. We're going to get a sorted list of propoed acquisition values at each fidelity \n",
    "# 2. Then, we will determine which value is highest and from which fidelity it was derived\n",
    "# 3. Add that data point and associated fidelity to the training data\n",
    "# 4. Retrian model and repreat process\n",
    "def acquisiiton(model, X, fidelity, ids_acquired, fidelity_acquired, costs_acquired):\n",
    "    # expected improvement\n",
    "    ei = EI_hf(model, X, ids_acquired, fidelity_acquired)\n",
    "    \n",
    "    # augmenting functions\n",
    "    a1 = augment_1(model, X, fidelity, ids_acquired, fidelity_acquired)\n",
    "    a2 = augment_2(model, X, fidelity, ids_acquired, fidelity_acquired)\n",
    "    a3 = cost_ratio(fidelity, fidelity_acquired, costs_acquired)\n",
    "    \n",
    "    acquisition_values = ei * a1 * a2 * a3\n",
    "    return acquisition_values.argsort()[::-1] # sort in descending order"
   ]
  },
  {
   "cell_type": "markdown",
   "id": "bfd075cf",
   "metadata": {},
   "source": [
    "## Run MFBO"
   ]
  },
  {
   "cell_type": "code",
   "execution_count": null,
   "id": "02da01a0",
   "metadata": {},
   "outputs": [],
   "source": [
    "###\n",
    "#  construct initial inputs\n",
    "###\n",
    "nb_COFs = X.shape[0] # total number of COFs data points \n",
    "nb_COFs_initialization = 1"
   ]
  },
  {
   "cell_type": "code",
   "execution_count": 7,
   "id": "3e901d0e",
   "metadata": {},
   "outputs": [],
   "source": [
    "ids_acquired = np.ones(nb_COFs_initialization, dtype=int) * get_initializing_COF(X)\n",
    "fidelity_acquired = torch.ones((nb_COFs_initialization, 1), dtype=int) # start with high-fidelity\n",
    "costs_acquired = build_cost(ids_acquired, fidelity_acquired)\n",
    "\n",
    "X_train = build_X_train(ids_acquired, fidelity_acquired)\n",
    "y_train = build_y_train(ids_acquired, fidelity_acquired)\n",
    "\n",
    "###\n",
    "#  Train surrogate model\n",
    "###\n",
    "mll, model = train_surrogate_model(X_train, y_train)\n",
    "\n",
    "###\n",
    "#  Evaluate acquisition function at each fidelity\n",
    "###\n",
    "lf_ids_sorted_by_aquisition = acquisiiton(model, X, 0, ids_acquired, fidelity_acquired, costs_acquired)\n",
    "lf_ids_sorted_by_aquisition[:5]"
   ]
  },
  {
   "cell_type": "code",
   "execution_count": 10,
   "id": "5e1e5c05",
   "metadata": {},
   "outputs": [
    {
     "data": {
      "text/plain": [
       "array([607, 199, 206, 205, 204])"
      ]
     },
     "execution_count": 10,
     "metadata": {},
     "output_type": "execute_result"
    }
   ],
   "source": [
    "hf_ids_sorted_by_aquisition = acquisiiton(model, X, 1, ids_acquired, fidelity_acquired, costs_acquired)\n",
    "hf_ids_sorted_by_aquisition[:5]"
   ]
  },
  {
   "cell_type": "code",
   "execution_count": 11,
   "id": "cd2a991f",
   "metadata": {},
   "outputs": [],
   "source": [
    "def run_MFBO(nb_COFs_initialization, nb_iterations):\n",
    "    ###\n",
    "    #  construct initial inputs\n",
    "    ###\n",
    "    nb_COFs = X.shape[0] # total number of COFs data points \n",
    "    nb_COFs_initialization = 1\n",
    "\n",
    "    for i in range(nb_COFs_initialization, nb_iterations):\n",
    "    ids_acquired = np.ones(nb_COFs_initialization, dtype=int) * get_initializing_COF(X)\n",
    "    fidelity_acquired = torch.ones((nb_COFs_initialization, 1), dtype=int) # start with high-fidelity\n",
    "    costs_acquired = build_cost(ids_acquired, fidelity_acquired)\n",
    "    \n",
    "    X_train = build_X_train(ids_acquired, fidelity_acquired)\n",
    "    y_train = build_y_train(ids_acquired, fidelity_acquired)\n",
    "    \n",
    "    ###\n",
    "    #  Train surrogate model\n",
    "    ###\n",
    "    mll, model = train_surrogate_model(X_train, y_train)\n",
    "    \n",
    "    ###\n",
    "    #  Evaluate acquisition function at each fidelity\n",
    "    #  low-fidelity   => 0\n",
    "    #  high-fidelity  => 1\n",
    "    ###\n",
    "    lf_ids_sorted_by_aquisition = acquisiiton(model, X, 0, ids_acquired, fidelity_acquired, costs_acquired)\n",
    "    hf_ids_sorted_by_aquisition = acquisiiton(model, X, 1, ids_acquired, fidelity_acquired, costs_acquired)\n",
    "    \n",
    "    # determine which COF to acquire next\n",
    "    \n",
    "    # return the IDs for the set of acquired COFs\n",
    "    return ids_acquired, fidelity_acquired, costs_acquired, explore_exploit_balance"
   ]
  },
  {
   "cell_type": "code",
   "execution_count": null,
   "id": "33804cc7",
   "metadata": {},
   "outputs": [],
   "source": []
  }
 ],
 "metadata": {
  "kernelspec": {
   "display_name": "Python 3 (ipykernel)",
   "language": "python",
   "name": "python3"
  },
  "language_info": {
   "codemirror_mode": {
    "name": "ipython",
    "version": 3
   },
   "file_extension": ".py",
   "mimetype": "text/x-python",
   "name": "python",
   "nbconvert_exporter": "python",
   "pygments_lexer": "ipython3",
   "version": "3.8.10"
  }
 },
 "nbformat": 4,
 "nbformat_minor": 5
}
