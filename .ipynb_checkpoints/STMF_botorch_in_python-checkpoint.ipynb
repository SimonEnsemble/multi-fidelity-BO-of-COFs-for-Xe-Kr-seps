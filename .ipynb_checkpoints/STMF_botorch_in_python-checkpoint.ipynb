{
 "cells": [
  {
   "cell_type": "markdown",
   "id": "8613aa76",
   "metadata": {},
   "source": [
    "## System Description\n",
    "1. We have a set of COFs from a database. Each COF is characterized by a feature vector $$x_{COF} \\in X \\subset R^d$$ were d=14.\n",
    "\n",
    "\n",
    "2. We have **two different types** of simulations to calculate **the same material property $S_{Xe/Kr}$**. Therefore, we have a Single-Task/Objective (find the material with the optimal selevtivity), Multi-Fidelity problem. \n",
    "    1. low-fidelity  = Henry coefficient calculation - MC integration - cost=1\n",
    "    2. high-fidelity = GCMC mixture simulation - 80:20 (Kr:Xe) at 298 K and 1.0 bar - cost=30\n",
    "\n",
    "\n",
    "3. We will initialize the system with *two* COFs at both fidelities in order to initialize the Covariance Matrix.\n",
    "    - The fist COF will be the one closest to the center of the normalized feature space\n",
    "    - The second COF will be chosen at random\n",
    "\n",
    "\n",
    "4. Each surrogate model will **only train on data acquired at its level of fidelity** (Heterotopic data). $$X_{lf} \\neq X_{hf} \\subset X$$\n",
    "    1. We could use the augmented EI acquisition function from [here](https://link.springer.com/content/pdf/10.1007/s00158-005-0587-0.pdf)\n",
    "    2. We could use a naive implementation of the [misoKG](https://papers.nips.cc/paper/2017/file/df1f1d20ee86704251795841e6a9405a-Paper.pdf) acquisition function\n",
    "    3. Helpful [tutorial](https://botorch.org/tutorials/discrete_multi_fidelity_bo)\n",
    "\n",
    "5. **kernel model**: \n",
    "    1.  We need a Gaussian Process (GP) that will give a *correlated output for each fidelity* i.e. we need a vector-valued kernel\n",
    "    2. Given the *cost aware* acquisition function, we anticipate the number of training points at each fidelity *will not* be equal (asymmetric scenario) $$n_{lf} > n_{hf}$$\n",
    "        - perhaps we can force the symmetric case, $n_{lf} = n_{hf} = n$, if we can include `missing` or `empty` entries in the training sets."
   ]
  },
  {
   "cell_type": "code",
   "execution_count": 1,
   "id": "7679eb14",
   "metadata": {},
   "outputs": [],
   "source": [
    "import torch\n",
    "import gpytorch\n",
    "from botorch.models import SingleTaskMultiFidelityGP\n",
    "from botorch.models.transforms.outcome import Standardize\n",
    "from gpytorch.mlls import ExactMarginalLogLikelihood\n",
    "from botorch import fit_gpytorch_model\n",
    "from scipy.stats import norm\n",
    "import math \n",
    "import numpy as np\n",
    "import matplotlib.pyplot as plt\n",
    "import h5py\n",
    "import os"
   ]
  },
  {
   "cell_type": "code",
   "execution_count": 2,
   "id": "2aa45b6a",
   "metadata": {},
   "outputs": [
    {
     "name": "stdout",
     "output_type": "stream",
     "text": [
      "raw data - \n",
      "\tX: torch.Size([608, 14])\n",
      "\tfidelity: 0\n",
      "\t\ty: torch.Size([608])\n",
      "\t\tcost:  torch.Size([608])\n",
      "\tfidelity: 1\n",
      "\t\ty: torch.Size([608])\n",
      "\t\tcost:  torch.Size([608])\n",
      "\n",
      "Ensure features are normalized - \n",
      "max:\n",
      " tensor([1., 1., 1., 1., 1., 1., 1., 1., 1., 1., 1., 1., 1., 1.],\n",
      "       dtype=torch.float64)\n",
      "min:\n",
      " tensor([0., 0., 0., 0., 0., 0., 0., 0., 0., 0., 0., 0., 0., 0.],\n",
      "       dtype=torch.float64)\n"
     ]
    }
   ],
   "source": [
    "###\n",
    "#  Load Data\n",
    "###\n",
    "f = h5py.File(\"targets_and_normalized_features.jld2\", \"r\")\n",
    "# feature matrix\n",
    "X = torch.from_numpy(np.transpose(f[\"X\"][:]))\n",
    "# simulation data\n",
    "y = [torch.from_numpy(np.transpose(f[\"henry_y\"][:])), \n",
    "     torch.from_numpy(np.transpose(f[\"gcmc_y\"][:]))]\n",
    "# associated simulation costs\n",
    "cost = [torch.from_numpy(np.transpose(f[\"henry_total_elapsed_time\"][:])), \n",
    "        torch.from_numpy(np.transpose(f[\"gcmc_elapsed_time\"][:]))]\n",
    "\n",
    "print(\"raw data - \\n\\tX:\", X.shape)\n",
    "for f in range(2):\n",
    "    print(\"\\tfidelity:\", f)\n",
    "    print(\"\\t\\ty:\", y[f].shape)\n",
    "    print(\"\\t\\tcost: \", cost[f].shape)\n",
    "    \n",
    "    \n",
    "print(\"\\nEnsure features are normalized - \")\n",
    "print(\"max:\\n\", torch.max(X, 0).values)\n",
    "print(\"min:\\n\", torch.min(X, 0).values)"
   ]
  },
  {
   "cell_type": "code",
   "execution_count": 3,
   "id": "99796cbd",
   "metadata": {},
   "outputs": [
    {
     "name": "stdout",
     "output_type": "stream",
     "text": [
      "average high-fidelity cost: 230.0783918372241 [min]\n",
      "average low-fidelity cost:  16.57287046034216 [min]\n",
      "average cost ratio:\t    13.882832933968034\n"
     ]
    }
   ],
   "source": [
    "print(\"average high-fidelity cost:\", torch.mean(cost[1]).item(), \"[min]\")\n",
    "print(\"average low-fidelity cost: \", torch.mean(cost[0]).item(), \"[min]\")\n",
    "print(\"average cost ratio:\\t   \", torch.mean(cost[1]).item() / torch.mean(cost[0]).item())"
   ]
  },
  {
   "cell_type": "markdown",
   "id": "70f84bd4",
   "metadata": {},
   "source": [
    "## Helper Functions\n",
    "\n",
    "#### Construct Initial Inputs"
   ]
  },
  {
   "cell_type": "code",
   "execution_count": 4,
   "id": "c9389e43",
   "metadata": {},
   "outputs": [],
   "source": [
    "# find COF closest to the center of feature space\n",
    "def get_initializing_COF(X):\n",
    "    # center of feature space\n",
    "    feature_center = np.ones(X.shape[1]) * 0.5\n",
    "    # max possible distance between normalized features\n",
    "    min_dist = np.inf\n",
    "    min_id = 0 # dummy id \n",
    "    for i in range(nb_COFs):\n",
    "        dist = sum((X[i] - feature_center) * (X[i] - feature_center)).item()\n",
    "        if dist < min_dist:\n",
    "            min_dist = dist\n",
    "            min_id = i\n",
    "    return min_id\n",
    "\n",
    "def diverse_train_test_split(X, train_size):\n",
    "    # initialize with one random point; pick others in a max diverse fashion\n",
    "    ids_train = [get_initializing_COF(X)]\n",
    "    # select remaining training points\n",
    "    for j in range(train_size - 1):\n",
    "        # for each point in data set, compute its min dist to training set\n",
    "        dist_to_train_set = np.linalg.norm(X - X[ids_train, None, :], axis=2)\n",
    "        assert np.shape(dist_to_train_set) == (len(ids_train), nb_COFs)\n",
    "        min_dist_to_a_training_pt = np.min(dist_to_train_set, axis=0)\n",
    "        assert np.size(min_dist_to_a_training_pt) == nb_COFs\n",
    "        \n",
    "        # acquire point with max(min distance to train set) i.e. Furthest from train set\n",
    "        ids_train.append(np.argmax(min_dist_to_a_training_pt))\n",
    "    assert np.size(np.unique(ids_train)) == train_size # gotta be unique\n",
    "    \n",
    "    return np.array(ids_train)"
   ]
  },
  {
   "cell_type": "code",
   "execution_count": 5,
   "id": "7e608c9f",
   "metadata": {},
   "outputs": [],
   "source": [
    "# construct feature matrix of acquired points\n",
    "def build_X_train(ids_acquired, fidelity_acquired):\n",
    "    return torch.cat((X[ids_acquired, :], fidelity_acquired), dim=1)\n",
    "\n",
    "# construct output vector for acquired points\n",
    "def build_y_train(ids_acquired, fidelity_acquired):\n",
    "    train_y = torch.tensor((), dtype=torch.float64).new_zeros((ids_acquired.shape[0], 1))\n",
    "    for i, fid in enumerate(fidelity_acquired):\n",
    "        train_y[i][0] = y[fid][ids_acquired[i]]\n",
    "    return train_y\n",
    "\n",
    "# construct vector to track accumulated cost of acquired points\n",
    "def build_cost(ids_acquired, fidelity_acquired):\n",
    "    costs_acquired = torch.tensor((), dtype=torch.float64).new_zeros((ids_acquired.shape[0], 1))\n",
    "    for i, fid in enumerate(fidelity_acquired):\n",
    "        costs_acquired[i][0] = cost[fid][ids_acquired[i]]\n",
    "    return costs_acquired"
   ]
  },
  {
   "cell_type": "markdown",
   "id": "9d57717a",
   "metadata": {},
   "source": [
    "#### Surrogate Model"
   ]
  },
  {
   "cell_type": "code",
   "execution_count": 6,
   "id": "73c5e7fd",
   "metadata": {},
   "outputs": [],
   "source": [
    "def train_surrogate_model(X_train, y_train):\n",
    "    model = SingleTaskMultiFidelityGP(\n",
    "        X_train, \n",
    "        y_train, \n",
    "        outcome_transform=Standardize(m=1), # m is the output dimension\n",
    "        data_fidelity=X_train.shape[1] - 1\n",
    "    )   \n",
    "    mll = ExactMarginalLogLikelihood(model.likelihood, model)\n",
    "    fit_gpytorch_model(mll)\n",
    "    return mll, model"
   ]
  },
  {
   "cell_type": "markdown",
   "id": "cce88b3c",
   "metadata": {},
   "source": [
    "#### Acquisition Function"
   ]
  },
  {
   "cell_type": "code",
   "execution_count": 7,
   "id": "70bb7e63",
   "metadata": {},
   "outputs": [],
   "source": [
    "# calculate posterior mean and variance\n",
    "def mu_sigma(model, X, fidelity):\n",
    "    f = torch.tensor((), dtype=torch.float64).new_ones((nb_COFs, 1)) * fidelity\n",
    "    X_f = torch.cat((X, f), dim=1) # last col is associated fidelity\n",
    "    f_posterior = model.posterior(X_f)\n",
    "    return f_posterior.mean.squeeze().detach().numpy(), f_posterior.variance.squeeze().detach().numpy()\n",
    "\n",
    "# get the current \"effective best solution\" \n",
    "def get_y_max(ids_acquired, fidelity_acquired, desired_fidelity):\n",
    "    y_max = torch.tensor((), dtype=torch.float64).new_zeros(1)\n",
    "    for i, fid in enumerate(fidelity_acquired):\n",
    "        if (fid == desired_fidelity) & (y[fid][ids_acquired[i]] > y_max):\n",
    "            y_max = y[fid][ids_acquired[i]]\n",
    "    return y_max.item()"
   ]
  },
  {
   "cell_type": "code",
   "execution_count": 8,
   "id": "85e47050",
   "metadata": {},
   "outputs": [],
   "source": [
    "###\n",
    "#  Multi-fideltiy correlation \n",
    "###\n",
    "def multi_fidelity_correlation(model, X, fidelity, ids_acquired, fidelity_acquired):\n",
    "    # get covariance matrix of acquired data points\n",
    "    K = model.covar_module(X_train).evaluate() \n",
    "    K_inv = torch.inverse(K) # take the inverse\n",
    "\n",
    "    # get posterior for fidelity f\n",
    "    f   = torch.tensor((), dtype=torch.float64).new_ones((nb_COFs, 1)) * fidelity\n",
    "    X_f = torch.cat((X, f), dim=1) # last col is associated fidelity\n",
    "    sigma_f = torch.flatten(model.posterior(X_f).variance)\n",
    "\n",
    "    # get posterior for high-fidelity\n",
    "    hf = torch.tensor((), dtype=torch.float64).new_ones((nb_COFs, 1)) \n",
    "    X_hf = torch.cat((X, hf), dim=1) # last col is associated fidelity\n",
    "    sigma_hf = torch.flatten(model.posterior(X_hf).variance)\n",
    "\n",
    "    # Compute the covariance between X_hf and X_f, using covariance kernel\n",
    "    sigma_prior = model.covar_module.forward(X_hf, X_f, diag=True) # want diag\n",
    "\n",
    "    # Compute the covariance between X_f and X_train \n",
    "    # rows are [k(x,s), (x_1, s_1), ..., k((x, s), (x_N, s_N))]\n",
    "    cov_f_and_data = model.covar_module.forward(X_f, X_train).evaluate()\n",
    "\n",
    "    # Compute the covariance between X_hf and X_train\n",
    "    # rows are [k(x,s'), (x_1, s_1), ..., k((x, s'), (x_N, s_N))]\n",
    "    cov_hf_and_data = model.covar_module.forward(X_hf, X_train).evaluate()\n",
    "\n",
    "    # perform matrix multiplication\n",
    "    sigma_reduction = torch.matmul(torch.matmul(cov_f_and_data, K_inv), \n",
    "                       torch.t(cov_hf_and_data)).diag()\n",
    "    # calculate covariance\n",
    "    posterior_cov = sigma_prior - sigma_reduction\n",
    "    # calculate the correlation\n",
    "    corr = posterior_cov / (torch.sqrt(sigma_f) * torch.sqrt(sigma_hf))\n",
    "    return corr\n",
    "\n",
    "###\n",
    "#  Cost ratio\n",
    "###\n",
    "def cost_ratio(fidelity, fidelity_acquired, costs_acquired):\n",
    "    avg_cost_f  = torch.mean(costs_acquired[fidelity_acquired == fidelity]).item()\n",
    "    avg_cost_hf = torch.mean(costs_acquired[fidelity_acquired == 1]).item()\n",
    "    return avg_cost_hf / avg_cost_f\n",
    "\n",
    "###\n",
    "#  Expected Imrovement function, only use hf\n",
    "###\n",
    "def EI_hf(model, X, ids_acquired, fidelity_acquired):\n",
    "    hf_mu, hf_sigma = mu_sigma(model, X, 1)\n",
    "    y_max = get_y_max(ids_acquired, fidelity_acquired, 1)\n",
    "    \n",
    "    z = (hf_mu - y_max) / hf_sigma\n",
    "    explore_term = hf_sigma * norm.pdf(z)\n",
    "    exploit_term = (hf_mu - y_max) * norm.cdf(z)\n",
    "    ei = explore_term + exploit_term\n",
    "    return np.maximum(ei, np.zeros(nb_COFs))\n",
    "\n",
    "# 1. We're going to get a sorted list of propoed acquisition values at each fidelity \n",
    "# 2. Then, we will determine which value is highest and from which fidelity it was derived\n",
    "# 3. Add that data point and associated fidelity to the training data\n",
    "# 4. Retrian model and repreat process\n",
    "def acquisition(model, X, fidelity, ids_acquired, fidelity_acquired, costs_acquired):\n",
    "    # expected improvement for high-fidelity\n",
    "    ei = EI_hf(model, X, ids_acquired, fidelity_acquired) \n",
    "    \n",
    "    # augmenting functions\n",
    "    a1 = multi_fidelity_correlation(model, X, fidelity, ids_acquired, fidelity_acquired)\n",
    "    a2 = 1.0 # no systematic random error noise \n",
    "    a3 = cost_ratio(fidelity, fidelity_acquired, costs_acquired)\n",
    "\n",
    "    acquisition_values = torch.from_numpy(ei) * a1 * a2 * a3\n",
    "    \n",
    "    return acquisition_values, acquisition_values.argsort(descending=True) # sort in descending order"
   ]
  },
  {
   "cell_type": "markdown",
   "id": "bfd075cf",
   "metadata": {},
   "source": [
    "# Run MFBO"
   ]
  },
  {
   "cell_type": "code",
   "execution_count": 9,
   "id": "0b66f6a4",
   "metadata": {},
   "outputs": [
    {
     "name": "stdout",
     "output_type": "stream",
     "text": [
      "Initialization - \n",
      "\n",
      "\tid acquired =  [ 25 494 523  25 494 523]\n",
      "\tfidelity acquired =  [1 1 1 0 0 0]\n",
      "\tcosts acquired =  [399.7576661  171.99848711 280.45236813  33.25071268  33.2388743\n",
      "   6.12068812]  [min]\n",
      "\tTraining data:\n",
      "\n",
      "\t\t X train shape =  torch.Size([6, 15])\n",
      "\t\t y train shape =  torch.Size([6, 1])\n",
      "\t\t training feature vector = \n",
      " tensor([0.1500, 0.4533, 0.1088, 0.5523, 0.4387, 0.1463, 0.3480, 0.2643, 0.0000,\n",
      "        0.1769, 0.2237, 0.0000, 0.0000, 0.3471, 1.0000], dtype=torch.float64)\n"
     ]
    }
   ],
   "source": [
    "###\n",
    "#  construct initial inputs\n",
    "###\n",
    "nb_COFs = X.shape[0]       # total number of COF data points \n",
    "nb_COFs_initialization = 3 # at each fidelity, number of COFs to initialize with\n",
    "nb_iterations = 150        # BO budget, includes initializing COFs\n",
    "\n",
    "# ids_acquired = torch.ones(1, dtype=int) * get_initializing_COF(X)\n",
    "# fidelity_acquired = torch.ones((1, 1), dtype=int) # start with high-fidelity\n",
    "\n",
    "initializing_COFs = torch.from_numpy(diverse_train_test_split(X, nb_COFs_initialization))\n",
    "# initializing_COFs = torch.from_numpy(np.array([71, 494, 336])) # crashes notebook\n",
    "\n",
    "ids_acquired = torch.cat((initializing_COFs, initializing_COFs))\n",
    "\n",
    "fidelity_acquired = torch.cat((torch.ones((nb_COFs_initialization, 1), dtype=int), \n",
    "                               torch.zeros((nb_COFs_initialization, 1), dtype=int)))\n",
    "\n",
    "costs_acquired = build_cost(ids_acquired, fidelity_acquired)\n",
    "\n",
    "X_train = build_X_train(ids_acquired, fidelity_acquired)\n",
    "y_train = build_y_train(ids_acquired, fidelity_acquired)\n",
    "\n",
    "print(\"Initialization - \\n\")\n",
    "print(\"\\tid acquired = \", ids_acquired.squeeze().detach().numpy())\n",
    "print(\"\\tfidelity acquired = \", fidelity_acquired.squeeze().detach().numpy())\n",
    "print(\"\\tcosts acquired = \", costs_acquired.squeeze().detach().numpy(), \" [min]\")\n",
    "\n",
    "print(\"\\tTraining data:\\n\")\n",
    "print(\"\\t\\t X train shape = \", X_train.shape)\n",
    "print(\"\\t\\t y train shape = \", y_train.shape)\n",
    "print(\"\\t\\t training feature vector = \\n\", X_train[0])"
   ]
  },
  {
   "cell_type": "code",
   "execution_count": 10,
   "id": "3e901d0e",
   "metadata": {
    "scrolled": false
   },
   "outputs": [],
   "source": [
    "track_acq_vals = True\n",
    "if track_acq_vals:\n",
    "    stored_acquisition_values = torch.zeros(nb_iterations, dtype=float)\n",
    "\n",
    "\n",
    "###\n",
    "#  Evaluate acquisition function at each fidelity\n",
    "###\n",
    "st = nb_COFs_initialization * 2\n",
    "for i in range(st, nb_iterations):\n",
    "    mll, model = train_surrogate_model(X_train, y_train)\n",
    "    \n",
    "    ###\n",
    "    #  Acquisition Function\n",
    "    ###\n",
    "    lf_acquisition_values, lf_acquisition_sorted = acquisition(model, X, 0, ids_acquired, \n",
    "                                                               fidelity_acquired, costs_acquired)\n",
    "    hf_acquisition_values, hf_acquisition_sorted = acquisition(model, X, 1, ids_acquired, \n",
    "                                                               fidelity_acquired, costs_acquired)\n",
    "    \n",
    "    for id_ in lf_acquisition_sorted:\n",
    "        if not id_ in ids_acquired:\n",
    "            lf_id_max_aquisition = id_.item()\n",
    "            break\n",
    "    for id_ in hf_acquisition_sorted:\n",
    "        if not id_ in ids_acquired:\n",
    "            hf_id_max_aquisition = id_.item()\n",
    "            break\n",
    "    \n",
    "    if lf_acquisition_values[lf_id_max_aquisition] >= hf_acquisition_values[hf_id_max_aquisition]:\n",
    "        ids_acquired = torch.cat((ids_acquired, torch.ones(1, dtype=int) * lf_id_max_aquisition))\n",
    "        fidelity_acquired = torch.cat((fidelity_acquired, torch.zeros((1, 1), dtype=int)))\n",
    "        acquisition_value = lf_acquisition_values[lf_id_max_aquisition]\n",
    "    else:\n",
    "        ids_acquired = torch.cat((ids_acquired, torch.ones(1, dtype=int) * hf_id_max_aquisition))\n",
    "        fidelity_acquired = torch.cat((fidelity_acquired, torch.ones((1, 1), dtype=int)))\n",
    "        acquisition_value = hf_acquisition_values[hf_id_max_aquisition]\n",
    "    \n",
    "    # update training sets and cost\n",
    "    X_train = build_X_train(ids_acquired, fidelity_acquired)\n",
    "    y_train = build_y_train(ids_acquired, fidelity_acquired)\n",
    "    costs_acquired = build_cost(ids_acquired, fidelity_acquired)\n",
    "    \n",
    "    # track acquisition value\n",
    "    if track_acq_vals:\n",
    "        stored_acquisition_values[i] = acquisition_value"
   ]
  },
  {
   "cell_type": "code",
   "execution_count": 11,
   "id": "3a2565d1",
   "metadata": {},
   "outputs": [
    {
     "data": {
      "text/plain": [
       "150"
      ]
     },
     "execution_count": 11,
     "metadata": {},
     "output_type": "execute_result"
    }
   ],
   "source": [
    "len(ids_acquired)\n",
    "# fidelity_acquired == 1\n",
    "# costs_acquired\n",
    "# stored_acquisition_values"
   ]
  },
  {
   "cell_type": "markdown",
   "id": "f6b6a7b6",
   "metadata": {},
   "source": [
    "## PLOTS"
   ]
  },
  {
   "cell_type": "code",
   "execution_count": 12,
   "id": "c00d7608",
   "metadata": {},
   "outputs": [],
   "source": [
    "index = np.zeros(len(ids_acquired), dtype=int)\n",
    "max_selectivity  = np.zeros(len(ids_acquired), dtype=float)\n",
    "selectivity_acquired = np.zeros(len(ids_acquired), dtype=float)\n",
    "net_cost  = np.zeros(len(ids_acquired), dtype=float)\n",
    "\n",
    "fid_color = []\n",
    "y_max = 0\n",
    "\n",
    "for i in range(len(ids_acquired)):\n",
    "#     itration = i + nb_COFs_initialization\n",
    "    index[i] = i #itration\n",
    "    net_cost[i] = sum(costs_acquired[:i])\n",
    "    if fidelity_acquired[i] == 1:\n",
    "        selectivity_acquired[i] = y[1][ids_acquired[i]]\n",
    "        if selectivity_acquired[i] > y_max:\n",
    "            y_max = selectivity_acquired[i]\n",
    "            \n",
    "        max_selectivity[i] = y_max #max(y[1][ids_acquired[:ittration]])\n",
    "        fid_color.append(\"tab:red\")\n",
    "    else:\n",
    "        max_selectivity[i] = y_max\n",
    "        selectivity_acquired[i] = y[0][ids_acquired[i]]\n",
    "        fid_color.append(\"tab:cyan\")\n"
   ]
  },
  {
   "cell_type": "code",
   "execution_count": 24,
   "id": "6c3cf5dd",
   "metadata": {},
   "outputs": [
    {
     "data": {
      "image/png": "[encoded data removed]",
      "text/plain": [
       "<Figure size 576x576 with 2 Axes>"
      ]
     },
     "metadata": {
      "needs_background": "light"
     },
     "output_type": "display_data"
    }
   ],
   "source": [
    "plt.figure(figsize=(8, 8))\n",
    "\n",
    "ax1 = plt.subplot(2, 1, 1)\n",
    "plt.axvline(x=6, label=\"initialization\", color=\"k\", alpha=0.25, linestyle=\"--\", lw=2)\n",
    "plt.plot(index - 1, net_cost, label=\"cost\", color=\"tab:blue\")\n",
    "plt.legend()\n",
    "plt.ylabel(\"accumulated cost [min]\")\n",
    "plt.xlim(xmin=0, xmax=nb_iterations)\n",
    "plt.title(\"Multi-fidelity Bayesian Optimization\")\n",
    "\n",
    "plt.subplot(2, 1, 2, sharex=ax1)\n",
    "plt.axhline(y=max(y[1]), label=\"global maximm\", color=\"tab:green\", ls=\"--\", lw=1.5)\n",
    "plt.axvline(x=6, label=\"initialization\", color=\"k\", alpha=0.25, linestyle=\"--\", lw=2)\n",
    "plt.plot(index, max_selectivity, label=\"max y$_i$\", color=\"tab:red\", zorder=3)\n",
    "\n",
    "plt.xlabel(\"# evaluated COFs\", fontsize=12)\n",
    "plt.ylabel(\"Maximum $S_{Xe/Kr}$ among acquired COFs\", fontsize=12)\n",
    "plt.legend()\n",
    "\n",
    "plt.tight_layout()\n",
    "plt.savefig(\"figs/mfbo/multi_fidelity_bo_search_efficientcy_curve.pdf\", dpi=600, format=\"pdf\")\n",
    "plt.show()"
   ]
  },
  {
   "cell_type": "code",
   "execution_count": 14,
   "id": "762c175e",
   "metadata": {
    "scrolled": false
   },
   "outputs": [
    {
     "data": {
      "image/png": "[encoded data removed]",
      "text/plain": [
       "<Figure size 576x576 with 1 Axes>"
      ]
     },
     "metadata": {
      "needs_background": "light"
     },
     "output_type": "display_data"
    }
   ],
   "source": [
    "plt.figure(figsize=(8, 8))\n",
    "\n",
    "plt.axhline(y=max(y[1]), label=\"global maximm\", color=\"tab:green\", ls=\"--\", lw=1.5)\n",
    "plt.axvline(x=6, label=\"initialization\", color=\"k\", alpha=0.25, linestyle=\"--\", lw=2)\n",
    "\n",
    "plt.bar(index, selectivity_acquired, 0.5, label=\"fidelity\", align=\"center\", \n",
    "        color=fid_color, alpha=0.5, edgecolor=\"k\", lw=0.5, zorder=2.5)\n",
    "\n",
    "plt.legend()\n",
    "plt.xlim(xmin=0, xmax=nb_iterations + 1)\n",
    "\n",
    "plt.tight_layout()"
   ]
  },
  {
   "cell_type": "code",
   "execution_count": 15,
   "id": "f8deb77c",
   "metadata": {
    "scrolled": false
   },
   "outputs": [],
   "source": [
    "# plt.figure(figsize=(8, 8))\n",
    "\n",
    "# plt.axvline(x=6, label=\"initialization\", color=\"k\", alpha=0.5, linestyle=\"--\", zorder=2.5)\n",
    "# plt.axhline(y=max(y[1]), label=\"global maximm\", color=\"tab:green\", ls=\"--\", zorder=2)\n",
    "\n",
    "# plt.plot(index, max_selectivity, label=\"fidelity\", color=\"tab:red\", zorder=3)\n",
    "\n",
    "# plt.title(\"Multi-fidelity Seach Efficiency\")\n",
    "# plt.xlabel(\"# evaluated COFs\", fontsize=12)\n",
    "# plt.ylabel(\"Maximum \" + \"$S_{Xe/Kr}$\" + \" among acquired COFs\", fontsize=12)\n",
    "# plt.legend()\n",
    "# plt.xlim(xmin=0, xmax=nb_iterations)\n",
    "\n",
    "\n",
    "# plt.tight_layout()\n",
    "# plt.savefig(\"figs/mfbo/multi_fidelity_bo_search_efficientcy_curve.png\", dpi=600, format=\"png\")\n",
    "# # plt.savefig(\"figs/mfbo/multi_fidelity_bo_search_efficientcy_curve.pdf\", dpi=600, format=\"pdf\")\n",
    "# plt.show()"
   ]
  },
  {
   "cell_type": "code",
   "execution_count": 16,
   "id": "a71609bf",
   "metadata": {
    "scrolled": false
   },
   "outputs": [],
   "source": [
    "# plt.figure(figsize=(8, 8))\n",
    "\n",
    "# plt.axvline(x=nb_COFs_initialization * 2, label=\"initialization\", color=\"k\", alpha=0.25, linestyle=\"--\", lw=2)\n",
    "\n",
    "# plt.bar(index, costs_acquired, color=fid_color, alpha=0.5, edgecolor=\"k\", lw=1.0)\n",
    "\n",
    "# plt.plot(index - 1, net_cost, color=\"tab:green\")\n",
    "\n",
    "# plt.tight_layout()\n",
    "# plt.savefig(\"figs/mfbo/multi_fidelity_bo_cost_values.png\", dpi=600, format=\"png\")\n",
    "# # plt.savefig(\"figs/mfbo/multi_fidelity_bo_cost_values.pdf\", dpi=600, format=\"pdf\")\n",
    "# plt.show()"
   ]
  },
  {
   "cell_type": "code",
   "execution_count": 17,
   "id": "05e8a429",
   "metadata": {
    "scrolled": false
   },
   "outputs": [
    {
     "data": {
      "image/png": "[encoded data removed]",
      "text/plain": [
       "<Figure size 576x576 with 1 Axes>"
      ]
     },
     "metadata": {
      "needs_background": "light"
     },
     "output_type": "display_data"
    }
   ],
   "source": [
    "plt.figure(figsize=(8, 8))\n",
    "plt.axvline(x=nb_COFs_initialization * 2, label=\"initialization\", color=\"k\", alpha=0.25, linestyle=\"--\", lw=2)\n",
    "plt.bar(index, stored_acquisition_values.detach().numpy(), width=0.5, align=\"center\", color=fid_color, \n",
    "        alpha=0.5, edgecolor=\"k\", lw=1.0)\n",
    "plt.xlabel(\"itteration\")\n",
    "plt.ylabel(\"acquisition values\")\n",
    "\n",
    "plt.tight_layout()\n",
    "plt.savefig(\"figs/mfbo/multi_fidelity_bo_acquisition_values.png\", dpi=600, format=\"png\")\n",
    "# plt.savefig(\"figs/mfbo/multi_fidelity_bo_acquisition_values.pdf\", dpi=600, format=\"pdf\")\n",
    "plt.show()"
   ]
  },
  {
   "cell_type": "code",
   "execution_count": null,
   "id": "211ea5d4",
   "metadata": {},
   "outputs": [],
   "source": []
  }
 ],
 "metadata": {
  "kernelspec": {
   "display_name": "Python 3 (ipykernel)",
   "language": "python",
   "name": "python3"
  },
  "language_info": {
   "codemirror_mode": {
    "name": "ipython",
    "version": 3
   },
   "file_extension": ".py",
   "mimetype": "text/x-python",
   "name": "python",
   "nbconvert_exporter": "python",
   "pygments_lexer": "ipython3",
   "version": "3.8.10"
  }
 },
 "nbformat": 4,
 "nbformat_minor": 5
}
