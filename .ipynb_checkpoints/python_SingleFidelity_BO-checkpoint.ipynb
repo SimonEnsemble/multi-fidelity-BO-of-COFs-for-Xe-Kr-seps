{
 "cells": [
  {
   "cell_type": "code",
   "execution_count": 1,
   "id": "9d4d86ca",
   "metadata": {},
   "outputs": [],
   "source": [
    "import torch\n",
    "import gpytorch\n",
    "from botorch.models import FixedNoiseGP, SingleTaskGP\n",
    "from botorch.acquisition.analytic import ExpectedImprovement\n",
    "from botorch.models.transforms.outcome import Standardize\n",
    "from gpytorch.kernels import ScaleKernel\n",
    "from gpytorch.mlls import ExactMarginalLogLikelihood\n",
    "from botorch import fit_gpytorch_model\n",
    "from scipy.stats import norm\n",
    "from sklearn.decomposition import PCA\n",
    "import math \n",
    "import numpy as np\n",
    "import matplotlib.pyplot as plt\n",
    "import h5py\n",
    "import os\n",
    "import time\n",
    "\n",
    "# config plot settings\n",
    "plt.rcParams[\"font.size\"] = 16"
   ]
  },
  {
   "cell_type": "code",
   "execution_count": 2,
   "id": "bad98598",
   "metadata": {},
   "outputs": [
    {
     "name": "stdout",
     "output_type": "stream",
     "text": [
      "raw data - \n",
      "\tX: torch.Size([608, 14])\n",
      "\t\ty: torch.Size([608])\n",
      "\t\tcost:  torch.Size([608])\n",
      "\n",
      "Ensure features are normalized - \n",
      "max:\n",
      " tensor([1., 1., 1., 1., 1., 1., 1., 1., 1., 1., 1., 1., 1., 1.],\n",
      "       dtype=torch.float64)\n",
      "min:\n",
      " tensor([0., 0., 0., 0., 0., 0., 0., 0., 0., 0., 0., 0., 0., 0.],\n",
      "       dtype=torch.float64)\n"
     ]
    }
   ],
   "source": [
    "###\n",
    "#  Load Data\n",
    "###\n",
    "f = h5py.File(\"targets_and_normalized_features.jld2\", \"r\")\n",
    "# feature matrix\n",
    "X = torch.from_numpy(np.transpose(f[\"X\"][:]))\n",
    "# simulation data\n",
    "y = torch.from_numpy(np.transpose(f[\"gcmc_y\"][:]))\n",
    "# associated simulation costs\n",
    "cost = torch.from_numpy(np.transpose(f[\"gcmc_elapsed_time\"][:]))\n",
    "\n",
    "# total number of COFs in data set\n",
    "nb_COFs = X.shape[0] \n",
    "\n",
    "print(\"raw data - \\n\\tX:\", X.shape)\n",
    "print(\"\\t\\ty:\", y.shape)\n",
    "print(\"\\t\\tcost: \", cost.shape)    \n",
    "    \n",
    "print(\"\\nEnsure features are normalized - \")\n",
    "print(\"max:\\n\", torch.max(X, 0).values)\n",
    "print(\"min:\\n\", torch.min(X, 0).values)"
   ]
  },
  {
   "cell_type": "code",
   "execution_count": 3,
   "id": "b08b6adc",
   "metadata": {},
   "outputs": [],
   "source": [
    "X_unsqueezed = X.unsqueeze(1)"
   ]
  },
  {
   "cell_type": "markdown",
   "id": "392087a9",
   "metadata": {},
   "source": [
    "## Helper Functions\n",
    "\n",
    "#### Construct Initial Inputs"
   ]
  },
  {
   "cell_type": "code",
   "execution_count": 4,
   "id": "74c91331",
   "metadata": {},
   "outputs": [],
   "source": [
    "# find COF closest to the center of feature space\n",
    "def get_initializing_COF(X):\n",
    "    # center of feature space\n",
    "    feature_center = np.ones(X.shape[1]) * 0.5\n",
    "    # max possible distance between normalized features\n",
    "    return np.argmin(np.linalg.norm(X - feature_center, axis=1))\n",
    "\n",
    "def diverse_set(X, train_size):\n",
    "    # initialize with one random point; pick others in a max diverse fashion\n",
    "    ids_train = [get_initializing_COF(X)]\n",
    "    # select remaining training points\n",
    "    for j in range(train_size - 1):\n",
    "        # for each point in data set, compute its min dist to training set\n",
    "        dist_to_train_set = np.linalg.norm(X - X[ids_train, None, :], axis=2)\n",
    "        assert np.shape(dist_to_train_set) == (len(ids_train), nb_COFs)\n",
    "        min_dist_to_a_training_pt = np.min(dist_to_train_set, axis=0)\n",
    "        assert np.size(min_dist_to_a_training_pt) == nb_COFs\n",
    "        \n",
    "        # acquire point with max(min distance to train set) i.e. Furthest from train set\n",
    "        ids_train.append(np.argmax(min_dist_to_a_training_pt))\n",
    "    assert np.size(np.unique(ids_train)) == train_size # must be unique\n",
    "    return np.array(ids_train)"
   ]
  },
  {
   "cell_type": "code",
   "execution_count": 5,
   "id": "ff4258fd",
   "metadata": {},
   "outputs": [],
   "source": [
    "# construct feature matrix of acquired points\n",
    "def build_X_train(ids_acquired):\n",
    "    return X[ids_acquired, :]\n",
    "\n",
    "# construct output vector for acquired points\n",
    "def build_y_train(ids_acquired):\n",
    "    return y[ids_acquired].unsqueeze(-1)\n",
    "\n",
    "# construct vector to track accumulated cost of acquired points\n",
    "def build_cost(ids_acquired):\n",
    "    return cost[ids_acquired]"
   ]
  },
  {
   "cell_type": "markdown",
   "id": "235cbe25",
   "metadata": {},
   "source": [
    "#### Bayesian Algorithm"
   ]
  },
  {
   "cell_type": "code",
   "execution_count": 6,
   "id": "86f8e42d",
   "metadata": {},
   "outputs": [],
   "source": [
    "def run_Bayesian_optimization(nb_iterations, nb_COFs_initialization,\n",
    "                              store_explore_exploit_terms=True, use_diverse_set=True):\n",
    "    assert nb_iterations > nb_COFs_initialization\n",
    "    ###\n",
    "    #  Initialize system\n",
    "    ###\n",
    "    # select initial COFs for training data\n",
    "    if use_diverse_set:\n",
    "        # initialize with set maximizing diversity\n",
    "        ids_acquired = diverse_set(X, nb_COFs_initialization)\n",
    "    else:\n",
    "        # initialize with random set\n",
    "        ids_acquired = np.random.choice(np.arange((nb_COFs)), size=nb_COFs_initialization, replace=False)\n",
    "    \n",
    "    # track of exploration vs. exploitation terms \n",
    "    if store_explore_exploit_terms:\n",
    "        explore_exploit_balance = np.array([(np.NaN, np.NaN) for i in range(nb_iterations)])\n",
    "    \n",
    "    # construct initial training sets\n",
    "    X_train = build_X_train(ids_acquired)\n",
    "    y_train = build_y_train(ids_acquired)\n",
    "    # standardize outputs using *only currently acquired data*\n",
    "    y_train = (y_train - torch.mean(y_train)) / torch.std(y_train)\n",
    "    \n",
    "    ###\n",
    "    #  itterate through remaining budget using BO\n",
    "    ###\n",
    "    for i in range(nb_COFs_initialization, nb_iterations):\n",
    "        # construct and fit GP model\n",
    "        model = SingleTaskGP(X_train, y_train)\n",
    "        mll   = ExactMarginalLogLikelihood(model.likelihood, model)\n",
    "        fit_gpytorch_model(mll)\n",
    "        # use Expected improvement acquisition function\n",
    "        acq_fn   = ExpectedImprovement(model, best_f=y_train.max().item())\n",
    "        acq_vals = acq_fn.forward(X.unsqueeze(1))\n",
    "        # get the id for the COF with highest acquisition value currently not in training set\n",
    "        ids_sorted_by_aquisition = acq_vals.argsort(descending=True)\n",
    "        for id_max in ids_sorted_by_aquisition:\n",
    "            if not id_max.item() in ids_acquired:\n",
    "                id_max_acq = id_max.item()\n",
    "                break\n",
    "        ###\n",
    "        #  acquire this COF\n",
    "        ###\n",
    "        ids_acquired = np.concatenate((ids_acquired, [id_max_acq]))\n",
    "        \n",
    "        ###\n",
    "        #  Track explore-exploit values\n",
    "        ###\n",
    "        if store_explore_exploit_terms:\n",
    "            y_mu = model.posterior(X_unsqueezed[id_max_acq]).mean.squeeze().detach().numpy()\n",
    "            y_sigma = np.sqrt(model.posterior(X_unsqueezed[id_max_acq]).variance.squeeze().detach().numpy())\n",
    "            y_max = y_train.max().item()\n",
    "            \n",
    "            z = (y_mu - y_max) / y_sigma\n",
    "            explore_term = y_sigma * norm.pdf(z)\n",
    "            exploit_term = (y_mu - y_max) * norm.cdf(z)\n",
    "            # check against BO torch's EI.\n",
    "            assert np.isclose(explore_term + exploit_term, acq_vals[id_max_acq].item())\n",
    "            explore_exploit_balance[i] = (explore_term, exploit_term)\n",
    "        \n",
    "        ###\n",
    "        #  update training data; start over to normalize properly\n",
    "        ###\n",
    "        X_train = build_X_train(ids_acquired)\n",
    "        y_train = build_y_train(ids_acquired)\n",
    "        # standardize outputs using *only currently acquired data*\n",
    "        y_train = (y_train - torch.mean(y_train)) / torch.std(y_train)\n",
    "    \n",
    "    # check budget constraint is stisfied\n",
    "    assert np.size(ids_acquired) == nb_iterations\n",
    "    return ids_acquired, explore_exploit_balance"
   ]
  },
  {
   "cell_type": "markdown",
   "id": "6dd7079d",
   "metadata": {},
   "source": [
    "## Run BO"
   ]
  },
  {
   "cell_type": "code",
   "execution_count": 7,
   "id": "279c4bf2",
   "metadata": {},
   "outputs": [],
   "source": [
    "nb_iterations = 100\n",
    "nb_COFs_initialization = 3\n",
    "\n",
    "ids, eeb = run_Bayesian_optimization(nb_iterations, nb_COFs_initialization)\n",
    "\n",
    "cost_acquired = build_cost(ids)"
   ]
  },
  {
   "cell_type": "markdown",
   "id": "e72783bf",
   "metadata": {},
   "source": [
    "#### PCA of BO"
   ]
  },
  {
   "cell_type": "code",
   "execution_count": 8,
   "id": "b3b5adf8",
   "metadata": {},
   "outputs": [],
   "source": [
    "pca = PCA(n_components=2)\n",
    "pca.fit(X)\n",
    "X_2D = pca.transform(X)"
   ]
  },
  {
   "cell_type": "markdown",
   "id": "2e303140",
   "metadata": {},
   "source": [
    "## Random Search"
   ]
  },
  {
   "cell_type": "code",
   "execution_count": 9,
   "id": "d1f13694",
   "metadata": {},
   "outputs": [],
   "source": [
    "nb_runs = 100\n",
    "\n",
    "rs_res = dict()\n",
    "rs_res['ids_acquired'] = []\n",
    "\n",
    "for r in range(nb_runs):\n",
    "    rs_ids_acquired = np.random.choice(range(nb_COFs), replace=False, size=nb_iterations)\n",
    "    rs_res['ids_acquired'].append(rs_ids_acquired)"
   ]
  },
  {
   "cell_type": "code",
   "execution_count": 10,
   "id": "9e24dc4d",
   "metadata": {},
   "outputs": [],
   "source": [
    "# get y_max acquired up to iteration i for i = 1,2,...\n",
    "def y_max(res):\n",
    "    y_max_mu      = np.zeros(nb_iterations)\n",
    "    y_max_sig_bot = np.zeros(nb_iterations)\n",
    "    y_max_sig_top = np.zeros(nb_iterations)\n",
    "    \n",
    "    for i in range(1, nb_iterations+1):\n",
    "        # max value acquired up to this point\n",
    "        y_maxes = np.array([max(y[res['ids_acquired'][r]][:i]) for r in range(nb_runs)])\n",
    "        assert np.size(y_maxes) == nb_runs\n",
    "        y_max_mu[i-1]      = np.mean(y_maxes)\n",
    "        y_max_sig_bot[i-1] = np.std(y_maxes[y_maxes < y_max_mu[i-1]])\n",
    "        y_max_sig_top[i-1] = np.std(y_maxes[y_maxes > y_max_mu[i-1]])\n",
    "    return y_max_mu, y_max_sig_bot, y_max_sig_top\n",
    "\n",
    "y_max_mu_rs, y_max_sig_bot_rs, y_max_sig_top_rs = y_max(rs_res)"
   ]
  },
  {
   "cell_type": "markdown",
   "id": "875b9e13",
   "metadata": {},
   "source": [
    "## Plots"
   ]
  },
  {
   "cell_type": "markdown",
   "id": "9a45c911",
   "metadata": {},
   "source": [
    "#### Search Efficiency and Cost Analysis"
   ]
  },
  {
   "cell_type": "code",
   "execution_count": 29,
   "id": "f0343561",
   "metadata": {},
   "outputs": [
    {
     "data": {
      "text/plain": [
       "array([ 3.83127625,  3.83127625, 14.01751536, 15.76606426, 15.76606426,\n",
       "       15.76606426, 15.76606426, 15.76606426, 15.76606426, 15.76606426,\n",
       "       15.76606426, 15.76606426, 15.76606426, 15.76606426, 15.76606426,\n",
       "       15.76606426, 15.76606426, 15.76606426, 15.76606426, 15.76606426,\n",
       "       15.76606426, 15.76606426, 15.76606426, 15.76606426, 15.76606426,\n",
       "       15.76606426, 15.76606426, 18.17097951, 18.17097951, 18.17097951,\n",
       "       18.17097951, 18.17097951, 18.17097951, 18.17097951, 18.17097951,\n",
       "       18.17097951, 18.17097951, 18.17097951, 18.17097951, 18.17097951,\n",
       "       18.17097951, 18.17097951, 18.17097951, 18.17097951, 18.53448595,\n",
       "       18.53448595, 18.53448595, 18.53448595, 18.53448595, 18.53448595,\n",
       "       18.53448595, 18.53448595, 18.53448595, 18.53448595, 18.53448595,\n",
       "       18.53448595, 18.53448595, 18.53448595, 18.53448595, 18.53448595,\n",
       "       18.53448595, 18.53448595, 18.53448595, 18.53448595, 18.53448595,\n",
       "       18.53448595, 18.53448595, 18.53448595, 18.53448595, 18.53448595,\n",
       "       18.53448595, 18.53448595, 18.53448595, 18.53448595, 18.53448595,\n",
       "       18.53448595, 18.53448595, 18.53448595, 18.53448595, 18.53448595,\n",
       "       18.53448595, 18.53448595, 18.53448595, 18.53448595, 18.53448595,\n",
       "       18.53448595, 18.53448595, 18.53448595, 18.53448595, 18.53448595,\n",
       "       18.53448595, 18.53448595, 18.53448595, 18.53448595, 18.53448595,\n",
       "       18.53448595, 18.53448595, 18.53448595, 18.53448595, 18.53448595])"
      ]
     },
     "execution_count": 29,
     "metadata": {},
     "output_type": "execute_result"
    }
   ],
   "source": [
    "y_max = np.zeros(nb_iterations)\n",
    "    \n",
    "for i in range(1, nb_iterations+1):\n",
    "    # max value acquired up to this point\n",
    "    current_max = max(y[ids[:i]])\n",
    "    y_max[i-1] = current_max\n",
    "    \n",
    "y_max"
   ]
  },
  {
   "cell_type": "markdown",
   "id": "23afb13e",
   "metadata": {},
   "source": [
    "#### Principle Component Analysis"
   ]
  },
  {
   "cell_type": "code",
   "execution_count": 12,
   "id": "e191c926",
   "metadata": {},
   "outputs": [
    {
     "data": {
      "image/png": "[encoded data removed]",
      "text/plain": [
       "<Figure size 432x288 with 2 Axes>"
      ]
     },
     "metadata": {
      "needs_background": "light"
     },
     "output_type": "display_data"
    }
   ],
   "source": [
    "#low dimensional (PCA) visualization of the entire dataset\n",
    "plt.hexbin(X_2D[:, 0], X_2D[:, 1], C=y)\n",
    "plt.xlabel('PC 1')\n",
    "plt.ylabel('PC 2')\n",
    "cb = plt.colorbar(fraction=0.02, pad=0.04)\n",
    "cb.set_label(label=\"$S_{Xe/Kr}$\")\n",
    "plt.xticks()\n",
    "plt.yticks()\n",
    "plt.gca().set_aspect('equal', 'box')\n",
    "plt.tight_layout()\n",
    "# plt.savefig('feature_space_colored_by_DC.pdf')\n",
    "plt.show()"
   ]
  },
  {
   "cell_type": "code",
   "execution_count": null,
   "id": "f93fcfe5",
   "metadata": {},
   "outputs": [],
   "source": [
    "which_BO_run = 1\n",
    "\n",
    "nb_acquired = [nb_COFs_initialization, 20, 40, 60, 80]\n",
    "max_y_seen = np.zeros(len(nb_acquired))\n",
    "fig, ax = plt.subplots(1, len(nb_acquired), sharey=True, sharex=True, figsize=[3*6.4, 4.8])\n",
    "# gray background\n",
    "for a in ax:\n",
    "    a.set_aspect('equal', 'box')\n",
    "    a.hexbin(X_2D[:, 0], X_2D[:, 1], C=0.3 * np.ones(nb_COFs), cmap=\"binary\", vmin=0, vmax=1)\n",
    "    \n",
    "for i in range(len(nb_acquired)):\n",
    "    ids_acquired = bo_res['ids_acquired'][which_BO_run][:nb_acquired[i]]\n",
    "    max_y_seen[i] = np.max(y[ids_acquired])\n",
    "    assert len(ids_acquired) == nb_acquired[i]\n",
    "    # use above colorbar to assign color!\n",
    "    ax[i].scatter(X_2D[ids_acquired, 0], X_2D[ids_acquired, 1], \n",
    "                  c=y[ids_acquired], marker=\"+\", s=55, vmin=cb.vmin, vmax=cb.vmax)\n",
    "    if i == 0:\n",
    "        ax[i].set_title('(initialization)\\n{} acquired COFs'.format(nb_acquired[i]))\n",
    "    else:\n",
    "        ax[i].set_title('{} acquired COFs'.format(nb_acquired[i]))\n",
    "    ax[i].tick_params(axis='x')\n",
    "ax[0].set_ylabel('PC 2', fontsize=14)\n",
    "\n",
    "ax[2].tick_params(axis='y', labelsize=0)\n",
    "\n",
    "\n",
    "fig.text(0.5, 0.2, 'PC 1', ha='center')\n",
    "plt.tight_layout()\n",
    "plt.savefig(\"feature_space_acquired_COFs.pdf\", bbox_inches=\"tight\")"
   ]
  }
 ],
 "metadata": {
  "kernelspec": {
   "display_name": "Python 3 (ipykernel)",
   "language": "python",
   "name": "python3"
  },
  "language_info": {
   "codemirror_mode": {
    "name": "ipython",
    "version": 3
   },
   "file_extension": ".py",
   "mimetype": "text/x-python",
   "name": "python",
   "nbconvert_exporter": "python",
   "pygments_lexer": "ipython3",
   "version": "3.8.10"
  }
 },
 "nbformat": 4,
 "nbformat_minor": 5
}
