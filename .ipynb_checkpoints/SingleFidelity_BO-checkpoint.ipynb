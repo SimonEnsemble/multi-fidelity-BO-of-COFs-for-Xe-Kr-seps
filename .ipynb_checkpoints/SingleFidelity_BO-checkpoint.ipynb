{
 "cells": [
  {
   "cell_type": "code",
   "execution_count": 1,
   "id": "dcce5056",
   "metadata": {},
   "outputs": [],
   "source": [
    "using JLD2\n",
    "using LinearAlgebra\n",
    "using PyPlot\n",
    "using StatsBase # Statistics\n",
    "using Distributions\n",
    "using PyCall\n",
    "using ScikitLearn # machine learning package\n",
    "@sk_import gaussian_process : GaussianProcessRegressor\n",
    "@sk_import gaussian_process.kernels : Matern\n",
    "\n",
    "# config plot settings\n",
    "rcParams = PyPlot.PyDict(PyPlot.matplotlib.\"rcParams\")\n",
    "rcParams[\"font.size\"] = 16;"
   ]
  },
  {
   "cell_type": "code",
   "execution_count": 2,
   "id": "bf0a0752",
   "metadata": {
    "scrolled": true
   },
   "outputs": [
    {
     "data": {
      "text/plain": [
       "5-element Vector{Symbol}:\n",
       " :X\n",
       " :henry_y\n",
       " :gcmc_y\n",
       " :henry_total_elapsed_time\n",
       " :gcmc_elapsed_time"
      ]
     },
     "execution_count": 2,
     "metadata": {},
     "output_type": "execute_result"
    }
   ],
   "source": [
    "###\n",
    "#  Load data\n",
    "###\n",
    "@load joinpath(pwd(), \"targets_and_normalized_features.jld2\") X henry_y gcmc_y henry_total_elapsed_time gcmc_elapsed_time"
   ]
  },
  {
   "cell_type": "markdown",
   "id": "8246bd0a",
   "metadata": {},
   "source": [
    "## BO Function"
   ]
  },
  {
   "cell_type": "code",
   "execution_count": 3,
   "id": "525b8899",
   "metadata": {
    "scrolled": true
   },
   "outputs": [
    {
     "data": {
      "text/plain": [
       "run_bayesian_optimization"
      ]
     },
     "execution_count": 3,
     "metadata": {},
     "output_type": "execute_result"
    }
   ],
   "source": [
    "### procedure:\n",
    "# 1. select initial COF identifiers set to train GP \n",
    "# 2. initialize and normalize array of initial target data \n",
    "# 3. itterate through budgetted number of BO runs\n",
    "#    a. construct GP model with kernel\n",
    "#    b. fit GP to current data for acquired COFs => gives ŷ(x)\n",
    "#    c. construct acquiaition function A(x)\n",
    "#    d. determine which COF to acquire next => evaluate argmax(A(x))\n",
    "#       i. for EI track if this is an exploitation or an exploration\n",
    "#    e. append COF identified in step 3.d to list of acquired COFs \n",
    "# 4. update final set of acquired COF data and normalize\n",
    "# 5. return the IDs for the set of acquired COFs\n",
    "###\n",
    "\"\"\"\n",
    "# Arguments\n",
    "- `X`: feature matrix\n",
    "- `y`: target vector\n",
    "- `nb_iterations`: maximum number of BO iterations (experiment budget)\n",
    "- `which_acquisition`: which acquisition function to implement\n",
    "` `store_explore_exploit_terms`: whether or not to keep track of the explore and exploit \n",
    "                                 terms from the acqisition for the acquired material at each iteration\n",
    "- `sample_gp`: whether or not to store sample GP functions\n",
    "- `initialize_with`: specify which and/or how many materials to initialize the search\n",
    "- `kwargs`: dictionary of optional keyword arguments\n",
    "\"\"\"\n",
    "function run_bayesian_optimization(X, y, nb_iterations::Int, \n",
    "                                   nb_COFs_initialization::Int;\n",
    "                                   which_acquisition::Symbol=:UCB,\n",
    "                                   store_explore_exploit_terms::Bool=false,\n",
    "                                   sample_gp::Bool=false,\n",
    "                                   initialize_with::Union{Array{Int, 1}, Nothing}=nothing,\n",
    "                                   kwargs::Dict{Symbol, Any}=Dict{Symbol, Any}())\n",
    "    # quick checks\n",
    "    @assert nb_iterations > nb_COFs_initialization \"More initializations than itterations not allowed.\"\n",
    "    @assert which_acquisition in [:UCB, :EI] \"Acquisition function not supported:\\t $(which_acquisition)\"\n",
    "    \n",
    "    # create array to store explore-explot terms if needed\n",
    "    if store_explore_exploit_terms\n",
    "        explore_exploit_balance = []\n",
    "    end\n",
    "    \n",
    "    if sample_gp\n",
    "        store_sample_y = []\n",
    "    end\n",
    "    \n",
    "    normal = Normal()\n",
    "    \n",
    "    ###\n",
    "    #  1. randomly select COF IDs for training initial GP\n",
    "    ###\n",
    "    if isnothing(initialize_with)\n",
    "        ids_acquired = StatsBase.sample(1:nb_COFs, nb_COFs_initialization, replace=false)\n",
    "        @assert length(unique(ids_acquired)) == nb_COFs_initialization\n",
    "    else\n",
    "        # initialize using a specified set of indecies\n",
    "        ids_acquired = initialize_with\n",
    "        @assert length(unique(ids_acquired)) == nb_COFs_initialization\n",
    "    end\n",
    "     \n",
    "    ###\n",
    "    #  3. itterate through budgetted number of BO runs\n",
    "    ###\n",
    "    for i in range(nb_COFs_initialization, stop=nb_iterations-1) \n",
    "        ###\n",
    "        #  a-b. construct and fit GP model\n",
    "        ###\n",
    "        kernel = Matern(nu=2.5, length_scale=0.25) \n",
    "        model = GaussianProcessRegressor(kernel=kernel, normalize_y=true, n_restarts_optimizer=5)\n",
    "        model.fit(X[ids_acquired, :], y[ids_acquired]) #train model on acquired data\n",
    "        \n",
    "        if sample_gp\n",
    "            sample_y = model.sample_y(X)\n",
    "            push!(store_sample_y, sample_y)\n",
    "        end\n",
    "        \n",
    "        ŷ, σ = model.predict(X, return_std=true)\n",
    "\n",
    "        \n",
    "        ###\n",
    "        #  c. setup acquisition function\n",
    "        ###\n",
    "        if which_acquisition == :UCB\n",
    "            # A(x) = ŷ(x) + βσ(x)\n",
    "            # where β controlls exploitation-exploration trade-off\n",
    "            β = 2.0\n",
    "            acquisition_values = ŷ .+ β * σ\n",
    "        elseif which_acquisition == :EI\n",
    "            # A(x) = integral{-∞}{+∞}[I(x)N(y|ŷ(x), σ²(x))dy]\n",
    "            # where I(x) = max(0, f(x) - maxᵢ(yᵢ))\n",
    "            if any(σ .== 0.0)\n",
    "                acquisition_values = zeros(length(σ))\n",
    "            else\n",
    "                y_max = maximum(y[ids_acquired])\n",
    "                z = (ŷ .- y_max) ./ σ\n",
    "                \n",
    "                exploit_term = (ŷ .- y_max) .* cdf(normal, z) \n",
    "                explore_term = σ .* pdf(normal, z)\n",
    "                \n",
    "                acquisition_values = exploit_term .+ explore_term\n",
    "            end\n",
    "        end\n",
    "        \n",
    "        ###\n",
    "        #  d. determine which COF to acquire next\n",
    "        ###\n",
    "        ids_sorted_by_aquisition = sortperm(acquisition_values, rev=true)\n",
    "        for id_max_aquisition in ids_sorted_by_aquisition\n",
    "            if ! (id_max_aquisition in ids_acquired)\n",
    "                ###\n",
    "                #  e. acqurie this COF (i.e. update list)\n",
    "                ###\n",
    "                push!(ids_acquired, id_max_aquisition)\n",
    "                if store_explore_exploit_terms\n",
    "                    # store explore and exploit terms\n",
    "                    if which_acquisition == :UCB\n",
    "                        push!(explore_exploit_balance, \n",
    "                              [ŷ[id_max_aquisition], β * σ[id_max_aquisition]])\n",
    "                    elseif which_acquisition == :EI\n",
    "                        push!(explore_exploit_balance, \n",
    "                              [exploit_term[id_max_aquisition], explore_term[id_max_aquisition]])\n",
    "                    end\n",
    "                end\n",
    "                break\n",
    "            end\n",
    "        end\n",
    "        # quick check\n",
    "        @assert length(ids_acquired) == i + 1\n",
    "    end\n",
    "    \n",
    "    # quick check (remember to account for final COF to be acquired)\n",
    "    @assert length(ids_acquired) == nb_iterations \"length(ids_acquired) = $(length(ids_acquired))\"\n",
    "    \n",
    "    ###\n",
    "    #  5. return the IDs for the set of acquired COFs\n",
    "    ###\n",
    "    if sample_gp\n",
    "        return ids_acquired, explore_exploit_balance, store_sample_y\n",
    "    else\n",
    "        return ids_acquired, explore_exploit_balance\n",
    "    end\n",
    "end"
   ]
  },
  {
   "cell_type": "code",
   "execution_count": 4,
   "id": "7fe44764",
   "metadata": {},
   "outputs": [
    {
     "data": {
      "text/plain": [
       "get_initializing_COF (generic function with 1 method)"
      ]
     },
     "execution_count": 4,
     "metadata": {},
     "output_type": "execute_result"
    }
   ],
   "source": [
    "###\n",
    "#  Find COF located nearest the center of the feature space\n",
    "###\n",
    "function get_initializing_COF(X)\n",
    "    min = sum(ones(Float64, length(X[1, :]))) # max possible value of normalized features\n",
    "    id_min = 0\n",
    "    com = 0.5 * ones(Float64, length(X[1, :])) # center of normalized feature space\n",
    "\n",
    "    for i in 1:length(X[:, 1])\n",
    "        dist = sqrt(sum((X[i, :] .- com).^2))\n",
    "        if dist < min\n",
    "            min = dist\n",
    "            id_min = i\n",
    "        end\n",
    "    end\n",
    "    return id_min\n",
    "end\n",
    "\n",
    "# function diverse_set(X, train_size)\n",
    "#     # initialize with one random point; pick others in a max diverse fashion\n",
    "#     ids_train = [get_initializing_COF(X)]\n",
    "#     # select remaining training points\n",
    "#     for j in 1:train_size\n",
    "#         # for each point in data set, compute its min dist to training set\n",
    "#         dist_to_train_set = norm.(X .- X[ids_train, :])\n",
    "#         min_dist_to_a_training_pt = minimum(dist_to_train_set)\n",
    "#         # acquire point with max(min distance to train set) i.e. Furthest from train set\n",
    "#         push!(ids_train, argmax(min_dist_to_a_training_pt))\n",
    "#     end\n",
    "#     return ids_train\n",
    "# end\n",
    "\n",
    "# nb_COFs = 608\n",
    "# # ids_train = [26, 495, 524]\n",
    "# train_size = 3\n",
    "# ids_train = [get_initializing_COF(X)]\n",
    "# for h in 1:train_size-1\n",
    "# #     val = ids_train[h]\n",
    "#     q = [X .- X[[ids_train[i]], :] for i in 1:h]\n",
    "#     p = [[norm(q[i][k, :]) for k in 1:nb_COFs] for i in 1:h]\n",
    "#     m = minimum(p, dims=2)[1]\n",
    "#     n = argmax(m)\n",
    "#     push!(ids_train, n)\n",
    "# end\n",
    "# ids_train"
   ]
  },
  {
   "cell_type": "markdown",
   "id": "659a6fdf",
   "metadata": {},
   "source": [
    "## Apply BO"
   ]
  },
  {
   "cell_type": "code",
   "execution_count": 5,
   "id": "08ebf676",
   "metadata": {},
   "outputs": [
    {
     "data": {
      "text/plain": [
       "3-element Vector{Int64}:\n",
       "  26\n",
       " 495\n",
       " 524"
      ]
     },
     "execution_count": 5,
     "metadata": {},
     "output_type": "execute_result"
    }
   ],
   "source": [
    "nb_COFs = length(gcmc_y)\n",
    "nb_iterations = 100\n",
    "nb_COFs_initialization = 3 # \n",
    "which_acquisition = :EI # :UCB or :EI \n",
    "\n",
    "# try to initialize using a COF that is close to the center of the domain (feature space)\n",
    "# initialize_with = \n",
    "initialize_with = [26, 495, 524] # diverse_set(X, train_size) #[get_initializing_COF(X)]"
   ]
  },
  {
   "cell_type": "code",
   "execution_count": 6,
   "id": "20678f30",
   "metadata": {
    "scrolled": true
   },
   "outputs": [],
   "source": [
    "acq_ids, eeb = run_bayesian_optimization(X, gcmc_y, nb_iterations, \n",
    "                                         nb_COFs_initialization;\n",
    "                                         which_acquisition=which_acquisition,\n",
    "                                         store_explore_exploit_terms=true,\n",
    "                                         sample_gp=false,\n",
    "                                         initialize_with=initialize_with);"
   ]
  },
  {
   "cell_type": "code",
   "execution_count": 7,
   "id": "8ebf1960",
   "metadata": {},
   "outputs": [
    {
     "data": {
      "text/plain": [
       "20"
      ]
     },
     "execution_count": 7,
     "metadata": {},
     "output_type": "execute_result"
    }
   ],
   "source": [
    "acq_max_id = findfirst(acq_ids .== findfirst(gcmc_y .== maximum(gcmc_y)))"
   ]
  },
  {
   "cell_type": "code",
   "execution_count": 8,
   "id": "1edd8c01",
   "metadata": {
    "scrolled": false
   },
   "outputs": [
    {
     "data": {
      "text/plain": [
       "4897.9533317526175"
      ]
     },
     "execution_count": 8,
     "metadata": {},
     "output_type": "execute_result"
    }
   ],
   "source": [
    "sum(gcmc_elapsed_time[acq_ids[1:acq_max_id]])"
   ]
  },
  {
   "cell_type": "markdown",
   "id": "fff229c7",
   "metadata": {},
   "source": [
    "## Do a Random Search"
   ]
  },
  {
   "cell_type": "code",
   "execution_count": 9,
   "id": "f1634dfd",
   "metadata": {},
   "outputs": [],
   "source": [
    "###\n",
    "#  Get Samples\n",
    "###\n",
    "nb_runs = 100\n",
    "\n",
    "rs_res = Dict{String, Array{Array{Float64, 1}, 1}}()\n",
    "rs_res[\"rs_cofs_acquired\"] = []\n",
    "for i in range(1, stop=nb_runs)\n",
    "    ids = StatsBase.sample(1:nb_COFs, nb_iterations, replace=false)\n",
    "    push!(rs_res[\"rs_cofs_acquired\"], gcmc_y[ids])\n",
    "end\n",
    "\n",
    "###\n",
    "#  Determine the distribution from random search\n",
    "###\n",
    "function random_search_dist(res::Dict)\n",
    "    # initialize arrays\n",
    "    rs_up_bnd = zeros(nb_iterations)\n",
    "    rs_mean   = zeros(nb_iterations)\n",
    "    rs_lw_bnd = zeros(nb_iterations)\n",
    "    \n",
    "    \n",
    "    for n in 1:nb_iterations\n",
    "        # max value acquired up to this point\n",
    "        y_max = [maximum(rs_res[\"rs_cofs_acquired\"][r][1:n]) for r in 1:nb_runs]\n",
    "        @assert length(y_max) == nb_runs\n",
    "        rs_mean[n]   = mean(y_max)\n",
    "        rs_up_bnd[n] = std(y_max[y_max .> rs_mean[n]])\n",
    "        rs_lw_bnd[n] = std(y_max[y_max .< rs_mean[n]])\n",
    "    end\n",
    "    \n",
    "    return rs_mean, rs_up_bnd, rs_lw_bnd\n",
    "end\n",
    "\n",
    "rs_mean, rs_upper_bound, rs_lower_bound = random_search_dist(rs_res);"
   ]
  },
  {
   "cell_type": "markdown",
   "id": "d7c2f4d3",
   "metadata": {},
   "source": [
    "## Plot: search efficiency curve"
   ]
  },
  {
   "cell_type": "code",
   "execution_count": 10,
   "id": "df87d640",
   "metadata": {},
   "outputs": [],
   "source": [
    "# plot maximum selectivity among acquired COFs as a function of the number of COFs acquired (itterations)\n",
    "# plot accumulated cost as a function of the number of COFs acquired (itterations)\n",
    "index = zeros(Int64, length(acq_ids))\n",
    "max_selectivity = zeros(Float64, length(acq_ids))\n",
    "acq_cost = zeros(Float64, length(acq_ids))\n",
    "\n",
    "for i in 1:length(acq_ids)\n",
    "    ids = acq_ids[1:i]\n",
    "    \n",
    "    acq_cost[i] = sum(gcmc_elapsed_time[ids])\n",
    "    \n",
    "    max_y = maximum(gcmc_y[ids])\n",
    "    max_selectivity[i] = max_y\n",
    "    \n",
    "    index[i] = i\n",
    "end"
   ]
  },
  {
   "cell_type": "code",
   "execution_count": 11,
   "id": "4628dc87",
   "metadata": {
    "scrolled": false
   },
   "outputs": [
    {
     "ename": "LoadError",
     "evalue": "InterruptException:",
     "output_type": "error",
     "traceback": [
      "InterruptException:",
      "",
      "Stacktrace:",
      "  [1] sigatomic_end",
      "    @ ./c.jl:437 [inlined]",
      "  [2] disable_sigint",
      "    @ ./c.jl:460 [inlined]",
      "  [3] __pycall!",
      "    @ ~/.julia/packages/PyCall/3fwVL/src/pyfncall.jl:42 [inlined]",
      "  [4] _pycall!(ret::PyObject, o::PyObject, args::Tuple{Int64}, nargs::Int64, kw::PyObject)",
      "    @ PyCall ~/.julia/packages/PyCall/3fwVL/src/pyfncall.jl:29",
      "  [5] _pycall!(ret::PyObject, o::PyObject, args::Tuple{Int64}, kwargs::Base.Iterators.Pairs{Symbol, Any, Tuple{Symbol, Symbol}, NamedTuple{(:sharex, :figsize), Tuple{Bool, Tuple{Int64, Int64}}}})",
      "    @ PyCall ~/.julia/packages/PyCall/3fwVL/src/pyfncall.jl:11",
      "  [6] #pycall#113",
      "    @ ~/.julia/packages/PyCall/3fwVL/src/pyfncall.jl:83 [inlined]",
      "  [7] subplots(args::Int64; kws::Base.Iterators.Pairs{Symbol, Any, Tuple{Symbol, Symbol}, NamedTuple{(:sharex, :figsize), Tuple{Bool, Tuple{Int64, Int64}}}})",
      "    @ PyPlot ~/.julia/packages/PyPlot/XaELc/src/PyPlot.jl:177",
      "  [8] top-level scope",
      "    @ In[11]:1",
      "  [9] eval",
      "    @ ./boot.jl:360 [inlined]",
      " [10] include_string(mapexpr::typeof(REPL.softscope), mod::Module, code::String, filename::String)",
      "    @ Base ./loading.jl:1116"
     ]
    }
   ],
   "source": [
    "fig, axs = subplots(2, sharex=true, figsize=(8, 8))\n",
    "# cost\n",
    "axs[1].axvline(x=nb_COFs_initialization, label=\"initialization\", color=\"tab:grey\", linestyle=\"--\", lw=2)\n",
    "axs[1].plot(index, acq_cost, label=\"cost\", color=\"tab:blue\", lw=2)\n",
    "# axs[1].set_title(\"Single-fidelity Bayesian Optimization\")\n",
    "axs[1].legend(loc=\"lower right\", fontsize=12)\n",
    "axs[1].set_ylabel(\"accumulated cost [min]\")\n",
    "axs[1].set_xlim([0.0, nb_iterations])\n",
    "axs[1].set_ylim([0.0, 25000])\n",
    "\n",
    "# search efficiency\n",
    "axs[2].axvline(x=nb_COFs_initialization, label=\"initialization\", color=\"tab:grey\", linestyle=\"--\", lw=2)\n",
    "axs[2].axhline(y=maximum(gcmc_y), label=\"global maximm\", color=\"tab:green\", ls=\"--\", lw=1.5)\n",
    "axs[2].plot(index, max_selectivity, label=\"BO\", color=\"tab:blue\", lw=2)\n",
    "\n",
    "axs[2].plot(index, rs_mean, label=\"random search\", color=\"tab:orange\", lw=2)\n",
    "axs[2].fill_between(index, rs_mean .- rs_lower_bound, rs_mean .+ rs_upper_bound, \n",
    "    color=\"tab:orange\", hatch=\"/\", alpha=0.15)\n",
    "\n",
    "# axs[2].title(\"Acquisition function: $(string(which_acquisition))\", fontsize=14)\n",
    "axs[2].legend(loc=\"lower right\", fontsize=12)\n",
    "axs[2].set_xlabel(\"# evaluated COFs\")\n",
    "axs[2].set_ylabel(\"max. \" * L\"S_{Xe/Kr}\" * \" acquired\")\n",
    "axs[2].set_ylim(ymin=0, ymax=20)\n",
    "\n",
    "tight_layout()\n",
    "savefig(joinpath(pwd(), \"figs\", \n",
    "        \"search_efficientcy_curve_$(string(which_acquisition)).pdf\"), dpi=600, format=\"pdf\")\n",
    "savefig(joinpath(pwd(), \"figs\", \n",
    "        \"search_efficientcy_and_cost_curve_$(string(which_acquisition)).png\"), dpi=600, format=\"png\")"
   ]
  },
  {
   "cell_type": "markdown",
   "id": "ecc59489",
   "metadata": {},
   "source": [
    "### Elxploration-Exploitation "
   ]
  },
  {
   "cell_type": "code",
   "execution_count": 12,
   "id": "cc437029",
   "metadata": {
    "scrolled": false
   },
   "outputs": [
    {
     "data": {
      "image/png": "[encoded data removed]",
      "text/plain": [
       "Figure(PyObject <Figure size 800x800 with 1 Axes>)"
      ]
     },
     "metadata": {},
     "output_type": "display_data"
    }
   ],
   "source": [
    "# make a plot of ŷ and σ as a function of itterations to see exploitation vs exploration\n",
    "fig, axs = subplots(figsize=(8, 8))\n",
    "\n",
    "index = [i for i in nb_COFs_initialization:nb_iterations-1]\n",
    "exploit = [eeb[i][1] for i in 1:length(eeb)]\n",
    "explore = [eeb[i][2] for i in 1:length(eeb)]\n",
    "\n",
    "axs.bar(index, explore, label=\"explore term\", color=\"tab:pink\")\n",
    "axs.bar(index, exploit, label=\"exploit term\", color=\"tab:cyan\", \n",
    "        ls=\"--\", bottom=explore)\n",
    "\n",
    "axs.scatter(index, exploit .+ explore, label=\"acquisition value\", \n",
    "            marker=\".\", facecolor=\"none\", edgecolor=\"k\", lw=0.8, zorder=2)\n",
    "\n",
    "axs.set_xlim([0, 100])\n",
    "title(\"Acquisition function: $(string(which_acquisition))\", fontsize=14)\n",
    "axs.legend(fontsize=14)\n",
    "axs.set_xlabel(\"# evaluated COFs\")\n",
    "axs.set_ylabel(\"Acquisition Value\")\n",
    "\n",
    "\n",
    "tight_layout()\n",
    "savefig(joinpath(pwd(), \"figs\", \n",
    "        \"exploration_exploitation_balance_$(string(which_acquisition)).png\"), dpi=600, format=\"png\")"
   ]
  },
  {
   "cell_type": "code",
   "execution_count": null,
   "id": "403950ed",
   "metadata": {},
   "outputs": [],
   "source": []
  }
 ],
 "metadata": {
  "kernelspec": {
   "display_name": "Julia 1.6.2",
   "language": "julia",
   "name": "julia-1.6"
  },
  "language_info": {
   "file_extension": ".jl",
   "mimetype": "application/julia",
   "name": "julia",
   "version": "1.6.2"
  }
 },
 "nbformat": 4,
 "nbformat_minor": 5
}
