{
 "cells": [
  {
   "cell_type": "code",
   "execution_count": 1,
   "id": "c9b42be9",
   "metadata": {
    "scrolled": true
   },
   "outputs": [
    {
     "name": "stderr",
     "output_type": "stream",
     "text": [
      "┌ Info: Precompiling PorousMaterials [68953c7c-a3c7-538e-83d3-73516288599e]\n",
      "└ @ Base loading.jl:1423\n",
      "\u001b[33m\u001b[1m┌ \u001b[22m\u001b[39m\u001b[33m\u001b[1mWarning: \u001b[22m\u001b[39mPackage PorousMaterials does not have Graphs in its dependencies:\n",
      "\u001b[33m\u001b[1m│ \u001b[22m\u001b[39m- If you have PorousMaterials checked out for development and have\n",
      "\u001b[33m\u001b[1m│ \u001b[22m\u001b[39m  added Graphs as a dependency but haven't updated your primary\n",
      "\u001b[33m\u001b[1m│ \u001b[22m\u001b[39m  environment's manifest file, try `Pkg.resolve()`.\n",
      "\u001b[33m\u001b[1m│ \u001b[22m\u001b[39m- Otherwise you may need to report an issue with PorousMaterials\n",
      "\u001b[33m\u001b[1m└ \u001b[22m\u001b[39mLoading Graphs into PorousMaterials from project dependency, future warnings for PorousMaterials are suppressed.\n",
      "┌ Warning: Error requiring `OffsetArrays` from `ArrayInterface`\n",
      "│   exception = (UndefVarError(:IdOffsetRange), Union{Ptr{Nothing}, Base.InterpreterIP}[Ptr{Nothing} @0x00007f867058648f, Ptr{Nothing} @0x00007f8670626d14, Ptr{Nothing} @0x00007f865c5bab42, Ptr{Nothing} @0x00007f8670606e79, Ptr{Nothing} @0x00007f8670625fe5, Ptr{Nothing} @0x00007f8670625a5d, Ptr{Nothing} @0x00007f8670626821, Ptr{Nothing} @0x00007f8670627447, Base.InterpreterIP in top-level CodeInfo for ArrayInterface at statement 11, Ptr{Nothing} @0x00007f86706448f3, Ptr{Nothing} @0x00007f8670646779, Ptr{Nothing} @0x00007f865a5a4ead, Ptr{Nothing} @0x00007f865a5a4ecf, Ptr{Nothing} @0x00007f8670606e79, Ptr{Nothing} @0x00007f8670625fe5, Ptr{Nothing} @0x00007f8670625a5d, Ptr{Nothing} @0x00007f8670626821, Ptr{Nothing} @0x00007f8670626b8c, Ptr{Nothing} @0x00007f867062703a, Base.InterpreterIP in MethodInstance for Requires.err(::Any, ::Module, ::String) at statement 2, Ptr{Nothing} @0x00007f865a5a4e17, Ptr{Nothing} @0x00007f865a5a4e2f, Ptr{Nothing} @0x00007f8670606e79, Ptr{Nothing} @0x00007f8670625fe5, Ptr{Nothing} @0x00007f8670625a5d, Ptr{Nothing} @0x00007f86706268b5, Ptr{Nothing} @0x00007f8670626b8c, Ptr{Nothing} @0x00007f867062703a, Base.InterpreterIP in MethodInstance for Requires.withpath(::Any, ::String) at statement 10, Ptr{Nothing} @0x00007f865a5a4d7f, Ptr{Nothing} @0x00007f865a5a4daf, Ptr{Nothing} @0x00007f8670606e79, Ptr{Nothing} @0x00007f8670617646, Ptr{Nothing} @0x00007f865a5a4c08, Ptr{Nothing} @0x00007f8670606e79, Ptr{Nothing} @0x00007f8670625fe5, Ptr{Nothing} @0x00007f8670625a5d, Ptr{Nothing} @0x00007f8670626821, Ptr{Nothing} @0x00007f867062703a, Base.InterpreterIP in MethodInstance for Requires.loadpkg(::Base.PkgId) at statement 6, Ptr{Nothing} @0x00007f8670606e79, Ptr{Nothing} @0x00007f8670617646, Ptr{Nothing} @0x00007f865a530afa, Ptr{Nothing} @0x00007f865a531289, Ptr{Nothing} @0x00007f865a5329a5, Ptr{Nothing} @0x00007f865a5341b2, Ptr{Nothing} @0x00007f865a534fb8, Ptr{Nothing} @0x00007f8670606e79, Ptr{Nothing} @0x00007f8670643751, Ptr{Nothing} @0x00007f8670645a76, Ptr{Nothing} @0x00007f8670644b34, Ptr{Nothing} @0x00007f8670646779, Ptr{Nothing} @0x00007f865a58d25c, Ptr{Nothing} @0x00007f865a58d649, Ptr{Nothing} @0x00007f8670606e79, Ptr{Nothing} @0x00007f865a58b31c, Ptr{Nothing} @0x00007f8670606e79, Ptr{Nothing} @0x00007f8670617646, Ptr{Nothing} @0x00007f865a56639a, Ptr{Nothing} @0x00007f865a56692a, Ptr{Nothing} @0x00007f865a56693f, Ptr{Nothing} @0x00007f8670606e79, Ptr{Nothing} @0x00007f867062b39e])\n",
      "└ @ Requires /home/ng/.julia/packages/Requires/7Ncym/src/require.jl:49\n"
     ]
    }
   ],
   "source": [
    "using PorousMaterials \n",
    "using JLD2\n",
    "using PyPlot\n",
    "using PyCall\n",
    "using CSV\n",
    "using DataFrames\n",
    "using StatsBase\n",
    "using Formatting\n",
    "\n",
    "# config plot settings\n",
    "rcParams = PyPlot.PyDict(PyPlot.matplotlib.\"rcParams\")\n",
    "rcParams[\"font.size\"] = 16;"
   ]
  },
  {
   "cell_type": "markdown",
   "id": "3a693e7a",
   "metadata": {},
   "source": [
    "## Load Descriptor Data"
   ]
  },
  {
   "cell_type": "code",
   "execution_count": 2,
   "id": "062fe6f5",
   "metadata": {},
   "outputs": [],
   "source": [
    "###\n",
    "#  load properties\n",
    "###\n",
    "chem_props_filename = joinpath(pwd(), \"descriptors/chemical_properties.csv\")\n",
    "geo_props_filename  = joinpath(pwd(), \"descriptors/geometric_properties.csv\")\n",
    "\n",
    "chemical_properties  = CSV.read(chem_props_filename, DataFrame)\n",
    "geometric_properties = CSV.read(geo_props_filename, DataFrame)\n",
    "\n",
    "descriptors = outerjoin(geometric_properties, chemical_properties, on=[\"crystal_name\"]);\n",
    "rename!(descriptors, \"crystal_name\" => \"xtal\")\n",
    "\n",
    "# WARNING: for these COFs, \"⟨N⟩ (mmol/g)\" = [0.0, 0.0] producing sel = NaN... need to run gcmc on these?\n",
    "skip_for_now = [\"13030N2_ddec.cif\", \"16371N2_ddec.cif\", \"20565N3_ddec.cif\", \"21090N3_ddec.cif\"] \n",
    "\n",
    "filter!(row -> ! (row[\"xtal\"] in skip_for_now), descriptors);"
   ]
  },
  {
   "cell_type": "code",
   "execution_count": 3,
   "id": "6f1fd207",
   "metadata": {},
   "outputs": [
    {
     "data": {
      "text/plain": [
       "2-element Vector{String}:\n",
       " \"05000N2_ddec.cif\"\n",
       " \"17156N2_ddec.cif\""
      ]
     },
     "execution_count": 3,
     "metadata": {},
     "output_type": "execute_result"
    }
   ],
   "source": [
    "###\n",
    "#  simulation parameters\n",
    "###\n",
    "adsorbates = Molecule.([\"Kr\", \"Xe\"])\n",
    "mole_fxn   = [0.8, 0.2] # [Kr, Xe]\n",
    "total_pressure = 1.0    # bar\n",
    "partial_pressures = total_pressure * mole_fxn\n",
    "\n",
    "temperature = 298.0 # K\n",
    "ljff = LJForceField(\"UFF\")\n",
    "nb_ins_per_vol = 500\n",
    "nb_cyc_per_vol = 500\n",
    "\n",
    "benchmarked_cofs = [\"05000N2_ddec.cif\", \"17156N2_ddec.cif\"]"
   ]
  },
  {
   "cell_type": "code",
   "execution_count": 4,
   "id": "f1719673",
   "metadata": {},
   "outputs": [
    {
     "data": {
      "text/plain": [
       "false"
      ]
     },
     "execution_count": 4,
     "metadata": {},
     "output_type": "execute_result"
    }
   ],
   "source": [
    "# save target vectors and feature vectors \n",
    "save_to_file =  true # default: true  \n",
    "\n",
    "# save figures\n",
    "save_figures = false # default: false"
   ]
  },
  {
   "cell_type": "code",
   "execution_count": 5,
   "id": "b27a0621",
   "metadata": {},
   "outputs": [
    {
     "data": {
      "text/plain": [
       "calculate_num_burn_and_sample_cycles (generic function with 1 method)"
      ]
     },
     "execution_count": 5,
     "metadata": {},
     "output_type": "execute_result"
    }
   ],
   "source": [
    "function calculate_selectivity(n1::Float64, n2::Float64, \n",
    "                               dn1::Float64, dn2::Float64;\n",
    "                               fxn1::Float64=1.0, fxn2::Float64=1.0)\n",
    "    \n",
    "    selectivity = (n1 / fxn1) / (n2 / fxn2)\n",
    "    err_selectivity = selectivity * sqrt((dn1 / n1) ^ 2 + (dn2 / n2) ^ 2) # mole fraction in error?\n",
    "    return selectivity, err_selectivity\n",
    "end\n",
    "\n",
    "function calculate_num_burn_and_sample_cycles(xtal::Crystal, cycles_per_volume::Int64; \n",
    "                                              fraction_burn_cycles::Float64=0.5)\n",
    "    nb_cycles = max(5, ceil(Int, cycles_per_volume * xtal.box.Ω))\n",
    "    @assert (0.0 < fraction_burn_cycles) && (fraction_burn_cycles < 1.0) \n",
    "    n_burn_cycles   = ceil(Int, nb_cycles * fraction_burn_cycles)\n",
    "    n_sample_cycles = ceil(Int, nb_cycles * (1 - fraction_burn_cycles))\n",
    "    return n_burn_cycles, n_sample_cycles\n",
    "end"
   ]
  },
  {
   "cell_type": "markdown",
   "id": "c9b3675b",
   "metadata": {},
   "source": [
    "## Load Simulation Data"
   ]
  },
  {
   "cell_type": "code",
   "execution_count": 6,
   "id": "90bebe80",
   "metadata": {},
   "outputs": [
    {
     "data": {
      "text/html": [
       "<table class=\"data-frame\"><thead><tr><th></th><th>xtal</th><th>henry_selectivity</th><th>gcmc_selectivity</th><th>henry_total_elapsed_time</th></tr><tr><th></th><th>String?</th><th>Float64</th><th>Float64</th><th>Float64</th></tr></thead><tbody><p>5 rows × 5 columns (omitted printing of 1 columns)</p><tr><th>1</th><td>05000N2_ddec.cif</td><td>1.58051</td><td>1.69624</td><td>3.45251</td></tr><tr><th>2</th><td>05001N2_ddec.cif</td><td>3.27135</td><td>3.2725</td><td>10.9069</td></tr><tr><th>3</th><td>07000N2_ddec.cif</td><td>2.9979</td><td>2.99372</td><td>8.65074</td></tr><tr><th>4</th><td>07001N2_ddec.cif</td><td>9.01379</td><td>9.65039</td><td>3.58279</td></tr><tr><th>5</th><td>07002N2_ddec.cif</td><td>3.60253</td><td>3.64401</td><td>6.52384</td></tr></tbody></table>"
      ],
      "text/latex": [
       "\\begin{tabular}{r|ccccc}\n",
       "\t& xtal & henry\\_selectivity & gcmc\\_selectivity & henry\\_total\\_elapsed\\_time & \\\\\n",
       "\t\\hline\n",
       "\t& String? & Float64 & Float64 & Float64 & \\\\\n",
       "\t\\hline\n",
       "\t1 & 05000N2\\_ddec.cif & 1.58051 & 1.69624 & 3.45251 & $\\dots$ \\\\\n",
       "\t2 & 05001N2\\_ddec.cif & 3.27135 & 3.2725 & 10.9069 & $\\dots$ \\\\\n",
       "\t3 & 07000N2\\_ddec.cif & 2.9979 & 2.99372 & 8.65074 & $\\dots$ \\\\\n",
       "\t4 & 07001N2\\_ddec.cif & 9.01379 & 9.65039 & 3.58279 & $\\dots$ \\\\\n",
       "\t5 & 07002N2\\_ddec.cif & 3.60253 & 3.64401 & 6.52384 & $\\dots$ \\\\\n",
       "\\end{tabular}\n"
      ],
      "text/plain": [
       "\u001b[1m5×5 DataFrame\u001b[0m\n",
       "\u001b[1m Row \u001b[0m│\u001b[1m xtal             \u001b[0m\u001b[1m henry_selectivity \u001b[0m\u001b[1m gcmc_selectivity \u001b[0m\u001b[1m henry_total_elap\u001b[0m ⋯\n",
       "\u001b[1m     \u001b[0m│\u001b[90m String?          \u001b[0m\u001b[90m Float64           \u001b[0m\u001b[90m Float64          \u001b[0m\u001b[90m Float64         \u001b[0m ⋯\n",
       "─────┼──────────────────────────────────────────────────────────────────────────\n",
       "   1 │ 05000N2_ddec.cif            1.58051           1.69624                   ⋯\n",
       "   2 │ 05001N2_ddec.cif            3.27135           3.2725\n",
       "   3 │ 07000N2_ddec.cif            2.9979            2.99372\n",
       "   4 │ 07001N2_ddec.cif            9.01379           9.65039\n",
       "   5 │ 07002N2_ddec.cif            3.60253           3.64401                   ⋯\n",
       "\u001b[36m                                                               2 columns omitted\u001b[0m"
      ]
     },
     "execution_count": 6,
     "metadata": {},
     "output_type": "execute_result"
    }
   ],
   "source": [
    "###\n",
    "#  create DataFrame to populate \n",
    "###\n",
    "z  =  zeros(Float64, length(descriptors[:, \"xtal\"]))\n",
    "zs = [zeros(Float64, length(adsorbates)) for i in 1:length(descriptors[:, \"xtal\"])]\n",
    "\n",
    "df = DataFrame(xtal = descriptors[:, \"xtal\"],\n",
    "               henry_coeff              = deepcopy(zs), \n",
    "               err_henry_coeff          = deepcopy(zs),\n",
    "               henry_elapsed_time       = deepcopy(zs),\n",
    "               henry_total_elapsed_time = deepcopy(z),\n",
    "               henry_selectivity        = deepcopy(z),\n",
    "               err_henry_selectivity    = deepcopy(z),\n",
    "               gcmc_uptake              = deepcopy(zs),\n",
    "               err_gcmc_uptake          = deepcopy(zs),\n",
    "               gcmc_pressure            = deepcopy(zs),\n",
    "               gcmc_elapsed_time        = deepcopy(z),\n",
    "               gcmc_selectivity         = deepcopy(z),\n",
    "               err_gcmc_selectivity     = deepcopy(z)\n",
    "               )\n",
    "\n",
    "###\n",
    "#  loop over xtals \n",
    "###\n",
    "for (i, row) in enumerate(eachrow(df)) \n",
    "    # make sure we are on the correct row\n",
    "    @assert row[:xtal] == descriptors[i, \"xtal\"]\n",
    "    \n",
    "    # load crystal\n",
    "    xtal = Crystal(row[:xtal]; check_neutrality=false)\n",
    "\n",
    "    for (j, molecule) in enumerate(adsorbates) # [Kr, Xe]\n",
    "        ###\n",
    "        # load and assign Henry data\n",
    "        ###\n",
    "        henry_filename = henry_result_savename(xtal, molecule, temperature, ljff, nb_ins_per_vol)\n",
    "        @load joinpath(PorousMaterials.rc[:paths][:simulations], henry_filename) results\n",
    "        \n",
    "        row[:henry_coeff][j] = results[\"henry coefficient [mmol/(g-bar)]\"]\n",
    "        row[:err_henry_coeff][j] = results[\"err henry coefficient [mmol/(g-bar)]\"]\n",
    "        row[:henry_elapsed_time][j] = results[\"elapsed time (min)\"]\n",
    "    end\n",
    "    # calculate total time to run set of Henry calculations\n",
    "    row[:henry_total_elapsed_time] = sum(row[:henry_elapsed_time])\n",
    "    \n",
    "    ###\n",
    "    #  load and assign GCMC data\n",
    "    ###\n",
    "    n_burn, n_sample = calculate_num_burn_and_sample_cycles(xtal, nb_cyc_per_vol)\n",
    "    gcmc_filename = μVT_output_filename(xtal, adsorbates, temperature, \n",
    "                                        partial_pressures, ljff, n_burn, n_sample)\n",
    "    @load joinpath(PorousMaterials.rc[:paths][:simulations], gcmc_filename) results\n",
    "\n",
    "    row[:gcmc_uptake] = results[\"⟨N⟩ (mmol/g)\"]\n",
    "    row[:err_gcmc_uptake] = results[\"err ⟨N⟩ (mmol/g)\"]\n",
    "    row[:gcmc_pressure] = results[\"pressure (bar)\"]\n",
    "    row[:gcmc_elapsed_time] = results[\"elapsed time (min)\"]\n",
    "    # assert that adsorbates in correct order\n",
    "    \n",
    "    ###\n",
    "    # calculate and assign selectivities with associated error\n",
    "    ###\n",
    "    selectivity, err_selectivity = calculate_selectivity(row[:henry_coeff][2],\n",
    "                                                         row[:henry_coeff][1],\n",
    "                                                         row[:err_henry_coeff][2],\n",
    "                                                         row[:err_henry_coeff][1])\n",
    "    row[:henry_selectivity] = selectivity\n",
    "    row[:err_henry_selectivity] = err_selectivity\n",
    "    \n",
    "    # recall: adsorbates = [\"Kr\", \"Xe\"] and we want S_xe/kr\n",
    "    selectivity, err_selectivity = calculate_selectivity(row[:gcmc_uptake][2],\n",
    "                                                         row[:gcmc_uptake][1],\n",
    "                                                         row[:err_gcmc_uptake][2],\n",
    "                                                         row[:err_gcmc_uptake][1];\n",
    "                                                         fxn1=0.2, fxn2=0.8) #[Xe, Kr]\n",
    "    row[:gcmc_selectivity] = selectivity \n",
    "    row[:err_gcmc_selectivity] = err_selectivity\n",
    "end\n",
    "# write to file (only include xtal name and targets for GP)\n",
    "# CSV.write(joinpath(pwd(), \"target_and_cost_data.csv\"), df[:, [:xtal, :henry_selectivity, :gcmc_selectivity]])\n",
    "df[1:5, [:xtal, :henry_selectivity, :gcmc_selectivity, :henry_total_elapsed_time, :gcmc_elapsed_time]]"
   ]
  },
  {
   "cell_type": "code",
   "execution_count": 7,
   "id": "7708935c",
   "metadata": {},
   "outputs": [
    {
     "data": {
      "text/html": [
       "<p>DataFrameRow (5 columns)</p><table class=\"data-frame\"><thead><tr><th></th><th>xtal</th><th>henry_selectivity</th><th>gcmc_selectivity</th><th>henry_total_elapsed_time</th></tr><tr><th></th><th>String?</th><th>Float64</th><th>Float64</th><th>Float64</th></tr></thead><tbody><tr><th>85</th><td>14010N2_ddec.cif</td><td>3.88053</td><td>3.90427</td><td>14.2275</td></tr></tbody></table>"
      ],
      "text/latex": [
       "\\begin{tabular}{r|ccccc}\n",
       "\t& xtal & henry\\_selectivity & gcmc\\_selectivity & henry\\_total\\_elapsed\\_time & \\\\\n",
       "\t\\hline\n",
       "\t& String? & Float64 & Float64 & Float64 & \\\\\n",
       "\t\\hline\n",
       "\t85 & 14010N2\\_ddec.cif & 3.88053 & 3.90427 & 14.2275 & $\\dots$ \\\\\n",
       "\\end{tabular}\n"
      ],
      "text/plain": [
       "\u001b[1mDataFrameRow\u001b[0m\n",
       "\u001b[1m Row \u001b[0m│\u001b[1m xtal             \u001b[0m\u001b[1m henry_selectivity \u001b[0m\u001b[1m gcmc_selectivity \u001b[0m\u001b[1m henry_total_elap\u001b[0m ⋯\n",
       "\u001b[1m     \u001b[0m│\u001b[90m String?          \u001b[0m\u001b[90m Float64           \u001b[0m\u001b[90m Float64          \u001b[0m\u001b[90m Float64         \u001b[0m ⋯\n",
       "─────┼──────────────────────────────────────────────────────────────────────────\n",
       "  85 │ 14010N2_ddec.cif            3.88053           3.90427                   ⋯\n",
       "\u001b[36m                                                               2 columns omitted\u001b[0m"
      ]
     },
     "execution_count": 7,
     "metadata": {},
     "output_type": "execute_result"
    }
   ],
   "source": [
    "# look at the output for a given COF\n",
    "cof_14010N2_id = findfirst([name == \"14010N2_ddec.cif\" for name in df[!, :xtal]])\n",
    "df[cof_14010N2_id, [:xtal, :henry_selectivity, :gcmc_selectivity, :henry_total_elapsed_time, :gcmc_elapsed_time]]"
   ]
  },
  {
   "cell_type": "markdown",
   "id": "f3655617",
   "metadata": {},
   "source": [
    "## Prepare Data For GP"
   ]
  },
  {
   "cell_type": "code",
   "execution_count": 8,
   "id": "42de8384",
   "metadata": {},
   "outputs": [
    {
     "data": {
      "text/plain": [
       "15-element Vector{String}:\n",
       " \"xtal\"\n",
       " \"pore_diameter_Å\"\n",
       " \"void_fraction\"\n",
       " \"surface_area_m²g⁻¹\"\n",
       " \"crystal_density\"\n",
       " \"B\"\n",
       " \"O\"\n",
       " \"C\"\n",
       " \"H\"\n",
       " \"Si\"\n",
       " \"N\"\n",
       " \"S\"\n",
       " \"P\"\n",
       " \"halogens\"\n",
       " \"metals\""
      ]
     },
     "execution_count": 8,
     "metadata": {},
     "output_type": "execute_result"
    }
   ],
   "source": [
    "names(descriptors)"
   ]
  },
  {
   "cell_type": "code",
   "execution_count": 9,
   "id": "563aa789",
   "metadata": {
    "scrolled": true
   },
   "outputs": [
    {
     "data": {
      "text/plain": [
       "608×14 Matrix{Float64}:\n",
       "  3.84928  0.3102   4190.07  1049.37   …  0.0        0.0        0.0  0.0  0.0\n",
       " 19.7302   0.64806  3161.08   585.477     0.0        0.0        0.0  0.0  0.0\n",
       " 26.1625   0.71368  3416.33   458.054     0.0        0.0        0.0  0.0  0.0\n",
       "  7.82083  0.36936  2542.92  1100.22      0.0        0.0        0.0  0.0  0.0\n",
       " 14.8469   0.56072  3321.89   703.114     0.0        0.0        0.0  0.0  0.0\n",
       "  9.33026  0.7131   5244.15   421.68   …  0.0        0.0        0.0  0.0  0.0\n",
       "  9.94867  0.73572  5444.29   383.117     0.0        0.0        0.0  0.0  0.0\n",
       " 18.946    0.88136  5330.44   180.981     0.0        0.0        0.0  0.0  0.0\n",
       " 27.193    0.88836  5199.24   171.075     0.0        0.0        0.0  0.0  0.0\n",
       " 10.0414   0.63932  5594.39   519.979     0.0        0.0        0.0  0.0  0.0\n",
       "  4.7838   0.23682  3836.5   1143.15   …  0.0        0.0        0.0  0.0  0.0\n",
       "  7.51918  0.3622   3597.33   988.327     0.0        0.0        0.0  0.0  0.0\n",
       "  9.8332   0.45334  3425.38   874.7       0.0        0.0        0.0  0.0  0.0\n",
       "  ⋮                                    ⋱             ⋮                    \n",
       "  4.50341  0.28146  4385.18  1052.22      0.0366972  0.0        0.0  0.0  0.0\n",
       "  8.19356  0.49458  4973.39   724.344     0.0330579  0.0        0.0  0.0  0.0\n",
       " 33.8692   0.79948  3511.31   334.814     0.0833333  0.0        0.0  0.0  0.0\n",
       " 24.4929   0.71534  4426.95   432.859     0.0327869  0.0327869  0.0  0.0  0.0\n",
       " 23.3063   0.75112  5315.98   377.387  …  0.0516129  0.0387097  0.0  0.0  0.0\n",
       " 22.3437   0.70158  4265.25   436.65      0.0327869  0.0        0.0  0.0  0.0\n",
       " 25.838    0.72224  3969.62   418.259     0.0327869  0.0        0.0  0.0  0.0\n",
       " 44.2216   0.82738  5027.16   242.283     0.0357143  0.0        0.0  0.0  0.0\n",
       " 44.8273   0.82764  4812.21   250.06      0.0357143  0.0        0.0  0.0  0.0\n",
       " 29.8214   0.74734  4951.51   370.307  …  0.0597015  0.0        0.0  0.0  0.0\n",
       " 28.1907   0.73408  4388.21   398.719     0.0597015  0.0        0.0  0.0  0.0\n",
       " 18.4584   0.63108  3909.91   553.427     0.0677966  0.0        0.0  0.0  0.0"
      ]
     },
     "execution_count": 9,
     "metadata": {},
     "output_type": "execute_result"
    }
   ],
   "source": [
    "###\n",
    "#  construct feature matrix and target vector for GP\n",
    "###\n",
    "x_cols = [name for name in names(descriptors) if name != \"xtal\"]\n",
    "n_xtals = nrow(descriptors)\n",
    "\n",
    "X = zeros(n_xtals, length(x_cols))\n",
    "henry_y = zeros(n_xtals)\n",
    "gcmc_y  = zeros(n_xtals)\n",
    "henry_total_elapsed_time = zeros(n_xtals)\n",
    "gcmc_elapsed_time = zeros(n_xtals)\n",
    "\n",
    "for (i, row) in enumerate(eachrow(descriptors))   \n",
    "    for (j, col_name) in enumerate(x_cols)\n",
    "        X[i, j] = row[col_name]\n",
    "    end\n",
    "    # Xe/Kr Selectivity\n",
    "    henry_y[i] = df[i, :henry_selectivity]\n",
    "    henry_total_elapsed_time[i] = df[i, :henry_total_elapsed_time] # [min]\n",
    "    gcmc_y[i]  = df[i, :gcmc_selectivity]\n",
    "    gcmc_elapsed_time[i] = df[i, :gcmc_elapsed_time] # [min]\n",
    "end\n",
    "X # look at y too!"
   ]
  },
  {
   "cell_type": "code",
   "execution_count": 10,
   "id": "d044ade6",
   "metadata": {
    "scrolled": false
   },
   "outputs": [],
   "source": [
    "###\n",
    "#  save top COF feature vector so we can visualize it as a radar plot \n",
    "###\n",
    "descriptors[argmax(df[:, :gcmc_selectivity]), :]\n",
    "top_COF_id = argmax(df[:, :gcmc_selectivity])\n",
    "@assert descriptors[argmax(df[:, :gcmc_selectivity]), :xtal] == df[argmax(df[:, :gcmc_selectivity]), :xtal]\n",
    "\n",
    "test_ind = 1\n",
    "for name in names(descriptors)\n",
    "    if name == \"xtal\"\n",
    "        continue\n",
    "    end\n",
    "    @assert descriptors[top_COF_id, name] == X[top_COF_id, test_ind]\n",
    "    test_ind += 1\n",
    "end\n",
    "\n",
    "if save_to_file\n",
    "    save(joinpath(pwd(), \"figs\", \"top_COF_feature_vector.jld2\"), \n",
    "        Dict(\"features\" => X[top_COF_id, :])\n",
    "    )\n",
    "end"
   ]
  },
  {
   "cell_type": "code",
   "execution_count": 11,
   "id": "315d3803",
   "metadata": {},
   "outputs": [
    {
     "name": "stdout",
     "output_type": "stream",
     "text": [
      "For X_scaled[:, 2] - \n",
      "\tminimum:\t0.0\n",
      "\tmaximum:\t1.0\n",
      "\tmean:\t\t0.5863775641608338\n",
      "\tstd:\t\t0.17866313922650942\n",
      "\tdist. width:\t1.0\n"
     ]
    }
   ],
   "source": [
    "###\n",
    "#  Normalize the feature vectors w.r.t. the mean\n",
    "###\n",
    "X_scaled = deepcopy(X) # make a copy of the data\n",
    "\n",
    "for j in 1:length(x_cols)\n",
    "    # note that the lowest allowable value is zero\n",
    "    X_scaled[:, j] = (X_scaled[:, j] .- minimum(X_scaled[:, j])) / (maximum(X_scaled[:, j]) - minimum(X_scaled[:, j]))\n",
    "end\n",
    "\n",
    "@assert X_scaled != X \n",
    "\n",
    "# print dist. info\n",
    "println(\"For X_scaled[:, 2] - \")\n",
    "println(\"\\tminimum:\\t\", minimum(X_scaled[:, 2]), \"\\n\\tmaximum:\\t\", maximum(X_scaled[:, 2]))\n",
    "println(\"\\tmean:\\t\\t\", StatsBase.mean(X_scaled[:, 2]), \"\\n\\tstd:\\t\\t\", StatsBase.std(X_scaled[:, 2]))\n",
    "println(\"\\tdist. width:\\t\", (maximum(X_scaled[:, 2]) - minimum(X_scaled[:, 2])))"
   ]
  },
  {
   "cell_type": "markdown",
   "id": "bf0bf459",
   "metadata": {},
   "source": [
    "### Write to file"
   ]
  },
  {
   "cell_type": "code",
   "execution_count": 12,
   "id": "f13f99c4",
   "metadata": {},
   "outputs": [],
   "source": [
    "# we have to enforce the data type otherwise the JLD2 file will not work\n",
    "# i.e. it will save pointers instead of the values\n",
    "cofs = [String(c) for c in df[!, :xtal]];"
   ]
  },
  {
   "cell_type": "code",
   "execution_count": 16,
   "id": "90ff7a42",
   "metadata": {},
   "outputs": [],
   "source": [
    "###\n",
    "#  save target vectors and the raw and normalized feature vectors \n",
    "###\n",
    "if save_to_file\n",
    "    ###\n",
    "    #  targets and raw features\n",
    "    ###\n",
    "    save(joinpath(pwd(), \"run_BO\", \"targets_and_raw_features.jld2\"), \n",
    "                 Dict(\"COFs\" => cofs, \"feature_names\" => names(descriptors)[2:end], \n",
    "                      \"X\" => X, \n",
    "                      \"henry_y\" => henry_y, \"gcmc_y\" => gcmc_y, \n",
    "                      \"henry_total_elapsed_time\" => henry_total_elapsed_time, # [min]\n",
    "                      \"gcmc_elapsed_time\" => gcmc_elapsed_time)) # [min]\n",
    "\n",
    "    ###\n",
    "    #  targets and normalized features\n",
    "    ###\n",
    "    save(joinpath(pwd(), \"run_BO\", \"targets_and_normalized_features.jld2\"), \n",
    "            Dict(\"COFs\" => cofs, \"feature_names\" => names(descriptors)[2:end], \n",
    "                 \"X\" => X_scaled, \n",
    "                 \"henry_y\" => henry_y, \"gcmc_y\" => gcmc_y, \n",
    "                 \"henry_total_elapsed_time\" => henry_total_elapsed_time, \n",
    "                 \"gcmc_elapsed_time\" => gcmc_elapsed_time))\n",
    "end"
   ]
  },
  {
   "cell_type": "markdown",
   "id": "fa49cc5b",
   "metadata": {},
   "source": [
    "# Plotting Preliminary Analysis:"
   ]
  },
  {
   "cell_type": "code",
   "execution_count": null,
   "id": "2ef97acf",
   "metadata": {},
   "outputs": [],
   "source": [
    "###\n",
    "#  Compute statistics about the fit\n",
    "#  RMSE, R2 and Spearmann correlation\n",
    "##\n",
    "rmse = sqrt(mean((df[:, :gcmc_selectivity] - df[:, :henry_selectivity]).^2))\n",
    "\n",
    "R2 = 1.0 - (sum((df[:, :gcmc_selectivity] - df[:, :henry_selectivity]).^2) / \n",
    "            sum((df[:, :gcmc_selectivity] .- mean(df[:, :gcmc_selectivity])).^2))\n",
    "\n",
    "rho_spearman = corspearman(df[:, :gcmc_selectivity], df[:, :henry_selectivity])"
   ]
  },
  {
   "cell_type": "code",
   "execution_count": null,
   "id": "6be5e578",
   "metadata": {},
   "outputs": [],
   "source": [
    "# useful for plot formating \n",
    "mkr_sz = [8 for i in 1:length(descriptors[:, \"xtal\"])];\n",
    "mkr_c = [\"C0\" for i in 1:length(descriptors[:, \"xtal\"])]\n",
    "\n",
    "# color benchmark cofs red\n",
    "mkr_c[findfirst(descriptors[:, \"xtal\"] .== benchmarked_cofs[1])] = \"C3\"\n",
    "mkr_c[findfirst(descriptors[:, \"xtal\"] .== benchmarked_cofs[2])] = \"C3\""
   ]
  },
  {
   "cell_type": "code",
   "execution_count": null,
   "id": "047145f9",
   "metadata": {},
   "outputs": [],
   "source": [
    "fig = figure()\n",
    "\n",
    "scatter(descriptors[:, \"pore_diameter_Å\"], df[:, :henry_total_elapsed_time], \n",
    "        facecolor=\"none\", edgecolor=mkr_c, linewidth=0.5, s=mkr_sz)\n",
    "\n",
    "title(\"cost vs pore diameter distribution\")\n",
    "xlabel(\"pore size [Å]\")\n",
    "ylabel(\"low fidelity cost [min]\")\n",
    "\n",
    "tight_layout()"
   ]
  },
  {
   "cell_type": "code",
   "execution_count": null,
   "id": "47613ed9",
   "metadata": {
    "scrolled": false
   },
   "outputs": [],
   "source": [
    "figure()\n",
    "\n",
    "scatter(df[:, :gcmc_elapsed_time], df[:, :henry_total_elapsed_time], \n",
    "        facecolor=\"none\", edgecolor=mkr_c, lw=0.5, s=mkr_sz)\n",
    "\n",
    "# track fraction above or on the equal cost line\n",
    "unfavorable = sum(sum.(df[:, :henry_elapsed_time]) .>= df[:, :gcmc_elapsed_time])\n",
    "favorable = length(df[:, :gcmc_elapsed_time]) - unfavorable\n",
    "\n",
    "cost_ratio = unfavorable / length(df[:, :gcmc_elapsed_time])\n",
    "println(\"cost ratio: $(cost_ratio) unfavorable, $(1 - cost_ratio) favorable\")\n",
    "\n",
    "# plot the line: y=x\n",
    "x = range(0.0, stop=400, length=100)\n",
    "y = x\n",
    "semilogx(x, y; label=\"equal cost\", color=\"k\", linestyle=\"--\", linewidth=1.2)\n",
    "\n",
    "title(\"simulation cost comparison\")\n",
    "legend()\n",
    "xlabel(\"high fidelity cost [min]\")\n",
    "ylabel(\"low fidelity cost [min]\")\n",
    "\n",
    "tight_layout()"
   ]
  },
  {
   "cell_type": "code",
   "execution_count": null,
   "id": "913c630d",
   "metadata": {
    "scrolled": false
   },
   "outputs": [],
   "source": [
    "figure() # figsize=(8, 8)\n",
    "\n",
    "xmax = maximum(max.(df[:, :gcmc_selectivity], df[:, :henry_selectivity]))\n",
    "x = range(0.0, stop=xmax, length=length(df[:, :henry_selectivity]))\n",
    "y = x\n",
    "plot(x, y, color=\"k\", linestyle=\"--\", zorder=0)\n",
    "\n",
    "errorbar(df[:, :gcmc_selectivity], df[:, :henry_selectivity],\n",
    "         xerr=df[:, :err_gcmc_selectivity], yerr=df[:, :err_henry_selectivity],\n",
    "         ecolor=\"C3\", marker=\".\", ls=\"none\",\n",
    "         mfc=\"none\", mec=\"C0\", ms=7, linewidth=0.75)\n",
    "\n",
    "# put a line and calc Spearmann Correlation\n",
    "str = format(\"R² = {:0.3f}\\nRMSE = {:0.2f}\\nρₛ = {:0.3f}\", R2, rmse, rho_spearman)\n",
    "box_styl = Dict(:facecolor => \"lightgrey\", :alpha => 0.75)\n",
    "text(1, 17, str, color=\"k\", size=12, bbox=box_styl)\n",
    "\n",
    "xlim([-0.5, 21])\n",
    "ylim([-0.5, 21])\n",
    "\n",
    "gca().set_aspect(\"equal\", adjustable=\"box\")\n",
    "\n",
    "# title(\"Fidelity Corelation\", fontsize=14)\n",
    "xlabel(\"GCMC S\" * L\"_{Xe/Kr}\")\n",
    "ylabel(\"Henry S\" * L\"_{Xe/Kr}\")\n",
    "tight_layout()\n",
    "if save_figures\n",
    "    savefig(joinpath(pwd(), \"figs\", \"low_vs_high_fidelity_correlation_plot.png\"), dpi=600, format=\"png\")\n",
    "end"
   ]
  },
  {
   "cell_type": "markdown",
   "id": "c8c0c6e1",
   "metadata": {},
   "source": [
    "### Look at relative errors in adsorption or each COF\n",
    "\n",
    "**Note that the Kinetic diameter of Kr = 3.6 Å and Xe = 3.96 Å; \n",
    "therefore, COFs with a smaller pore diameter will not be able to accomidate the gas**"
   ]
  },
  {
   "cell_type": "code",
   "execution_count": null,
   "id": "2cc9139d",
   "metadata": {
    "scrolled": true
   },
   "outputs": [],
   "source": [
    "cof_large_error = String[]\n",
    "for (i, row) in enumerate(eachrow(df))\n",
    "    if any((row[:err_henry_coeff] ./ row[:henry_coeff]) .> 0.05)\n",
    "        if ! (row[:xtal] in cof_large_error)\n",
    "            push!(cof_large_error, row[:xtal])\n",
    "        end\n",
    "    elseif any((row[:err_gcmc_uptake] ./ row[:gcmc_uptake]) .> 0.05)\n",
    "        if ! (row[:xtal] in cof_large_error)\n",
    "            push!(cof_large_error, row[:xtal])\n",
    "        end\n",
    "    end\n",
    "end\n",
    "cof_large_error # look at their xtal structure... COFs with pore diam 8Å and 30Å should be big enough..."
   ]
  },
  {
   "cell_type": "code",
   "execution_count": null,
   "id": "92dc5590",
   "metadata": {},
   "outputs": [],
   "source": [
    "xtal_indexes = [findfirst(descriptors[:, \"xtal\"] .== name) for name in cof_large_error]\n",
    "pore_diameters = descriptors[xtal_indexes, \"pore_diameter_Å\"]"
   ]
  },
  {
   "cell_type": "markdown",
   "id": "2d915cbd",
   "metadata": {},
   "source": [
    "### Look at the top 10% performing materials"
   ]
  },
  {
   "cell_type": "code",
   "execution_count": null,
   "id": "75b3eeba",
   "metadata": {},
   "outputs": [],
   "source": [
    "top10_inds = ceil(Int, length(df[:, :xtal]) * 0.1)\n",
    "println(\"The top ten percent (10%) of the dataset is $(top10_inds) COFs.\")\n",
    "\n",
    "henry_top10 = sort(df, :henry_selectivity, rev=true)[1:top10_inds, :]\n",
    "\n",
    "henry_top10[1:10, [:xtal, :henry_selectivity, :gcmc_selectivity, :gcmc_elapsed_time]]"
   ]
  },
  {
   "cell_type": "code",
   "execution_count": null,
   "id": "c839bc15",
   "metadata": {},
   "outputs": [],
   "source": [
    "top10       = sort(df, :gcmc_selectivity, rev=true)[1:top10_inds, :]\n",
    "\n",
    "@assert top10[1, :xtal] in henry_top10[:, :xtal]\n",
    "\n",
    "total_henry_cost = sum(df[:, :henry_total_elapsed_time]) / 60 # converted to hours\n",
    "t10_gcmc_cost = sum(henry_top10[:, :gcmc_elapsed_time]) / 60  # converted to hours\n",
    "\n",
    "println(\"The cost of running GCMC simulations on this set is: \", t10_gcmc_cost, \" [hr]\")\n",
    "println(\"The total search cost is then: \", total_henry_cost + t10_gcmc_cost, \" [hr]\")\n",
    "henry_top10[1:10, [:xtal, :henry_total_elapsed_time, :gcmc_elapsed_time]]"
   ]
  },
  {
   "cell_type": "code",
   "execution_count": null,
   "id": "54dcb7c2",
   "metadata": {},
   "outputs": [],
   "source": [
    "top10[1:10, [:xtal, :gcmc_selectivity, :henry_selectivity, :gcmc_elapsed_time]]"
   ]
  },
  {
   "cell_type": "code",
   "execution_count": null,
   "id": "323cd50a",
   "metadata": {},
   "outputs": [],
   "source": [
    "println(\"xtals in Henry top 10pct but not in GCMC top 10 pct:\")\n",
    "for xtal_name in henry_top10[:, :xtal]\n",
    "    if ! (xtal_name in top10[:, :xtal])\n",
    "        println(xtal_name)\n",
    "    end\n",
    "end"
   ]
  },
  {
   "cell_type": "code",
   "execution_count": null,
   "id": "7d4cc693",
   "metadata": {},
   "outputs": [],
   "source": [
    "###\n",
    "#  Compute statistics about the fit\n",
    "#  RMSE, R2 and Spearmann correlation\n",
    "##\n",
    "t10_rmse = sqrt(mean((top10[:, :gcmc_selectivity] - top10[:, :henry_selectivity]).^2))\n",
    "\n",
    "t10_R2 = 1.0 - (sum((top10[:, :gcmc_selectivity] - top10[:, :henry_selectivity]).^2) / \n",
    "            sum((top10[:, :gcmc_selectivity] .- mean(top10[:, :gcmc_selectivity])).^2))\n",
    "\n",
    "t10_rho_spearman = corspearman(top10[:, :gcmc_selectivity], top10[:, :henry_selectivity])"
   ]
  },
  {
   "cell_type": "code",
   "execution_count": null,
   "id": "bf711494",
   "metadata": {},
   "outputs": [],
   "source": [
    "figure(figsize=(8, 8))\n",
    "\n",
    "xmax = maximum(max.(top10[:, :gcmc_selectivity], top10[:, :henry_selectivity]))\n",
    "x = range(0.0, stop=xmax, length=length(top10[:, :henry_selectivity]))\n",
    "y = x\n",
    "plot(x, y, color=\"k\", linestyle=\"--\", zorder=0)\n",
    "\n",
    "errorbar(top10[:, :gcmc_selectivity], top10[:, :henry_selectivity],\n",
    "         xerr=top10[:, :err_gcmc_selectivity], yerr=top10[:, :err_henry_selectivity],\n",
    "         ecolor=\"C3\", marker=\".\", ls=\"none\",\n",
    "         mfc=\"none\", mec=\"C0\", ms=6, linewidth=1.1)\n",
    "\n",
    "# put a line and calc Spearmann Correlation\n",
    "str = format(\"R² = {:0.3f}\\nRMSE = {:0.2f}\\nρₛ = {:0.3f}\", t10_R2, t10_rmse, t10_rho_spearman)\n",
    "box_styl = Dict(:facecolor => \"lightgrey\", :alpha => 0.75)\n",
    "text(1, 17, str, color=\"k\", size=10, bbox=box_styl)\n",
    "\n",
    "gca().set_aspect(\"equal\", adjustable=\"box\")\n",
    "\n",
    "title(\"Highest Performing COFs: Fidelity Corelation\", fontsize=14)\n",
    "xlabel(\"GCMC S\" * L\"_{Xe/Kr}\")\n",
    "ylabel(\"Henry S\" * L\"_{Xe/Kr}\")\n",
    "tight_layout()\n",
    "if save_figures\n",
    "    savefig(joinpath(pwd(), \"figs\", \"top10pct_low_vs_high_fidelity_correlation_plot.png\"), dpi=600, format=\"png\")\n",
    "end"
   ]
  },
  {
   "cell_type": "markdown",
   "id": "87c3fc0b",
   "metadata": {},
   "source": [
    "### Selectivity Performance Plot"
   ]
  },
  {
   "cell_type": "code",
   "execution_count": null,
   "id": "a3a23952",
   "metadata": {},
   "outputs": [],
   "source": [
    "figure()\n",
    "\n",
    "hxe = [df[ind, :henry_coeff][2] for ind in 1:length(df[:, :xtal])]\n",
    "\n",
    "scatter(hxe, df[:, :henry_selectivity], \n",
    "        facecolor=\"none\", edgecolor=mkr_c, s=mkr_sz)\n",
    "\n",
    "xlabel(\"H\" * L\"_{Xe}\" * \" [mmol/(g-bar)]\")\n",
    "ylabel(\"S\" * L\"_{Xe/Kr}\")\n",
    "\n",
    "tight_layout()"
   ]
  }
 ],
 "metadata": {
  "kernelspec": {
   "display_name": "Julia 1.7.3",
   "language": "julia",
   "name": "julia-1.7"
  },
  "language_info": {
   "file_extension": ".jl",
   "mimetype": "application/julia",
   "name": "julia",
   "version": "1.7.3"
  }
 },
 "nbformat": 4,
 "nbformat_minor": 5
}
