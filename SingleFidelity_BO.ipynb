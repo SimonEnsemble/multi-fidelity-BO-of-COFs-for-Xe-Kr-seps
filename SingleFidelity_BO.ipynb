{
 "cells": [
  {
   "cell_type": "code",
   "execution_count": 1,
   "id": "9d4d86ca",
   "metadata": {},
   "outputs": [],
   "source": [
    "import torch\n",
    "import gpytorch\n",
    "from botorch.models import SingleTaskGP\n",
    "from botorch.acquisition.analytic import ExpectedImprovement\n",
    "from botorch.models.transforms.outcome import Standardize\n",
    "from gpytorch.kernels import ScaleKernel\n",
    "from gpytorch.mlls import ExactMarginalLogLikelihood\n",
    "from botorch import fit_gpytorch_model\n",
    "from scipy.stats import norm\n",
    "from sklearn.decomposition import PCA\n",
    "import math \n",
    "import numpy as np\n",
    "import matplotlib.pyplot as plt\n",
    "import h5py\n",
    "import pickle\n",
    "import os\n",
    "import time\n",
    "\n",
    "# config plot settings\n",
    "plt.rcParams[\"font.size\"] = 16"
   ]
  },
  {
   "cell_type": "code",
   "execution_count": 2,
   "id": "bad98598",
   "metadata": {},
   "outputs": [
    {
     "name": "stdout",
     "output_type": "stream",
     "text": [
      "raw data - \n",
      "\tX: torch.Size([608, 14])\n",
      "\t\ty: torch.Size([608])\n",
      "\t\tcost:  torch.Size([608])\n",
      "\n",
      "Ensure features are normalized - \n",
      "max:\n",
      " tensor([1., 1., 1., 1., 1., 1., 1., 1., 1., 1., 1., 1., 1., 1.],\n",
      "       dtype=torch.float64)\n",
      "min:\n",
      " tensor([0., 0., 0., 0., 0., 0., 0., 0., 0., 0., 0., 0., 0., 0.],\n",
      "       dtype=torch.float64)\n"
     ]
    }
   ],
   "source": [
    "###\n",
    "#  Load Data\n",
    "###\n",
    "file = h5py.File(\"targets_and_normalized_features.jld2\", \"r\")\n",
    "# feature matrix\n",
    "X = torch.from_numpy(np.transpose(file[\"X\"][:]))\n",
    "# simulation data\n",
    "y = torch.from_numpy(np.transpose(file[\"gcmc_y\"][:]))\n",
    "# associated simulation costs\n",
    "cost = torch.from_numpy(np.transpose(file[\"gcmc_elapsed_time\"][:]))\n",
    "\n",
    "# total number of COFs in data set\n",
    "nb_COFs = X.shape[0] \n",
    "\n",
    "print(\"raw data - \\n\\tX:\", X.shape)\n",
    "print(\"\\t\\ty:\", y.shape)\n",
    "print(\"\\t\\tcost: \", cost.shape)    \n",
    "    \n",
    "print(\"\\nEnsure features are normalized - \")\n",
    "print(\"max:\\n\", torch.max(X, 0).values)\n",
    "print(\"min:\\n\", torch.min(X, 0).values)"
   ]
  },
  {
   "cell_type": "code",
   "execution_count": 3,
   "id": "b08b6adc",
   "metadata": {},
   "outputs": [],
   "source": [
    "X_unsqueezed = X.unsqueeze(1)"
   ]
  },
  {
   "cell_type": "markdown",
   "id": "392087a9",
   "metadata": {},
   "source": [
    "## Helper Functions\n",
    "\n",
    "#### Construct Initial Inputs"
   ]
  },
  {
   "cell_type": "code",
   "execution_count": 4,
   "id": "25e15274",
   "metadata": {},
   "outputs": [],
   "source": [
    "# make this into a .py file and import it as a module"
   ]
  },
  {
   "cell_type": "code",
   "execution_count": 5,
   "id": "74c91331",
   "metadata": {},
   "outputs": [],
   "source": [
    "# find COF closest to the center of feature space\n",
    "def get_initializing_COF(X):\n",
    "    # center of feature space\n",
    "    feature_center = np.ones(X.shape[1]) * 0.5\n",
    "    # max possible distance between normalized features\n",
    "    return np.argmin(np.linalg.norm(X - feature_center, axis=1))\n",
    "\n",
    "def diverse_set(X, train_size):\n",
    "    # initialize with one random point; pick others in a max diverse fashion\n",
    "    ids_train = [get_initializing_COF(X)]\n",
    "    # select remaining training points\n",
    "    for j in range(train_size - 1):\n",
    "        # for each point in data set, compute its min dist to training set\n",
    "        dist_to_train_set = np.linalg.norm(X - X[ids_train, None, :], axis=2)\n",
    "        assert np.shape(dist_to_train_set) == (len(ids_train), nb_COFs)\n",
    "        min_dist_to_a_training_pt = np.min(dist_to_train_set, axis=0)\n",
    "        assert np.size(min_dist_to_a_training_pt) == nb_COFs\n",
    "        \n",
    "        # acquire point with max(min distance to train set) i.e. Furthest from train set\n",
    "        ids_train.append(np.argmax(min_dist_to_a_training_pt))\n",
    "    assert np.size(np.unique(ids_train)) == train_size # must be unique\n",
    "    return np.array(ids_train)"
   ]
  },
  {
   "cell_type": "code",
   "execution_count": 6,
   "id": "ff4258fd",
   "metadata": {},
   "outputs": [],
   "source": [
    "# construct feature matrix of acquired points\n",
    "def build_X_train(ids_acquired):\n",
    "    return X[ids_acquired, :]\n",
    "\n",
    "# construct output vector for acquired points\n",
    "def build_y_train(ids_acquired):\n",
    "    return y[ids_acquired].unsqueeze(-1)\n",
    "\n",
    "# construct vector to track accumulated cost of acquired points\n",
    "def build_cost(ids_acquired):\n",
    "    return cost[ids_acquired]"
   ]
  },
  {
   "cell_type": "markdown",
   "id": "235cbe25",
   "metadata": {},
   "source": [
    "#### Bayesian Algorithm"
   ]
  },
  {
   "cell_type": "code",
   "execution_count": 7,
   "id": "86f8e42d",
   "metadata": {},
   "outputs": [],
   "source": [
    "def run_Bayesian_optimization(nb_iterations, \n",
    "                              nb_COFs_initialization,\n",
    "                              store_explore_exploit_terms=True):\n",
    "    \n",
    "    assert nb_iterations > nb_COFs_initialization\n",
    "    ###\n",
    "    #  Initialize system\n",
    "    ###\n",
    "    # select initial COFs for training data\n",
    "    ids_acquired = diverse_set(X, nb_COFs_initialization)\n",
    "    \n",
    "    # track of exploration vs. exploitation terms \n",
    "    if store_explore_exploit_terms:\n",
    "        explore_exploit_balance = np.array([(np.NaN, np.NaN) for i in range(nb_iterations)])\n",
    "    \n",
    "    # construct initial training sets\n",
    "    X_train = build_X_train(ids_acquired)\n",
    "    y_train = build_y_train(ids_acquired)\n",
    "    # standardize outputs using *only currently acquired data*\n",
    "    y_train = (y_train - torch.mean(y_train)) / torch.std(y_train)\n",
    "    \n",
    "    ###\n",
    "    #  itterate through remaining budget using BO\n",
    "    ###\n",
    "    for i in range(nb_COFs_initialization, nb_iterations):\n",
    "        # construct and fit GP model\n",
    "        model = SingleTaskGP(X_train, y_train)\n",
    "        mll   = ExactMarginalLogLikelihood(model.likelihood, model)\n",
    "        fit_gpytorch_model(mll)\n",
    "        \n",
    "        # use Expected improvement acquisition function\n",
    "        acq_fn   = ExpectedImprovement(model, best_f=y_train.max().item())\n",
    "        acq_vals = acq_fn.forward(X.unsqueeze(1))\n",
    "        # get the id for the COF with highest acquisition value currently not in training set\n",
    "        ids_sorted_by_aquisition = acq_vals.argsort(descending=True)\n",
    "        for id_max in ids_sorted_by_aquisition:\n",
    "            if not id_max.item() in ids_acquired:\n",
    "                id_max_acq = id_max.item()\n",
    "                break\n",
    "        ###\n",
    "        #  acquire this COF\n",
    "        ###\n",
    "        ids_acquired = np.concatenate((ids_acquired, [id_max_acq]))\n",
    "        \n",
    "        ###\n",
    "        #  Track explore-exploit values\n",
    "        ###\n",
    "        if store_explore_exploit_terms:\n",
    "            y_mu = model.posterior(X_unsqueezed[id_max_acq]).mean.squeeze().detach().numpy()\n",
    "            y_sigma = np.sqrt(model.posterior(X_unsqueezed[id_max_acq]).variance.squeeze().detach().numpy())\n",
    "            y_max = y_train.max().item()\n",
    "            \n",
    "            z = (y_mu - y_max) / y_sigma\n",
    "            explore_term = y_sigma * norm.pdf(z)\n",
    "            exploit_term = (y_mu - y_max) * norm.cdf(z)\n",
    "            # check against BO torch's EI.\n",
    "            assert np.isclose(explore_term + exploit_term, acq_vals[id_max_acq].item())\n",
    "            explore_exploit_balance[i] = (explore_term, exploit_term)\n",
    "        \n",
    "        ###\n",
    "        #  update training data; start over to normalize properly\n",
    "        ###\n",
    "        X_train = build_X_train(ids_acquired)\n",
    "        y_train = build_y_train(ids_acquired)\n",
    "        # standardize outputs using *only currently acquired data*\n",
    "        y_train = (y_train - torch.mean(y_train)) / torch.std(y_train)\n",
    "    \n",
    "    # check budget constraint is stisfied\n",
    "    assert np.size(ids_acquired) == nb_iterations\n",
    "    assert len(np.unique(ids_acquired)) == nb_iterations\n",
    "    return ids_acquired, explore_exploit_balance"
   ]
  },
  {
   "cell_type": "markdown",
   "id": "6dd7079d",
   "metadata": {},
   "source": [
    "# Run BO"
   ]
  },
  {
   "cell_type": "code",
   "execution_count": 8,
   "id": "1d5d2678",
   "metadata": {},
   "outputs": [
    {
     "name": "stdout",
     "output_type": "stream",
     "text": [
      "iteration we acquire top COF =  45\n"
     ]
    }
   ],
   "source": [
    "nb_iterations = 100\n",
    "nb_COFs_initialization = 3\n",
    "\n",
    "ids_acquired, eeb = run_Bayesian_optimization(nb_iterations, nb_COFs_initialization)\n",
    "\n",
    "y_acquired    = y[ids_acquired]\n",
    "cost_acquired = build_cost(ids_acquired)\n",
    "\n",
    "top_cof = np.argmax(y_acquired == max(y))\n",
    "print(\"iteration we acquire top COF = \", top_cof.item() + 1)"
   ]
  },
  {
   "cell_type": "code",
   "execution_count": 9,
   "id": "279c4bf2",
   "metadata": {
    "scrolled": true
   },
   "outputs": [],
   "source": [
    "###\n",
    "#  Store SFBO results\n",
    "###\n",
    "sfbo_res = dict({'ids_acquired': ids_acquired,\n",
    "                'y_acquired': y_acquired,\n",
    "                'cost_acquired': cost_acquired\n",
    "                })\n",
    "\n",
    "with open('sfbo_results_with_EI.pkl', 'wb') as file:\n",
    "    pickle.dump(sfbo_res, file)"
   ]
  },
  {
   "cell_type": "markdown",
   "id": "2e303140",
   "metadata": {},
   "source": [
    "# Random Search"
   ]
  },
  {
   "cell_type": "code",
   "execution_count": 10,
   "id": "d1f13694",
   "metadata": {},
   "outputs": [],
   "source": [
    "nb_runs = 1000\n",
    "\n",
    "rs_res = dict()\n",
    "rs_res['ids_acquired'] = []\n",
    "\n",
    "for r in range(nb_runs):\n",
    "    rs_ids_acquired = np.random.choice(range(nb_COFs), replace=False, size=nb_iterations)\n",
    "    rs_res['ids_acquired'].append(rs_ids_acquired)"
   ]
  },
  {
   "cell_type": "code",
   "execution_count": 11,
   "id": "9e24dc4d",
   "metadata": {},
   "outputs": [],
   "source": [
    "# get y_max acquired up to iteration i for i = 1,2,...\n",
    "def y_max(res):\n",
    "    y_max_mu      = np.zeros(nb_iterations)\n",
    "    y_max_sig_bot = np.zeros(nb_iterations)\n",
    "    y_max_sig_top = np.zeros(nb_iterations)\n",
    "    \n",
    "    for i in range(1, nb_iterations+1):\n",
    "        # max value acquired up to this point\n",
    "        y_maxes = np.array([max(y[res['ids_acquired'][r]][:i]) for r in range(nb_runs)])\n",
    "        assert np.size(y_maxes) == nb_runs\n",
    "        y_max_mu[i-1]      = np.mean(y_maxes)\n",
    "        y_max_sig_bot[i-1] = np.std(y_maxes[y_maxes < y_max_mu[i-1]])\n",
    "        y_max_sig_top[i-1] = np.std(y_maxes[y_maxes > y_max_mu[i-1]])\n",
    "    return y_max_mu, y_max_sig_bot, y_max_sig_top\n",
    "\n",
    "# rs_mean, rs_lower_bound, rs_upper_bound = y_max(rs_res)\n",
    "y_rs_max_mu, y_rs_max_sig_bot, y_rs_max_sig_top = y_max(rs_res)"
   ]
  },
  {
   "cell_type": "code",
   "execution_count": 12,
   "id": "10aca7d8",
   "metadata": {},
   "outputs": [],
   "source": [
    "###\n",
    "#  Store Random Search Results\n",
    "###\n",
    "random_search_results = dict({'ids_acquired': rs_res['ids_acquired'],\n",
    "                             'y_rs_max_mu': y_rs_max_mu,\n",
    "                             'y_rs_max_sig_bot': y_rs_max_sig_bot,\n",
    "                             'y_rs_max_sig_top': y_rs_max_sig_top\n",
    "                             })\n",
    "\n",
    "with open('random_search_results.pkl', 'wb') as file:\n",
    "    pickle.dump(random_search_results, file)"
   ]
  },
  {
   "cell_type": "markdown",
   "id": "875b9e13",
   "metadata": {},
   "source": [
    "# Plots"
   ]
  },
  {
   "cell_type": "markdown",
   "id": "9a45c911",
   "metadata": {},
   "source": [
    "#### Search Efficiency and Cost Analysis"
   ]
  },
  {
   "cell_type": "code",
   "execution_count": 13,
   "id": "f0343561",
   "metadata": {},
   "outputs": [],
   "source": [
    "y_max = np.zeros(nb_iterations)\n",
    "accumulated_cost = np.zeros(nb_iterations)\n",
    "    \n",
    "for i in range(1, nb_iterations+1):\n",
    "    # accumulated cost\n",
    "    accumulated_cost[i-1] = sum(cost_acquired[:i])\n",
    "    # max value acquired up to this point\n",
    "    y_max[i-1] = max(y[ids_acquired[:i]])"
   ]
  },
  {
   "cell_type": "code",
   "execution_count": 14,
   "id": "5ca6ebb5",
   "metadata": {},
   "outputs": [
    {
     "data": {
      "image/png": "[encoded data removed]",
      "text/plain": [
       "<Figure size 576x576 with 2 Axes>"
      ]
     },
     "metadata": {
      "needs_background": "light"
     },
     "output_type": "display_data"
    }
   ],
   "source": [
    "iterations = range(1, len(ids_acquired) + 1)\n",
    "\n",
    "plt.figure(figsize=(8, 8))\n",
    "\n",
    "ax1 = plt.subplot(2, 1, 1)\n",
    "plt.axvline(x=nb_COFs_initialization, \n",
    "            label=\"initialization\", color=\"k\", alpha=0.25, linestyle=\"--\", lw=2)\n",
    "plt.plot(iterations, accumulated_cost, label=\"cost\", color=\"tab:blue\")\n",
    "plt.legend(fontsize=12)\n",
    "plt.ylabel(\"accumulated cost [min]\")\n",
    "plt.xlim(xmin=0, xmax=nb_iterations)\n",
    "plt.setp(ax1.get_xticklabels(), visible=False)\n",
    "plt.ylim(ymin=0, ymax=35000)\n",
    "\n",
    "plt.subplot(2, 1, 2, sharex=ax1)\n",
    "plt.axhline(y=max(y), label=\"global maximm\", color=\"tab:green\", ls=\"--\", lw=1.5)\n",
    "plt.axvline(x=nb_COFs_initialization, label=\"initialization\", color=\"k\", alpha=0.25, linestyle=\"--\", lw=2)\n",
    "plt.plot(iterations, y_max, label=\"BO\", color=\"tab:red\", zorder=3)\n",
    "\n",
    "plt.plot(iterations, y_rs_max_mu, label=\"random search\", color=\"tab:orange\", lw=2)\n",
    "plt.fill_between(iterations, y_rs_max_mu - y_rs_max_sig_bot, y_rs_max_mu + y_rs_max_sig_top, \n",
    "    color=\"tab:orange\", alpha=0.15)\n",
    "plt.ylim(ymin=0, ymax=20)\n",
    "plt.xlabel(\"# evaluated COFs\")\n",
    "plt.ylabel(\"max. $S_{Xe/Kr}$ acquired\")\n",
    "\n",
    "plt.legend(fontsize=12)\n",
    "\n",
    "plt.tight_layout()\n",
    "# plt.savefig(\"figs/SFBO_search_efficientcy_curve.pdf\", dpi=600, format=\"pdf\")\n",
    "plt.show()"
   ]
  }
 ],
 "metadata": {
  "kernelspec": {
   "display_name": "Python 3 (ipykernel)",
   "language": "python",
   "name": "python3"
  },
  "language_info": {
   "codemirror_mode": {
    "name": "ipython",
    "version": 3
   },
   "file_extension": ".py",
   "mimetype": "text/x-python",
   "name": "python",
   "nbconvert_exporter": "python",
   "pygments_lexer": "ipython3",
   "version": "3.8.10"
  }
 },
 "nbformat": 4,
 "nbformat_minor": 5
}
