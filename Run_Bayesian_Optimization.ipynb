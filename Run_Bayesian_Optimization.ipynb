{
 "cells": [
  {
   "cell_type": "code",
   "execution_count": 1,
   "id": "dcce5056",
   "metadata": {},
   "outputs": [],
   "source": [
    "using JLD2\n",
    "using PyPlot\n",
    "using StatsBase # Statistics\n",
    "\n",
    "using ScikitLearn # machine learning package\n",
    "@sk_import gaussian_process : GaussianProcessRegressor\n",
    "@sk_import gaussian_process.kernels : Matern\n",
    "\n",
    "using PyCall\n",
    "@pyimport matplotlib.animation as anim\n",
    "\n",
    "# config plot settings\n",
    "PyPlot.matplotlib.style.use(\"ggplot\")\n",
    "rcParams = PyPlot.PyDict(PyPlot.matplotlib.\"rcParams\")\n",
    "rcParams[\"font.size\"] = 16;"
   ]
  },
  {
   "cell_type": "code",
   "execution_count": 2,
   "id": "bf0a0752",
   "metadata": {},
   "outputs": [
    {
     "data": {
      "text/plain": [
       "3-element Vector{Symbol}:\n",
       " :X\n",
       " :henry_y\n",
       " :gcmc_y"
      ]
     },
     "execution_count": 2,
     "metadata": {},
     "output_type": "execute_result"
    }
   ],
   "source": [
    "@load joinpath(pwd(), \"targets_and_normalized_features.jld2\") X henry_y gcmc_y"
   ]
  },
  {
   "cell_type": "markdown",
   "id": "8246bd0a",
   "metadata": {},
   "source": [
    "## BO Function"
   ]
  },
  {
   "cell_type": "code",
   "execution_count": 3,
   "id": "525b8899",
   "metadata": {},
   "outputs": [
    {
     "data": {
      "text/plain": [
       "run_bayesian_optimization (generic function with 1 method)"
      ]
     },
     "execution_count": 3,
     "metadata": {},
     "output_type": "execute_result"
    }
   ],
   "source": [
    "### procedure:\n",
    "# 1. select initial COF identifiers set to train GP \n",
    "# 2. initialize and normalize array of initial target data \n",
    "# 3. itterate through budgetted number of BO runs\n",
    "#    a. construct GP model with kernel\n",
    "#    b. fit GP to current data for acquired COFs => gives ŷ(x)\n",
    "#    c. construct acquiaition function A(x)\n",
    "#    d. determine which COF to acquire next => evaluate argmax(A(x))\n",
    "#       i. for EI track if this is an exploitation or an exploration\n",
    "#    e. append COF identified in step 3.d to list of acquired COFs \n",
    "# 4. update final set of acquired COF data and normalize\n",
    "# 5. return the IDs for the set of acquired COFs\n",
    "###\n",
    "function run_bayesian_optimization(X, y, nb_iterations::Int, \n",
    "                                   nb_COFs_initialization::Int;\n",
    "                                   which_acquisition::Symbol=:UCB,\n",
    "                                   store_explore_exploit_terms::Bool=false,\n",
    "                                   sample_gp::Bool=false,\n",
    "                                   initialize_with::Union{Array{Int, 1}, Nothing}=nothing)\n",
    "    # quick checks\n",
    "    @assert nb_iterations > nb_COFs_initialization \"More initializations than itterations not allowed.\"\n",
    "    @assert which_acquisition in [:UCB] \"Acquisition function not supported:\\t $(which_acquisition)\"\n",
    "    \n",
    "    # create array to store explore-explot terms if needed\n",
    "    if store_explore_exploit_terms\n",
    "        explore_exploit_balance = []\n",
    "    end\n",
    "    \n",
    "    if sample_gp\n",
    "        store_sample_y = []\n",
    "    end\n",
    "    \n",
    "    ###\n",
    "    #  1. randomly select COF IDs for training initial GP\n",
    "    ###\n",
    "    if isnothing(initialize_with)\n",
    "        ids_acquired = StatsBase.sample(1:nb_COFs, nb_COFs_initialization, replace=false)\n",
    "        @assert length(unique(ids_acquired)) == nb_COFs_initialization\n",
    "    else\n",
    "        # initialize using a specified set of indecies\n",
    "        ids_acquired = initialize_with\n",
    "        @assert length(unique(ids_acquired)) == nb_COFs_initialization\n",
    "    end\n",
    "     \n",
    "    ###\n",
    "    #  3. itterate through budgetted number of BO runs\n",
    "    ###\n",
    "    for i in range(nb_COFs_initialization, stop=nb_iterations)\n",
    "        ###\n",
    "        #  a-b. construct and fit GP model\n",
    "        ###\n",
    "        kernel = Matern(nu=2.5, length_scale=0.25) \n",
    "        model = GaussianProcessRegressor(kernel=kernel, normalize_y=true, n_restarts_optimizer=5)\n",
    "        model.fit(X[ids_acquired, :], y[ids_acquired])\n",
    "        \n",
    "        if sample_gp\n",
    "            sample_y = model.sample_y(X)\n",
    "            push!(store_sample_y, sample_y)\n",
    "        end\n",
    "        \n",
    "        ###\n",
    "        #  c. setup acquisition function\n",
    "        ###\n",
    "        if which_acquisition == :UCB\n",
    "            # A(x) = ŷ(x) + βσ(x)\n",
    "            # where β controlls exploitation-exploration trade-off\n",
    "            β = 2.0\n",
    "            ŷ, σ = model.predict(X, return_std=true)\n",
    "            acquisition_values = ŷ .+ β * σ\n",
    "        elseif which_acquisition == :EI\n",
    "            # A(x) = integral{-∞}{+∞}[I(x)N(y|ŷ(x), σ²(x))dy]\n",
    "            # where I(x) = max(0, f(x) - maxᵢ(yᵢ))\n",
    "        end\n",
    "        \n",
    "        ###\n",
    "        #  d. determine which COF to acquire next\n",
    "        ###\n",
    "        ids_sorted_by_aquisition = sortperm(acquisition_values, rev=true)\n",
    "        for id_max_aquisition in ids_sorted_by_aquisition\n",
    "            if ! (id_max_aquisition in ids_acquired)\n",
    "                ###\n",
    "                #  e. acqurie this COF (i.e. update list)\n",
    "                ###\n",
    "                push!(ids_acquired, id_max_aquisition)\n",
    "                if store_explore_exploit_terms\n",
    "                    # store explore and exploit terms\n",
    "                    push!(explore_exploit_balance, [ŷ[id_max_aquisition], β * σ[id_max_aquisition]])\n",
    "                end\n",
    "                break\n",
    "            end\n",
    "        end\n",
    "        # quick check\n",
    "        @assert length(ids_acquired) == i + 1\n",
    "    end\n",
    "    \n",
    "    # quick check (remember to account for final COF to be acquired)\n",
    "    @assert length(ids_acquired) == nb_iterations + 1 \"length(ids_acquired) = $(length(ids_acquired))\"\n",
    "    \n",
    "    ###\n",
    "    #  5. return the IDs for the set of acquired COFs\n",
    "    ###\n",
    "    if sample_gp\n",
    "        return ids_acquired, explore_exploit_balance, store_sample_y\n",
    "    else\n",
    "        return ids_acquired, explore_exploit_balance\n",
    "    end\n",
    "end"
   ]
  },
  {
   "cell_type": "markdown",
   "id": "659a6fdf",
   "metadata": {},
   "source": [
    "## Apply BO"
   ]
  },
  {
   "cell_type": "code",
   "execution_count": 4,
   "id": "fb8787e8",
   "metadata": {},
   "outputs": [
    {
     "data": {
      "text/plain": [
       "(26, 1.2041567193979834)"
      ]
     },
     "execution_count": 4,
     "metadata": {},
     "output_type": "execute_result"
    }
   ],
   "source": [
    "###\n",
    "#  Find COF located nearest the center of the feature space\n",
    "###\n",
    "min = sum(ones(Float64, length(X[1, :]))) # max possible value of normalized features\n",
    "id_min = 0\n",
    "com = 0.5 * ones(Float64, length(X[1, :])) # center of normalized feature space\n",
    "\n",
    "for i in 1:length(X[:, 1])\n",
    "    dist = sqrt(sum((X[i, :] .- com).^2))\n",
    "    if dist < min\n",
    "        min = dist\n",
    "        id_min = i\n",
    "    end\n",
    "end\n",
    "id_min, min"
   ]
  },
  {
   "cell_type": "code",
   "execution_count": 5,
   "id": "08ebf676",
   "metadata": {},
   "outputs": [
    {
     "data": {
      "text/plain": [
       "1-element Vector{Int64}:\n",
       " 26"
      ]
     },
     "execution_count": 5,
     "metadata": {},
     "output_type": "execute_result"
    }
   ],
   "source": [
    "nb_COFs = length(gcmc_y)\n",
    "nb_iterations = 150\n",
    "nb_COFs_initialization = 1\n",
    "which_acquisition = :UCB \n",
    "\n",
    "# try to initialize using a COF that is close to the center of the domain (feature space)\n",
    "initialize_with = [id_min]"
   ]
  },
  {
   "cell_type": "code",
   "execution_count": 6,
   "id": "20678f30",
   "metadata": {
    "scrolled": true
   },
   "outputs": [
    {
     "name": "stderr",
     "output_type": "stream",
     "text": [
      "/home/ng/.julia/conda/3/lib/python3.9/site-packages/sklearn/gaussian_process/kernels.py:402: ConvergenceWarning: The optimal value found for dimension 0 of parameter length_scale is close to the specified lower bound 1e-05. Decreasing the bound and calling fit again may find a better value.\n",
      "  warnings.warn(\"The optimal value found for \"\n",
      "/home/ng/.julia/conda/3/lib/python3.9/site-packages/sklearn/gaussian_process/kernels.py:402: ConvergenceWarning: The optimal value found for dimension 0 of parameter length_scale is close to the specified lower bound 1e-05. Decreasing the bound and calling fit again may find a better value.\n",
      "  warnings.warn(\"The optimal value found for \"\n",
      "/home/ng/.julia/conda/3/lib/python3.9/site-packages/sklearn/gaussian_process/kernels.py:402: ConvergenceWarning: The optimal value found for dimension 0 of parameter length_scale is close to the specified lower bound 1e-05. Decreasing the bound and calling fit again may find a better value.\n",
      "  warnings.warn(\"The optimal value found for \"\n",
      "/home/ng/.julia/conda/3/lib/python3.9/site-packages/sklearn/gaussian_process/kernels.py:402: ConvergenceWarning: The optimal value found for dimension 0 of parameter length_scale is close to the specified lower bound 1e-05. Decreasing the bound and calling fit again may find a better value.\n",
      "  warnings.warn(\"The optimal value found for \"\n",
      "/home/ng/.julia/conda/3/lib/python3.9/site-packages/sklearn/gaussian_process/kernels.py:402: ConvergenceWarning: The optimal value found for dimension 0 of parameter length_scale is close to the specified lower bound 1e-05. Decreasing the bound and calling fit again may find a better value.\n",
      "  warnings.warn(\"The optimal value found for \"\n",
      "/home/ng/.julia/conda/3/lib/python3.9/site-packages/sklearn/gaussian_process/kernels.py:402: ConvergenceWarning: The optimal value found for dimension 0 of parameter length_scale is close to the specified lower bound 1e-05. Decreasing the bound and calling fit again may find a better value.\n",
      "  warnings.warn(\"The optimal value found for \"\n",
      "/home/ng/.julia/conda/3/lib/python3.9/site-packages/sklearn/gaussian_process/kernels.py:402: ConvergenceWarning: The optimal value found for dimension 0 of parameter length_scale is close to the specified lower bound 1e-05. Decreasing the bound and calling fit again may find a better value.\n",
      "  warnings.warn(\"The optimal value found for \"\n",
      "/home/ng/.julia/conda/3/lib/python3.9/site-packages/sklearn/gaussian_process/kernels.py:402: ConvergenceWarning: The optimal value found for dimension 0 of parameter length_scale is close to the specified lower bound 1e-05. Decreasing the bound and calling fit again may find a better value.\n",
      "  warnings.warn(\"The optimal value found for \"\n",
      "/home/ng/.julia/conda/3/lib/python3.9/site-packages/sklearn/gaussian_process/kernels.py:402: ConvergenceWarning: The optimal value found for dimension 0 of parameter length_scale is close to the specified lower bound 1e-05. Decreasing the bound and calling fit again may find a better value.\n",
      "  warnings.warn(\"The optimal value found for \"\n",
      "/home/ng/.julia/conda/3/lib/python3.9/site-packages/sklearn/gaussian_process/kernels.py:402: ConvergenceWarning: The optimal value found for dimension 0 of parameter length_scale is close to the specified lower bound 1e-05. Decreasing the bound and calling fit again may find a better value.\n",
      "  warnings.warn(\"The optimal value found for \"\n",
      "/home/ng/.julia/conda/3/lib/python3.9/site-packages/sklearn/gaussian_process/kernels.py:402: ConvergenceWarning: The optimal value found for dimension 0 of parameter length_scale is close to the specified lower bound 1e-05. Decreasing the bound and calling fit again may find a better value.\n",
      "  warnings.warn(\"The optimal value found for \"\n"
     ]
    }
   ],
   "source": [
    "ucb_ids, ucb_eeb, sample_y = run_bayesian_optimization(X, gcmc_y, nb_iterations, \n",
    "                                             nb_COFs_initialization;\n",
    "                                             which_acquisition=:UCB,\n",
    "                                             store_explore_exploit_terms=true,\n",
    "                                             sample_gp=true,\n",
    "                                             initialize_with=initialize_with);"
   ]
  },
  {
   "cell_type": "code",
   "execution_count": null,
   "id": "623ff24b",
   "metadata": {},
   "outputs": [],
   "source": []
  },
  {
   "cell_type": "markdown",
   "id": "d7c2f4d3",
   "metadata": {},
   "source": [
    "## search efficiency curve"
   ]
  },
  {
   "cell_type": "code",
   "execution_count": 12,
   "id": "4628dc87",
   "metadata": {},
   "outputs": [
    {
     "data": {
      "image/png": "[encoded data removed]",
      "text/plain": [
       "Figure(PyObject <Figure size 640x480 with 1 Axes>)"
      ]
     },
     "metadata": {},
     "output_type": "display_data"
    }
   ],
   "source": [
    "# plot maximum selectivity among acquired COFs as a function of the number of COFs acquired (itterations)\n",
    "index = zeros(Int64, length(ucb_ids))\n",
    "max_selectivity = zeros(Float64, length(ucb_ids))\n",
    "for i in 1:length(ucb_ids)\n",
    "    ids = ucb_ids[1:i]\n",
    "    max_y = maximum(gcmc_y[ids])\n",
    "    max_selectivity[i] = max_y\n",
    "    ittration = i + nb_COFs_initialization\n",
    "    index[i] = ittration\n",
    "end\n",
    "\n",
    "figure()\n",
    "plot(index, max_selectivity, label=\"max yᵢ\", color=\"tab:green\")\n",
    "axvline(x=nb_COFs_initialization, label=\"initialization\", color=\"k\", linestyle=\"--\", lw=2)\n",
    "\n",
    "axhline(y=maximum(gcmc_y), linestyle=\"--\")\n",
    "\n",
    "legend(loc=\"lower right\")\n",
    "xlabel(\"# evaluated COFs\", fontsize=12)\n",
    "ylabel(\"Maximum \" * L\"S_{Xe/Kr}\" * \" among acquired COFs\", fontsize=12)\n",
    "xlim([0.0, nb_iterations])\n",
    "ylim(ymin=0.0)\n",
    "\n",
    "tight_layout()\n",
    "savefig(joinpath(pwd(), \"search_efficientcy_curve.png\"), dpi=600, format=\"png\")"
   ]
  },
  {
   "cell_type": "code",
   "execution_count": 8,
   "id": "cc437029",
   "metadata": {
    "scrolled": false
   },
   "outputs": [
    {
     "data": {
      "image/png": "[encoded data removed]",
      "text/plain": [
       "Figure(PyObject <Figure size 640x480 with 1 Axes>)"
      ]
     },
     "metadata": {},
     "output_type": "display_data"
    }
   ],
   "source": [
    "# make a plot of ŷ and σ as a function of itterations to see exploitation vs exploration\n",
    "fig, axs = subplots()\n",
    "\n",
    "index = [i + nb_COFs_initialization for i in nb_COFs_initialization:nb_iterations]\n",
    "y = [ucb_eeb[i][1] for i in 1:length(ucb_eeb)]\n",
    "σ = [ucb_eeb[i][2] for i in 1:length(ucb_eeb)]\n",
    "axs.bar(index, y, label=\"exploit term\", color=\"tab:blue\", linestyle=\"--\")\n",
    "axs.bar(index, σ, label=\"explore term\", color=\"tab:orange\", bottom=y)\n",
    "\n",
    "# axs.scatter(index, y .+ σ, label=\"EI\", marker=\".\", facecolor=\"none\", edgecolor=\"k\")\n",
    "\n",
    "axs.legend(fontsize=14)\n",
    "axs.set_xlabel(\"# evaluated COFs\")\n",
    "axs.set_ylabel(\"expected improvement\")\n",
    "\n",
    "tight_layout()\n",
    "savefig(joinpath(pwd(), \"exploration_exploitation_balance.png\"), dpi=600, format=\"png\")"
   ]
  },
  {
   "cell_type": "code",
   "execution_count": null,
   "id": "bba9e187",
   "metadata": {},
   "outputs": [],
   "source": []
  },
  {
   "cell_type": "code",
   "execution_count": null,
   "id": "3aeff4ea",
   "metadata": {},
   "outputs": [],
   "source": []
  },
  {
   "cell_type": "code",
   "execution_count": 9,
   "id": "4163e128",
   "metadata": {},
   "outputs": [],
   "source": [
    "# function showanim(filename)\n",
    "#     base64_video = base64encode(open(filename))\n",
    "#     display(\"text/html\", \"\"\"<video controls src=\"data:video/x-m4v;base64,$base64_video\">\"\"\")\n",
    "# end\n",
    "\n",
    "# fig = figure(figsize=(4,4))\n",
    "# ax = axes()\n",
    "\n",
    "# x = [0:0.01:2pi;]\n",
    "\n",
    "# # i=0,1,...,frames-1\n",
    "# function animate(i)\n",
    "#     clf()\n",
    "#     plot(sin.(x+i/10.0))\n",
    "# end\n",
    "\n",
    "# function init()\n",
    "#     plot(x,sin.(x))\n",
    "# end\n",
    "\n",
    "# withfig(fig) do\n",
    "#     myanim = anim.FuncAnimation(fig, animate, frames=200, init_func=init, interval=25, blit=true)\n",
    "#     myanim[:save](\"test3.mp4\", bitrate=-1, extra_args=[\"-vcodec\", \"libx264\", \"-pix_fmt\", \"yuv420p\"])\n",
    "# end\n",
    "\n",
    "# showanim(\"test3.mp4\")"
   ]
  },
  {
   "cell_type": "code",
   "execution_count": 10,
   "id": "f1bdf41d",
   "metadata": {},
   "outputs": [],
   "source": [
    "# ###\n",
    "# #  make a plot of the sampled GP at each iteration\n",
    "# ###\n",
    "# fig = figure(figsize=(12, 3))\n",
    "# axs = axes()\n",
    "\n",
    "# ind = [i for i in 1:length(sample_y[1])] # domain\n",
    "\n",
    "# function animate(i::Int)\n",
    "#     clf() # clear figure\n",
    "#     plot(ind, sample_y[i])\n",
    "# end\n",
    "\n",
    "# function init()\n",
    "#     plot(ind, sample_y[1])\n",
    "# end\n",
    "\n",
    "# withfig(fig) do\n",
    "#     myanim = anim.FuncAnimation(fig, animate, frames=200, init_func=init, interval=25, blit=true)\n",
    "#     myanim[:save](\"test3.mp4\", bitrate=-1, extra_args=[\"-vcodec\", \"libx264\", \"-pix_fmt\", \"yuv420p\"])\n",
    "# end\n",
    "\n",
    "\n",
    "# xlabel(\"COF index\")\n",
    "# ylabel(\"sample function value\")\n",
    "\n",
    "# tight_layout()"
   ]
  },
  {
   "cell_type": "code",
   "execution_count": 11,
   "id": "c619dbd4",
   "metadata": {
    "scrolled": false
   },
   "outputs": [],
   "source": [
    "# ###\n",
    "# #  make a plot of the sampled GP at each iteration\n",
    "# ###\n",
    "# figure(figsize=(12, 3))\n",
    "\n",
    "# ind = [i for i in 1:length(sample_y[1])]\n",
    "# plot(ind, sample_y[1])\n",
    "\n",
    "# xlabel(\"COF index\")\n",
    "# ylabel(\"sample function value\")\n",
    "\n",
    "# tight_layout()"
   ]
  }
 ],
 "metadata": {
  "kernelspec": {
   "display_name": "Julia 1.6.2",
   "language": "julia",
   "name": "julia-1.6"
  },
  "language_info": {
   "file_extension": ".jl",
   "mimetype": "application/julia",
   "name": "julia",
   "version": "1.6.2"
  }
 },
 "nbformat": 4,
 "nbformat_minor": 5
}
