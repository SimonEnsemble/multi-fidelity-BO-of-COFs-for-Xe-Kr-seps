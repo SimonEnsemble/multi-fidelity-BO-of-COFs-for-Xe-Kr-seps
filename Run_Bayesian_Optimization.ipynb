{
 "cells": [
  {
   "cell_type": "code",
   "execution_count": 1,
   "id": "dcce5056",
   "metadata": {},
   "outputs": [
    {
     "data": {
      "text/plain": [
       "PyObject <function permutation_importance at 0x7f6a0ee858c8>"
      ]
     },
     "execution_count": 1,
     "metadata": {},
     "output_type": "execute_result"
    }
   ],
   "source": [
    "using CSV\n",
    "using DataFrames\n",
    "using PyPlot\n",
    "using StatsBase # Statistics\n",
    "using Formatting # string formatting\n",
    "using ScikitLearn # machine learning package\n",
    "using ScikitLearn.CrossValidation: train_test_split\n",
    "@sk_import gaussian_process : GaussianProcessRegressor\n",
    "@sk_import gaussian_process.kernels : Matern\n",
    "\n",
    "@sk_import inspection : permutation_importance"
   ]
  },
  {
   "cell_type": "markdown",
   "id": "20da1b8a",
   "metadata": {},
   "source": [
    "## Import and Prepare Data"
   ]
  },
  {
   "cell_type": "code",
   "execution_count": 3,
   "id": "150487bb",
   "metadata": {},
   "outputs": [
    {
     "data": {
      "text/html": [
       "<table class=\"data-frame\"><thead><tr><th></th><th>xtal</th><th>henry_selectivity</th><th>gcmc_selectivity</th></tr><tr><th></th><th>String</th><th>Float64</th><th>Float64</th></tr></thead><tbody><p>5 rows × 3 columns</p><tr><th>1</th><td>05000N2_ddec.cif</td><td>1.58051</td><td>1.69624</td></tr><tr><th>2</th><td>05001N2_ddec.cif</td><td>3.27135</td><td>3.2725</td></tr><tr><th>3</th><td>07000N2_ddec.cif</td><td>2.9979</td><td>2.99372</td></tr><tr><th>4</th><td>07001N2_ddec.cif</td><td>9.01379</td><td>9.65039</td></tr><tr><th>5</th><td>07002N2_ddec.cif</td><td>3.60253</td><td>3.64401</td></tr></tbody></table>"
      ],
      "text/latex": [
       "\\begin{tabular}{r|ccc}\n",
       "\t& xtal & henry\\_selectivity & gcmc\\_selectivity\\\\\n",
       "\t\\hline\n",
       "\t& String & Float64 & Float64\\\\\n",
       "\t\\hline\n",
       "\t1 & 05000N2\\_ddec.cif & 1.58051 & 1.69624 \\\\\n",
       "\t2 & 05001N2\\_ddec.cif & 3.27135 & 3.2725 \\\\\n",
       "\t3 & 07000N2\\_ddec.cif & 2.9979 & 2.99372 \\\\\n",
       "\t4 & 07001N2\\_ddec.cif & 9.01379 & 9.65039 \\\\\n",
       "\t5 & 07002N2\\_ddec.cif & 3.60253 & 3.64401 \\\\\n",
       "\\end{tabular}\n"
      ],
      "text/plain": [
       "\u001b[1m5×3 DataFrame\u001b[0m\n",
       "\u001b[1m Row \u001b[0m│\u001b[1m xtal             \u001b[0m\u001b[1m henry_selectivity \u001b[0m\u001b[1m gcmc_selectivity \u001b[0m\n",
       "\u001b[1m     \u001b[0m│\u001b[90m String           \u001b[0m\u001b[90m Float64           \u001b[0m\u001b[90m Float64          \u001b[0m\n",
       "─────┼───────────────────────────────────────────────────────\n",
       "   1 │ 05000N2_ddec.cif            1.58051           1.69624\n",
       "   2 │ 05001N2_ddec.cif            3.27135           3.2725\n",
       "   3 │ 07000N2_ddec.cif            2.9979            2.99372\n",
       "   4 │ 07001N2_ddec.cif            9.01379           9.65039\n",
       "   5 │ 07002N2_ddec.cif            3.60253           3.64401"
      ]
     },
     "execution_count": 3,
     "metadata": {},
     "output_type": "execute_result"
    }
   ],
   "source": [
    "# load descriptor data\n",
    "filename = joinpath(pwd(), \"descriptors/cof_descriptors.csv\")\n",
    "descriptors = CSV.read(filename, DataFrame)\n",
    "rename!(descriptors, \"crystal_name\" => \"xtal\")\n",
    "\n",
    "# WARNING: for these \"⟨N⟩ (mmol/g)\" = [0.0, 0.0] producing sel = NaN... remove them from dataset\n",
    "skip_for_now = [\"13030N2_ddec.cif\", \"16371N2_ddec.cif\", \"20565N3_ddec.cif\", \"21090N3_ddec.cif\"]\n",
    "filter!(row -> ! (row[\"xtal\"] in skip_for_now), descriptors)\n",
    "\n",
    "# load target data\n",
    "target_data = CSV.read(joinpath(pwd(), \"target_and_cost_data.csv\"), DataFrame)\n",
    "target_data[1:5, :]"
   ]
  },
  {
   "cell_type": "code",
   "execution_count": 4,
   "id": "36558077",
   "metadata": {},
   "outputs": [
    {
     "data": {
      "text/plain": [
       "608×14 Matrix{Float64}:\n",
       "  3.84928  0.2  4175.64  1049.37   0.0292303   …  0.00974344   0.0  0.0  0.0\n",
       " 19.7302   0.6  3156.96   585.477  0.0204808      0.00227564   0.0  0.0  0.0\n",
       " 26.1625   0.8  3407.23   458.054  0.0171524      0.00142936   0.0  0.0  0.0\n",
       "  7.82083  0.4  2565.59  1100.22   0.037349       0.00466863   0.0  0.0  0.0\n",
       " 14.8469   0.4  3345.75   703.114  0.0271906      0.00194218   0.0  0.0  0.0\n",
       "  9.33026  0.7  5261.66   421.68   0.0149858   …  0.00239773   0.0  0.0  0.0\n",
       "  9.94867  0.7  5452.36   383.117  0.0125929      0.00209882   0.0  0.0  0.0\n",
       " 18.946    0.9  5335.37   180.981  0.00653913     0.000544927  0.0  0.0  0.0\n",
       " 27.193    0.9  5190.06   171.075  0.00643935     0.000525661  0.0  0.0  0.0\n",
       " 10.0414   0.6  5593.85   519.979  0.0156241      0.00175223   0.0  0.0  0.0\n",
       "  4.7838   0.2  3845.42  1143.15   0.0374755   …  0.00468444   0.0  0.0  0.0\n",
       "  7.51918  0.4  3597.55   988.327  0.0313415      0.00447735   0.0  0.0  0.0\n",
       "  9.8332   0.5  3440.67   874.7    0.0265802      0.00443003   0.0  0.0  0.0\n",
       "  ⋮                                            ⋱  ⋮                      \n",
       "  4.50341  0.4  4381.85  1052.22   0.0447887      0.0          0.0  0.0  0.0\n",
       "  8.19356  0.6  4970.28   724.344  0.0324251      0.0          0.0  0.0  0.0\n",
       " 33.8692   0.9  3512.34   334.814  0.0119202      0.0          0.0  0.0  0.0\n",
       " 24.4929   0.6  4424.18   432.859  0.0170632      0.0          0.0  0.0  0.0\n",
       " 23.3063   0.6  5319.46   377.387  0.0140848   …  0.0          0.0  0.0  0.0\n",
       " 22.3437   0.4  4252.1    436.65   0.0197639      0.0          0.0  0.0  0.0\n",
       " 25.838    0.5  3967.32   418.259  0.0189314      0.0          0.0  0.0  0.0\n",
       " 44.2216   0.9  5030.4    242.283  0.0108662      0.0          0.0  0.0  0.0\n",
       " 44.8273   0.9  4807.29   250.06   0.011215       0.0          0.0  0.0  0.0\n",
       " 29.8214   0.8  4961.92   370.307  0.0159392   …  0.0          0.0  0.0  0.0\n",
       " 28.1907   0.8  4393.93   398.719  0.0171621      0.0          0.0  0.0  0.0\n",
       " 18.4584   0.6  3908.28   553.427  0.0236387      0.0          0.0  0.0  0.0"
      ]
     },
     "execution_count": 4,
     "metadata": {},
     "output_type": "execute_result"
    }
   ],
   "source": [
    "###\n",
    "#  construct feature matrix and target vector for GP\n",
    "###\n",
    "x_cols = [name for name in names(descriptors) if name != \"xtal\"]\n",
    "n_xtals = nrow(descriptors)\n",
    "\n",
    "X = zeros(n_xtals, length(x_cols))\n",
    "henry_y = zeros(n_xtals)\n",
    "gcmc_y  = zeros(n_xtals)\n",
    "\n",
    "for (i, row) in enumerate(eachrow(descriptors))   \n",
    "    for (j, col_name) in enumerate(x_cols)\n",
    "        X[i, j] = row[col_name]\n",
    "    end\n",
    "    # Xe/Kr Selectivity\n",
    "    henry_y[i] = target_data[i, :henry_selectivity] \n",
    "    gcmc_y[i]  = target_data[i, :gcmc_selectivity]\n",
    "end\n",
    "X # look at y too!"
   ]
  },
  {
   "cell_type": "code",
   "execution_count": 5,
   "id": "570ec3db",
   "metadata": {},
   "outputs": [
    {
     "name": "stdout",
     "output_type": "stream",
     "text": [
      "0.0\n",
      "1.0\n"
     ]
    }
   ],
   "source": [
    "# Normalize the feature vectors\n",
    "for j in 1:length(x_cols)\n",
    "    X[:, j] = (X[:, j] .- minimum(X[:, j])) / (maximum(X[:, j]) - minimum(X[:, j]))\n",
    "end\n",
    "println(minimum(X[:, 2]))\n",
    "println(maximum(X[:, 2]))"
   ]
  },
  {
   "cell_type": "markdown",
   "id": "8246bd0a",
   "metadata": {},
   "source": [
    "## BO Function"
   ]
  },
  {
   "cell_type": "code",
   "execution_count": 13,
   "id": "525b8899",
   "metadata": {},
   "outputs": [
    {
     "data": {
      "text/plain": [
       "run_bayesian_optimization (generic function with 1 method)"
      ]
     },
     "execution_count": 13,
     "metadata": {},
     "output_type": "execute_result"
    }
   ],
   "source": [
    "### procedure:\n",
    "# 1. select initial COF identifiers set to train GP \n",
    "# 2. initialize and normalize array of initial target data \n",
    "# 3. itterate through budgetted number of BO runs\n",
    "#    a. construct GP model with kernel\n",
    "#    b. fit GP to current data for acquired COFs => gives ŷ(x)\n",
    "#    c. construct acquiaition function A(x)\n",
    "#    d. determine which COF to acquire next => evaluate argmax(A(x))\n",
    "#       i. for EI track if this is an exploitation or an exploration\n",
    "#    e. append COF identified in step 3.d to list of acquired COFs \n",
    "# 4. update final set of acquired COF data and normalize\n",
    "# 5. return the IDs for the set of acquired COFs\n",
    "###\n",
    "function run_bayesian_optimization(X, y, nb_iterations::Int, \n",
    "                                   nb_COFs_initialization::Int;\n",
    "                                   which_acquisition::Symbol=:UCB,\n",
    "                                   store_explore_exploit_terms::Bool=false)\n",
    "    # quick checks\n",
    "    @assert nb_iterations > nb_COFs_initialization \"More initializations than itterations not allowed.\"\n",
    "    @assert which_acquisition in [:UCB] \"Acquisition function not supported:\\t $(which_acquisition)\"\n",
    "    \n",
    "    ###\n",
    "    #  1. randomly select COF IDs for training initial GP\n",
    "    ###\n",
    "    ids_acquired = StatsBase.sample(1:nb_COFs, nb_COFs_initialization, replace=false)\n",
    "    @assert (length(unique(ids_acquired)) == nb_COFs_initialization)\n",
    "     \n",
    "    ###\n",
    "    #  3. itterate through budgetted number of BO runs\n",
    "    ###\n",
    "    for i in range(nb_COFs_initialization, stop=nb_iterations)\n",
    "        ###\n",
    "        #  a-b. construct and fit GP model\n",
    "        ###\n",
    "        kernel = Matern(nu=2.5, length_scale=0.25) \n",
    "        model = GaussianProcessRegressor(kernel=kernel, normalize_y=true, n_restarts_optimizer=5)\n",
    "        model.fit(X[ids_acquired, :], y[ids_acquired])\n",
    "        \n",
    "        ###\n",
    "        #  c. setup acquisition function\n",
    "        ###\n",
    "        if which_acquisition == :UCB\n",
    "            # A(x) = ŷ(x) + βσ(x)\n",
    "            # where β controlls exploitation-exploration trade-off\n",
    "            β = 2.0\n",
    "            ŷ, σ = model.predict(X, return_std=true)\n",
    "            acquisition_values = ŷ .+ β * σ\n",
    "        elseif which_acquisition == :EI\n",
    "            # A(x) = integral{-∞}{+∞}[I(x)N(y|ŷ(x), σ²(x))dy]\n",
    "            # where I(x) = max(0, f(x) - maxᵢ(yᵢ))\n",
    "        end\n",
    "        \n",
    "        ###\n",
    "        #  d. determine which COF to acquire next\n",
    "        ###\n",
    "        ids_sorted_by_aquisition = sort(acquisition_values, rev=true)\n",
    "        for id_max_aquisition_all in ids_sorted_by_aquisition\n",
    "            if ! (id_max_aquisition_all in ids_acquired)\n",
    "                id_max_aquisition = id_max_aquisition_all\n",
    "                break\n",
    "            end\n",
    "        end\n",
    "        \n",
    "        ###\n",
    "        #  e. acqurie this COF (i.e. update list)\n",
    "        ###\n",
    "        ids_acquired = push!(ids_acquired, id_max_aquisition)\n",
    "        @assert length(ids_acquired) == i + 1\n",
    "    end\n",
    "    \n",
    "    # quick check\n",
    "    @assert length(ids_acquired) == nb_iterations\n",
    "    \n",
    "    ###\n",
    "    #  5. return the IDs for the set of acquired COFs\n",
    "    ###\n",
    "    return ids_acquired\n",
    "end"
   ]
  },
  {
   "cell_type": "markdown",
   "id": "659a6fdf",
   "metadata": {},
   "source": [
    "## Apply BO"
   ]
  },
  {
   "cell_type": "code",
   "execution_count": null,
   "id": "08ebf676",
   "metadata": {},
   "outputs": [],
   "source": [
    "nb_COFs = length(descriptors[:, \"xtal\"])\n",
    "nb_iterations = 300\n",
    "nb_COFs_initialization = 10\n",
    "which_acquisition = :UCB # :EI"
   ]
  },
  {
   "cell_type": "markdown",
   "id": "d7c2f4d3",
   "metadata": {},
   "source": [
    "## search efficiency curve"
   ]
  },
  {
   "cell_type": "code",
   "execution_count": null,
   "id": "ab3a028a",
   "metadata": {},
   "outputs": [],
   "source": [
    "# make a plot of ŷ and σ as a function of itterations to see exploitation vs exploration"
   ]
  }
 ],
 "metadata": {
  "kernelspec": {
   "display_name": "Julia 1.6.0",
   "language": "julia",
   "name": "julia-1.6"
  },
  "language_info": {
   "file_extension": ".jl",
   "mimetype": "application/julia",
   "name": "julia",
   "version": "1.6.0"
  }
 },
 "nbformat": 4,
 "nbformat_minor": 5
}
