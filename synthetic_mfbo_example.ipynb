{
 "cells": [
  {
   "cell_type": "markdown",
   "id": "90f8fb98",
   "metadata": {},
   "source": [
    "see [here](https://github.com/SimonEnsemble/BO_of_COFs/blob/main/synthetic_example.ipynb) for inspiration."
   ]
  },
  {
   "cell_type": "code",
   "execution_count": null,
   "id": "9193a5b9",
   "metadata": {},
   "outputs": [],
   "source": [
    "import math\n",
    "import torch\n",
    "import gpytorch\n",
    "from matplotlib import pyplot as plt\n",
    "import seaborn as sns\n",
    "from botorch import fit_gpytorch_model\n",
    "\n",
    "%matplotlib inline\n",
    "%load_ext autoreload\n",
    "%autoreload 2\n",
    "import numpy as np\n",
    "from botorch.acquisition.analytic import ExpectedImprovement\n",
    "from torch.distributions import Normal"
   ]
  },
  {
   "cell_type": "code",
   "execution_count": null,
   "id": "2327abe8",
   "metadata": {},
   "outputs": [],
   "source": [
    "cool_colors = ['#00BEFF', '#D4CA3A', '#FF6DAE', '#67E1B5', '#EBACFA', '#9E9E9E', '#F1988E', '#5DB15A', '#E28544', '#52B8AA']\n"
   ]
  },
  {
   "cell_type": "code",
   "execution_count": null,
   "id": "ae756cf8",
   "metadata": {},
   "outputs": [],
   "source": []
  }
 ],
 "metadata": {
  "kernelspec": {
   "display_name": "Python 3 (ipykernel)",
   "language": "python",
   "name": "python3"
  },
  "language_info": {
   "codemirror_mode": {
    "name": "ipython",
    "version": 3
   },
   "file_extension": ".py",
   "mimetype": "text/x-python",
   "name": "python",
   "nbconvert_exporter": "python",
   "pygments_lexer": "ipython3",
   "version": "3.8.10"
  }
 },
 "nbformat": 4,
 "nbformat_minor": 5
}
