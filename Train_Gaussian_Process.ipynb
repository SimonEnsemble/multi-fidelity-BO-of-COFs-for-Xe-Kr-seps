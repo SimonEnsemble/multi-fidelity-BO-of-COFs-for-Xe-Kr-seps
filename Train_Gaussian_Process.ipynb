{
 "cells": [
  {
   "cell_type": "markdown",
   "id": "5f9bd9f0",
   "metadata": {},
   "source": [
    "We want to use (train) a Gaussian Process for regression analysis so that we can determin (by fitting) "
   ]
  },
  {
   "cell_type": "code",
   "execution_count": 1,
   "id": "4deafbfa",
   "metadata": {},
   "outputs": [
    {
     "data": {
      "text/plain": [
       "PyObject <function permutation_importance at 0x7ff510eca8c8>"
      ]
     },
     "execution_count": 1,
     "metadata": {},
     "output_type": "execute_result"
    }
   ],
   "source": [
    "using CSV\n",
    "using DataFrames\n",
    "using PyPlot\n",
    "# using StatsBase\n",
    "using Statistics\n",
    "\n",
    "\n",
    "using ScikitLearn # machine learning package\n",
    "using ScikitLearn.CrossValidation: train_test_split\n",
    "@sk_import gaussian_process : GaussianProcessRegressor\n",
    "@sk_import gaussian_process.kernels : Matern\n",
    "\n",
    "@sk_import inspection : permutation_importance\n",
    "# @sk_import metrics : confusion_matrix"
   ]
  },
  {
   "cell_type": "code",
   "execution_count": 2,
   "id": "db0eea69",
   "metadata": {
    "scrolled": false
   },
   "outputs": [
    {
     "data": {
      "text/html": [
       "<table class=\"data-frame\"><thead><tr><th></th><th>xtal</th><th>henry_coeff</th><th>err_henry_coeff</th></tr><tr><th></th><th>String</th><th>String</th><th>String</th></tr></thead><tbody><p>5 rows × 13 columns (omitted printing of 10 columns)</p><tr><th>1</th><td>05000N2_ddec.cif</td><td>[1.80109037955602, 1.651416583855947]</td><td>[1.80109037955602, 1.651416583855947]</td></tr><tr><th>2</th><td>05001N2_ddec.cif</td><td>[5.615571200847626, 5.291361399491628]</td><td>[5.615571200847626, 5.291361399491628]</td></tr><tr><th>3</th><td>07000N2_ddec.cif</td><td>[4.406490850448608, 4.244245433807373]</td><td>[4.406490850448608, 4.244245433807373]</td></tr><tr><th>4</th><td>07001N2_ddec.cif</td><td>[1.8438791513442994, 1.7389115810394287]</td><td>[1.8438791513442994, 1.7389115810394287]</td></tr><tr><th>5</th><td>07002N2_ddec.cif</td><td>[3.2536184151967364, 3.2702232837677]</td><td>[3.2536184151967364, 3.2702232837677]</td></tr></tbody></table>"
      ],
      "text/latex": [
       "\\begin{tabular}{r|cccc}\n",
       "\t& xtal & henry\\_coeff & err\\_henry\\_coeff & \\\\\n",
       "\t\\hline\n",
       "\t& String & String & String & \\\\\n",
       "\t\\hline\n",
       "\t1 & 05000N2\\_ddec.cif & [1.80109037955602, 1.651416583855947] & [1.80109037955602, 1.651416583855947] & $\\dots$ \\\\\n",
       "\t2 & 05001N2\\_ddec.cif & [5.615571200847626, 5.291361399491628] & [5.615571200847626, 5.291361399491628] & $\\dots$ \\\\\n",
       "\t3 & 07000N2\\_ddec.cif & [4.406490850448608, 4.244245433807373] & [4.406490850448608, 4.244245433807373] & $\\dots$ \\\\\n",
       "\t4 & 07001N2\\_ddec.cif & [1.8438791513442994, 1.7389115810394287] & [1.8438791513442994, 1.7389115810394287] & $\\dots$ \\\\\n",
       "\t5 & 07002N2\\_ddec.cif & [3.2536184151967364, 3.2702232837677] & [3.2536184151967364, 3.2702232837677] & $\\dots$ \\\\\n",
       "\\end{tabular}\n"
      ],
      "text/plain": [
       "\u001b[1m5×13 DataFrame\u001b[0m\n",
       "\u001b[1m Row \u001b[0m│\u001b[1m xtal             \u001b[0m\u001b[1m henry_coeff                       \u001b[0m\u001b[1m err_henry_coeff   \u001b[0m ⋯\n",
       "\u001b[1m     \u001b[0m│\u001b[90m String           \u001b[0m\u001b[90m String                            \u001b[0m\u001b[90m String            \u001b[0m ⋯\n",
       "─────┼──────────────────────────────────────────────────────────────────────────\n",
       "   1 │ 05000N2_ddec.cif  [1.80109037955602, 1.65141658385…  [1.80109037955602, ⋯\n",
       "   2 │ 05001N2_ddec.cif  [5.615571200847626, 5.2913613994…  [5.615571200847626\n",
       "   3 │ 07000N2_ddec.cif  [4.406490850448608, 4.2442454338…  [4.406490850448608\n",
       "   4 │ 07001N2_ddec.cif  [1.8438791513442994, 1.738911581…  [1.843879151344299\n",
       "   5 │ 07002N2_ddec.cif  [3.2536184151967364, 3.270223283…  [3.253618415196736 ⋯\n",
       "\u001b[36m                                                              11 columns omitted\u001b[0m"
      ]
     },
     "execution_count": 2,
     "metadata": {},
     "output_type": "execute_result"
    }
   ],
   "source": [
    "filename = joinpath(pwd(), \"descriptors/cof_descriptors.csv\")\n",
    "descriptors = CSV.read(filename, DataFrame)\n",
    "rename!(descriptors, \"crystal_name\" => \"xtal\")\n",
    "\n",
    "# for some reason these ones aren't working... LOOk INTO IT\n",
    "skip_for_now = [\"07012N3_ddec.cif\", \"16290N3_ddec.cif\", \"21111N3_ddec.cif\"]\n",
    "\n",
    "[delete!(descriptors, findfirst(descriptors[:, \"xtal\"] .== skip_for_now[i])) for i in 1:length(skip_for_now)]\n",
    "\n",
    "target_and_cost_data = CSV.read(joinpath(pwd(), \"target_and_cost_data.csv\"), DataFrame)\n",
    "\n",
    "target_and_cost_data[1:5, :]"
   ]
  },
  {
   "cell_type": "code",
   "execution_count": 3,
   "id": "d0b52321",
   "metadata": {},
   "outputs": [
    {
     "data": {
      "text/plain": [
       "13-element Vector{String}:\n",
       " \"xtal\"\n",
       " \"henry_coeff\"\n",
       " \"err_henry_coeff\"\n",
       " \"henry_elapsed_time\"\n",
       " \"henry_total_elapsed_time\"\n",
       " \"henry_selectivity\"\n",
       " \"err_henry_selectivity\"\n",
       " \"gcmc_uptake\"\n",
       " \"err_gcmc_uptake\"\n",
       " \"gcmc_pressure\"\n",
       " \"gcmc_elapsed_time\"\n",
       " \"gcmc_selectivity\"\n",
       " \"err_gcmc_selectivity\""
      ]
     },
     "execution_count": 3,
     "metadata": {},
     "output_type": "execute_result"
    }
   ],
   "source": [
    "names(target_and_cost_data)"
   ]
  },
  {
   "cell_type": "markdown",
   "id": "2681319b",
   "metadata": {},
   "source": [
    "Scikitlearn takes as input:\n",
    "\n",
    "- a feature matrix X, which must be n_samples by n_features\n",
    "- a target vector y, which must be n_samples long (of course)"
   ]
  },
  {
   "cell_type": "code",
   "execution_count": 4,
   "id": "ac75d69e",
   "metadata": {
    "scrolled": true
   },
   "outputs": [
    {
     "data": {
      "text/plain": [
       "609×14 Matrix{Float64}:\n",
       " 0.000340858  0.000547645  0.00159449   …  0.0519729   0.0  0.0  0.0\n",
       " 0.00174713   0.00164294   0.00120551      0.0121386   0.0  0.0  0.0\n",
       " 0.00231671   0.00219058   0.00130107      0.00762443  0.0  0.0  0.0\n",
       " 0.000692543  0.00109529   0.000979687     0.0249031   0.0  0.0  0.0\n",
       " 0.00131471   0.00109529   0.0012776       0.0103599   0.0  0.0  0.0\n",
       " 0.000826204  0.00191676   0.0020092    …  0.0127898   0.0  0.0  0.0\n",
       " 0.000880965  0.00191676   0.00208202      0.0111954   0.0  0.0  0.0\n",
       " 0.00240797   0.0024644    0.00198186      0.00280395  0.0  0.0  0.0\n",
       " 0.000889175  0.00164294   0.00213605      0.00934666  0.0  0.0  0.0\n",
       " 0.00042361   0.000547645  0.0014684       0.0249875   0.0  0.0  0.0\n",
       " 0.000665831  0.00109529   0.00137375   …  0.0238828   0.0  0.0  0.0\n",
       " 0.00087074   0.00136911   0.00131384      0.0236304   0.0  0.0  0.0\n",
       " 0.00115829   0.00136911   0.00121159      0.0231552   0.0  0.0  0.0\n",
       " ⋮                                      ⋱  ⋮                     \n",
       " 0.000398782  0.00109529   0.00167324      0.0         0.0  0.0  0.0\n",
       " 0.000725548  0.00164294   0.00189793      0.0         0.0  0.0  0.0\n",
       " 0.00299915   0.0024644    0.00134121      0.0         0.0  0.0  0.0\n",
       " 0.00216887   0.00164294   0.0016894    …  0.0         0.0  0.0  0.0\n",
       " 0.0020638    0.00164294   0.00203127      0.0         0.0  0.0  0.0\n",
       " 0.00197856   0.00109529   0.00162369      0.0         0.0  0.0  0.0\n",
       " 0.00228798   0.00136911   0.00151495      0.0         0.0  0.0  0.0\n",
       " 0.00391587   0.0024644    0.00192089      0.0         0.0  0.0  0.0\n",
       " 0.0039695    0.0024644    0.00183569   …  0.0         0.0  0.0  0.0\n",
       " 0.00264072   0.00219058   0.00189474      0.0         0.0  0.0  0.0\n",
       " 0.00249631   0.00219058   0.00167785      0.0         0.0  0.0  0.0\n",
       " 0.00163451   0.00164294   0.0014924       0.0         0.0  0.0  0.0"
      ]
     },
     "execution_count": 4,
     "metadata": {},
     "output_type": "execute_result"
    }
   ],
   "source": [
    "x_cols = [name for name in names(descriptors) if name != \"xtal\"]\n",
    "n_xtals = nrow(descriptors)\n",
    "\n",
    "X = zeros(n_xtals, length(x_cols))\n",
    "y = zeros(n_xtals)\n",
    "\n",
    "for (i, row) in enumerate(eachrow(descriptors))\n",
    "#     @assert descriptors[i, \"xtal\"] == target_and_cost_data[i, :xtal] \n",
    "    \n",
    "    for (j, col_name) in enumerate(x_cols)\n",
    "        X[i, j] = row[col_name] / sum(descriptors[:, col_name])\n",
    "    end\n",
    "    # need to normalize X by column\n",
    "    \n",
    "    y[i] = target_and_cost_data[i, :henry_selectivity] # Xe/Kr Selectivity\n",
    "end\n",
    "X # look at y too!"
   ]
  },
  {
   "cell_type": "code",
   "execution_count": 5,
   "id": "ced542b4",
   "metadata": {},
   "outputs": [],
   "source": [
    "X_train, X_test, y_train, y_test = train_test_split(X, y, test_size=0.25);"
   ]
  },
  {
   "cell_type": "code",
   "execution_count": 6,
   "id": "ddc70f1e",
   "metadata": {},
   "outputs": [
    {
     "data": {
      "text/plain": [
       "PyObject GaussianProcessRegressor(kernel=Matern(length_scale=1, nu=1.5),\n",
       "                         n_restarts_optimizer=5, normalize_y=True)"
      ]
     },
     "execution_count": 6,
     "metadata": {},
     "output_type": "execute_result"
    }
   ],
   "source": [
    "# train on training data\n",
    "# kernel = Matern(nu=2.5, length_scale=0.25)\n",
    "kernel = Matern()\n",
    "gpr = GaussianProcessRegressor(kernel=kernel, normalize_y=true, n_restarts_optimizer=5)"
   ]
  },
  {
   "cell_type": "code",
   "execution_count": 7,
   "id": "4ce687e6",
   "metadata": {},
   "outputs": [
    {
     "data": {
      "text/plain": [
       "Dict{Any, Any} with 10 entries:\n",
       "  \"normalize_y\"                 => true\n",
       "  \"optimizer\"                   => \"fmin_l_bfgs_b\"\n",
       "  \"alpha\"                       => 1.0e-10\n",
       "  \"kernel__length_scale_bounds\" => (1.0e-5, 100000.0)\n",
       "  \"kernel\"                      => PyObject Matern(length_scale=1, nu=1.5)\n",
       "  \"kernel__nu\"                  => 1.5\n",
       "  \"random_state\"                => nothing\n",
       "  \"kernel__length_scale\"        => 1.0\n",
       "  \"n_restarts_optimizer\"        => 5\n",
       "  \"copy_X_train\"                => true"
      ]
     },
     "execution_count": 7,
     "metadata": {},
     "output_type": "execute_result"
    }
   ],
   "source": [
    "gpr.get_params()"
   ]
  },
  {
   "cell_type": "code",
   "execution_count": 8,
   "id": "e0c77c4a",
   "metadata": {},
   "outputs": [
    {
     "data": {
      "text/plain": [
       "PyObject GaussianProcessRegressor(kernel=Matern(length_scale=1, nu=1.5),\n",
       "                         n_restarts_optimizer=5, normalize_y=True)"
      ]
     },
     "execution_count": 8,
     "metadata": {},
     "output_type": "execute_result"
    }
   ],
   "source": [
    "gpr.fit(X_train, y_train)"
   ]
  },
  {
   "cell_type": "code",
   "execution_count": 9,
   "id": "1c4dc91b",
   "metadata": {},
   "outputs": [
    {
     "data": {
      "text/plain": [
       "PyObject Matern(length_scale=0.000192, nu=1.5)"
      ]
     },
     "execution_count": 9,
     "metadata": {},
     "output_type": "execute_result"
    }
   ],
   "source": [
    "gpr.kernel_"
   ]
  },
  {
   "cell_type": "code",
   "execution_count": 10,
   "id": "773d698c",
   "metadata": {},
   "outputs": [
    {
     "data": {
      "text/plain": [
       "153-element Vector{Float64}:\n",
       " 0.9382294832673884\n",
       " 0.9446363305733743\n",
       " 0.945335666323235\n",
       " 0.9466508996515854\n",
       " 0.9413382746508653\n",
       " 0.9446354423057972\n",
       " 0.9467168816900994\n",
       " 0.9341959393968226\n",
       " 0.9174383801814285\n",
       " 0.9495228897510688\n",
       " 0.9638102151416107\n",
       " 0.9457107166772073\n",
       " 0.9341355023056862\n",
       " ⋮\n",
       " 0.9430942138548791\n",
       " 0.9457462989557356\n",
       " 0.89770445065547\n",
       " 0.9418762909595216\n",
       " 0.944616662051932\n",
       " 0.9446359934484718\n",
       " 0.9447307669803111\n",
       " 0.9446364055990625\n",
       " 0.9446363305622784\n",
       " 0.9444038778453169\n",
       " 0.9446363305626271\n",
       " 0.9592277551146623"
      ]
     },
     "execution_count": 10,
     "metadata": {},
     "output_type": "execute_result"
    }
   ],
   "source": [
    "# get predictions on test data\n",
    "y_pred = gpr.predict(X_test)"
   ]
  },
  {
   "cell_type": "code",
   "execution_count": 11,
   "id": "951f8e74",
   "metadata": {},
   "outputs": [
    {
     "data": {
      "text/plain": [
       "0.023537298541209117"
      ]
     },
     "execution_count": 11,
     "metadata": {},
     "output_type": "execute_result"
    }
   ],
   "source": [
    "# compute RMSE, R2 on test data\n",
    "rmse = sqrt(mean((y_test - y_pred).^2))\n",
    "r2 = gpr.score(X_test, y_test)"
   ]
  },
  {
   "cell_type": "code",
   "execution_count": 12,
   "id": "d2c004b6",
   "metadata": {},
   "outputs": [
    {
     "data": {
      "text/plain": [
       "Dict{Any, Any} with 3 entries:\n",
       "  \"importances_std\"  => [0.00257468, 0.00918416, 0.00267663, 0.0041343, 0.00419…\n",
       "  \"importances_mean\" => [0.0126638, 0.0246532, 0.0146246, 0.0134144, 0.0177153,…\n",
       "  \"importances\"      => [0.00820485 0.0147854 … 0.0138471 0.0114113; 0.0246982 …"
      ]
     },
     "execution_count": 12,
     "metadata": {},
     "output_type": "execute_result"
    }
   ],
   "source": [
    "# permutation importance\n",
    "feature_importances = permutation_importance(gpr, X_test, y_test)"
   ]
  },
  {
   "cell_type": "markdown",
   "id": "02c324c4",
   "metadata": {},
   "source": [
    "## Parity Plot"
   ]
  },
  {
   "cell_type": "code",
   "execution_count": 15,
   "id": "f855b6a0",
   "metadata": {},
   "outputs": [
    {
     "data": {
      "image/png": "[encoded data removed]",
      "text/plain": [
       "Figure(PyObject <Figure size 640x480 with 1 Axes>)"
      ]
     },
     "metadata": {},
     "output_type": "display_data"
    }
   ],
   "source": [
    "figure()\n",
    "\n",
    "xmin = minimum(min.(y_test, y_pred))\n",
    "xmax = maximum(max.(y_test, y_pred))\n",
    "x = range(xmin, stop=xmax, length=length(y_test))\n",
    "y = x\n",
    "plot(x, y, color=\"k\")\n",
    "\n",
    "scatter(y_test, y_pred)\n",
    "\n",
    "xlim([xmin, xmax])\n",
    "ylim([xmin, xmax])\n",
    "\n",
    "title(\"selectivity parity plot\")\n",
    "xlabel(\"test values\")\n",
    "ylabel(\"predicted values\")\n",
    "\n",
    "tight_layout()"
   ]
  },
  {
   "cell_type": "code",
   "execution_count": null,
   "id": "0ef3cb63",
   "metadata": {},
   "outputs": [],
   "source": []
  }
 ],
 "metadata": {
  "kernelspec": {
   "display_name": "Julia 1.6.0",
   "language": "julia",
   "name": "julia-1.6"
  },
  "language_info": {
   "file_extension": ".jl",
   "mimetype": "application/julia",
   "name": "julia",
   "version": "1.6.0"
  }
 },
 "nbformat": 4,
 "nbformat_minor": 5
}
