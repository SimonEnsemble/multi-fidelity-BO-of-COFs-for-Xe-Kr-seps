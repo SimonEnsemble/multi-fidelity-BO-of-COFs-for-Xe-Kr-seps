{
 "cells": [
  {
   "cell_type": "markdown",
   "id": "5f9bd9f0",
   "metadata": {},
   "source": [
    "We want to use (train) a Gaussian Process for regression analysis so that we can determin (by fitting) "
   ]
  },
  {
   "cell_type": "code",
   "execution_count": 1,
   "id": "4deafbfa",
   "metadata": {},
   "outputs": [
    {
     "data": {
      "text/plain": [
       "PyObject <function permutation_importance at 0x7f3b259da8c8>"
      ]
     },
     "execution_count": 1,
     "metadata": {},
     "output_type": "execute_result"
    }
   ],
   "source": [
    "using CSV\n",
    "using DataFrames\n",
    "using PyPlot\n",
    "using StatsBase\n",
    "# using Random\n",
    "# using LaTeXStrings # for L\"$x$\" to work instead of needing to do \"\\$x\\$\"\n",
    "# using Printf\n",
    "\n",
    "using ScikitLearn # machine learning package\n",
    "using ScikitLearn.CrossValidation: train_test_split\n",
    "@sk_import gaussian_process : GaussianProcessRegressor\n",
    "@sk_import gaussian_process.kernels : Matern\n",
    "\n",
    "@sk_import inspection : permutation_importance\n",
    "# @sk_import metrics : confusion_matrix"
   ]
  },
  {
   "cell_type": "code",
   "execution_count": 2,
   "id": "db0eea69",
   "metadata": {
    "scrolled": false
   },
   "outputs": [
    {
     "data": {
      "text/html": [
       "<table class=\"data-frame\"><thead><tr><th></th><th>crystal_name</th><th>H_Xe</th><th>err_H_Xe</th><th>time_Xe</th><th>H_Kr</th><th>err_H_Kr</th><th>time_Kr</th></tr><tr><th></th><th>String?</th><th>Float64?</th><th>Float64?</th><th>Float64?</th><th>Float64?</th><th>Float64?</th><th>Float64?</th></tr></thead><tbody><p>5 rows × 23 columns (omitted printing of 16 columns)</p><tr><th>1</th><td>05000N2_ddec.cif</td><td>0.539934</td><td>0.0579636</td><td>1.65142</td><td>0.341621</td><td>0.0214178</td><td>1.80109</td></tr><tr><th>2</th><td>05001N2_ddec.cif</td><td>1.12541</td><td>0.00422026</td><td>5.29136</td><td>0.344019</td><td>0.00165314</td><td>5.61557</td></tr><tr><th>3</th><td>07000N2_ddec.cif</td><td>1.07055</td><td>0.00303046</td><td>4.24425</td><td>0.357101</td><td>0.00161386</td><td>4.40649</td></tr><tr><th>4</th><td>07001N2_ddec.cif</td><td>10.7021</td><td>0.112161</td><td>1.73891</td><td>1.18731</td><td>0.012399</td><td>1.84388</td></tr><tr><th>5</th><td>07002N2_ddec.cif</td><td>1.35961</td><td>0.00542812</td><td>3.27022</td><td>0.377404</td><td>0.00248071</td><td>3.25362</td></tr></tbody></table>"
      ],
      "text/latex": [
       "\\begin{tabular}{r|cccccccc}\n",
       "\t& crystal\\_name & H\\_Xe & err\\_H\\_Xe & time\\_Xe & H\\_Kr & err\\_H\\_Kr & time\\_Kr & \\\\\n",
       "\t\\hline\n",
       "\t& String? & Float64? & Float64? & Float64? & Float64? & Float64? & Float64? & \\\\\n",
       "\t\\hline\n",
       "\t1 & 05000N2\\_ddec.cif & 0.539934 & 0.0579636 & 1.65142 & 0.341621 & 0.0214178 & 1.80109 & $\\dots$ \\\\\n",
       "\t2 & 05001N2\\_ddec.cif & 1.12541 & 0.00422026 & 5.29136 & 0.344019 & 0.00165314 & 5.61557 & $\\dots$ \\\\\n",
       "\t3 & 07000N2\\_ddec.cif & 1.07055 & 0.00303046 & 4.24425 & 0.357101 & 0.00161386 & 4.40649 & $\\dots$ \\\\\n",
       "\t4 & 07001N2\\_ddec.cif & 10.7021 & 0.112161 & 1.73891 & 1.18731 & 0.012399 & 1.84388 & $\\dots$ \\\\\n",
       "\t5 & 07002N2\\_ddec.cif & 1.35961 & 0.00542812 & 3.27022 & 0.377404 & 0.00248071 & 3.25362 & $\\dots$ \\\\\n",
       "\\end{tabular}\n"
      ],
      "text/plain": [
       "\u001b[1m5×23 DataFrame\u001b[0m\n",
       "\u001b[1m Row \u001b[0m│\u001b[1m crystal_name     \u001b[0m\u001b[1m H_Xe      \u001b[0m\u001b[1m err_H_Xe   \u001b[0m\u001b[1m time_Xe  \u001b[0m\u001b[1m H_Kr     \u001b[0m\u001b[1m err_H_Kr  \u001b[0m ⋯\n",
       "\u001b[1m     \u001b[0m│\u001b[90m String?          \u001b[0m\u001b[90m Float64?  \u001b[0m\u001b[90m Float64?   \u001b[0m\u001b[90m Float64? \u001b[0m\u001b[90m Float64? \u001b[0m\u001b[90m Float64?  \u001b[0m ⋯\n",
       "─────┼──────────────────────────────────────────────────────────────────────────\n",
       "   1 │ 05000N2_ddec.cif   0.539934  0.0579636    1.65142  0.341621  0.0214178  ⋯\n",
       "   2 │ 05001N2_ddec.cif   1.12541   0.00422026   5.29136  0.344019  0.00165314\n",
       "   3 │ 07000N2_ddec.cif   1.07055   0.00303046   4.24425  0.357101  0.00161386\n",
       "   4 │ 07001N2_ddec.cif  10.7021    0.112161     1.73891  1.18731   0.012399\n",
       "   5 │ 07002N2_ddec.cif   1.35961   0.00542812   3.27022  0.377404  0.00248071 ⋯\n",
       "\u001b[36m                                                              17 columns omitted\u001b[0m"
      ]
     },
     "execution_count": 2,
     "metadata": {},
     "output_type": "execute_result"
    }
   ],
   "source": [
    "filename = joinpath(pwd(), \"descriptors/cof_descriptors.csv\")\n",
    "descriptors = CSV.read(filename, DataFrame)\n",
    "\n",
    "filename = joinpath(pwd(), \"henry_calculations.csv\")\n",
    "henry_data = CSV.read(filename, DataFrame)\n",
    "\n",
    "# for some reason these ones aren't working... LOOk INTO IT\n",
    "skip_for_now = [\"07012N3_ddec.cif\", \"16290N3_ddec.cif\", \"21111N3_ddec.cif\"]\n",
    "delete!(descriptors, findfirst(descriptors[:, \"crystal_name\"] .== skip_for_now[1]))\n",
    "\n",
    "dataset = outerjoin(henry_data, descriptors, on=[\"crystal_name\"])\n",
    "first(dataset, 5)"
   ]
  },
  {
   "cell_type": "code",
   "execution_count": 3,
   "id": "623d0adb",
   "metadata": {},
   "outputs": [
    {
     "data": {
      "text/plain": [
       "23-element Vector{String}:\n",
       " \"crystal_name\"\n",
       " \"H_Xe\"\n",
       " \"err_H_Xe\"\n",
       " \"time_Xe\"\n",
       " \"H_Kr\"\n",
       " \"err_H_Kr\"\n",
       " \"time_Kr\"\n",
       " \"selectivity\"\n",
       " \"selectivity_err\"\n",
       " \"pore_diameter_Å\"\n",
       " \"void_fraction\"\n",
       " \"surface_area_m²g⁻¹\"\n",
       " \"crystal_density\"\n",
       " \"density_of_Carbon\"\n",
       " \"density_of_Hydrogen\"\n",
       " \"density_of_Oxygen\"\n",
       " \"density_of_Nitrogen\"\n",
       " \"density_of_Silicon\"\n",
       " \"density_of_Sulfur\"\n",
       " \"density_of_Boron\"\n",
       " \"density_of_Phosphorus\"\n",
       " \"density_of_Halogens\"\n",
       " \"density_of_Metals\""
      ]
     },
     "execution_count": 3,
     "metadata": {},
     "output_type": "execute_result"
    }
   ],
   "source": [
    "names(dataset)"
   ]
  },
  {
   "cell_type": "markdown",
   "id": "2681319b",
   "metadata": {},
   "source": [
    "Scikitlearn takes as input:\n",
    "\n",
    "- a feature matrix X, which must be n_samples by n_features\n",
    "- a target vector y, which must be n_samples long (of course)"
   ]
  },
  {
   "cell_type": "code",
   "execution_count": 4,
   "id": "ac75d69e",
   "metadata": {
    "scrolled": true
   },
   "outputs": [
    {
     "data": {
      "text/plain": [
       "611×4 Matrix{Float64}:\n",
       "  3.84928  4175.64  0.00974344  0.0292303\n",
       " 19.7302   3156.96  0.00455128  0.0204808\n",
       " 26.1625   3407.23  0.00285873  0.0171524\n",
       "  7.82083  2565.59  0.00933726  0.037349\n",
       " 14.8469   3345.75  0.00388437  0.0271906\n",
       "  9.33026  5261.66  0.00239773  0.0149858\n",
       "  9.94867  5452.36  0.00209882  0.0125929\n",
       " 27.193    5190.06  0.00105132  0.00643935\n",
       " 10.0414   5593.85  0.00350446  0.0156241\n",
       "  4.7838   3845.42  0.00936888  0.0374755\n",
       "  7.51918  3597.55  0.0089547   0.0313415\n",
       "  9.8332   3440.67  0.00886007  0.0265802\n",
       " 13.0805   3172.89  0.00868189  0.0217047\n",
       "  ⋮                             \n",
       "  4.50341  4381.85  0.00146848  0.0447887\n",
       "  8.19356  4970.28  0.0         0.0324251\n",
       " 33.8692   3512.34  0.00137541  0.0119202\n",
       " 24.4929   4424.18  0.0         0.0170632\n",
       " 23.3063   5319.46  0.0         0.0140848\n",
       " 22.3437   4252.1   0.0         0.0197639\n",
       " 25.838    3967.32  0.0         0.0189314\n",
       " 44.2216   5030.4   0.0         0.0108662\n",
       " 44.8273   4807.29  0.0         0.011215\n",
       " 29.8214   4961.92  0.0         0.0159392\n",
       " 28.1907   4393.93  0.0         0.0171621\n",
       " 18.4584   3908.28  0.0         0.0236387"
      ]
     },
     "execution_count": 4,
     "metadata": {},
     "output_type": "execute_result"
    }
   ],
   "source": [
    "# x_cols = [name for name in names(descriptors) if name != \"crystal_name\"]\n",
    "x_cols = [\"pore_diameter_Å\", \"surface_area_m²g⁻¹\", \"density_of_Oxygen\", \"density_of_Carbon\"]\n",
    "n_xtals = nrow(dataset)\n",
    "\n",
    "X = zeros(n_xtals, length(x_cols))\n",
    "y = zeros(n_xtals)\n",
    "\n",
    "for (i, row) in enumerate(eachrow(dataset))\n",
    "    [X[i, j] = row[col] for (j, col) in enumerate(x_cols)]\n",
    "    y[i] = row[\"selectivity\"]\n",
    "end\n",
    "X # look at y too!"
   ]
  },
  {
   "cell_type": "code",
   "execution_count": 5,
   "id": "ced542b4",
   "metadata": {},
   "outputs": [],
   "source": [
    "X_train, X_test, y_train, y_test = train_test_split(X, y, test_size=0.25);"
   ]
  },
  {
   "cell_type": "code",
   "execution_count": 6,
   "id": "773d698c",
   "metadata": {},
   "outputs": [
    {
     "data": {
      "text/plain": [
       "153-element Vector{Float64}:\n",
       " 4.308851165516869\n",
       " 4.181289210142494\n",
       " 3.8437716617067896\n",
       " 4.005756500313067\n",
       " 4.226699127853885\n",
       " 4.25070348596347\n",
       " 4.249040447013463\n",
       " 4.281895755692071\n",
       " 4.286878167326135\n",
       " 4.281380550635115\n",
       " 4.345978556676721\n",
       " 3.764363895453479\n",
       " 4.241004374800348\n",
       " ⋮\n",
       " 4.266234065079551\n",
       " 4.225165339127493\n",
       " 3.9744698374958918\n",
       " 4.518465060303483\n",
       " 4.242965584345097\n",
       " 4.282824429059085\n",
       " 4.393816839743056\n",
       " 4.2828767231767895\n",
       " 4.227244360346306\n",
       " 3.599734629923035\n",
       " 4.280582312492599\n",
       " 4.049933172469172"
      ]
     },
     "execution_count": 6,
     "metadata": {},
     "output_type": "execute_result"
    }
   ],
   "source": [
    "# train on training data\n",
    "kernel = Matern(nu=2.5, length_scale=0.25)\n",
    "gpr = GaussianProcessRegressor(kernel=kernel, normalize_y=true)\n",
    "gpr.fit(X_train, y_train)\n",
    "\n",
    "# get predictions on test data\n",
    "y_pred = gpr.predict(X_test)"
   ]
  },
  {
   "cell_type": "code",
   "execution_count": 7,
   "id": "951f8e74",
   "metadata": {},
   "outputs": [
    {
     "data": {
      "text/plain": [
       "0.10667733600268303"
      ]
     },
     "execution_count": 7,
     "metadata": {},
     "output_type": "execute_result"
    }
   ],
   "source": [
    "# compute RMSE, R2 on test data\n",
    "rmse = sqrt(mean((y_test - y_pred).^2))\n",
    "r2 = gpr.score(X_test, y_test)"
   ]
  },
  {
   "cell_type": "code",
   "execution_count": 8,
   "id": "d2c004b6",
   "metadata": {},
   "outputs": [
    {
     "data": {
      "text/plain": [
       "Dict{Any, Any} with 3 entries:\n",
       "  \"importances_std\"  => [0.232669, 0.0899059, 4.43058e-8, 5.40969e-7]\n",
       "  \"importances_mean\" => [0.33469, 0.177055, 3.30975e-8, 1.44382e-6]\n",
       "  \"importances\"      => [0.781487 0.332502 … 0.149503 0.165629; 0.267183 0.2013…"
      ]
     },
     "execution_count": 8,
     "metadata": {},
     "output_type": "execute_result"
    }
   ],
   "source": [
    "# permutation importance\n",
    "feature_importances = permutation_importance(gpr, X_test, y_test)"
   ]
  },
  {
   "cell_type": "markdown",
   "id": "02c324c4",
   "metadata": {},
   "source": [
    "## Parity Plot"
   ]
  },
  {
   "cell_type": "code",
   "execution_count": 9,
   "id": "f855b6a0",
   "metadata": {},
   "outputs": [
    {
     "data": {
      "image/png": "[encoded data removed]",
      "text/plain": [
       "Figure(PyObject <Figure size 640x480 with 1 Axes>)"
      ]
     },
     "metadata": {},
     "output_type": "display_data"
    }
   ],
   "source": [
    "figure()\n",
    "\n",
    "xmax = maximum(max.(y_test, y_pred))\n",
    "x = range(0.0, stop=xmax, length=length(y_test))\n",
    "y = x\n",
    "plot(x, y, color=\"k\")\n",
    "\n",
    "scatter(y_test, y_pred)\n",
    "\n",
    "xlim([0.0, xmax])\n",
    "ylim([0.0, xmax])\n",
    "\n",
    "title(\"selectivity parity plot\")\n",
    "xlabel(\"test values\")\n",
    "ylabel(\"predicted values\")\n",
    "\n",
    "tight_layout()"
   ]
  },
  {
   "cell_type": "code",
   "execution_count": null,
   "id": "0ef3cb63",
   "metadata": {},
   "outputs": [],
   "source": []
  }
 ],
 "metadata": {
  "kernelspec": {
   "display_name": "Julia 1.6.0",
   "language": "julia",
   "name": "julia-1.6"
  },
  "language_info": {
   "file_extension": ".jl",
   "mimetype": "application/julia",
   "name": "julia",
   "version": "1.6.0"
  }
 },
 "nbformat": 4,
 "nbformat_minor": 5
}
