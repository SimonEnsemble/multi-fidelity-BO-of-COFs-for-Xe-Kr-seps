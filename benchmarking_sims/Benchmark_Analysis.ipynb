{
 "cells": [
  {
   "cell_type": "code",
   "execution_count": 1,
   "id": "bff3817a",
   "metadata": {},
   "outputs": [],
   "source": [
    "using PorousMaterials\n",
    "using JLD2\n",
    "using PyPlot\n",
    "using PyCall\n",
    "\n",
    "PyPlot.matplotlib.style.use(\"ggplot\")\n",
    "rcParams = PyPlot.PyDict(PyPlot.matplotlib.\"rcParams\")\n",
    "rcParams[\"font.size\"] = 16;"
   ]
  },
  {
   "cell_type": "markdown",
   "id": "4b33906f",
   "metadata": {},
   "source": [
    "### Data retrieval functions"
   ]
  },
  {
   "cell_type": "markdown",
   "id": "89b2ce50",
   "metadata": {},
   "source": [
    "**GCMC**"
   ]
  },
  {
   "cell_type": "code",
   "execution_count": 2,
   "id": "d43220e5",
   "metadata": {},
   "outputs": [
    {
     "data": {
      "text/plain": [
       "get_gcmc_vals_and_errors"
      ]
     },
     "execution_count": 2,
     "metadata": {},
     "output_type": "execute_result"
    }
   ],
   "source": [
    "function get_gcmc_sim_data(xtal::Crystal, \n",
    "                           adsorbates::Array{Molecule{Cart}, 1}, \n",
    "                           num_cycles::Array{Int64, 1})\n",
    "    # define dict to store data\n",
    "    data = Dict{Tuple{String, Int64}, Dict{String, Any}}()\n",
    "    \n",
    "    n_burn_cycles   = [ceil(Int64, num_cycles[i] / 2) for i in 1:length(num_cycles)]\n",
    "    n_sample_cycles = n_burn_cycles;\n",
    "    \n",
    "    # get data from μVT_sim results dict\n",
    "    for i in 1:length(num_cycles)\n",
    "        filename = μVT_output_filename(xtal, adsorbates, \n",
    "                                       temperature, partial_p, \n",
    "                                       ljff, n_burn_cycles[i], n_sample_cycles[i])\n",
    "        \n",
    "        file = joinpath(PorousMaterials.rc[:paths][:simulations], filename)\n",
    "        @load file results\n",
    "        data[(xtal.name, num_cycles[i])] = results\n",
    "    end\n",
    "    \n",
    "    return data\n",
    "end\n",
    "\n",
    "\"\"\"\n",
    "# Returns\n",
    "- `vals::Dict{Tuple{Symbol, String}, Array{Union{Float64, Int64}, 1}}`\n",
    "- `elapsed_t::Array{Float64, 1}`\n",
    "\"\"\"\n",
    "function get_gcmc_vals_and_errors(xtal::Crystal, \n",
    "                                  adsorbates::Array{Molecule{Cart}, 1}, \n",
    "                                  num_cycles::Array{Int64, 1}, \n",
    "                                  data::Dict{Tuple{String, Int64}, Dict{String, Any}})\n",
    "    # define dict to store results\n",
    "    vals = Dict{Tuple{Symbol, String}, Array{Union{Float64, Int64}, 1}}()\n",
    "    \n",
    "    # get \n",
    "    for (i, mol) in enumerate(adsorbates)\n",
    "        vals[(mol.species, \"⟨N⟩ (mmol/g)\")] = [data[(xtal.name, n)][\"⟨N⟩ (mmol/g)\"][i] for n in num_cycles]\n",
    "        vals[(mol.species, \"err ⟨N⟩ (mmol/g)\")] = [data[(xtal.name, n)][\"err ⟨N⟩ (mmol/g)\"][i] for n in num_cycles]\n",
    "    end\n",
    "    \n",
    "    # get runtime data [minutes]\n",
    "    elapsed_t = [data[(xtal.name, n)][\"elapsed time (min)\"] for n in num_cycles]\n",
    "    \n",
    "    return vals, elapsed_t\n",
    "end"
   ]
  },
  {
   "cell_type": "markdown",
   "id": "7fb15d0e",
   "metadata": {},
   "source": [
    "**Henry**"
   ]
  },
  {
   "cell_type": "code",
   "execution_count": 3,
   "id": "61183397",
   "metadata": {},
   "outputs": [
    {
     "data": {
      "text/plain": [
       "get_henry_vals_and_errors (generic function with 1 method)"
      ]
     },
     "execution_count": 3,
     "metadata": {},
     "output_type": "execute_result"
    }
   ],
   "source": [
    "function get_henry_sim_data(xtal::Crystal, \n",
    "                            molecule::Molecule{Cart}, \n",
    "                            ins_per_vol::Array{Int64, 1})\n",
    "    # define dict to store data\n",
    "    data = Dict{Tuple{String, Int64}, Dict{String, Any}}()\n",
    "    \n",
    "    for n in ins_per_vol\n",
    "        filename = henry_result_savename(xtal, molecule, temperature, ljff, n)\n",
    "        \n",
    "        file = joinpath(PorousMaterials.rc[:paths][:simulations], filename)\n",
    "        @load file results\n",
    "        data[(xtal.name, n)] = results\n",
    "    end\n",
    "    \n",
    "    return data\n",
    "end\n",
    "\n",
    "\n",
    "function get_henry_vals_and_errors(xtal::Crystal, \n",
    "                                   adsorbates::Array{Molecule{Cart}, 1}, \n",
    "                                   ins_per_vol::Array{Int64, 1}, \n",
    "                                   data_array::Array{Dict{Tuple{String, Int64}, Dict{String, Any}}, 1})\n",
    "    \n",
    "    @assert length(data_array) == length(adsorbates)\n",
    "    \n",
    "    # define dict to store results\n",
    "    vals = Dict{Tuple{Symbol, String}, Array{Union{Float64, Int64}, 1}}()\n",
    "    elapsed_t = zeros(length(ins_per_vol))\n",
    "    \n",
    "    # get \n",
    "    for (i, mol) in enumerate(adsorbates)\n",
    "        vals[(mol.species, \"henry coefficient [mmol/(g-bar)]\")] = \n",
    "            [data_array[i][(xtal.name, n)][\"henry coefficient [mmol/(g-bar)]\"] for n in ins_per_vol]\n",
    "        \n",
    "        vals[(mol.species, \"err henry coefficient [mmol/(g-bar)]\")] = \n",
    "            [data_array[i][(xtal.name, n)][\"err henry coefficient [mmol/(g-bar)]\"] for n in ins_per_vol]\n",
    "        \n",
    "        # total time to run sim for all adsorbates [min]\n",
    "        elapsed_t += [data_array[i][(xtal.name, n)][\"elapsed time (min)\"] for n in ins_per_vol]\n",
    "    end\n",
    "    \n",
    "#     # get runtime data\n",
    "#     elapsed_t = [data_array[(xtal.name, n)][\"elapsed time (min)\"] for n in ins_per_vol]\n",
    "    \n",
    "    return vals, elapsed_t\n",
    "end"
   ]
  },
  {
   "cell_type": "markdown",
   "id": "3d740554",
   "metadata": {},
   "source": [
    "## plotting function"
   ]
  },
  {
   "cell_type": "code",
   "execution_count": 4,
   "id": "6fc85ccb",
   "metadata": {},
   "outputs": [
    {
     "data": {
      "text/plain": [
       "plot_gcmc_results_vs_cycles (generic function with 1 method)"
      ]
     },
     "execution_count": 4,
     "metadata": {},
     "output_type": "execute_result"
    }
   ],
   "source": [
    "function plot_gcmc_results_vs_cycles(xtal::Crystal, \n",
    "                                     vals::Dict{Tuple{Symbol, String}, Array{Union{Float64, Int64}, 1}}, \n",
    "                                     elapsed_t::Array{Float64, 1}, \n",
    "                                     adsorbates::Array{Molecule{Cart}, 1}, \n",
    "                                     num_cycles::Array{Int64, 1}; \n",
    "                                     save_fig::Bool=false)\n",
    "    \n",
    "    # create subplot\n",
    "    fig, axs = subplots(2, 1, sharex=true, figsize=(8, 10))\n",
    "    axs2 = axs[1].twinx()\n",
    "    \n",
    "    ###\n",
    "    # plot data\n",
    "    ###\n",
    "    for (i, mol) in enumerate(adsorbates)\n",
    "        axs[1].errorbar(floor.(Int, num_cycles ./ xtal.box.Ω), \n",
    "                        vals[(mol.species, \"⟨N⟩ (mmol/g)\")], \n",
    "                        yerr=vals[(mol.species, \"err ⟨N⟩ (mmol/g)\")], \n",
    "                        marker=\"o\", markersize=3, linestyle=\"\",\n",
    "                        label=String(mol.species), \n",
    "                        color=\"C$(i-1)\", zorder=1)\n",
    "        \n",
    "        axs[2].semilogx(floor.(Int, num_cycles ./ xtal.box.Ω), \n",
    "                        vals[(mol.species, \"err ⟨N⟩ (mmol/g)\")], \n",
    "                        label=String(mol.species), color=\"C$(i-1)\")\n",
    "    end\n",
    "\n",
    "    axs2.plot(floor.(Int, num_cycles ./ xtal.box.Ω), \n",
    "                     elapsed_t, label=\"elapsed time\", color=\"k\", alpha=0.7)\n",
    "    \n",
    "    ###\n",
    "    #  format plot properties\n",
    "    ###\n",
    "    axs[1].legend(loc=\"lower right\")\n",
    "    \n",
    "    axs[1].set_title(xtal.name)\n",
    "    axs[1].set_xlabel(\"cycles per volume\")\n",
    "    axs[1].set_ylabel(\"⟨N⟩ (mmol/g)\")\n",
    "    axs2.legend(loc=\"best\")\n",
    "    axs2.grid(false)\n",
    "    axs2.set_ylabel(\"time [min]\")\n",
    "\n",
    "    axs[2].set_xlim(xmin=10)\n",
    "    axs[2].legend(loc=\"best\")\n",
    "    axs[2].set_xlabel(\"cycles per volume\")\n",
    "    axs[2].set_ylabel(\"err ⟨N⟩ (mmol/g)\")\n",
    "\n",
    "    tight_layout()\n",
    "    if save_fig\n",
    "        savefig(xtal.name * \"_cycles_vs_uptake_error.png\", dpi=600, format=\"png\")\n",
    "    end\n",
    "    \n",
    "    return\n",
    "end"
   ]
  },
  {
   "cell_type": "code",
   "execution_count": 5,
   "id": "c3e8c665",
   "metadata": {},
   "outputs": [
    {
     "data": {
      "text/plain": [
       "plot_henry_results_vs_cycles (generic function with 1 method)"
      ]
     },
     "execution_count": 5,
     "metadata": {},
     "output_type": "execute_result"
    }
   ],
   "source": [
    "function plot_henry_results_vs_cycles(xtal::Crystal, \n",
    "                                      vals::Dict{Tuple{Symbol, String}, Array{Union{Float64, Int64}, 1}}, \n",
    "                                      elapsed_t::Array{Float64, 1}, \n",
    "                                      adsorbates::Array{Molecule{Cart}, 1}, \n",
    "                                      num_ins_per_vol::Array{Int64, 1}; \n",
    "                                      save_fig::Bool=false)\n",
    "    # create subplot\n",
    "    fig, axs = subplots(2, 1, sharex=true, figsize=(8, 10))\n",
    "    axs2 = axs[1].twinx()\n",
    "    \n",
    "    ###\n",
    "    # plot data\n",
    "    ###\n",
    "    for (i, mol) in enumerate(adsorbates)\n",
    "        axs[1].errorbar(num_ins_per_vol, vals[(mol.species, \"henry coefficient [mmol/(g-bar)]\")], \n",
    "                        yerr=vals[(mol.species, \"err henry coefficient [mmol/(g-bar)]\")], \n",
    "                        marker=\"o\", markersize=3, linestyle=\"\",\n",
    "                        label=String(mol.species), \n",
    "                        color=\"C$(i-1)\", zorder=1)\n",
    "        \n",
    "        axs[2].semilogx(num_ins_per_vol, vals[(mol.species, \"err henry coefficient [mmol/(g-bar)]\")], \n",
    "                        label=String(mol.species), color=\"C$(i-1)\")\n",
    "\n",
    "    end\n",
    "\n",
    "                \n",
    "    axs2.plot(num_ins_per_vol, elapsed_t, label=\"elapsed time\", color=\"k\", alpha=0.7)\n",
    "    \n",
    "    \n",
    "    ###\n",
    "    #  format plot properties\n",
    "    ###\n",
    "    axs[1].legend(loc=\"lower right\")\n",
    "    \n",
    "    axs[1].set_title(xtal.name)\n",
    "    axs[1].set_xlabel(\"insertions per volume\")\n",
    "    axs[1].set_ylabel(\"H [mmol/(g-bar)]\")\n",
    "    axs2.legend(loc=\"best\")\n",
    "    axs2.grid(false)\n",
    "    axs2.set_ylabel(\"time [min]\")\n",
    "\n",
    "    axs[2].set_xlim(xmin=10)\n",
    "    axs[2].legend(loc=\"best\")\n",
    "    axs[2].set_xlabel(\"insertions per volume\")\n",
    "    axs[2].set_ylabel(\"err H [mmol/(g-bar)]\")\n",
    "\n",
    "    tight_layout()\n",
    "    if save_fig\n",
    "        savefig(xtal.name * \"_insertions_per_vol_vs_uptake_error.png\", dpi=600, format=\"png\")\n",
    "    end\n",
    "    \n",
    "    return\n",
    "end"
   ]
  },
  {
   "cell_type": "markdown",
   "id": "5aa5d16c",
   "metadata": {},
   "source": [
    "## Plot Analysis "
   ]
  },
  {
   "cell_type": "code",
   "execution_count": 6,
   "id": "7f76bc60",
   "metadata": {},
   "outputs": [
    {
     "data": {
      "text/plain": [
       "90"
      ]
     },
     "execution_count": 6,
     "metadata": {},
     "output_type": "execute_result"
    }
   ],
   "source": [
    "###\n",
    "#  simulation Parameters\n",
    "###\n",
    "xtal_names = [\"05000N2_ddec.cif\", \"17156N2_ddec.cif\"]\n",
    "# xtals = Crystal.(xtal_names)\n",
    "\n",
    "\n",
    "temperature = 298.0 # Kelvin\n",
    "ljff = LJForceField(\"UFF\")\n",
    "\n",
    "adsorbates = Molecule.([\"Kr\", \"Xe\"])\n",
    "mol_fxn    = [0.8, 0.2] # [Kr, Xe]\n",
    "total_pressure = 1.0    # bar\n",
    "partial_p = total_pressure .* mol_fxn\n",
    "\n",
    "###\n",
    "#  number of cycles spanned by set of simulations\n",
    "###\n",
    "# num_cycles = Int.(floor.(10 .^ range(log10(25), stop=log10(150000), length=100)));\n",
    "num_ins_per_vol = Int.(floor.(10 .^ range(log10(25), stop=3, length=100)));\n",
    "\n",
    "\n",
    "stop_index = findfirst(num_ins_per_vol .== 688)"
   ]
  },
  {
   "cell_type": "code",
   "execution_count": 7,
   "id": "f0eaa1dd",
   "metadata": {
    "scrolled": false
   },
   "outputs": [
    {
     "name": "stderr",
     "output_type": "stream",
     "text": [
      "┌ Warning: Opening file with JLD2.MmapIO failed, falling back to IOStream\n",
      "└ @ JLD2 /home/ng/.julia/packages/JLD2/15Kr7/src/JLD2.jl:230\n"
     ]
    },
    {
     "ename": "LoadError",
     "evalue": "SystemError: opening file \"/home/ng/multi-fidelity-BO-of-COFs-for-Xe-Kr-seps/benchmarking_sims/data/simulations/muVT_xtal_17156N2_ddec.cif_T_298.000K_Kr_P_0.800000bar_Xe_P_0.200000bar_UFF_3430491burn_3430491sample.jld2\": No such file or directory",
     "output_type": "error",
     "traceback": [
      "SystemError: opening file \"/home/ng/multi-fidelity-BO-of-COFs-for-Xe-Kr-seps/benchmarking_sims/data/simulations/muVT_xtal_17156N2_ddec.cif_T_298.000K_Kr_P_0.800000bar_Xe_P_0.200000bar_UFF_3430491burn_3430491sample.jld2\": No such file or directory",
      "",
      "Stacktrace:",
      "  [1] systemerror(p::String, errno::Int32; extrainfo::Nothing)",
      "    @ Base ./error.jl:168",
      "  [2] #systemerror#62",
      "    @ ./error.jl:167 [inlined]",
      "  [3] systemerror",
      "    @ ./error.jl:167 [inlined]",
      "  [4] open(fname::String; lock::Bool, read::Bool, write::Bool, create::Bool, truncate::Bool, append::Bool)",
      "    @ Base ./iostream.jl:293",
      "  [5] openfile",
      "    @ ~/.julia/packages/JLD2/15Kr7/src/JLD2.jl:220 [inlined]",
      "  [6] openfile(T::Type, fname::String, wr::Bool, create::Bool, truncate::Bool, fallback::Type)",
      "    @ JLD2 ~/.julia/packages/JLD2/15Kr7/src/JLD2.jl:231",
      "  [7] jldopen(fname::String, wr::Bool, create::Bool, truncate::Bool, iotype::Type{JLD2.MmapIO}; fallback::Type{IOStream}, compress::Bool, mmaparrays::Bool)",
      "    @ JLD2 ~/.julia/packages/JLD2/15Kr7/src/JLD2.jl:286",
      "  [8] jldopen(fname::String, wr::Bool, create::Bool, truncate::Bool, iotype::Type{JLD2.MmapIO})",
      "    @ JLD2 ~/.julia/packages/JLD2/15Kr7/src/JLD2.jl:249",
      "  [9] jldopen(fname::String, mode::String; iotype::Type, kwargs::Base.Iterators.Pairs{Union{}, Union{}, Tuple{}, NamedTuple{(), Tuple{}}})",
      "    @ JLD2 ~/.julia/packages/JLD2/15Kr7/src/JLD2.jl:342",
      " [10] jldopen (repeats 2 times)",
      "    @ ~/.julia/packages/JLD2/15Kr7/src/JLD2.jl:337 [inlined]",
      " [11] jldopen(f::var\"#2#4\", args::String; kws::Base.Iterators.Pairs{Union{}, Union{}, Tuple{}, NamedTuple{(), Tuple{}}})",
      "    @ JLD2 ~/.julia/packages/JLD2/15Kr7/src/loadsave.jl:2",
      " [12] jldopen",
      "    @ ~/.julia/packages/JLD2/15Kr7/src/loadsave.jl:2 [inlined]",
      " [13] macro expansion",
      "    @ ~/.julia/packages/JLD2/15Kr7/src/loadsave.jl:144 [inlined]",
      " [14] get_gcmc_sim_data(xtal::Crystal, adsorbates::Vector{Molecule{Cart}}, num_cycles::Vector{Int64})",
      "    @ Main ./In[2]:17",
      " [15] top-level scope",
      "    @ In[7]:7",
      " [16] eval",
      "    @ ./boot.jl:360 [inlined]",
      " [17] include_string(mapexpr::typeof(REPL.softscope), mod::Module, code::String, filename::String)",
      "    @ Base ./loading.jl:1094"
     ]
    }
   ],
   "source": [
    "for xtal_name in xtal_names\n",
    "    xtal = Crystal(xtal_name)\n",
    "    num_cycles = ceil.(Int, num_ins_per_vol .* xtal.box.Ω);\n",
    "    \n",
    "#     deletet!(num_cycles, skip_for_now)\n",
    "    \n",
    "    data = get_gcmc_sim_data(xtal, adsorbates, num_cycles)\n",
    "    gcmc_vals, gcmc_time = get_gcmc_vals_and_errors(xtal, adsorbates, num_cycles, data)\n",
    "    plot_gcmc_results_vs_cycles(xtal, gcmc_vals, gcmc_time, adsorbates, num_cycles; save_fig=true)\n",
    "    \n",
    "    data_array = Dict{Tuple{String, Int64}, Dict{String, Any}}[]\n",
    "    [push!(data_array, get_henry_sim_data(xtal, molecule, num_ins_per_vol)) for molecule in adsorbates]\n",
    "    henry_vals, henry_time = get_henry_vals_and_errors(xtal, adsorbates, num_ins_per_vol, data_array)\n",
    "    plot_henry_results_vs_cycles(xtal, henry_vals, henry_time, adsorbates, num_ins_per_vol; save_fig=true)\n",
    "    \n",
    "    tight_layout()\n",
    "end"
   ]
  },
  {
   "cell_type": "code",
   "execution_count": null,
   "id": "3f6707f2",
   "metadata": {},
   "outputs": [],
   "source": []
  }
 ],
 "metadata": {
  "kernelspec": {
   "display_name": "Julia 1.6.0",
   "language": "julia",
   "name": "julia-1.6"
  },
  "language_info": {
   "file_extension": ".jl",
   "mimetype": "application/julia",
   "name": "julia",
   "version": "1.6.0"
  }
 },
 "nbformat": 4,
 "nbformat_minor": 5
}
