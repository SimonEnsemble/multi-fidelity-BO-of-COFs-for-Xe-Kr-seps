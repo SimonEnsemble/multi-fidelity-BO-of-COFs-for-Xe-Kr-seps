{
 "cells": [
  {
   "cell_type": "code",
   "execution_count": 1,
   "id": "bff3817a",
   "metadata": {},
   "outputs": [],
   "source": [
    "using PorousMaterials\n",
    "using JLD2\n",
    "using PyPlot\n",
    "using PyCall\n",
    "\n",
    "PyPlot.matplotlib.style.use(\"ggplot\")\n",
    "rcParams = PyPlot.PyDict(PyPlot.matplotlib.\"rcParams\")\n",
    "rcParams[\"font.size\"] = 16;"
   ]
  },
  {
   "cell_type": "code",
   "execution_count": 2,
   "id": "380aab15",
   "metadata": {},
   "outputs": [
    {
     "name": "stderr",
     "output_type": "stream",
     "text": [
      "┌ Info: Crystal 05000N2.cif has  space group. I am converting it to P1 symmetry.\n",
      "│         To afrain from this, pass `convert_to_p1=false` to the `Crystal` constructor.\n",
      "└ @ PorousMaterials /home/ng/.julia/dev/PorousMaterials/src/crystal.jl:426\n"
     ]
    }
   ],
   "source": [
    "xtal = Crystal(\"05000N2.cif\")\n",
    "temperature = 298.0\n",
    "ljff = LJForceField(\"UFF\")\n",
    "\n",
    "adsorbates = Molecule.([\"Kr\", \"Xe\"])\n",
    "mol_fxn    = [0.8, 0.2]\n",
    "total_pressure = 1.0 # bar\n",
    "partial_p = total_pressure .* mol_fxn\n",
    "\n",
    "###\n",
    "#  number of cycles spanned by set of simulations\n",
    "###\n",
    "num_cycles = Int.(floor.(10 .^ range(log10(25), stop=log10(150000), length=100)));\n",
    "# num_cycles = Int.(floor.(10 .^ range(log10(25), stop=6, length=100)));"
   ]
  },
  {
   "cell_type": "code",
   "execution_count": 3,
   "id": "d43220e5",
   "metadata": {},
   "outputs": [
    {
     "data": {
      "text/plain": [
       "get_henry_sim_data (generic function with 1 method)"
      ]
     },
     "execution_count": 3,
     "metadata": {},
     "output_type": "execute_result"
    }
   ],
   "source": [
    "function get_gcmc_sim_data(xtal, adsorbates)\n",
    "    data = Dict{Tuple{String, Int64}, Dict{String, Any}}()\n",
    "    \n",
    "    # get data from μVT_sim results dict\n",
    "    for n in num_cycles\n",
    "        n_burn_cycles   = n\n",
    "        n_sample_cycles = n\n",
    "        filename = μVT_output_filename(xtal, adsorbates, \n",
    "                                       temperature, partial_p, \n",
    "                                       ljff, n_burn_cycles, n_sample_cycles)\n",
    "        file = joinpath(PorousMaterials.PATH_TO_SIMS, filename)\n",
    "        @load file results\n",
    "        data[(xtal.name, n)] = results\n",
    "    end\n",
    "    \n",
    "    return data\n",
    "end\n",
    "\n",
    "function get_henry_sim_data(xtal::Crystal, molecule::Molecule{Cart}, ins_per_vol)\n",
    "    data = Dict{Tuple{String, Int64}, Dict{String, Any}}()\n",
    "    \n",
    "    for n in ins_per_vol\n",
    "        filename = henry_result_savename(xtal, molecule, temperature, ljff, n)\n",
    "        \n",
    "        file = joinpath(PorousMaterials.PATH_TO_SIMS, filename)\n",
    "        @load file results\n",
    "        data[(xtal.name, n)] = results\n",
    "    end\n",
    "    \n",
    "    return data\n",
    "end\n"
   ]
  },
  {
   "cell_type": "code",
   "execution_count": 4,
   "id": "61183397",
   "metadata": {},
   "outputs": [
    {
     "data": {
      "text/plain": [
       "get_henry_vals_and_errors (generic function with 1 method)"
      ]
     },
     "execution_count": 4,
     "metadata": {},
     "output_type": "execute_result"
    }
   ],
   "source": [
    "\"\"\"\n",
    "# Returns\n",
    "- `vals::Dict{Tuple{Symbol, String}, Array{Union{Float64, Int64}, 1}}`\n",
    "- `elapsed_t::Array{Float64, 1}`\n",
    "\"\"\"\n",
    "function get_gcmc_vals_and_errors(xtal::Crystal, adsorbates::Array{Molecule{Cart}, 1}, \n",
    "                             num_cycles::Array{Int64, 1}, data::Dict{Tuple{String, Int64}, Dict{String, Any}})\n",
    "    # define dict to store results\n",
    "    vals = Dict{Tuple{Symbol, String}, Array{Union{Float64, Int64}, 1}}()\n",
    "    \n",
    "    # get \n",
    "    for (i, mol) in enumerate(adsorbates)\n",
    "        vals[(mol.species, \"⟨N⟩ (mmol/g)\")] = [data[(xtal.name, n)][\"⟨N⟩ (mmol/g)\"][i] for n in num_cycles]\n",
    "        vals[(mol.species, \"err ⟨N⟩ (mmol/g)\")] = [data[(xtal.name, n)][\"err ⟨N⟩ (mmol/g)\"][i] for n in num_cycles]\n",
    "    end\n",
    "    \n",
    "    # get runtime data\n",
    "    elapsed_t = [data[(xtal.name, n)][\"elapsed_time\"] for n in num_cycles]\n",
    "    if is_henry\n",
    "        elapsed_t = [data[(xtal.name, n)][\"elapsed time (min)\"] for n in num_cycles]\n",
    "        elapsed_t .*= 60 # convert minutes to seconds\n",
    "    end\n",
    "    \n",
    "    return vals, elapsed_t\n",
    "end\n",
    "\n",
    "\n",
    "function get_henry_vals_and_errors(xtal::Crystal, adsorbates::Array{Molecule{Cart}, 1}, \n",
    "                             num_cycles::Array{Int64, 1}, data::Dict{Tuple{String, Int64}, Dict{String, Any}})\n",
    "    # define dict to store results\n",
    "    vals = Dict{Tuple{Symbol, String}, Array{Union{Float64, Int64}, 1}}()\n",
    "    \n",
    "    # get \n",
    "    for (i, mol) in enumerate(adsorbates)\n",
    "        vals[(mol.species, \"henry coefficient [mmol/(g-bar)]\")] = \n",
    "            [data[(xtal.name, n)][\"henry coefficient [mmol/(g-bar)]\"][i] for n in num_cycles]\n",
    "        \n",
    "        vals[(mol.species, \"err henry coefficient [mmol/(g-bar)]\")] = \n",
    "            [data[(xtal.name, n)][\"err henry coefficient [mmol/(g-bar)]\"][i] for n in num_cycles]\n",
    "    end\n",
    "    \n",
    "    # get runtime data\n",
    "    elapsed_t = [data[(xtal.name, n)][\"elapsed time (min)\"] for n in num_cycles]\n",
    "    elapsed_t .*= 60 # convert minutes to seconds\n",
    "    \n",
    "    return vals, elapsed_t\n",
    "end"
   ]
  },
  {
   "cell_type": "code",
   "execution_count": 5,
   "id": "6fc85ccb",
   "metadata": {},
   "outputs": [
    {
     "data": {
      "text/plain": [
       "plot_results_vs_cycles (generic function with 1 method)"
      ]
     },
     "execution_count": 5,
     "metadata": {},
     "output_type": "execute_result"
    }
   ],
   "source": [
    "function plot_results_vs_cycles(xtal::Crystal, \n",
    "                                vals::Dict{Tuple{Symbol, String}, Array{Union{Float64, Int64}, 1}}, \n",
    "                                elapsed_t::Array{Float64, 1}, \n",
    "                                adsorbates::Array{Molecule{Cart}, 1}, \n",
    "                                num_cycles::Array{Int64, 1}; \n",
    "                                save_fig::Bool=false)\n",
    "    # create subplot\n",
    "    fig, axs = subplots(2, 1, sharex=true, figsize=(8, 10))\n",
    "    axs2 = axs[1].twinx()\n",
    "    \n",
    "    ###\n",
    "    # plot data\n",
    "    ###\n",
    "    for (i, mol) in enumerate(adsorbates)\n",
    "        axs[1].errorbar(num_cycles, vals[(mol.species, \"⟨N⟩ (mmol/g)\")], \n",
    "                        yerr=vals[(mol.species, \"err ⟨N⟩ (mmol/g)\")], \n",
    "                        marker=\"o\", markersize=3, label=String(mol.species), \n",
    "                        color=\"C$(i-1)\", zorder=1)\n",
    "        \n",
    "        axs[2].semilogx(num_cycles, vals[(mol.species, \"err ⟨N⟩ (mmol/g)\")], \n",
    "                        label=String(mol.species), color=\"C$(i-1)\")\n",
    "    end\n",
    "\n",
    "    axs2.plot(num_cycles, elapsed_t, label=\"elapsed time\", color=\"k\", alpha=0.7)\n",
    "    \n",
    "    ###\n",
    "    #  format plot properties\n",
    "    ###\n",
    "    axs[1].legend(loc=\"lower right\")\n",
    "    \n",
    "    axs[1].set_title(xtal.name)\n",
    "    axs[1].set_xlabel(\"# sample cycles\")\n",
    "    axs[1].set_ylabel(\"⟨N⟩ (mmol/g)\")\n",
    "    axs2.legend(loc=\"best\")\n",
    "    axs2.grid(false)\n",
    "    axs2.set_ylabel(\"time [s]\")\n",
    "\n",
    "    axs[2].set_xlim(xmin=10)\n",
    "    axs[2].legend(loc=\"best\")\n",
    "    axs[2].set_xlabel(\"# sample cycles\")\n",
    "    axs[2].set_ylabel(\"err ⟨N⟩ (mmol/g)\")\n",
    "\n",
    "    tight_layout()\n",
    "    if save_fig\n",
    "        savefig(xtal.name * \"_cycles_vs_uptake_error.png\", dpi=600, format=\"png\")\n",
    "    end\n",
    "    \n",
    "    return\n",
    "end"
   ]
  },
  {
   "cell_type": "code",
   "execution_count": 6,
   "id": "5ff000a6",
   "metadata": {},
   "outputs": [
    {
     "ename": "LoadError",
     "evalue": "UndefVarError: get_vals_and_errors not defined",
     "output_type": "error",
     "traceback": [
      "UndefVarError: get_vals_and_errors not defined",
      "",
      "Stacktrace:",
      " [1] top-level scope",
      "   @ In[6]:2",
      " [2] eval",
      "   @ ./boot.jl:360 [inlined]",
      " [3] include_string(mapexpr::typeof(REPL.softscope), mod::Module, code::String, filename::String)",
      "   @ Base ./loading.jl:1094"
     ]
    }
   ],
   "source": [
    "data = get_gcmc_sim_data(xtal, adsorbates)\n",
    "vals, elapsed_t = get_vals_and_errors(xtal, adsorbates, num_cycles, data)\n",
    "\n",
    "plot_results_vs_cycles(xtal, vals, elapsed_t, adsorbates, num_cycles)"
   ]
  },
  {
   "cell_type": "code",
   "execution_count": 7,
   "id": "664065bc",
   "metadata": {},
   "outputs": [],
   "source": [
    "# xtal = Crystal(\"17156N2.cif\")\n",
    "# data = get_gcmc_sim_data(xtal, adsorbates)\n",
    "# vals, elapsed_t = get_vals_and_errors(xtal, adsorbates, num_cycles, data)\n",
    "\n",
    "# plot_results_vs_cycles(xtal, vals, elapsed_t, adsorbates, num_cycles)"
   ]
  },
  {
   "cell_type": "code",
   "execution_count": null,
   "id": "460bff03",
   "metadata": {},
   "outputs": [],
   "source": []
  }
 ],
 "metadata": {
  "kernelspec": {
   "display_name": "Julia 1.6.0",
   "language": "julia",
   "name": "julia-1.6"
  },
  "language_info": {
   "file_extension": ".jl",
   "mimetype": "application/julia",
   "name": "julia",
   "version": "1.6.0"
  }
 },
 "nbformat": 4,
 "nbformat_minor": 5
}
