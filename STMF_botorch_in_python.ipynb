{
 "cells": [
  {
   "cell_type": "markdown",
   "id": "8613aa76",
   "metadata": {},
   "source": [
    "## System Description\n",
    "1. We have a set of COFs from a database. Each COF is characterized by a feature vector $$x_{COF} \\in X \\subset R^d$$ were d=14.\n",
    "\n",
    "\n",
    "2. We have **two different types** of simulations to calculate **the same material property $S_{Xe/Kr}$**. Therefore, we have a Single-Task/Objective (find the material with the optimal selevtivity), Multi-Fidelity problem. \n",
    "    1. low-fidelity  = Henry coefficient calculation - MC integration - cost=1\n",
    "    2. high-fidelity = GCMC mixture simulation - 80:20 (Kr:Xe) at 298 K and 1.0 bar - cost=30\n",
    "\n",
    "\n",
    "3. We will initialize the system with *two* COFs at both fidelities in order to initialize the Covariance Matrix.\n",
    "    - The fist COF will be the one closest to the center of the normalized feature space\n",
    "    - The second COF will be chosen at random\n",
    "\n",
    "\n",
    "4. Each surrogate model will **only train on data acquired at its level of fidelity** (Heterotopic data). $$X_{lf} \\neq X_{hf} \\subset X$$\n",
    "    1. We are using the augmented EI acquisition function from [here](https://link.springer.com/content/pdf/10.1007/s00158-005-0587-0.pdf)\n",
    "\n",
    "\n",
    "5. **kernel model**: \n",
    "    1.  We need a Gaussian Process (GP) that will give a *correlated output for each fidelity* i.e. we need a vector-valued kernel\n",
    "    2. Given the *cost aware* acquisition function, we anticipate the number of training points at each fidelity *will not* be equal (asymmetric scenario) $$n_{lf} > n_{hf}$$\n",
    "        - perhaps we can force the symmetric case, $n_{lf} = n_{hf} = n$, if we can include `missing` or `empty` entries in the training sets."
   ]
  },
  {
   "cell_type": "markdown",
   "id": "54b61313",
   "metadata": {},
   "source": [
    "### Strategy\n",
    "1. Implement SingleTaskMultiFidelity Gp\n",
    "2. Get augmented EI working\n"
   ]
  },
  {
   "cell_type": "code",
   "execution_count": 1,
   "id": "7679eb14",
   "metadata": {},
   "outputs": [],
   "source": [
    "import torch\n",
    "import gpytorch\n",
    "from botorch.models import SingleTaskMultiFidelityGP\n",
    "from botorch.models.transforms.outcome import Standardize\n",
    "from gpytorch.mlls import ExactMarginalLogLikelihood\n",
    "from botorch import fit_gpytorch_model\n",
    "\n",
    "\n",
    "\n",
    "from scipy.stats import norm\n",
    "import math \n",
    "import numpy as np\n",
    "import h5py\n",
    "import matplotlib.pyplot as plt\n",
    "import os"
   ]
  },
  {
   "cell_type": "code",
   "execution_count": 2,
   "id": "2aa45b6a",
   "metadata": {},
   "outputs": [
    {
     "name": "stdout",
     "output_type": "stream",
     "text": [
      "raw data - \n",
      "X: torch.Size([608, 14])\n",
      "henry_y: torch.Size([608])\n",
      "gcmc_y:  torch.Size([608])\n"
     ]
    }
   ],
   "source": [
    "###\n",
    "#  import data\n",
    "###\n",
    "f = h5py.File(\"targets_and_normalized_features.jld2\", \"r\")\n",
    "\n",
    "X = torch.from_numpy(np.transpose(f[\"X\"][:]))\n",
    "henry_y = torch.from_numpy(np.transpose(f[\"henry_y\"][:]))\n",
    "gcmc_y  = torch.from_numpy(np.transpose(f[\"gcmc_y\"][:]))\n",
    "print(\"raw data - \\nX:\", X.shape)\n",
    "print(\"henry_y:\", henry_y.shape)\n",
    "print(\"gcmc_y: \", gcmc_y.shape)"
   ]
  },
  {
   "cell_type": "code",
   "execution_count": 35,
   "id": "89e86ae7",
   "metadata": {},
   "outputs": [
    {
     "data": {
      "text/plain": [
       "tensor([0.9729, 0.5439, 0.0461, 0.9468, 0.8175, 0.7543, 0.6284])"
      ]
     },
     "execution_count": 35,
     "metadata": {},
     "output_type": "execute_result"
    }
   ],
   "source": [
    "###\n",
    "#  construct initial inputs\n",
    "#  1. get initial points\n",
    "#  2. standardize outputs\n",
    "#  3. stack into tensor\n",
    "###\n",
    "nb_COFs = henry_y.shape[0] # total number of COFs data points \n",
    "nb_COFs_initialization = 7 # number of COFs to initialize with\n",
    "ids_acquired = np.random.choice(np.arange((nb_COFs)), size=nb_COFs_initialization, replace=False)\n",
    "\n",
    "fidelity_acquired = torch.randint(2, (nb_COFs_initialization, 1))\n",
    "fidelity_acquired\n",
    "\n",
    "costs_acquired = torch.rand(nb_COFs_initialization) # make this the actual costs\n",
    "costs_acquired"
   ]
  },
  {
   "cell_type": "code",
   "execution_count": 4,
   "id": "1b85252d",
   "metadata": {},
   "outputs": [],
   "source": [
    "def build_X_train(ids_acquired, fidelity_acquired):\n",
    "    return torch.cat((X[ids_acquired, :], fidelity_acquired), dim=1)\n",
    "\n",
    "def build_y_train(ids_acquired, fidelity_acquired):\n",
    "    train_y = torch.tensor((), dtype=torch.float64).new_zeros((ids_acquired.shape[0], 1))\n",
    "    for i, fid in enumerate(fidelity_acquired):\n",
    "        if fid == 0:\n",
    "            train_y[i][0] = henry_y[ids_acquired[i]]\n",
    "        else:\n",
    "            train_y[i][0] = gcmc_y[ids_acquired[i]]\n",
    "    return train_y\n",
    "\n",
    "X_train = build_X_train(ids_acquired, fidelity_acquired)"
   ]
  },
  {
   "cell_type": "code",
   "execution_count": 5,
   "id": "c53bb5f3",
   "metadata": {},
   "outputs": [],
   "source": [
    "y_train = build_y_train(ids_acquired, fidelity_acquired)"
   ]
  },
  {
   "cell_type": "code",
   "execution_count": 6,
   "id": "02f59c7f",
   "metadata": {},
   "outputs": [
    {
     "data": {
      "text/plain": [
       "torch.Size([608, 1, 14])"
      ]
     },
     "execution_count": 6,
     "metadata": {},
     "output_type": "execute_result"
    }
   ],
   "source": [
    "X_unsqueezed = X.unsqueeze(1)\n",
    "X_unsqueezed.shape"
   ]
  },
  {
   "cell_type": "code",
   "execution_count": 7,
   "id": "fe0a8504",
   "metadata": {},
   "outputs": [],
   "source": [
    "###\n",
    "#  construct surrogate model\n",
    "#   - pass argument to standardize outputs (zero mean, unit variance)\n",
    "###\n",
    "def train_surrogate_model(X_train, y_train):\n",
    "    model = SingleTaskMultiFidelityGP(\n",
    "        X_train, \n",
    "        y_train, \n",
    "        outcome_transform=Standardize(m=1), # m is the output dimension\n",
    "        data_fidelity=X_train.shape[1] - 1\n",
    "    )   \n",
    "    mll = ExactMarginalLogLikelihood(model.likelihood, model)\n",
    "    fit_gpytorch_model(mll)\n",
    "    return mll, model\n",
    "\n",
    "mll, model = train_surrogate_model(X_train, y_train)"
   ]
  },
  {
   "cell_type": "code",
   "execution_count": 24,
   "id": "104d815d",
   "metadata": {},
   "outputs": [],
   "source": [
    "def mu_sigma(model, X, fidelity):\n",
    "    f = torch.tensor((), dtype=torch.float64).new_ones((nb_COFs, 1)) * fidelity\n",
    "    X_f = torch.cat((X, f), dim=1) # last col is associated fidelity\n",
    "    f_posterior = model.posterior(X_f)\n",
    "    return f_posterior.mean.squeeze().detach().numpy(), f_posterior.variance.squeeze().detach().numpy()\n",
    "\n",
    "lf_mu, lf_sigma = mu_sigma(model, X, 1)"
   ]
  },
  {
   "cell_type": "code",
   "execution_count": 25,
   "id": "e96a8f01",
   "metadata": {},
   "outputs": [],
   "source": [
    "def get_y_max(ids_acquired, fidelity_acquired):\n",
    "    y_max = 0.0\n",
    "    for i, fid in enumerate(fidelity_acquired):\n",
    "        if fid == 1:\n",
    "            if gcmc_y[ids_acquired[i]] > y_max:\n",
    "                y_max = gcmc_y[ids_acquired[i]]\n",
    "    return y_max.item()"
   ]
  },
  {
   "cell_type": "code",
   "execution_count": null,
   "id": "61b3fd96",
   "metadata": {},
   "outputs": [],
   "source": [
    "def cost_ratio(fidelity_acquired, costs_acquired):\n",
    "    avg_cost_hf = np.mean(costs_acquired[fidelity_acquired == 1])\n",
    "    avg_cost_lf = np.mean(costs_acquired[fidelity_acquired == 0])\n",
    "    return avg_cost_hf / avg_cost_lf"
   ]
  },
  {
   "cell_type": "code",
   "execution_count": 31,
   "id": "062908c3",
   "metadata": {},
   "outputs": [
    {
     "data": {
      "text/plain": [
       "array([9.10039559e-002, 4.63442215e-002, 2.87192587e-002, 9.32618730e-002,\n",
       "       2.70825728e-002, 4.60771573e-003, 3.69035438e-002, 1.72999980e-010,\n",
       "       2.94531283e-005, 8.77585942e-002, 9.54352173e-002, 9.29169471e-002,\n",
       "       8.54693096e-002, 8.23572154e-002, 1.21507422e-001, 3.29702174e-002,\n",
       "       6.73277381e-003, 5.97893892e-002, 1.19639368e-001, 4.13518425e-002,\n",
       "       6.40299509e-021, 2.23374731e-003, 4.09012918e-002, 4.95012200e-003,\n",
       "       1.28808047e-003, 8.94776540e-002, 6.94663281e-026, 3.28160651e-016,\n",
       "       1.08437714e-005, 2.78829352e-002, 3.05327172e-004, 1.56571526e-002,\n",
       "       6.26883159e-003, 3.32240763e-002, 3.40428852e-002, 5.97023438e-002,\n",
       "       3.00220734e-002, 4.65919310e-002, 2.51996298e-002, 6.58002656e-002,\n",
       "       4.16539723e-002, 1.21370740e-001, 7.85087494e-002, 7.86544016e-002,\n",
       "       8.18555883e-002, 9.13978184e-002, 3.38703111e-002, 3.94887014e-002,\n",
       "       4.51193446e-002, 5.41086445e-005, 1.64571505e-001, 1.76527112e-002,\n",
       "       3.16138484e-062, 3.31008080e-002, 1.10627133e-005, 9.10860327e-004,\n",
       "       3.40440694e-002, 1.08368610e-003, 3.77118152e-002, 8.84134015e-002,\n",
       "       4.42166437e-002, 7.57970184e-002, 5.84621019e-002, 6.44714131e-002,\n",
       "       4.71749584e-006, 3.88946187e-002, 9.74689299e-020, 2.29586554e-014,\n",
       "       1.86078614e-003, 3.70562311e-003, 5.77790977e-002, 9.01493719e-002,\n",
       "       8.97067231e-002, 9.02413864e-002, 1.64245446e-004, 2.85015111e-003,\n",
       "       1.76196468e-003, 9.52052039e-003, 9.32868727e-002, 9.28519171e-002,\n",
       "       1.28685282e-001, 7.66720113e-002, 4.80977578e-012, 3.01703546e-002,\n",
       "       8.83099346e-003, 2.58767735e-003, 3.92409350e-002, 4.68395160e-003,\n",
       "       1.11403939e-003, 3.62080748e-005, 1.13273083e-002, 1.88411705e-004,\n",
       "       7.00214565e-006, 2.03476813e-005, 1.56414491e-007, 1.04244499e-002,\n",
       "       2.34924612e-003, 2.24731366e-003, 9.56058584e-002, 1.08574732e-009,\n",
       "       5.27800742e-004, 3.68408062e-004, 3.11529968e-005, 3.62257380e-003,\n",
       "       4.30918980e-028, 7.66280629e-002, 1.93421007e-010, 5.07095603e-010,\n",
       "       1.90864866e-003, 3.20074025e-003, 4.31754813e-024, 1.21341774e-002,\n",
       "       3.11414583e-017, 6.31065493e-009, 1.44637679e-022, 2.46696049e-002,\n",
       "       5.50751911e-002, 2.99723961e-002, 2.72912098e-002, 2.26267440e-002,\n",
       "       5.80117018e-003, 7.37673254e-006, 1.11388358e-001, 6.20114362e-003,\n",
       "       2.97763498e-002, 1.82218637e-023, 2.94135662e-002, 1.28648330e-009,\n",
       "       5.01828270e-002, 4.68485835e-002, 2.68815915e-002, 4.23949094e-002,\n",
       "       4.77137742e-002, 4.86055944e-002, 5.57801475e-002, 8.76818825e-002,\n",
       "       1.57214634e-002, 4.25564735e-002, 1.43117987e-003, 6.50979631e-004,\n",
       "       2.64262871e-004, 4.54373672e-002, 3.16557269e-004, 3.96710322e-004,\n",
       "       2.75756436e-004, 1.37882799e-004, 3.32481620e-002, 3.39563436e-002,\n",
       "       3.36928328e-002, 8.22686281e-002, 1.80496732e-002, 2.32605094e-002,\n",
       "       7.92508175e-004, 1.37597912e-005, 9.62534596e-008, 4.56868652e-003,\n",
       "       3.62340038e-061, 7.42472755e-002, 4.97212667e-002, 4.31059156e-002,\n",
       "       4.09567905e-002, 5.48508190e-002, 3.70672093e-002, 4.17182307e-002,\n",
       "       6.38994605e-002, 4.93227289e-002, 3.96034685e-004, 2.52816346e-008,\n",
       "       1.87187399e-002, 1.98718017e-006, 2.47719880e-033, 0.00000000e+000,\n",
       "       3.35762891e-011, 2.88732435e-091, 2.23982066e-003, 2.59252078e-002,\n",
       "       3.89963586e-003, 1.22898979e-004, 2.88290111e-003, 2.55496872e-003,\n",
       "       1.02268027e-004, 2.76953486e-002, 5.79728493e-017, 1.66250062e-003,\n",
       "       8.67726966e-004, 1.01992043e-002, 2.01059080e-003, 1.80097140e-018,\n",
       "       2.36155583e-023, 8.65468253e-002, 7.46567201e-002, 2.54967931e-002,\n",
       "       5.24903960e-002, 6.82242193e-003, 3.39817305e-014, 1.92926843e-008,\n",
       "       1.09320141e-001, 4.27463297e-003, 2.76197358e-002, 2.03141037e-002,\n",
       "       1.64884311e-001, 1.23154257e-002, 1.83133627e-002, 1.83006745e-012,\n",
       "       1.52833833e-006, 3.77740123e-003, 3.10458890e-004, 4.57325722e-005,\n",
       "       5.39502035e-002, 4.68590779e-002, 8.78340336e-004, 8.64338388e-003,\n",
       "       1.44200128e-001, 1.86781870e-002, 1.01320211e-002, 1.15028510e-002,\n",
       "       6.07387747e-006, 7.72381502e-002, 9.02270010e-005, 2.18535749e-005,\n",
       "       5.15729114e-003, 6.32524924e-009, 2.32388284e-006, 9.38686640e-002,\n",
       "       1.00070872e-001, 1.08947196e-005, 5.80831106e-003, 5.59607053e-003,\n",
       "       4.12634957e-003, 6.96790767e-075, 7.01354669e-003, 2.94062189e-013,\n",
       "       3.13971220e-004, 4.99080688e-003, 1.64233091e-001, 2.61226576e-002,\n",
       "       2.10256450e-003, 1.15153495e-001, 3.16013155e-003, 4.51034023e-006,\n",
       "       2.12175290e-014, 1.07214104e-004, 9.04886061e-006, 4.76817667e-006,\n",
       "       4.72721819e-012, 4.69199701e-008, 1.95153624e-006, 8.59253366e-002,\n",
       "       4.33159526e-010, 1.65874268e-005, 7.20373939e-019, 1.76508350e-008,\n",
       "       4.02483608e-005, 1.76577933e-014, 4.00690066e-003, 5.10256150e-018,\n",
       "       3.15021610e-141, 2.60337593e-007, 1.50977485e-003, 3.65127335e-021,\n",
       "       1.00139417e-004, 1.84129451e-004, 1.47067368e-001, 1.19930990e-001,\n",
       "       1.57559597e-006, 1.08810137e-042, 9.20434919e-012, 5.07640542e-040,\n",
       "       9.58753441e-010, 1.15300650e-002, 1.01089200e-001, 5.06184997e-003,\n",
       "       3.13190160e-004, 8.75637722e-004, 2.66853930e-003, 1.10597050e-003,\n",
       "       4.12708063e-003, 3.72047953e-003, 5.21175187e-004, 2.45557071e-012,\n",
       "       1.64884737e-002, 1.30541734e-006, 1.58394464e-001, 1.60328738e-001,\n",
       "       1.45833828e-001, 3.20096796e-044, 1.62266390e-001, 4.79809280e-002,\n",
       "       3.55337919e-007, 1.28074614e-004, 3.21069597e-009, 3.76368388e-004,\n",
       "       7.09438681e-003, 5.02712054e-002, 2.38491630e-002, 3.91096869e-002,\n",
       "       1.55687617e-011, 1.06527189e-007, 8.91446621e-026, 2.01687261e-008,\n",
       "       9.66441393e-006, 2.97821214e-002, 5.77532299e-002, 2.99438525e-002,\n",
       "       2.12068749e-002, 0.00000000e+000, 1.34598178e-101, 1.59257704e-002,\n",
       "       2.57041343e-003, 9.33944687e-003, 6.05419925e-002, 1.04405043e-002,\n",
       "       2.29158228e-003, 1.14371345e-002, 2.98227915e-003, 1.28609887e-013,\n",
       "       4.39719476e-002, 5.90507247e-002, 8.84724354e-002, 9.65476074e-002,\n",
       "       3.05912775e-003, 5.32676275e-003, 2.53097831e-003, 2.40677098e-002,\n",
       "       2.44863688e-005, 1.06802686e-001, 1.46728422e-003, 2.46266599e-003,\n",
       "       7.69974768e-004, 1.33412129e-003, 1.51521203e-002, 2.05994195e-010,\n",
       "       7.52100907e-002, 1.50839780e-001, 1.02006259e-001, 1.13139105e-001,\n",
       "       9.12002490e-002, 1.53212382e-001, 9.44018281e-002, 2.39210516e-002,\n",
       "       1.38885187e-002, 3.62273988e-006, 6.32849542e-004, 7.89924084e-003,\n",
       "       1.29656463e-002, 3.57364699e-006, 8.06445660e-025, 2.24480813e-011,\n",
       "       9.72007016e-021, 2.01616073e-006, 5.46113848e-003, 5.08251320e-035,\n",
       "       7.93393852e-009, 2.59064529e-002, 3.75642673e-010, 1.23581587e-006,\n",
       "       2.20599108e-022, 4.16012499e-003, 2.24982284e-002, 2.74506816e-002,\n",
       "       1.91158982e-002, 1.08569476e-002, 5.04138790e-003, 1.62900993e-002,\n",
       "       1.13893082e-002, 1.29609763e-021, 4.97136537e-005, 6.00732066e-007,\n",
       "       8.46169604e-003, 1.35325233e-002, 2.88800490e-002, 2.56047870e-002,\n",
       "       1.36544471e-021, 9.61253750e-006, 9.14210506e-020, 1.61693034e-001,\n",
       "       1.61591066e-001, 2.36194325e-003, 1.06385052e-002, 2.80897951e-003,\n",
       "       8.33472960e-003, 2.01066705e-003, 2.65412783e-003, 5.98152208e-003,\n",
       "       2.07213500e-007, 1.86677017e-004, 1.11971341e-011, 9.26810472e-004,\n",
       "       3.66085453e-005, 1.37526111e-005, 2.61818556e-024, 4.47504113e-033,\n",
       "       7.72944006e-003, 7.98776560e-006, 8.29005811e-018, 1.20985727e-002,\n",
       "       1.18308384e-002, 1.95235217e-006, 2.12770885e-008, 7.01364280e-008,\n",
       "       5.48714959e-004, 1.36543379e-003, 1.00682215e-002, 3.31481251e-005,\n",
       "       3.46278439e-003, 5.17454623e-002, 5.88673304e-015, 3.48839500e-007,\n",
       "       2.93392125e-022, 4.87672834e-012, 2.99147965e-059, 2.10266449e-022,\n",
       "       5.81514793e-006, 1.72971285e-002, 4.21116793e-003, 2.59526921e-002,\n",
       "       1.95403589e-002, 4.35742339e-006, 1.72020500e-003, 7.35034718e-003,\n",
       "       8.07587560e-003, 1.35717964e-002, 2.37547831e-002, 0.00000000e+000,\n",
       "       4.91201694e-018, 1.05440686e-004, 2.56885164e-005, 7.17635882e-006,\n",
       "       2.86864339e-002, 1.49776965e-001, 1.03737628e-002, 2.01984228e-002,\n",
       "       1.54931382e-002, 7.64991239e-004, 1.44534963e-003, 4.88583434e-003,\n",
       "       2.19554848e-003, 1.43819853e-002, 1.09224471e-004, 5.55798385e-007,\n",
       "       8.42999427e-007, 1.06545609e-005, 2.32062803e-004, 3.35632624e-004,\n",
       "       1.57034789e-008, 2.30818423e-007, 4.59585953e-008, 3.28946218e-006,\n",
       "       3.45644325e-003, 2.22653720e-002, 5.49817448e-002, 1.29946079e-003,\n",
       "       2.31828039e-003, 1.53703843e-008, 2.81676560e-003, 2.10354447e-002,\n",
       "       2.05195355e-014, 4.85201856e-003, 1.01244458e-002, 8.77573835e-006,\n",
       "       3.56532940e-004, 1.13469578e-003, 8.06952812e-003, 1.31151683e-001,\n",
       "       1.09449293e-001, 5.05321318e-018, 1.88107857e-005, 2.14261394e-007,\n",
       "       4.09929555e-006, 2.11038641e-005, 6.13659025e-004, 4.17005194e-003,\n",
       "       1.12028813e-002, 7.44108001e-003, 2.84871661e-019, 1.14511498e-007,\n",
       "       1.52336679e-010, 2.78896935e-002, 2.92083209e-003, 8.17079287e-009,\n",
       "       1.50175234e-003, 1.24507628e-006, 6.25689355e-002, 4.55764680e-003,\n",
       "       6.13925393e-003, 4.07519953e-003, 9.10489940e-002, 2.87509866e-004,\n",
       "       2.94366814e-009, 3.62792703e-005, 4.72136282e-004, 1.49716112e-004,\n",
       "       8.34789008e-002, 8.35720276e-002, 4.40146222e-002, 3.32390764e-004,\n",
       "       4.33984221e-004, 1.55551961e-002, 2.10723854e-002, 3.10053315e-006,\n",
       "       9.49299648e-002, 4.77777718e-003, 7.66917711e-003, 1.94835432e-002,\n",
       "       6.91829734e-002, 2.87789617e-004, 8.79929634e-008, 2.58343468e-003,\n",
       "       1.07364348e-002, 3.26987615e-003, 0.00000000e+000, 0.00000000e+000,\n",
       "       2.63179065e-003, 1.67313885e-003, 9.89508769e-002, 1.03115554e-001,\n",
       "       4.03883204e-002, 5.87629872e-002, 4.95320413e-002, 1.03354606e-001,\n",
       "       1.10205058e-001, 9.02435120e-002, 9.02037665e-002, 9.04036828e-002,\n",
       "       8.67652907e-002, 5.13748681e-002, 1.53841790e-001, 9.58011418e-002,\n",
       "       3.86263587e-052, 2.30803490e-006, 2.74747204e-003, 2.78807158e-002,\n",
       "       4.14231520e-003, 3.74894175e-003, 7.35241488e-006, 1.58791890e-001,\n",
       "       2.96979685e-004, 2.50243560e-002, 1.76756521e-010, 6.51576419e-003,\n",
       "       1.81201495e-006, 4.90676468e-002, 8.95092693e-002, 1.40391671e-003,\n",
       "       0.00000000e+000, 1.07312287e-124, 1.13923231e-002, 5.24050628e-003,\n",
       "       4.57151239e-004, 4.04929380e-003, 9.58783806e-004, 4.08857195e-004,\n",
       "       2.27428782e-003, 6.82797447e-003, 7.92968080e-009, 0.00000000e+000,\n",
       "       3.81271190e-006, 3.22683513e-034, 3.94761436e-034, 1.20356744e-035,\n",
       "       1.50644230e-001, 3.50709716e-002, 1.50728416e-005, 7.41086067e-014,\n",
       "       3.07443038e-005, 2.50797942e-005, 1.29021998e-004, 7.27575823e-002,\n",
       "       6.09588430e-002, 3.78645957e-002, 2.45526689e-002, 2.19543330e-002,\n",
       "       1.49497183e-002, 2.15573490e-002, 1.56008899e-001, 4.72985316e-003,\n",
       "       7.09463371e-003, 4.69280416e-005, 2.94107320e-003, 2.24112484e-002,\n",
       "       5.96001299e-009, 4.38370005e-005, 1.06618609e-002, 9.14955438e-002,\n",
       "       2.86866538e-003, 4.24590126e-002, 7.29610108e-004, 3.31032656e-002,\n",
       "       4.68368287e-002, 1.04155920e-004, 9.00334785e-010, 1.71470573e-003,\n",
       "       8.70059862e-003, 2.84159929e-004, 2.39716872e-004, 5.90529403e-003,\n",
       "       1.64794798e-001, 1.02796264e-072, 3.65369266e-002, 4.29668622e-003,\n",
       "       1.02276002e-003, 3.79531047e-004, 4.58575065e-003, 3.59822637e-002,\n",
       "       4.05550292e-002, 4.03539235e-003, 4.95096480e-003, 7.90443780e-008])"
      ]
     },
     "execution_count": 31,
     "metadata": {},
     "output_type": "execute_result"
    }
   ],
   "source": [
    "def EI_hf(model, X, ids_acquired, fidelity_acquired):\n",
    "    mu_hf, sigma_hf = mu_sigma(model, X, 1) # only use hf\n",
    "    y_max = get_y_max(ids_acquired, fidelity_acquired)\n",
    "    \n",
    "    z = (mu_hf - y_max) / sigma_hf\n",
    "    explore_term = sigma_hf * norm.pdf(z)\n",
    "    exploit_term = (mu_hf - y_max) * norm.cdf(z)\n",
    "    ei = explore_term + exploit_term\n",
    "    return np.maximum(ei, np.zeros(nb_COFs))\n",
    "\n",
    "EI_hf(model, X, ids_acquired, fidelity_acquired)"
   ]
  },
  {
   "cell_type": "code",
   "execution_count": 12,
   "id": "115fafbe",
   "metadata": {},
   "outputs": [
    {
     "data": {
      "text/plain": [
       "ExactMarginalLogLikelihood(\n",
       "  (likelihood): GaussianLikelihood(\n",
       "    (noise_covar): HomoskedasticNoise(\n",
       "      (noise_prior): GammaPrior()\n",
       "      (raw_noise_constraint): GreaterThan(1.000E-04)\n",
       "    )\n",
       "  )\n",
       "  (model): SingleTaskMultiFidelityGP(\n",
       "    (likelihood): GaussianLikelihood(\n",
       "      (noise_covar): HomoskedasticNoise(\n",
       "        (noise_prior): GammaPrior()\n",
       "        (raw_noise_constraint): GreaterThan(1.000E-04)\n",
       "      )\n",
       "    )\n",
       "    (mean_module): ConstantMean()\n",
       "    (covar_module): ScaleKernel(\n",
       "      (base_kernel): LinearTruncatedFidelityKernel(\n",
       "        (raw_power_constraint): Positive()\n",
       "        (power_prior): GammaPrior()\n",
       "        (covar_module_unbiased): MaternKernel(\n",
       "          (lengthscale_prior): GammaPrior()\n",
       "          (raw_lengthscale_constraint): Positive()\n",
       "          (distance_module): Distance()\n",
       "        )\n",
       "        (covar_module_biased): MaternKernel(\n",
       "          (lengthscale_prior): GammaPrior()\n",
       "          (raw_lengthscale_constraint): Positive()\n",
       "          (distance_module): Distance()\n",
       "        )\n",
       "      )\n",
       "      (outputscale_prior): GammaPrior()\n",
       "      (raw_outputscale_constraint): Positive()\n",
       "    )\n",
       "    (outcome_transform): Standardize()\n",
       "  )\n",
       ")"
      ]
     },
     "execution_count": 12,
     "metadata": {},
     "output_type": "execute_result"
    }
   ],
   "source": [
    "mll"
   ]
  },
  {
   "cell_type": "code",
   "execution_count": 5,
   "id": "ccf7b7aa",
   "metadata": {},
   "outputs": [
    {
     "data": {
      "text/plain": [
       "<bound method _GaussianLikelihoodBase.marginal of GaussianLikelihood(\n",
       "  (noise_covar): HomoskedasticNoise(\n",
       "    (noise_prior): GammaPrior()\n",
       "    (raw_noise_constraint): GreaterThan(1.000E-04)\n",
       "  )\n",
       ")>"
      ]
     },
     "execution_count": 5,
     "metadata": {},
     "output_type": "execute_result"
    }
   ],
   "source": [
    "mll.likelihood.marginal"
   ]
  },
  {
   "cell_type": "code",
   "execution_count": 13,
   "id": "20546f44",
   "metadata": {},
   "outputs": [],
   "source": [
    "post = model.posterior(train_x_full) # .mvn, .mean, .variance"
   ]
  },
  {
   "cell_type": "code",
   "execution_count": 7,
   "id": "bebe3d40",
   "metadata": {},
   "outputs": [],
   "source": [
    "###\n",
    "#  Acquisition function\n",
    "###\n",
    "# def u():\n",
    "#     # utility function: u(x) = -f̂ₘ(x) - csₘ(x) \n",
    "#     c = 1.0\n",
    "#     sm = model.posterior().variance\n",
    "#     x_star = \n",
    "#     return x_star\n",
    "\n",
    "# def α1():\n",
    "#     # corr[fₗᵖ(x), fₘᵖ(x)]\n",
    "#     return\n",
    "\n",
    "# def α2():\n",
    "#     #\n",
    "#     return\n",
    "\n",
    "# def α3(cm, cl):\n",
    "#     # cost ratio: cₘ/cₗ\n",
    "#     cost_ratio = cm / cl\n",
    "#     return cost_ratio\n",
    "\n",
    "# EI = (f̂ₘ(x*) - f̂ₘ(m))Φ(z) + sₘ(x)ϕ(z)\n",
    "# z = (f̂ₘ(x*) - f̂ₘ(x)) / sₘ(x)\n",
    "# where sₘ(x) = sqrt(cov[fₘᵖ(x), fₘᵖ(x)]) i.e. MSE,\n",
    "# and x* is the \"efective best solution\" -> x* = argmax_{x in {xᵢ; i=1,..,n}}[u(x)]\n",
    "# s.t. u(x) = -f̂ₘ(x) - csₘ(x) is the utility function, c=1.0"
   ]
  },
  {
   "cell_type": "code",
   "execution_count": null,
   "id": "71591252",
   "metadata": {},
   "outputs": [],
   "source": []
  },
  {
   "cell_type": "code",
   "execution_count": null,
   "id": "4c61cd6b",
   "metadata": {},
   "outputs": [],
   "source": []
  },
  {
   "cell_type": "markdown",
   "id": "8f468870",
   "metadata": {},
   "source": [
    "### Tutorial \n",
    "\n",
    "[link](https://botorch.org/tutorials/discrete_multi_fidelity_bo) to web page"
   ]
  },
  {
   "cell_type": "code",
   "execution_count": 8,
   "id": "8305911e",
   "metadata": {},
   "outputs": [],
   "source": [
    "# from botorch.test_functions.multi_fidelity import AugmentedHartmann\n",
    "\n",
    "# problem = AugmentedHartmann(negate=True).to()\n",
    "# fidelities = torch.tensor([0.5, 0.75, 1.0])\n",
    "\n",
    "# def generate_initial_data(n=16):\n",
    "#     # generate training data\n",
    "#     train_x = torch.rand(n, 6) # torch.Size([n, 6])\n",
    "#     train_f = fidelities[torch.randint(2, (n, 1))] # torch.Size([n, 1]), sampled fidelities of training data\n",
    "#     train_x_full = torch.cat((train_x, train_f), dim=1) # torch.Size([16, 7]), last col is associated fidelity\n",
    "#     train_obj = problem(train_x_full).unsqueeze(-1) # torch.Size([16, 1]), add output dimension\n",
    "#     return train_x_full, train_obj\n",
    "    \n",
    "\n",
    "# def initialize_model(train_x, train_obj):\n",
    "#     # define a surrogate model suited for a \"training data\"-like fidelity parameter\n",
    "#     # in dimension 6, as in [2]\n",
    "#     model = SingleTaskMultiFidelityGP(\n",
    "#         train_x, \n",
    "#         train_obj, \n",
    "#         outcome_transform=Standardize(m=1),\n",
    "#         data_fidelity=6\n",
    "#     )   \n",
    "#     mll = ExactMarginalLogLikelihood(model.likelihood, model)\n",
    "#     return mll, model\n",
    "\n",
    "# train_x, train_obj = generate_initial_data(n=16)\n",
    "# mll, model = initialize_model(train_x, train_obj)\n",
    "\n",
    "# fit_gpytorch_model(mll)"
   ]
  },
  {
   "cell_type": "code",
   "execution_count": 9,
   "id": "2743e79d",
   "metadata": {},
   "outputs": [],
   "source": [
    "# cumulative_cost = 0.0\n",
    "# N_ITER = 3 if not SMOKE_TEST else 1\n",
    "\n",
    "\n",
    "# for _ in range(N_ITER):\n",
    "#     mll, model = initialize_model(train_x, train_obj)\n",
    "#     fit_gpytorch_model(mll)\n",
    "#     mfkg_acqf = get_mfkg(model)\n",
    "#     new_x, new_obj, cost = optimize_mfkg_and_get_observation(mfkg_acqf)\n",
    "#     train_x = torch.cat([train_x, new_x])\n",
    "#     train_obj = torch.cat([train_obj, new_obj])\n",
    "#     cumulative_cost += cost"
   ]
  }
 ],
 "metadata": {
  "kernelspec": {
   "display_name": "Python 3 (ipykernel)",
   "language": "python",
   "name": "python3"
  },
  "language_info": {
   "codemirror_mode": {
    "name": "ipython",
    "version": 3
   },
   "file_extension": ".py",
   "mimetype": "text/x-python",
   "name": "python",
   "nbconvert_exporter": "python",
   "pygments_lexer": "ipython3",
   "version": "3.8.10"
  }
 },
 "nbformat": 4,
 "nbformat_minor": 5
}
