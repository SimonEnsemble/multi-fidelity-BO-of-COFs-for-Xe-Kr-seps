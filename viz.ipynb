{
 "cells": [
  {
   "cell_type": "code",
   "execution_count": 4,
   "id": "b22dd1b6",
   "metadata": {},
   "outputs": [],
   "source": [
    "import numpy as np \n",
    "import matplotlib.pyplot as plt\n",
    "import pickle # for .pkl files\n",
    "import h5py   # for .jld2 files\n",
    "import os\n",
    "import pandas as pd\n",
    "import torch\n",
    "from sklearn.decomposition import PCA\n",
    "\n",
    "\n",
    "plt.rcParams[\"font.size\"] = 16"
   ]
  },
  {
   "cell_type": "markdown",
   "id": "dabf8f4b",
   "metadata": {},
   "source": [
    "## Load Data"
   ]
  },
  {
   "cell_type": "code",
   "execution_count": 5,
   "id": "e108048f",
   "metadata": {},
   "outputs": [],
   "source": [
    "file = h5py.File(\"targets_and_normalized_features.jld2\", \"r\")\n",
    "# feature matrix\n",
    "X = torch.from_numpy(np.transpose(file[\"X\"][:]))\n",
    "# simulation data\n",
    "y = torch.from_numpy(np.transpose(file[\"gcmc_y\"][:]))\n",
    "# associated simulation costs\n",
    "cost = torch.from_numpy(np.transpose(file[\"gcmc_elapsed_time\"][:]))\n",
    "\n",
    "# total number of COFs in data set\n",
    "nb_COFs = X.shape[0] "
   ]
  },
  {
   "cell_type": "code",
   "execution_count": null,
   "id": "13f564c1-1f26-4dc4-9cff-05672db5ced8",
   "metadata": {},
   "outputs": [],
   "source": []
  },
  {
   "cell_type": "markdown",
   "id": "bba26341",
   "metadata": {},
   "source": [
    "## Search Efficientcy Curves"
   ]
  },
  {
   "cell_type": "code",
   "execution_count": null,
   "id": "f217c819",
   "metadata": {},
   "outputs": [],
   "source": [
    "# for random search results plot \n",
    "\n",
    "# get y_max acquired up to iteration i for i = 1,2,...\n",
    "def y_max(res):\n",
    "    y_max_mu      = np.zeros(nb_iterations)\n",
    "    y_max_sig_bot = np.zeros(nb_iterations)\n",
    "    y_max_sig_top = np.zeros(nb_iterations)\n",
    "    \n",
    "    for i in range(1, nb_iterations+1):\n",
    "        # max value acquired up to this point\n",
    "        y_maxes = np.array([max(y[res['ids_acquired'][r]][:i]) for r in range(nb_runs)])\n",
    "        assert np.size(y_maxes) == nb_runs\n",
    "        y_max_mu[i-1]      = np.mean(y_maxes)\n",
    "        y_max_sig_bot[i-1] = np.std(y_maxes[y_maxes < y_max_mu[i-1]])\n",
    "        y_max_sig_top[i-1] = np.std(y_maxes[y_maxes > y_max_mu[i-1]])\n",
    "    return y_max_mu, y_max_sig_bot, y_max_sig_top\n",
    "\n",
    "# rs_mean, rs_lower_bound, rs_upper_bound = y_max(rs_res)\n",
    "y_rs_max_mu, y_rs_max_sig_bot, y_rs_max_sig_top = y_max(rs_res)"
   ]
  },
  {
   "cell_type": "code",
   "execution_count": 1,
   "id": "30fea56f",
   "metadata": {},
   "outputs": [],
   "source": [
    "# put SFBO, MFBO, and Random Search on same plot\n",
    "# top pannel should be the accumulated cost as a function of the number of itterations\n",
    "# the bottom shoule be the max. S^{l=1}_{Xe/Kr}"
   ]
  },
  {
   "cell_type": "markdown",
   "id": "04c7a88e",
   "metadata": {},
   "source": [
    "## Pirinciple Component Analysis"
   ]
  },
  {
   "cell_type": "code",
   "execution_count": 2,
   "id": "1a596be0",
   "metadata": {},
   "outputs": [],
   "source": [
    "# color accordind to GCMC Selectivity \n",
    "# low-fidelity => X, black\n",
    "# high-fidelity => +, red\n",
    "# shuffle points before plotting to remove any bias"
   ]
  },
  {
   "cell_type": "code",
   "execution_count": null,
   "id": "836eca37",
   "metadata": {},
   "outputs": [],
   "source": [
    "pca = PCA(n_components=2)\n",
    "pca.fit(X)\n",
    "X_2D = pca.transform(X)"
   ]
  },
  {
   "cell_type": "code",
   "execution_count": null,
   "id": "5c835f94",
   "metadata": {},
   "outputs": [],
   "source": [
    "#low dimensional (PCA) visualization of the entire dataset\n",
    "plt.scatter(X_2D[:, 0], X_2D[:, 1], c=y, s=10)\n",
    "plt.xlabel('PC 1')\n",
    "plt.ylabel('PC 2')\n",
    "cb = plt.colorbar(fraction=0.03, pad=0.04)\n",
    "cb.set_label(label=\"$S_{Xe/Kr}$\")\n",
    "plt.xticks()\n",
    "plt.yticks()\n",
    "plt.gca().set_aspect('equal', 'box')\n",
    "plt.tight_layout()\n",
    "# plt.savefig(\"./figs/PCA_feature_space_colored_by_Selectivity.pdf\", dpi=600, format=\"pdf\")\n",
    "plt.show()"
   ]
  },
  {
   "cell_type": "markdown",
   "id": "83ec96c8",
   "metadata": {},
   "source": [
    "### SFBO PCA"
   ]
  },
  {
   "cell_type": "code",
   "execution_count": null,
   "id": "7431f37b",
   "metadata": {},
   "outputs": [],
   "source": [
    "nb_acquired = [nb_COFs_initialization, 15, 30, 45]\n",
    "max_y_seen = np.zeros(len(nb_acquired))\n",
    "fig, ax = plt.subplots(1, len(nb_acquired), sharey=True, sharex=True, figsize=[3*6.4, 4.8])\n",
    "# gray background\n",
    "for a in ax:\n",
    "    a.set_aspect('equal', 'box')\n",
    "    a.scatter(X_2D[:, 0], X_2D[:, 1], s=10, c=0.3 * np.ones(nb_COFs), cmap=\"binary\", vmin=0, vmax=1)\n",
    "    \n",
    "for i in range(len(nb_acquired)):\n",
    "    ids = ids_acquired[:nb_acquired[i]]\n",
    "    max_y_seen[i] = y_max[i] \n",
    "    assert len(ids) == nb_acquired[i]\n",
    "    # use above colorbar to assign color!\n",
    "    ax[i].scatter(X_2D[ids, 0], X_2D[ids, 1], \n",
    "                  c=y[ids], marker=\"o\", s=15, vmin=cb.vmin, vmax=cb.vmax)\n",
    "    if i == 0:\n",
    "        ax[i].set_title('(initialization)\\n{} acquired COFs'.format(nb_acquired[i]))\n",
    "    else:\n",
    "        ax[i].set_title('{} acquired COFs'.format(nb_acquired[i]))\n",
    "    ax[i].tick_params(axis='x')\n",
    "ax[0].set_ylabel('PC 2', fontsize=14)\n",
    "\n",
    "ax[2].tick_params(axis='y', labelsize=0)\n",
    "\n",
    "\n",
    "fig.text(0.5, 0.02, 'PC 1', ha='center')\n",
    "plt.tight_layout()\n",
    "# plt.savefig(\"./figs/SFBO_feature_space_acquired_COFs.pdf\", bbox_inches=\"tight\", dpi=600, format=\"pdf\")\n",
    "plt.show()"
   ]
  },
  {
   "cell_type": "markdown",
   "id": "95395ed0",
   "metadata": {},
   "source": [
    "### MFBO PCA "
   ]
  },
  {
   "cell_type": "code",
   "execution_count": null,
   "id": "eeb33511",
   "metadata": {},
   "outputs": [],
   "source": [
    "ids_acquired = torch.tensor(list(zip(*acquired_set))[0])\n",
    "fid_acquired = torch.tensor(list(zip(*acquired_set))[1])\n",
    "\n",
    "\n",
    "nb_acquired = [2*nb_COFs_initialization, 20, 40, 60, 80]\n",
    "max_y_seen = np.zeros(len(nb_acquired))\n",
    "fig, ax = plt.subplots(1, len(nb_acquired), sharey=True, sharex=True, figsize=[3*6.4, 4.8])\n",
    "# gray background\n",
    "for a in ax:\n",
    "    a.set_aspect('equal', 'box')\n",
    "    a.hexbin(X_2D[:, 0], X_2D[:, 1], C=0.3 * np.ones(nb_COFs), cmap=\"binary\", vmin=0, vmax=1)\n",
    "    \n",
    "for i in range(len(nb_acquired)):\n",
    "    ids  = ids_acquired[:nb_acquired[i]].detach().numpy()\n",
    "    fids = fid_acquired[:nb_acquired[i]].detach().numpy()\n",
    "    max_y_seen[i] = y_max[nb_acquired[i]]\n",
    "    assert len(ids) == nb_acquired[i]\n",
    "    # use above colorbar to assign color!\n",
    "    ax[i].scatter(X_2D[ids, 0], X_2D[ids, 1], \n",
    "                  c=y[ids], marker=\"+\", s=55, vmin=cb.vmin, vmax=cb.vmax)\n",
    "    if i == 0:\n",
    "        ax[i].set_title('(initialization)\\n{} acquired COFs'.format(nb_acquired[i]))\n",
    "    else:\n",
    "        ax[i].set_title('{} acquired COFs'.format(nb_acquired[i]))\n",
    "    ax[i].tick_params(axis='x')\n",
    "ax[0].set_ylabel('PC 2', fontsize=14)\n",
    "\n",
    "ax[2].tick_params(axis='y', labelsize=0)\n",
    "\n",
    "\n",
    "fig.text(0.5, 0.02, 'PC 1', ha='center')\n",
    "plt.tight_layout()\n",
    "# plt.savefig(\"feature_space_acquired_COFs.pdf\", dpi=600, bbox_inches=\"tight\", format=\"pdf\")\n",
    "plt.show()"
   ]
  }
 ],
 "metadata": {
  "kernelspec": {
   "display_name": "Python 3 (ipykernel)",
   "language": "python",
   "name": "python3"
  },
  "language_info": {
   "codemirror_mode": {
    "name": "ipython",
    "version": 3
   },
   "file_extension": ".py",
   "mimetype": "text/x-python",
   "name": "python",
   "nbconvert_exporter": "python",
   "pygments_lexer": "ipython3",
   "version": "3.8.10"
  }
 },
 "nbformat": 4,
 "nbformat_minor": 5
}
